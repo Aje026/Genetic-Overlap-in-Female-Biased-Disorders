{
 "cells": [
  {
   "cell_type": "code",
   "execution_count": 100,
   "id": "4151d2bcebe5c238",
   "metadata": {
    "ExecuteTime": {
     "end_time": "2024-01-23T07:50:21.546396900Z",
     "start_time": "2024-01-23T07:50:21.546396900Z"
    },
    "collapsed": false
   },
   "outputs": [],
   "source": [
    "import pandas as pd\n"
   ]
  },
  {
   "cell_type": "code",
   "execution_count": null,
   "id": "bddb86e6",
   "metadata": {},
   "outputs": [],
   "source": [
    "preterm = pd.read_csv('preterm_birth_updated4.tsv', nrows=50, sep='\\t')\n",
    "preterm.head()"
   ]
  },
  {
   "cell_type": "code",
   "execution_count": null,
   "id": "fe890f89",
   "metadata": {},
   "outputs": [],
   "source": [
    "print(preterm.columns.tolist())"
   ]
  },
  {
   "cell_type": "code",
   "execution_count": null,
   "id": "89e51ee8",
   "metadata": {},
   "outputs": [],
   "source": [
    "pcos = pd.read_csv('pcos_updated3.tsv', nrows=50, sep='\\t')\n",
    "pcos.head()"
   ]
  },
  {
   "cell_type": "code",
   "execution_count": null,
   "id": "d8ad73ed",
   "metadata": {},
   "outputs": [],
   "source": [
    "print(pcos.columns.tolist())"
   ]
  },
  {
   "cell_type": "code",
   "execution_count": null,
   "id": "7f83ae74642b3d5e",
   "metadata": {
    "collapsed": false
   },
   "outputs": [],
   "source": [
    "psych_dfs = []\n",
    "other_dfs = []"
   ]
  },
  {
   "cell_type": "code",
   "execution_count": null,
   "id": "595b2ae4",
   "metadata": {},
   "outputs": [],
   "source": [
    "endometriosis = pd.read_csv('endometriosis_updates2.tsv',sep='\\t', nrows=50)\n",
    "endometriosis.head()"
   ]
  },
  {
   "cell_type": "code",
   "execution_count": null,
   "id": "21d4ee7399a8c6fc",
   "metadata": {
    "ExecuteTime": {
     "end_time": "2024-01-15T08:20:32.780644400Z",
     "start_time": "2024-01-15T08:20:17.540341700Z"
    },
    "collapsed": false
   },
   "outputs": [],
   "source": [
    "\n",
    "# fibromyalgia = pd.read_csv('Summary_statistics/raw/fibromyalgia.tsv', sep='\\t', comment='#') #need to map rsID\n",
    "# fatigue = pd.read_csv('Summary_statistics/raw/chronic_fatigue.tsv', sep='\\t', comment='#') #need to map rsID\n",
    "# gout = pd.read_csv('Summary_statistics/raw/gout.tsv', sep='\\t') #need to map rsID"
   ]
  },
  {
   "cell_type": "code",
   "execution_count": null,
   "id": "6e87d7a674a67e6c",
   "metadata": {
    "ExecuteTime": {
     "end_time": "2024-01-22T12:37:01.921092700Z",
     "start_time": "2024-01-22T12:36:46.601890Z"
    },
    "collapsed": false
   },
   "outputs": [],
   "source": [
    "sjogrens_df= pd.read_csv('sjogrens_buildGRCh37.tsv', sep='\\t')\n",
    "#sjogrens_df = sjogrens_df[['variant_id', 'p_value']]\n",
    "sjogrens_df = sjogrens_df.rename(columns={'chromosome':'chromosome','variant_id':'variant_id','base_pair_location':'base_pair_location', 'other_allele':'other_allele', 'effect_allele':'effect_allele', 'effect_allele_frequency':'effect_allele_frequency', 'INFO':'INFO', 'beta':'beta', 'standard_error':'standard_error', 'T':'T', '-log10p':'-log10p', 'p_value':'p_value'})\n",
    "# other_dfs.append(sjogrens_df)"
   ]
  },
  {
   "cell_type": "code",
   "execution_count": null,
   "id": "c7ce350e63a567ab",
   "metadata": {
    "ExecuteTime": {
     "end_time": "2024-01-22T12:38:55.511717200Z",
     "start_time": "2024-01-22T12:37:45.724507100Z"
    },
    "collapsed": false
   },
   "outputs": [],
   "source": [
    "sjogrens_df.to_csv('sjogrens.txt', sep='\\t', index=False)"
   ]
  },
  {
   "cell_type": "code",
   "execution_count": null,
   "id": "fc54da49c8034dc2",
   "metadata": {
    "ExecuteTime": {
     "end_time": "2024-01-22T12:37:05.784112800Z",
     "start_time": "2024-01-22T12:37:05.768309600Z"
    },
    "collapsed": false
   },
   "outputs": [],
   "source": [
    "sjogrens_df.info()"
   ]
  },
  {
   "cell_type": "code",
   "execution_count": null,
   "id": "a184843d98147bae",
   "metadata": {
    "collapsed": false
   },
   "outputs": [],
   "source": [
    "epilepsy_df = pd.read_csv('epilepsy.tsv', sep='\\t', nrows=5)\n",
    "#epilepsy_df = epilepsy_df[['rs_id', 'p_value']]\n",
    "#other_dfs.append(epilepsy_df)\n",
    "epilepsy_df.head()"
   ]
  },
  {
   "cell_type": "code",
   "execution_count": null,
   "id": "1b65773c5af44995",
   "metadata": {
    "collapsed": false
   },
   "outputs": [],
   "source": [
    "lupus_df = pd.read_csv('systemic_lupus.txt', sep='\\t', nrows=5)\n",
    "\"\"\" lupus_df = lupus_df[['SNP', 'P-value']]\n",
    "lupus_df = lupus_df.rename(columns={'SNP':'rs_id','P-value':'p_value'})\n",
    "other_dfs.append(lupus_df) \"\"\"\n",
    "lupus_df.head()"
   ]
  },
  {
   "cell_type": "code",
   "execution_count": null,
   "id": "a5a356aa146bc32a",
   "metadata": {
    "collapsed": false
   },
   "outputs": [],
   "source": [
    "prim_bil_df = pd.read_csv('biliary_chirrosis.tsv', sep='\\t', comment='#')\n",
    "\"\"\" prim_bil_df = prim_bil_df[['variant_id', 'p_value']]\n",
    "prim_bil_df = prim_bil_df.rename(columns={'variant_id':'rs_id'})\n",
    "other_dfs.append(prim_bil_df) \"\"\"\n"
   ]
  },
  {
   "cell_type": "code",
   "execution_count": null,
   "id": "2119948e",
   "metadata": {},
   "outputs": [],
   "source": [
    "prim_bil_df.isna().sum()"
   ]
  },
  {
   "cell_type": "code",
   "execution_count": null,
   "id": "2f6ca9eff20f88c1",
   "metadata": {
    "ExecuteTime": {
     "end_time": "2024-01-17T09:28:00.232235Z",
     "start_time": "2024-01-17T09:27:37.096483600Z"
    },
    "collapsed": false
   },
   "outputs": [],
   "source": [
    "thyroid_df = pd.read_csv('thyroid_buildGRCh37.tsv', sep='\\t', comment='#')\n"
   ]
  },
  {
   "cell_type": "code",
   "execution_count": null,
   "id": "d56bd563",
   "metadata": {},
   "outputs": [],
   "source": [
    "thyroid = pd.read_csv('thyroid_buildGRCh37.tsv',sep='\\t', nrows=50)\n",
    "thyroid.head()"
   ]
  },
  {
   "cell_type": "code",
   "execution_count": null,
   "id": "07fb4930",
   "metadata": {},
   "outputs": [],
   "source": [
    "thyroid_df.to_csv('thyroid_filtered_and_notna.csv', sep=' ')"
   ]
  },
  {
   "cell_type": "code",
   "execution_count": null,
   "id": "a544155ade05b6f6",
   "metadata": {
    "collapsed": false
   },
   "outputs": [],
   "source": [
    "myasthenia_df = pd.read_csv('myastheria_gravis.tsv', sep='\\t', comment='#')\n",
    "#myasthenia_df = myasthenia_df[myasthenia_df['p_value'] <= 0.05]\n",
    "\"\"\" myasthenia_df = myasthenia_df[['variant_id', 'p_value']]\n",
    "myasthenia_df = myasthenia_df.rename(columns={'variant_id':'rs_id'})\n",
    "other_dfs.append(myasthenia_df) \"\"\"\n",
    "myasthenia_df.head()"
   ]
  },
  {
   "cell_type": "code",
   "execution_count": null,
   "id": "25ac2351",
   "metadata": {},
   "outputs": [],
   "source": [
    "myasthenia_df = myasthenia_df[['chromosome', 'base_pair_location','p_value']]"
   ]
  },
  {
   "cell_type": "code",
   "execution_count": null,
   "id": "f836c5f3",
   "metadata": {},
   "outputs": [],
   "source": [
    "myasthenia_df['end_position'] = myasthenia_df['base_pair_location'] +1\n",
    "myasthenia_df = myasthenia_df[['chromosome', 'base_pair_location','end_position','p_value']]"
   ]
  },
  {
   "cell_type": "code",
   "execution_count": null,
   "id": "621cdfe5",
   "metadata": {},
   "outputs": [],
   "source": [
    "myasthenia_df.head()"
   ]
  },
  {
   "cell_type": "code",
   "execution_count": null,
   "id": "9c830a6b",
   "metadata": {},
   "outputs": [],
   "source": [
    "myasthenia_df.to_csv('myasthenia_gravis_to_liftover.tsv', sep='\\t', index=False)"
   ]
  },
  {
   "cell_type": "code",
   "execution_count": null,
   "id": "ebde0194b6646a7a",
   "metadata": {
    "collapsed": false
   },
   "outputs": [],
   "source": [
    "rh_arthritis_df = pd.read_csv('rheumatoid_arthritis.tsv', sep='\\t', comment='#')\n",
    "\"\"\" rh_arthritis_df = rh_arthritis_df[['variant_id', 'p_value']]\n",
    "rh_arthritis_df.rename(columns={'variant_id':'rs_id'})\n",
    "other_dfs.append(rh_arthritis_df) \"\"\"\n",
    "rh_arthritis_df.head()"
   ]
  },
  {
   "cell_type": "code",
   "execution_count": null,
   "id": "f5483e0a41f87001",
   "metadata": {
    "collapsed": false
   },
   "outputs": [],
   "source": [
    "ms_df= pd.read_csv('ms.tsv', sep='\\t', comment='#')\n",
    "ms_df = ms_df[ms_df['variant_id'].notna()]\n",
    "ms_df.reset_index(drop=True, inplace=True)\n",
    "\"\"\" ms_df = ms_df[['variant_id', 'p_value']]\n",
    "ms_df = ms_df.rename(columns={'variant_id':'rs_id'})\n",
    "other_dfs.append(ms_df) \"\"\"\n"
   ]
  },
  {
   "cell_type": "code",
   "execution_count": null,
   "id": "5fdd0224",
   "metadata": {},
   "outputs": [],
   "source": [
    "ms_df.to_csv('ms_not_null.txt', sep=' ')"
   ]
  },
  {
   "cell_type": "code",
   "execution_count": null,
   "id": "34d8e130067df282",
   "metadata": {
    "ExecuteTime": {
     "end_time": "2024-01-23T07:51:15.689525200Z",
     "start_time": "2024-01-23T07:51:12.007797300Z"
    },
    "collapsed": false
   },
   "outputs": [],
   "source": [
    "parkinsons_df = pd.read_csv('parkinson.tsv',sep='\\t', comment='#', nrows=5)\n",
    "# parkinsons_df = parkinsons_df[['variant_id', 'p_value']]\n",
    "# parkinsons_df.rename(columns={'variant_id':'rs_id'})\n",
    "# other_dfs.append(parkinsons_df)\n",
    "parkinsons_df.head()"
   ]
  },
  {
   "cell_type": "code",
   "execution_count": null,
   "id": "b1611444a91dc1c8",
   "metadata": {
    "collapsed": false
   },
   "outputs": [],
   "source": [
    "migraine_df = pd.read_csv('migraine.tsv',sep='\\t', comment='#')\n",
    "migraine_df = migraine_df[migraine_df['p_value'] <= 0.05]\n",
    "\"\"\" migraine_df = migraine_df[['variant_id', 'p_value']]\n",
    "migraine_df.rename(columns={'variant_id':'rs_id'})\n",
    "other_dfs.append(migraine_df) \"\"\"\n",
    "migraine_df.to_csv('migraine_filtered_pval.txt', sep='\\t')\n",
    "migraine_df.head()"
   ]
  },
  {
   "cell_type": "code",
   "execution_count": null,
   "id": "4d271fe5b78d60a7",
   "metadata": {
    "ExecuteTime": {
     "end_time": "2024-01-16T09:42:03.767827600Z",
     "start_time": "2024-01-16T09:41:57.646604100Z"
    },
    "collapsed": false
   },
   "outputs": [],
   "source": [
    "fibromyalgia_df = pd.read_csv('fibromyalgia_updated2.tsv',sep='\\t', nrows=50)\n",
    "fibromyalgia_df.head()"
   ]
  },
  {
   "cell_type": "code",
   "execution_count": null,
   "id": "8a6184f81415d85b",
   "metadata": {
    "ExecuteTime": {
     "end_time": "2024-01-16T10:47:39.964581400Z",
     "start_time": "2024-01-16T10:47:18.407440500Z"
    },
    "collapsed": false
   },
   "outputs": [],
   "source": [
    "fatigue_df = pd.read_csv('fatigue_buildGRCh37.tsv', sep='\\t')\n",
    "fatigue_df = fatigue_df.drop(columns=['chromosome', 'base_pair_location'])\n",
    "fatigue_df = fatigue_df.loc[fatigue_df['p_value'] <= 0.05]\n",
    "fatigue_df = fatigue_df[fatigue_df['variant_id'].notna()]\n",
    "fatigue_df.reset_index(drop=True, inplace=True)\n",
    "\"\"\" fatigue_df = fatigue_df[['variant_id', 'p_value']]\n",
    "fatigue_df = fatigue_df.rename(columns={'variant_id':'rs_id'})\n",
    "other_dfs.append(fatigue_df)\n",
    " \"\"\"\n",
    "fatigue_df.info()"
   ]
  },
  {
   "cell_type": "code",
   "execution_count": null,
   "id": "cd0a6611",
   "metadata": {},
   "outputs": [],
   "source": [
    "fatigue_df.head()"
   ]
  },
  {
   "cell_type": "code",
   "execution_count": null,
   "id": "d365b3e6",
   "metadata": {},
   "outputs": [],
   "source": [
    "fatigue_df.to_csv('fatigue_without_chrom_base_pair_loc.txt', sep=' ', index=False)"
   ]
  },
  {
   "cell_type": "code",
   "execution_count": null,
   "id": "2ed39d47fdf783ba",
   "metadata": {
    "collapsed": false
   },
   "outputs": [],
   "source": [
    "ibs_df = pd.read_csv('IBS.tsv', sep='\\t', comment='#')\n",
    "ibs_df.dropna()\n",
    "\"\"\" ibs_df = ibs_df[['variant_id', 'p_value']]\n",
    "ibs_df = ibs_df.rename(columns={'variant_id':'rs_id'})\n",
    "other_dfs.append(ibs_df) \"\"\"\n",
    "ibs_df.head()"
   ]
  },
  {
   "cell_type": "code",
   "execution_count": null,
   "id": "e530c6b2ca0853eb",
   "metadata": {
    "ExecuteTime": {
     "end_time": "2024-01-15T11:06:23.465586100Z",
     "start_time": "2024-01-15T11:06:02.056037600Z"
    },
    "collapsed": false
   },
   "outputs": [],
   "source": [
    "gout_df = pd.read_csv('gout_buildGRCh37.tsv', sep='\\t')\n",
    "gout_df = gout_df.loc[gout_df['p_value'] <= 0.05]\n",
    "gout_df.reset_index(inplace=True, drop= True)\n",
    "gout_df.head()\n"
   ]
  },
  {
   "cell_type": "code",
   "execution_count": null,
   "id": "f7124516",
   "metadata": {},
   "outputs": [],
   "source": [
    "gout_df.to_csv('gout_filtered_by_pval.txt', sep='\\t')"
   ]
  },
  {
   "cell_type": "code",
   "execution_count": null,
   "id": "e89bc4c6b43060a6",
   "metadata": {
    "collapsed": false
   },
   "outputs": [],
   "source": [
    "# Psychiatric disorder GWAS dataset\n",
    "\n",
    "# alz = pd.read_csv('Summary_statistics/raw/PGCALZ2sumstatsExcluding23andMe.txt', sep='\\t') #need to map rsID"
   ]
  },
  {
   "cell_type": "code",
   "execution_count": null,
   "id": "e04651a8e7dd7e18",
   "metadata": {
    "collapsed": false
   },
   "outputs": [],
   "source": [
    "adhd_df = pd.read_csv('Summary_statistics/raw/ADHD_meta_Jan2022_iPSYCH1_iPSYCH2_deCODE_PGC.meta', sep=' ')\n",
    "adhd_df = adhd_df[['SNP', 'P']]\n",
    "adhd_df = adhd_df.rename(columns={'SNP': 'rs_id', 'P':'p_value'})\n",
    "psych_dfs.append(adhd_df)"
   ]
  },
  {
   "cell_type": "code",
   "execution_count": null,
   "id": "b1105d2174a37f15",
   "metadata": {
    "ExecuteTime": {
     "end_time": "2024-01-16T14:41:24.956773200Z",
     "start_time": "2024-01-16T14:41:16.865298100Z"
    },
    "collapsed": false
   },
   "outputs": [],
   "source": [
    "anx = pd.read_csv('anxiety.meta.full.cc.tbl', sep='\\t')\n"
   ]
  },
  {
   "cell_type": "code",
   "execution_count": null,
   "id": "29af25d3c7d3a98e",
   "metadata": {
    "ExecuteTime": {
     "end_time": "2024-01-16T14:45:19.702985800Z",
     "start_time": "2024-01-16T14:44:45.927249Z"
    },
    "collapsed": false
   },
   "outputs": [],
   "source": [
    "anx.to_csv('anxiety.txt', sep='\\t', index=False)"
   ]
  },
  {
   "cell_type": "code",
   "execution_count": null,
   "id": "9cf7742ca78060c6",
   "metadata": {
    "collapsed": false
   },
   "outputs": [],
   "source": [
    "anxiety_df = pd.read_table('Summary_statistics/raw/anxiety.meta.full.cc.tbl')\n",
    "anxiety_df = anxiety_df[['SNPID', 'P.value']]\n",
    "anxiety_df = anxiety_df.rename(columns={'SNPID':'rs_id', 'P.value':'p_value'})\n",
    "psych_dfs.append(anxiety_df)"
   ]
  },
  {
   "cell_type": "code",
   "execution_count": null,
   "id": "5921e6411ec0acfd",
   "metadata": {
    "collapsed": false
   },
   "outputs": [],
   "source": [
    "aud_df = pd.read_csv('Summary_statistics/raw/AUDIT_UKB_2018_AJP.txt', sep=' ')\n",
    "aud_df = aud_df[['rsid', 'p_T']]\n",
    "aud_df = aud_df.rename(columns={'rsid':'rs_id', 'p_T':'p_value'})\n",
    "psych_dfs.append(aud_df)"
   ]
  },
  {
   "cell_type": "code",
   "execution_count": null,
   "id": "7de573d05514d5f7",
   "metadata": {
    "collapsed": false
   },
   "outputs": [],
   "source": [
    "anorexia_df = pd.read_csv('Summary_statistics/raw/pgcAN2.2019-07.vcf.tsv', sep='\\t', comment='#')\n",
    "anorexia_df = anorexia_df[['ID', 'PVAL']]\n",
    "anorexia_df = anorexia_df.rename(columns={'ID':'rs_id', 'PVAL':'p_value'})\n",
    "psych_dfs.append(anorexia_df)"
   ]
  },
  {
   "cell_type": "code",
   "execution_count": null,
   "id": "f9add3a15205f54d",
   "metadata": {
    "collapsed": false
   },
   "outputs": [],
   "source": [
    "asd_df = pd.read_csv('Summary_statistics/raw/iPSYCH-PGC_ASD_Nov2017', sep='\\t')\n",
    "asd_df = asd_df[['SNP', 'P']]\n",
    "asd_df = asd_df.rename(columns={'SNP':'rs_id', 'P':'p_value'})\n",
    "psych_dfs.append(asd_df)"
   ]
  },
  {
   "cell_type": "code",
   "execution_count": null,
   "id": "f1e0758079fa65a5",
   "metadata": {
    "collapsed": false
   },
   "outputs": [],
   "source": [
    "bpd_df = pd.read_csv('Summary_statistics/raw/daner_bip_pgc3_nm_noukbiobank', sep='\\t')\n",
    "bpd_df = bpd_df[['SNP', 'P']]\n",
    "bpd_df = bpd_df.rename(columns={'SNP':'rs_id', 'P':'p_value'})\n",
    "psych_dfs.append(bpd_df)"
   ]
  },
  {
   "cell_type": "code",
   "execution_count": null,
   "id": "3313b4b92ee1d0ab",
   "metadata": {
    "collapsed": false
   },
   "outputs": [],
   "source": [
    "cud_df = pd.read_csv('Summary_statistics/raw/CUD_EUR_full_public_11.14.2020', sep=' ')\n",
    "cud_df = cud_df[['SNP', 'P']]\n",
    "cud_df = cud_df.rename(columns={'SNP':'rs_id', 'P':'p_value'})\n",
    "psych_dfs.append(cud_df)"
   ]
  },
  {
   "cell_type": "code",
   "execution_count": null,
   "id": "2c69da02fe8fa698",
   "metadata": {
    "collapsed": false
   },
   "outputs": [],
   "source": [
    "hoarding_df = pd.read_csv('Summary_statistics/raw/hoarding2022.vcf.tsv', sep='\\t', comment='#')\n",
    "hoarding_df = hoarding_df[['ID', 'PVAL']]\n",
    "hoarding_df = hoarding_df.rename(columns={'ID':'rs_id', 'PVAL':'p_value'})\n",
    "psych_dfs.append(hoarding_df)"
   ]
  },
  {
   "cell_type": "code",
   "execution_count": null,
   "id": "aa437654985d641c",
   "metadata": {
    "collapsed": false
   },
   "outputs": [],
   "source": [
    "mdd_df = pd.read_csv('Summary_statistics/raw/PGC_UKB_depression_genome-wide.txt', sep=' ')\n",
    "mdd_df = mdd_df[['MarkerName', 'P']]\n",
    "mdd_df = mdd_df.rename(columns={'MarkerName':'rs_id', 'P':'p_value'})\n",
    "psych_dfs.append(mdd_df)"
   ]
  },
  {
   "cell_type": "code",
   "execution_count": null,
   "id": "bfffe2dd7fb48b0b",
   "metadata": {
    "collapsed": false
   },
   "outputs": [],
   "source": [
    "ocd_df = pd.read_csv('Summary_statistics/raw/ocd_aug2017', sep='\\t')\n",
    "ocd_df = ocd_df[['SNP', 'P']]\n",
    "ocd_df = ocd_df.rename(columns={'SNP':'rs_id', 'P':'p_value'})\n",
    "psych_dfs.append(ocd_df)"
   ]
  },
  {
   "cell_type": "code",
   "execution_count": null,
   "id": "b68538017cc99c96",
   "metadata": {
    "ExecuteTime": {
     "end_time": "2024-01-23T08:39:47.401528400Z",
     "start_time": "2024-01-23T08:39:25.521541400Z"
    },
    "collapsed": false
   },
   "outputs": [],
   "source": [
    "\n",
    "od_df = pd.read_table('opi.DEPvUNX_EUR.noAF.tbl')\n"
   ]
  },
  {
   "cell_type": "code",
   "execution_count": null,
   "id": "1cff826f",
   "metadata": {},
   "outputs": [],
   "source": [
    "od_df.describe()"
   ]
  },
  {
   "cell_type": "code",
   "execution_count": null,
   "id": "f2df2e2e70e120a5",
   "metadata": {
    "ExecuteTime": {
     "end_time": "2024-01-23T08:42:32.093377800Z",
     "start_time": "2024-01-23T08:42:30.109524700Z"
    },
    "collapsed": false
   },
   "outputs": [],
   "source": [
    "od_df['Total_N'].max()"
   ]
  },
  {
   "cell_type": "code",
   "execution_count": null,
   "id": "81fa127ce72dbfc5",
   "metadata": {
    "ExecuteTime": {
     "end_time": "2024-01-23T08:46:19.669306200Z",
     "start_time": "2024-01-23T08:44:40.179371900Z"
    },
    "collapsed": false
   },
   "outputs": [],
   "source": [
    "od_df.to_csv('opium_dependence.txt', sep='\\t', index=False)"
   ]
  },
  {
   "cell_type": "code",
   "execution_count": null,
   "id": "adbc976ce4dbca1b",
   "metadata": {
    "collapsed": false
   },
   "outputs": [],
   "source": [
    "ptsd_df = pd.read_csv('pts_eur_freeze2_overall.results', sep='\\t')\n",
    "ptsd_df = ptsd_df[['SNP', 'P']]\n",
    "ptsd_df = ptsd_df.rename(columns={'SNP':'rs_id', 'P':'p_value'})\n",
    "psych_dfs.append(ptsd_df)"
   ]
  },
  {
   "cell_type": "code",
   "execution_count": null,
   "id": "3c494075ff79cb1a",
   "metadata": {
    "collapsed": false
   },
   "outputs": [],
   "source": [
    "scz_df = pd.read_csv('PGC3_SCZ_wave3.european.autosome.public.v3.vcf.tsv', sep='\\t', comment='#')\n",
    "\"\"\" scz_df = scz_df[['ID', 'PVAL']]\n",
    "scz_df = scz_df.rename(columns={'ID':'rs_id', 'PVAL':'p_value'})\n",
    "psych_dfs.append(scz_df) \"\"\""
   ]
  },
  {
   "cell_type": "code",
   "execution_count": null,
   "id": "fc20221c",
   "metadata": {},
   "outputs": [],
   "source": []
  },
  {
   "cell_type": "code",
   "execution_count": null,
   "id": "71c0345af0b1fc0d",
   "metadata": {
    "collapsed": false
   },
   "outputs": [],
   "source": [
    "tourette_df = pd.read_csv('Summary_statistics/raw/TS_Oct2018', sep=' ')\n",
    "tourette_df = tourette_df[['SNP', 'P']]\n",
    "tourette_df = tourette_df.rename(columns={'SNP':'rs_id', 'P':'p_value'})\n",
    "psych_dfs.append(tourette_df)"
   ]
  },
  {
   "cell_type": "code",
   "execution_count": null,
   "id": "4c2b32f452fcafa0",
   "metadata": {
    "collapsed": false
   },
   "outputs": [],
   "source": [
    "panic_df = pd.read_csv('pgc-panic2019.vcf.tsv', sep='\\t',header=72)\n",
    "list_col= panic_df.columns.to_list()\n",
    "panic_df.head()\n",
    "\n"
   ]
  },
  {
   "cell_type": "code",
   "execution_count": null,
   "id": "ccc12e7b",
   "metadata": {},
   "outputs": [],
   "source": [
    "panic_df=panic_df.dropna()\n",
    "panic_df['POS'] = panic_df['POS'].astype(int)\n",
    "panic_df['#CHROM'] = panic_df['#CHROM'].astype(int)"
   ]
  },
  {
   "cell_type": "code",
   "execution_count": null,
   "id": "1aa424ef",
   "metadata": {},
   "outputs": [],
   "source": [
    "panic_df = panic_df[panic_df['ID'].str.startswith('rs')]\n",
    "panic_df.reset_index(inplace=True, drop=True)\n",
    "panic_df.head()"
   ]
  },
  {
   "cell_type": "code",
   "execution_count": null,
   "id": "d6c4d5ff",
   "metadata": {},
   "outputs": [],
   "source": [
    "panic_df.to_csv('panic.tsv',sep='\\t', index=False)"
   ]
  },
  {
   "cell_type": "code",
   "execution_count": null,
   "id": "a3e9add7",
   "metadata": {},
   "outputs": [],
   "source": [
    "import gzip\n",
    "import io\n",
    "\n",
    "def compress_dataframe_tsv(df, output_filename):\n",
    "    # Convert DataFrame to bytes\n",
    "    with io.BytesIO() as buffer:\n",
    "        # Write DataFrame to buffer in gzipped TSV format\n",
    "        with gzip.GzipFile(mode='w', fileobj=buffer) as f_out:\n",
    "            df.to_csv(f_out, sep='\\t', index=False)\n",
    "\n",
    "        # Get compressed bytes\n",
    "        compressed_data = buffer.getvalue()\n",
    "\n",
    "    # Write compressed data to file\n",
    "    with open(output_filename, 'wb') as f:\n",
    "        f.write(compressed_data)\n",
    "\n",
    "output_name = 'panic.tsv.gz'\n",
    "compress_dataframe_tsv(panic_df, output_name)"
   ]
  },
  {
   "cell_type": "code",
   "execution_count": null,
   "id": "bf38cc33",
   "metadata": {},
   "outputs": [],
   "source": [
    "panic_df.head()"
   ]
  },
  {
   "cell_type": "code",
   "execution_count": null,
   "id": "500d3d03",
   "metadata": {},
   "outputs": [],
   "source": [
    "chrom = panic_df['#CHROM'].to_list()\n",
    "pos = panic_df['POS'].to_list()\n",
    "id = panic_df['ID'].to_list()"
   ]
  },
  {
   "cell_type": "code",
   "execution_count": null,
   "id": "705dfea1",
   "metadata": {},
   "outputs": [],
   "source": [
    "id"
   ]
  },
  {
   "cell_type": "code",
   "execution_count": null,
   "id": "dc3608fb",
   "metadata": {},
   "outputs": [],
   "source": [
    "gd = pd.read_csv('GD.tsv', sep='\\t')"
   ]
  },
  {
   "cell_type": "code",
   "execution_count": null,
   "id": "22601547",
   "metadata": {},
   "outputs": [],
   "source": [
    "gd.head()"
   ]
  },
  {
   "cell_type": "code",
   "execution_count": null,
   "id": "f3590c8b",
   "metadata": {},
   "outputs": [],
   "source": [
    "gd['end_position'] = gd['base_pair_location'] +1\n",
    "gd = gd[['chromosome', 'base_pair_location', 'end_position','rs_id']]"
   ]
  },
  {
   "cell_type": "code",
   "execution_count": null,
   "id": "73551476",
   "metadata": {},
   "outputs": [],
   "source": [
    "gd.to_csv('gdm_to_liftover.tsv', sep='\\t', index=False)"
   ]
  },
  {
   "cell_type": "code",
   "execution_count": null,
   "id": "cda63385",
   "metadata": {},
   "outputs": [],
   "source": [
    "preeclampsia = pd.read_csv('preeclampsia_updated2.tsv',sep='\\t', nrows=50)"
   ]
  },
  {
   "cell_type": "code",
   "execution_count": null,
   "id": "8c5196eb",
   "metadata": {},
   "outputs": [],
   "source": [
    "preeclampsia.head()\n"
   ]
  },
  {
   "cell_type": "code",
   "execution_count": null,
   "id": "3c03a22f",
   "metadata": {},
   "outputs": [],
   "source": [
    "pcos = pd.read_csv('PCOS.tsv', sep='\\t')"
   ]
  },
  {
   "cell_type": "code",
   "execution_count": null,
   "id": "475c25a7",
   "metadata": {},
   "outputs": [],
   "source": [
    "pcos.head()"
   ]
  },
  {
   "cell_type": "code",
   "execution_count": null,
   "id": "0186e90c",
   "metadata": {},
   "outputs": [],
   "source": [
    "preterm_birth = pd.read_csv('preterm_birth_updated4.tsv',sep='\\t', nrows=20)\n"
   ]
  },
  {
   "cell_type": "code",
   "execution_count": null,
   "id": "e5009e3a",
   "metadata": {},
   "outputs": [],
   "source": [
    "preterm_birth.head()"
   ]
  },
  {
   "cell_type": "code",
   "execution_count": null,
   "id": "bd1d4316",
   "metadata": {},
   "outputs": [],
   "source": [
    "preterm_birth['end_position'] = preterm_birth['base_pair_location'] +1\n",
    "preterm_birth = preterm_birth[['chromosome', 'base_pair_location', 'end_position', 'p_value']]"
   ]
  },
  {
   "cell_type": "code",
   "execution_count": null,
   "id": "2b8a2f9b",
   "metadata": {},
   "outputs": [],
   "source": [
    "preterm_birth.to_csv('preterm_birth_to_liftover.tsv', sep='\\t', index=False)"
   ]
  },
  {
   "cell_type": "code",
   "execution_count": null,
   "id": "341696174d6f12b0",
   "metadata": {
    "collapsed": false
   },
   "outputs": [],
   "source": [
    "#lists of disorder names\n",
    "psych_names = ['adhd', 'asd', 'anorexia', 'anxiety', 'aud', 'bpd', 'cud', 'hoarding', 'mdd', 'ocd', 'od', 'ptsd', 'scz', 'tourette']\n",
    "other_names = ['epilepsy','sjogrens', 'lupus', 'biliary_chorrhosis', 'myasthenia', 'rh_arthritis', 'ms', 'parkinsons','migraine', 'fibromyalgia', 'fatigue', 'ibs', 'gout']"
   ]
  },
  {
   "cell_type": "code",
   "execution_count": null,
   "id": "22ed364930e8689a",
   "metadata": {
    "collapsed": false
   },
   "outputs": [],
   "source": [
    "#Add a column with the name of the disorder in each dataframe\n",
    "for df, name in zip(psych_dfs, psych_names):\n",
    "    df['disorder'] = name\n",
    "\n",
    "# for df, name in zip(other_dfs, other_names):\n",
    "#     df['disorder'] = name"
   ]
  },
  {
   "cell_type": "code",
   "execution_count": null,
   "id": "a7b2f22dbccf024a",
   "metadata": {
    "collapsed": false
   },
   "outputs": [],
   "source": [
    "psych_dfs[9].head()"
   ]
  },
  {
   "cell_type": "code",
   "execution_count": null,
   "id": "cd3362330cf66733",
   "metadata": {
    "collapsed": false
   },
   "outputs": [],
   "source": [
    "df = pd.read_csv('thyroid_disease.tsv', sep='\\t', nrows=50)\n",
    "df.head()"
   ]
  },
  {
   "cell_type": "code",
   "execution_count": 101,
   "id": "c3402b56",
   "metadata": {},
   "outputs": [],
   "source": [
    "gdm = pd.read_csv('GDM_galaxy.tabular', sep='\\t')\n"
   ]
  },
  {
   "cell_type": "code",
   "execution_count": null,
   "id": "67ec0627",
   "metadata": {},
   "outputs": [],
   "source": [
    "gdm.head()"
   ]
  },
  {
   "cell_type": "code",
   "execution_count": null,
   "id": "a9d8ef5d",
   "metadata": {},
   "outputs": [],
   "source": []
  }
 ],
 "metadata": {
  "kernelspec": {
   "display_name": "Python 3 (ipykernel)",
   "language": "python",
   "name": "python3"
  },
  "language_info": {
   "codemirror_mode": {
    "name": "ipython",
    "version": 3
   },
   "file_extension": ".py",
   "mimetype": "text/x-python",
   "name": "python",
   "nbconvert_exporter": "python",
   "pygments_lexer": "ipython3",
   "version": "3.10.13"
  }
 },
 "nbformat": 4,
 "nbformat_minor": 5
}
