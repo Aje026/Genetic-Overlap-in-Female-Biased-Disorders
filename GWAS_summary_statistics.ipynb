{
 "cells": [
  {
   "cell_type": "code",
   "execution_count": 1,
   "outputs": [],
   "source": [
    "import pandas as pd\n"
   ],
   "metadata": {
    "collapsed": false,
    "ExecuteTime": {
     "end_time": "2024-01-23T07:50:21.546396900Z",
     "start_time": "2024-01-23T07:50:21.546396900Z"
    }
   },
   "id": "4151d2bcebe5c238"
  },
  {
   "cell_type": "code",
   "execution_count": null,
   "outputs": [],
   "source": [
    "psych_dfs = []\n",
    "other_dfs = []"
   ],
   "metadata": {
    "collapsed": false
   },
   "id": "7f83ae74642b3d5e"
  },
  {
   "cell_type": "code",
   "execution_count": 4,
   "outputs": [],
   "source": [
    "\n",
    "# fibromyalgia = pd.read_csv('Summary_statistics/raw/fibromyalgia.tsv', sep='\\t', comment='#') #need to map rsID\n",
    "# fatigue = pd.read_csv('Summary_statistics/raw/chronic_fatigue.tsv', sep='\\t', comment='#') #need to map rsID\n",
    "# gout = pd.read_csv('Summary_statistics/raw/gout.tsv', sep='\\t') #need to map rsID"
   ],
   "metadata": {
    "collapsed": false,
    "ExecuteTime": {
     "end_time": "2024-01-15T08:20:32.780644400Z",
     "start_time": "2024-01-15T08:20:17.540341700Z"
    }
   },
   "id": "21d4ee7399a8c6fc"
  },
  {
   "cell_type": "code",
   "execution_count": 24,
   "outputs": [],
   "source": [
    "sjogrens_df= pd.read_csv('sjogrens_buildGRCh37.tsv', sep='\\t')\n",
    "#sjogrens_df = sjogrens_df[['variant_id', 'p_value']]\n",
    "sjogrens_df = sjogrens_df.rename(columns={'chromosome':'chromosome','variant_id':'variant_id','base_pair_location':'base_pair_location', 'other_allele':'other_allele', 'effect_allele':'effect_allele', 'effect_allele_frequency':'effect_allele_frequency', 'INFO':'INFO', 'beta':'beta', 'standard_error':'standard_error', 'T':'T', '-log10p':'-log10p', 'p_value':'p_value'})\n",
    "# other_dfs.append(sjogrens_df)"
   ],
   "metadata": {
    "collapsed": false,
    "ExecuteTime": {
     "end_time": "2024-01-22T12:37:01.921092700Z",
     "start_time": "2024-01-22T12:36:46.601890Z"
    }
   },
   "id": "6e87d7a674a67e6c"
  },
  {
   "cell_type": "code",
   "execution_count": 27,
   "outputs": [],
   "source": [
    "sjogrens_df.to_csv('sjogrens.txt', sep='\\t', index=False)"
   ],
   "metadata": {
    "collapsed": false,
    "ExecuteTime": {
     "end_time": "2024-01-22T12:38:55.511717200Z",
     "start_time": "2024-01-22T12:37:45.724507100Z"
    }
   },
   "id": "c7ce350e63a567ab"
  },
  {
   "cell_type": "code",
   "execution_count": 26,
   "outputs": [
    {
     "name": "stdout",
     "output_type": "stream",
     "text": [
      "<class 'pandas.core.frame.DataFrame'>\n",
      "RangeIndex: 9419702 entries, 0 to 9419701\n",
      "Data columns (total 12 columns):\n",
      " #   Column                   Dtype  \n",
      "---  ------                   -----  \n",
      " 0   chromosome               int64  \n",
      " 1   variant_id               object \n",
      " 2   base_pair_location       int64  \n",
      " 3   other_allele             object \n",
      " 4   effect_allele            object \n",
      " 5   effect_allele_frequency  float64\n",
      " 6   INFO                     float64\n",
      " 7   beta                     float64\n",
      " 8   standard_error           float64\n",
      " 9   T                        float64\n",
      " 10  -log10p                  float64\n",
      " 11  p_value                  float64\n",
      "dtypes: float64(7), int64(2), object(3)\n",
      "memory usage: 862.4+ MB\n"
     ]
    }
   ],
   "source": [
    "sjogrens_df.info()"
   ],
   "metadata": {
    "collapsed": false,
    "ExecuteTime": {
     "end_time": "2024-01-22T12:37:05.784112800Z",
     "start_time": "2024-01-22T12:37:05.768309600Z"
    }
   },
   "id": "fc54da49c8034dc2"
  },
  {
   "cell_type": "code",
   "execution_count": null,
   "outputs": [],
   "source": [
    "epilepsy_df = pd.read_csv('Summary_statistics/raw/epilepsy.tsv', sep='\\t')\n",
    "epilepsy_df = epilepsy_df[['rs_id', 'p_value']]\n",
    "other_dfs.append(epilepsy_df)"
   ],
   "metadata": {
    "collapsed": false
   },
   "id": "a184843d98147bae"
  },
  {
   "cell_type": "code",
   "execution_count": null,
   "outputs": [],
   "source": [
    "lupus_df = pd.read_csv('Summary_statistics/raw/systemic_lupus.txt', sep='\\t')\n",
    "lupus_df = lupus_df[['SNP', 'P-value']]\n",
    "lupus_df = lupus_df.rename(columns={'SNP':'rs_id','P-value':'p_value'})\n",
    "other_dfs.append(lupus_df)"
   ],
   "metadata": {
    "collapsed": false
   },
   "id": "1b65773c5af44995"
  },
  {
   "cell_type": "code",
   "execution_count": null,
   "outputs": [],
   "source": [
    "prim_bil_df = pd.read_csv('Summary_statistics/raw/biliary_chirrosis.tsv', sep='\\t', comment='#')\n",
    "prim_bil_df = prim_bil_df[['variant_id', 'p_value']]\n",
    "prim_bil_df = prim_bil_df.rename(columns={'variant_id':'rs_id'})\n",
    "other_dfs.append(prim_bil_df)"
   ],
   "metadata": {
    "collapsed": false
   },
   "id": "a5a356aa146bc32a"
  },
  {
   "cell_type": "code",
   "execution_count": 16,
   "outputs": [],
   "source": [
    "thyroid_df = pd.read_csv('thyroid_buildGRCh37.tsv', sep='\\t', comment='#')\n",
    "# thyroid_df = thyroid_df[['variant_id', 'p_value']]\n",
    "# thyroid_df = thyroid_df.rename(columns={'variant_id':'rs_id'})\n",
    "# other_dfs.append(thyroid_df)"
   ],
   "metadata": {
    "collapsed": false,
    "ExecuteTime": {
     "end_time": "2024-01-17T09:28:00.232235Z",
     "start_time": "2024-01-17T09:27:37.096483600Z"
    }
   },
   "id": "2f6ca9eff20f88c1"
  },
  {
   "cell_type": "code",
   "execution_count": 17,
   "outputs": [
    {
     "data": {
      "text/plain": "    variant_id  chromosome  base_pair_location  GENPOS effect_allele  \\\n0  rs533090414           1               18849     0.0             C   \n1  rs568927205           1               54712     0.0             T   \n2          NaN           1               82133     0.0           CAA   \n3   rs28619159           1               91421     0.0             T   \n4  rs375085441           1               91551     0.0             G   \n\n  other_allele  effect_allele_frequency      INFO  CHISQ_LINREG  P_LINREG  \\\n0            G                 0.026465  0.536412      2.606450     0.110   \n1        TTTTC                 0.415825  0.538572      0.706876     0.400   \n2            C                 0.020380  0.506777      3.242910     0.072   \n3            C                 0.981122  0.521572      0.000772     0.980   \n4           GT                 0.989647  0.548005      5.591080     0.018   \n\n       beta  standard_error  CHISQ_BOLT_LMM_INF  P_BOLT_LMM_INF  \\\n0 -0.003283        0.002005            2.681520           0.100   \n1  0.000614        0.000646            0.903599           0.340   \n2 -0.004445        0.002356            3.560040           0.059   \n3 -0.000627        0.002397            0.068440           0.790   \n4  0.007733        0.003366            5.276900           0.022   \n\n   CHISQ_BOLT_LMM  p_value  \n0        2.685780    0.100  \n1        0.807515    0.370  \n2        3.071210    0.080  \n3        0.034140    0.850  \n4        5.337760    0.021  ",
      "text/html": "<div>\n<style scoped>\n    .dataframe tbody tr th:only-of-type {\n        vertical-align: middle;\n    }\n\n    .dataframe tbody tr th {\n        vertical-align: top;\n    }\n\n    .dataframe thead th {\n        text-align: right;\n    }\n</style>\n<table border=\"1\" class=\"dataframe\">\n  <thead>\n    <tr style=\"text-align: right;\">\n      <th></th>\n      <th>variant_id</th>\n      <th>chromosome</th>\n      <th>base_pair_location</th>\n      <th>GENPOS</th>\n      <th>effect_allele</th>\n      <th>other_allele</th>\n      <th>effect_allele_frequency</th>\n      <th>INFO</th>\n      <th>CHISQ_LINREG</th>\n      <th>P_LINREG</th>\n      <th>beta</th>\n      <th>standard_error</th>\n      <th>CHISQ_BOLT_LMM_INF</th>\n      <th>P_BOLT_LMM_INF</th>\n      <th>CHISQ_BOLT_LMM</th>\n      <th>p_value</th>\n    </tr>\n  </thead>\n  <tbody>\n    <tr>\n      <th>0</th>\n      <td>rs533090414</td>\n      <td>1</td>\n      <td>18849</td>\n      <td>0.0</td>\n      <td>C</td>\n      <td>G</td>\n      <td>0.026465</td>\n      <td>0.536412</td>\n      <td>2.606450</td>\n      <td>0.110</td>\n      <td>-0.003283</td>\n      <td>0.002005</td>\n      <td>2.681520</td>\n      <td>0.100</td>\n      <td>2.685780</td>\n      <td>0.100</td>\n    </tr>\n    <tr>\n      <th>1</th>\n      <td>rs568927205</td>\n      <td>1</td>\n      <td>54712</td>\n      <td>0.0</td>\n      <td>T</td>\n      <td>TTTTC</td>\n      <td>0.415825</td>\n      <td>0.538572</td>\n      <td>0.706876</td>\n      <td>0.400</td>\n      <td>0.000614</td>\n      <td>0.000646</td>\n      <td>0.903599</td>\n      <td>0.340</td>\n      <td>0.807515</td>\n      <td>0.370</td>\n    </tr>\n    <tr>\n      <th>2</th>\n      <td>NaN</td>\n      <td>1</td>\n      <td>82133</td>\n      <td>0.0</td>\n      <td>CAA</td>\n      <td>C</td>\n      <td>0.020380</td>\n      <td>0.506777</td>\n      <td>3.242910</td>\n      <td>0.072</td>\n      <td>-0.004445</td>\n      <td>0.002356</td>\n      <td>3.560040</td>\n      <td>0.059</td>\n      <td>3.071210</td>\n      <td>0.080</td>\n    </tr>\n    <tr>\n      <th>3</th>\n      <td>rs28619159</td>\n      <td>1</td>\n      <td>91421</td>\n      <td>0.0</td>\n      <td>T</td>\n      <td>C</td>\n      <td>0.981122</td>\n      <td>0.521572</td>\n      <td>0.000772</td>\n      <td>0.980</td>\n      <td>-0.000627</td>\n      <td>0.002397</td>\n      <td>0.068440</td>\n      <td>0.790</td>\n      <td>0.034140</td>\n      <td>0.850</td>\n    </tr>\n    <tr>\n      <th>4</th>\n      <td>rs375085441</td>\n      <td>1</td>\n      <td>91551</td>\n      <td>0.0</td>\n      <td>G</td>\n      <td>GT</td>\n      <td>0.989647</td>\n      <td>0.548005</td>\n      <td>5.591080</td>\n      <td>0.018</td>\n      <td>0.007733</td>\n      <td>0.003366</td>\n      <td>5.276900</td>\n      <td>0.022</td>\n      <td>5.337760</td>\n      <td>0.021</td>\n    </tr>\n  </tbody>\n</table>\n</div>"
     },
     "execution_count": 17,
     "metadata": {},
     "output_type": "execute_result"
    }
   ],
   "source": [
    "thyroid_df.head()"
   ],
   "metadata": {
    "collapsed": false,
    "ExecuteTime": {
     "end_time": "2024-01-17T09:28:35.481251400Z",
     "start_time": "2024-01-17T09:28:35.434021400Z"
    }
   },
   "id": "8b517d6d57313b98"
  },
  {
   "cell_type": "code",
   "execution_count": 34,
   "outputs": [],
   "source": [
    "scleroderma_df = pd.read_csv('systemic_scleroderma.txt', header=0, delim_whitespace=True)\n",
    "scleroderma_df = scleroderma_df[['SNP', 'P', 'A1', 'A2', 'OR']]\n",
    "# scleroderma_df = scleroderma_df.rename(columns={'SNP':'rs_id', 'P':'p_value'})\n",
    "# other_dfs.append(scleroderma_df)"
   ],
   "metadata": {
    "collapsed": false,
    "ExecuteTime": {
     "end_time": "2024-01-22T13:01:48.451685300Z",
     "start_time": "2024-01-22T13:01:47.169691800Z"
    }
   },
   "id": "f008872c9ee88173"
  },
  {
   "cell_type": "code",
   "execution_count": null,
   "outputs": [],
   "source": [
    "myasthenia_df = pd.read_csv('Summary_statistics/raw/myastheria_gravis.tsv', sep='\\t', comment='#')\n",
    "myasthenia_df = myasthenia_df[['variant_id', 'p_value']]\n",
    "myasthenia_df = myasthenia_df.rename(columns={'variant_id':'rs_id'})\n",
    "other_dfs.append(myasthenia_df)"
   ],
   "metadata": {
    "collapsed": false
   },
   "id": "a544155ade05b6f6"
  },
  {
   "cell_type": "code",
   "execution_count": null,
   "outputs": [],
   "source": [
    "rh_arthritis_df = pd.read_csv('Summary_statistics/raw/rheumatoid_arthritis.tsv', sep='\\t', comment='#')\n",
    "rh_arthritis_df = rh_arthritis_df[['variant_id', 'p_value']]\n",
    "rh_arthritis_df.rename(columns={'variant_id':'rs_id'})\n",
    "other_dfs.append(rh_arthritis_df)"
   ],
   "metadata": {
    "collapsed": false
   },
   "id": "ebde0194b6646a7a"
  },
  {
   "cell_type": "code",
   "execution_count": null,
   "outputs": [],
   "source": [
    "ms_df= pd.read_csv('Summary_statistics/raw/ms.tsv', sep='\\t', comment='#')\n",
    "ms_df = ms_df[['variant_id', 'p_value']]\n",
    "ms_df = ms_df.rename(columns={'variant_id':'rs_id'})\n",
    "other_dfs.append(ms_df)"
   ],
   "metadata": {
    "collapsed": false
   },
   "id": "f5483e0a41f87001"
  },
  {
   "cell_type": "code",
   "execution_count": 2,
   "outputs": [],
   "source": [
    "parkinsons_df = pd.read_csv('parkinson.tsv',sep='\\t', comment='#' )\n",
    "# parkinsons_df = parkinsons_df[['variant_id', 'p_value']]\n",
    "# parkinsons_df.rename(columns={'variant_id':'rs_id'})\n",
    "# other_dfs.append(parkinsons_df)"
   ],
   "metadata": {
    "collapsed": false,
    "ExecuteTime": {
     "end_time": "2024-01-23T07:51:15.689525200Z",
     "start_time": "2024-01-23T07:51:12.007797300Z"
    }
   },
   "id": "34d8e130067df282"
  },
  {
   "cell_type": "code",
   "execution_count": 3,
   "outputs": [
    {
     "data": {
      "text/plain": "         chromosome  base_pair_location       SNP_HRC_ID   variant_id REF ALT  \\\n0                 1              762320     1:762320:C:T   rs75333668   C   T   \n1                 1              765028     1:765028:C:T    rs2519025   C   T   \n2                 1              780229     1:780229:T:C   rs12565032   T   C   \n3                 1              782677     1:782677:G:T  rs140041012   G   T   \n4                 1              865628     1:865628:G:A   rs41285790   G   A   \n...             ...                 ...              ...          ...  ..  ..   \n1465913          23           154821956  X:154821956:G:A    rs5940536   G   A   \n1465914          23           154833182  X:154833182:T:C    rs5940540   T   C   \n1465915          23           154835342  X:154835342:C:T    rs5940403   C   T   \n1465916          23           154849234  X:154849234:G:A    rs5940542   G   A   \n1465917          23           154850212  X:154850212:T:C  rs150201397   T   C   \n\n        effect_allele TEST  OBS_CT  odds_ratio  LOG(OR)_SE  ci_lower  \\\n0                   T  ADD   10533    1.155820    0.341344  0.592022   \n1                   T  ADD   10533    1.285890    0.418656  0.566036   \n2                   C  ADD   10533    1.303870    0.419182  0.573356   \n3                   T  ADD   10533    1.210110    0.407450  0.544505   \n4                   A  ADD   10533    1.159700    0.165675  0.838150   \n...               ...  ...     ...         ...         ...       ...   \n1465913             A  ADD   10533    0.991990    0.114906  0.791952   \n1465914             C  ADD   10533    0.990572    0.116249  0.788742   \n1465915             T  ADD   10533    0.987767    0.114957  0.788502   \n1465916             A  ADD   10533    0.983989    0.116422  0.783234   \n1465917             C  ADD   10533    0.983542    0.116161  0.783278   \n\n         ci_upper    Z_STAT   p_value  \n0         2.25653  0.424232  0.671396  \n1         2.92123  0.600618  0.548094  \n2         2.96511  0.632978  0.526748  \n3         2.68934  0.468054  0.639746  \n4         1.60460  0.894276  0.371174  \n...           ...       ...       ...  \n1465913   1.24256 -0.069988  0.944203  \n1465914   1.24405 -0.081486  0.935055  \n1465915   1.23739 -0.107065  0.914737  \n1465916   1.23620 -0.138637  0.889737  \n1465917   1.23501 -0.142862  0.886399  \n\n[1465918 rows x 15 columns]",
      "text/html": "<div>\n<style scoped>\n    .dataframe tbody tr th:only-of-type {\n        vertical-align: middle;\n    }\n\n    .dataframe tbody tr th {\n        vertical-align: top;\n    }\n\n    .dataframe thead th {\n        text-align: right;\n    }\n</style>\n<table border=\"1\" class=\"dataframe\">\n  <thead>\n    <tr style=\"text-align: right;\">\n      <th></th>\n      <th>chromosome</th>\n      <th>base_pair_location</th>\n      <th>SNP_HRC_ID</th>\n      <th>variant_id</th>\n      <th>REF</th>\n      <th>ALT</th>\n      <th>effect_allele</th>\n      <th>TEST</th>\n      <th>OBS_CT</th>\n      <th>odds_ratio</th>\n      <th>LOG(OR)_SE</th>\n      <th>ci_lower</th>\n      <th>ci_upper</th>\n      <th>Z_STAT</th>\n      <th>p_value</th>\n    </tr>\n  </thead>\n  <tbody>\n    <tr>\n      <th>0</th>\n      <td>1</td>\n      <td>762320</td>\n      <td>1:762320:C:T</td>\n      <td>rs75333668</td>\n      <td>C</td>\n      <td>T</td>\n      <td>T</td>\n      <td>ADD</td>\n      <td>10533</td>\n      <td>1.155820</td>\n      <td>0.341344</td>\n      <td>0.592022</td>\n      <td>2.25653</td>\n      <td>0.424232</td>\n      <td>0.671396</td>\n    </tr>\n    <tr>\n      <th>1</th>\n      <td>1</td>\n      <td>765028</td>\n      <td>1:765028:C:T</td>\n      <td>rs2519025</td>\n      <td>C</td>\n      <td>T</td>\n      <td>T</td>\n      <td>ADD</td>\n      <td>10533</td>\n      <td>1.285890</td>\n      <td>0.418656</td>\n      <td>0.566036</td>\n      <td>2.92123</td>\n      <td>0.600618</td>\n      <td>0.548094</td>\n    </tr>\n    <tr>\n      <th>2</th>\n      <td>1</td>\n      <td>780229</td>\n      <td>1:780229:T:C</td>\n      <td>rs12565032</td>\n      <td>T</td>\n      <td>C</td>\n      <td>C</td>\n      <td>ADD</td>\n      <td>10533</td>\n      <td>1.303870</td>\n      <td>0.419182</td>\n      <td>0.573356</td>\n      <td>2.96511</td>\n      <td>0.632978</td>\n      <td>0.526748</td>\n    </tr>\n    <tr>\n      <th>3</th>\n      <td>1</td>\n      <td>782677</td>\n      <td>1:782677:G:T</td>\n      <td>rs140041012</td>\n      <td>G</td>\n      <td>T</td>\n      <td>T</td>\n      <td>ADD</td>\n      <td>10533</td>\n      <td>1.210110</td>\n      <td>0.407450</td>\n      <td>0.544505</td>\n      <td>2.68934</td>\n      <td>0.468054</td>\n      <td>0.639746</td>\n    </tr>\n    <tr>\n      <th>4</th>\n      <td>1</td>\n      <td>865628</td>\n      <td>1:865628:G:A</td>\n      <td>rs41285790</td>\n      <td>G</td>\n      <td>A</td>\n      <td>A</td>\n      <td>ADD</td>\n      <td>10533</td>\n      <td>1.159700</td>\n      <td>0.165675</td>\n      <td>0.838150</td>\n      <td>1.60460</td>\n      <td>0.894276</td>\n      <td>0.371174</td>\n    </tr>\n    <tr>\n      <th>...</th>\n      <td>...</td>\n      <td>...</td>\n      <td>...</td>\n      <td>...</td>\n      <td>...</td>\n      <td>...</td>\n      <td>...</td>\n      <td>...</td>\n      <td>...</td>\n      <td>...</td>\n      <td>...</td>\n      <td>...</td>\n      <td>...</td>\n      <td>...</td>\n      <td>...</td>\n    </tr>\n    <tr>\n      <th>1465913</th>\n      <td>23</td>\n      <td>154821956</td>\n      <td>X:154821956:G:A</td>\n      <td>rs5940536</td>\n      <td>G</td>\n      <td>A</td>\n      <td>A</td>\n      <td>ADD</td>\n      <td>10533</td>\n      <td>0.991990</td>\n      <td>0.114906</td>\n      <td>0.791952</td>\n      <td>1.24256</td>\n      <td>-0.069988</td>\n      <td>0.944203</td>\n    </tr>\n    <tr>\n      <th>1465914</th>\n      <td>23</td>\n      <td>154833182</td>\n      <td>X:154833182:T:C</td>\n      <td>rs5940540</td>\n      <td>T</td>\n      <td>C</td>\n      <td>C</td>\n      <td>ADD</td>\n      <td>10533</td>\n      <td>0.990572</td>\n      <td>0.116249</td>\n      <td>0.788742</td>\n      <td>1.24405</td>\n      <td>-0.081486</td>\n      <td>0.935055</td>\n    </tr>\n    <tr>\n      <th>1465915</th>\n      <td>23</td>\n      <td>154835342</td>\n      <td>X:154835342:C:T</td>\n      <td>rs5940403</td>\n      <td>C</td>\n      <td>T</td>\n      <td>T</td>\n      <td>ADD</td>\n      <td>10533</td>\n      <td>0.987767</td>\n      <td>0.114957</td>\n      <td>0.788502</td>\n      <td>1.23739</td>\n      <td>-0.107065</td>\n      <td>0.914737</td>\n    </tr>\n    <tr>\n      <th>1465916</th>\n      <td>23</td>\n      <td>154849234</td>\n      <td>X:154849234:G:A</td>\n      <td>rs5940542</td>\n      <td>G</td>\n      <td>A</td>\n      <td>A</td>\n      <td>ADD</td>\n      <td>10533</td>\n      <td>0.983989</td>\n      <td>0.116422</td>\n      <td>0.783234</td>\n      <td>1.23620</td>\n      <td>-0.138637</td>\n      <td>0.889737</td>\n    </tr>\n    <tr>\n      <th>1465917</th>\n      <td>23</td>\n      <td>154850212</td>\n      <td>X:154850212:T:C</td>\n      <td>rs150201397</td>\n      <td>T</td>\n      <td>C</td>\n      <td>C</td>\n      <td>ADD</td>\n      <td>10533</td>\n      <td>0.983542</td>\n      <td>0.116161</td>\n      <td>0.783278</td>\n      <td>1.23501</td>\n      <td>-0.142862</td>\n      <td>0.886399</td>\n    </tr>\n  </tbody>\n</table>\n<p>1465918 rows × 15 columns</p>\n</div>"
     },
     "execution_count": 3,
     "metadata": {},
     "output_type": "execute_result"
    }
   ],
   "source": [
    "parkinsons_df"
   ],
   "metadata": {
    "collapsed": false,
    "ExecuteTime": {
     "end_time": "2024-01-23T07:51:17.828441600Z",
     "start_time": "2024-01-23T07:51:17.765295200Z"
    }
   },
   "id": "4728be2808b33552"
  },
  {
   "cell_type": "code",
   "execution_count": null,
   "outputs": [],
   "source": [
    "migraine_df = pd.read_csv('Summary_statistics/raw/migraine.tsv',sep='\\t', comment='#')\n",
    "migraine_df = migraine_df[['variant_id', 'p_value']]\n",
    "migraine_df.rename(columns={'variant_id':'rs_id'})\n",
    "other_dfs.append(migraine_df)"
   ],
   "metadata": {
    "collapsed": false
   },
   "id": "b1611444a91dc1c8"
  },
  {
   "cell_type": "code",
   "execution_count": 9,
   "outputs": [
    {
     "data": {
      "text/plain": "   chromosome  base_pair_location effect_allele other_allele  \\\n0          11           134897743             c            g   \n1          16             8600861             a            c   \n2          11           100009976             a            g   \n3          12             3840048             a            g   \n4           7            20776538             a            c   \n\n   effect_allele_frequency    beta  standard_error  p_value  \n0                   0.1725 -0.1574          0.1952   0.4199  \n1                   0.4160  0.1298          0.1511   0.3904  \n2                   0.8734  0.3009          0.2185   0.1685  \n3                   0.5911  0.0011          0.1487   0.9941  \n4                   0.2802 -0.0839          0.1670   0.6155  ",
      "text/html": "<div>\n<style scoped>\n    .dataframe tbody tr th:only-of-type {\n        vertical-align: middle;\n    }\n\n    .dataframe tbody tr th {\n        vertical-align: top;\n    }\n\n    .dataframe thead th {\n        text-align: right;\n    }\n</style>\n<table border=\"1\" class=\"dataframe\">\n  <thead>\n    <tr style=\"text-align: right;\">\n      <th></th>\n      <th>chromosome</th>\n      <th>base_pair_location</th>\n      <th>effect_allele</th>\n      <th>other_allele</th>\n      <th>effect_allele_frequency</th>\n      <th>beta</th>\n      <th>standard_error</th>\n      <th>p_value</th>\n    </tr>\n  </thead>\n  <tbody>\n    <tr>\n      <th>0</th>\n      <td>11</td>\n      <td>134897743</td>\n      <td>c</td>\n      <td>g</td>\n      <td>0.1725</td>\n      <td>-0.1574</td>\n      <td>0.1952</td>\n      <td>0.4199</td>\n    </tr>\n    <tr>\n      <th>1</th>\n      <td>16</td>\n      <td>8600861</td>\n      <td>a</td>\n      <td>c</td>\n      <td>0.4160</td>\n      <td>0.1298</td>\n      <td>0.1511</td>\n      <td>0.3904</td>\n    </tr>\n    <tr>\n      <th>2</th>\n      <td>11</td>\n      <td>100009976</td>\n      <td>a</td>\n      <td>g</td>\n      <td>0.8734</td>\n      <td>0.3009</td>\n      <td>0.2185</td>\n      <td>0.1685</td>\n    </tr>\n    <tr>\n      <th>3</th>\n      <td>12</td>\n      <td>3840048</td>\n      <td>a</td>\n      <td>g</td>\n      <td>0.5911</td>\n      <td>0.0011</td>\n      <td>0.1487</td>\n      <td>0.9941</td>\n    </tr>\n    <tr>\n      <th>4</th>\n      <td>7</td>\n      <td>20776538</td>\n      <td>a</td>\n      <td>c</td>\n      <td>0.2802</td>\n      <td>-0.0839</td>\n      <td>0.1670</td>\n      <td>0.6155</td>\n    </tr>\n  </tbody>\n</table>\n</div>"
     },
     "execution_count": 9,
     "metadata": {},
     "output_type": "execute_result"
    }
   ],
   "source": [
    "fibromyalgia_df = pd.read_csv('fibromyalgia_buildGRCh37.tsv', sep='\\t')\n",
    "fibromyalgia_df.head()"
   ],
   "metadata": {
    "collapsed": false,
    "ExecuteTime": {
     "end_time": "2024-01-16T09:42:03.767827600Z",
     "start_time": "2024-01-16T09:41:57.646604100Z"
    }
   },
   "id": "4d271fe5b78d60a7"
  },
  {
   "cell_type": "code",
   "execution_count": 10,
   "outputs": [
    {
     "data": {
      "text/plain": "    variant_id  chromosome  base_pair_location  GENPOS effect_allele  \\\n0  rs533090414           1               18849     0.0             C   \n1  rs568927205           1               54712     0.0             T   \n2          NaN           1               82133     0.0           CAA   \n3   rs28619159           1               91421     0.0             T   \n4  rs375085441           1               91551     0.0             G   \n\n  other_allele  effect_allele_frequency      INFO  CHISQ_LINREG  P_LINREG  \\\n0            G                 0.026465  0.536412      0.029892      0.86   \n1        TTTTC                 0.415825  0.538572      0.023792      0.88   \n2            C                 0.020380  0.506777      1.344360      0.25   \n3            C                 0.981122  0.521572      1.262200      0.26   \n4           GT                 0.989647  0.548005      0.988442      0.32   \n\n       beta  standard_error  CHISQ_BOLT_LMM_INF  P_BOLT_LMM_INF  \\\n0  0.000094        0.000575            0.026472            0.87   \n1 -0.000032        0.000185            0.029551            0.86   \n2 -0.000796        0.000676            1.388430            0.24   \n3  0.000775        0.000688            1.270470            0.26   \n4  0.000953        0.000966            0.973597            0.32   \n\n   CHISQ_BOLT_LMM  p_value  \n0        0.027997     0.87  \n1        0.029410     0.86  \n2        1.389890     0.24  \n3        1.260950     0.26  \n4        0.980432     0.32  ",
      "text/html": "<div>\n<style scoped>\n    .dataframe tbody tr th:only-of-type {\n        vertical-align: middle;\n    }\n\n    .dataframe tbody tr th {\n        vertical-align: top;\n    }\n\n    .dataframe thead th {\n        text-align: right;\n    }\n</style>\n<table border=\"1\" class=\"dataframe\">\n  <thead>\n    <tr style=\"text-align: right;\">\n      <th></th>\n      <th>variant_id</th>\n      <th>chromosome</th>\n      <th>base_pair_location</th>\n      <th>GENPOS</th>\n      <th>effect_allele</th>\n      <th>other_allele</th>\n      <th>effect_allele_frequency</th>\n      <th>INFO</th>\n      <th>CHISQ_LINREG</th>\n      <th>P_LINREG</th>\n      <th>beta</th>\n      <th>standard_error</th>\n      <th>CHISQ_BOLT_LMM_INF</th>\n      <th>P_BOLT_LMM_INF</th>\n      <th>CHISQ_BOLT_LMM</th>\n      <th>p_value</th>\n    </tr>\n  </thead>\n  <tbody>\n    <tr>\n      <th>0</th>\n      <td>rs533090414</td>\n      <td>1</td>\n      <td>18849</td>\n      <td>0.0</td>\n      <td>C</td>\n      <td>G</td>\n      <td>0.026465</td>\n      <td>0.536412</td>\n      <td>0.029892</td>\n      <td>0.86</td>\n      <td>0.000094</td>\n      <td>0.000575</td>\n      <td>0.026472</td>\n      <td>0.87</td>\n      <td>0.027997</td>\n      <td>0.87</td>\n    </tr>\n    <tr>\n      <th>1</th>\n      <td>rs568927205</td>\n      <td>1</td>\n      <td>54712</td>\n      <td>0.0</td>\n      <td>T</td>\n      <td>TTTTC</td>\n      <td>0.415825</td>\n      <td>0.538572</td>\n      <td>0.023792</td>\n      <td>0.88</td>\n      <td>-0.000032</td>\n      <td>0.000185</td>\n      <td>0.029551</td>\n      <td>0.86</td>\n      <td>0.029410</td>\n      <td>0.86</td>\n    </tr>\n    <tr>\n      <th>2</th>\n      <td>NaN</td>\n      <td>1</td>\n      <td>82133</td>\n      <td>0.0</td>\n      <td>CAA</td>\n      <td>C</td>\n      <td>0.020380</td>\n      <td>0.506777</td>\n      <td>1.344360</td>\n      <td>0.25</td>\n      <td>-0.000796</td>\n      <td>0.000676</td>\n      <td>1.388430</td>\n      <td>0.24</td>\n      <td>1.389890</td>\n      <td>0.24</td>\n    </tr>\n    <tr>\n      <th>3</th>\n      <td>rs28619159</td>\n      <td>1</td>\n      <td>91421</td>\n      <td>0.0</td>\n      <td>T</td>\n      <td>C</td>\n      <td>0.981122</td>\n      <td>0.521572</td>\n      <td>1.262200</td>\n      <td>0.26</td>\n      <td>0.000775</td>\n      <td>0.000688</td>\n      <td>1.270470</td>\n      <td>0.26</td>\n      <td>1.260950</td>\n      <td>0.26</td>\n    </tr>\n    <tr>\n      <th>4</th>\n      <td>rs375085441</td>\n      <td>1</td>\n      <td>91551</td>\n      <td>0.0</td>\n      <td>G</td>\n      <td>GT</td>\n      <td>0.989647</td>\n      <td>0.548005</td>\n      <td>0.988442</td>\n      <td>0.32</td>\n      <td>0.000953</td>\n      <td>0.000966</td>\n      <td>0.973597</td>\n      <td>0.32</td>\n      <td>0.980432</td>\n      <td>0.32</td>\n    </tr>\n  </tbody>\n</table>\n</div>"
     },
     "execution_count": 10,
     "metadata": {},
     "output_type": "execute_result"
    }
   ],
   "source": [
    "fatigue_df = pd.read_csv('fatigue_buildGRCh37.tsv', sep='\\t')\n",
    "fatigue_df = fatigue_df[['variant_id', 'p_value']]\n",
    "fatigue_df = fatigue_df.rename(columns={'variant_id':'rs_id'})\n",
    "other_dfs.append(fatigue_df)\n"
   ],
   "metadata": {
    "collapsed": false,
    "ExecuteTime": {
     "end_time": "2024-01-16T10:47:39.964581400Z",
     "start_time": "2024-01-16T10:47:18.407440500Z"
    }
   },
   "id": "8a6184f81415d85b"
  },
  {
   "cell_type": "code",
   "execution_count": null,
   "outputs": [],
   "source": [
    "ibs_df = pd.read_csv('Summary_statistics/raw/IBS.tsv', sep='\\t', comment='#')\n",
    "ibs_df = ibs_df[['variant_id', 'p_value']]\n",
    "ibs_df = ibs_df.rename(columns={'variant_id':'rs_id'})\n",
    "other_dfs.append(ibs_df)"
   ],
   "metadata": {
    "collapsed": false
   },
   "id": "2ed39d47fdf783ba"
  },
  {
   "cell_type": "code",
   "execution_count": 6,
   "outputs": [
    {
     "data": {
      "text/plain": "    variant_id  chromosome  base_pair_location  GENPOS effect_allele  \\\n0  rs533090414           1               18849     0.0             C   \n1  rs568927205           1               54712     0.0             T   \n2          NaN           1               82133     0.0           CAA   \n3   rs28619159           1               91421     0.0             T   \n4  rs375085441           1               91551     0.0             G   \n\n  other_allele  effect_allele_frequency      INFO  CHISQ_LINREG  P_LINREG  \\\n0            G                 0.026465  0.536412      0.149267      0.70   \n1        TTTTC                 0.415825  0.538572      0.000369      0.98   \n2            C                 0.020380  0.506777      0.027053      0.87   \n3            C                 0.981122  0.521572      0.252201      0.62   \n4           GT                 0.989647  0.548005      0.295509      0.59   \n\n       beta  standard_error  CHISQ_BOLT_LMM_INF  P_BOLT_LMM_INF  \\\n0  0.000323        0.001022            0.099912            0.75   \n1  0.000002        0.000329            0.000033            1.00   \n2  0.000208        0.001201            0.030006            0.86   \n3 -0.000606        0.001222            0.246004            0.62   \n4 -0.000851        0.001716            0.245880            0.62   \n\n   CHISQ_BOLT_LMM  p_value  \n0        0.127803     0.72  \n1        0.000125     0.99  \n2        0.018090     0.89  \n3        0.180216     0.67  \n4        0.197167     0.66  ",
      "text/html": "<div>\n<style scoped>\n    .dataframe tbody tr th:only-of-type {\n        vertical-align: middle;\n    }\n\n    .dataframe tbody tr th {\n        vertical-align: top;\n    }\n\n    .dataframe thead th {\n        text-align: right;\n    }\n</style>\n<table border=\"1\" class=\"dataframe\">\n  <thead>\n    <tr style=\"text-align: right;\">\n      <th></th>\n      <th>variant_id</th>\n      <th>chromosome</th>\n      <th>base_pair_location</th>\n      <th>GENPOS</th>\n      <th>effect_allele</th>\n      <th>other_allele</th>\n      <th>effect_allele_frequency</th>\n      <th>INFO</th>\n      <th>CHISQ_LINREG</th>\n      <th>P_LINREG</th>\n      <th>beta</th>\n      <th>standard_error</th>\n      <th>CHISQ_BOLT_LMM_INF</th>\n      <th>P_BOLT_LMM_INF</th>\n      <th>CHISQ_BOLT_LMM</th>\n      <th>p_value</th>\n    </tr>\n  </thead>\n  <tbody>\n    <tr>\n      <th>0</th>\n      <td>rs533090414</td>\n      <td>1</td>\n      <td>18849</td>\n      <td>0.0</td>\n      <td>C</td>\n      <td>G</td>\n      <td>0.026465</td>\n      <td>0.536412</td>\n      <td>0.149267</td>\n      <td>0.70</td>\n      <td>0.000323</td>\n      <td>0.001022</td>\n      <td>0.099912</td>\n      <td>0.75</td>\n      <td>0.127803</td>\n      <td>0.72</td>\n    </tr>\n    <tr>\n      <th>1</th>\n      <td>rs568927205</td>\n      <td>1</td>\n      <td>54712</td>\n      <td>0.0</td>\n      <td>T</td>\n      <td>TTTTC</td>\n      <td>0.415825</td>\n      <td>0.538572</td>\n      <td>0.000369</td>\n      <td>0.98</td>\n      <td>0.000002</td>\n      <td>0.000329</td>\n      <td>0.000033</td>\n      <td>1.00</td>\n      <td>0.000125</td>\n      <td>0.99</td>\n    </tr>\n    <tr>\n      <th>2</th>\n      <td>NaN</td>\n      <td>1</td>\n      <td>82133</td>\n      <td>0.0</td>\n      <td>CAA</td>\n      <td>C</td>\n      <td>0.020380</td>\n      <td>0.506777</td>\n      <td>0.027053</td>\n      <td>0.87</td>\n      <td>0.000208</td>\n      <td>0.001201</td>\n      <td>0.030006</td>\n      <td>0.86</td>\n      <td>0.018090</td>\n      <td>0.89</td>\n    </tr>\n    <tr>\n      <th>3</th>\n      <td>rs28619159</td>\n      <td>1</td>\n      <td>91421</td>\n      <td>0.0</td>\n      <td>T</td>\n      <td>C</td>\n      <td>0.981122</td>\n      <td>0.521572</td>\n      <td>0.252201</td>\n      <td>0.62</td>\n      <td>-0.000606</td>\n      <td>0.001222</td>\n      <td>0.246004</td>\n      <td>0.62</td>\n      <td>0.180216</td>\n      <td>0.67</td>\n    </tr>\n    <tr>\n      <th>4</th>\n      <td>rs375085441</td>\n      <td>1</td>\n      <td>91551</td>\n      <td>0.0</td>\n      <td>G</td>\n      <td>GT</td>\n      <td>0.989647</td>\n      <td>0.548005</td>\n      <td>0.295509</td>\n      <td>0.59</td>\n      <td>-0.000851</td>\n      <td>0.001716</td>\n      <td>0.245880</td>\n      <td>0.62</td>\n      <td>0.197167</td>\n      <td>0.66</td>\n    </tr>\n  </tbody>\n</table>\n</div>"
     },
     "execution_count": 6,
     "metadata": {},
     "output_type": "execute_result"
    }
   ],
   "source": [
    "gout_df = pd.read_csv('gout_buildGRCh37.tsv', sep='\\t')\n",
    "gout_df = gout_df[['variant_id', 'p_value']]\n",
    "gout_df = gout_df.rename(columns={'variant_id':'rs_id'})\n",
    "other_dfs.append(gout_df)\n"
   ],
   "metadata": {
    "collapsed": false,
    "ExecuteTime": {
     "end_time": "2024-01-15T11:06:23.465586100Z",
     "start_time": "2024-01-15T11:06:02.056037600Z"
    }
   },
   "id": "e530c6b2ca0853eb"
  },
  {
   "cell_type": "code",
   "execution_count": null,
   "outputs": [],
   "source": [
    "# Psychiatric disorder GWAS dataset\n",
    "\n",
    "# alz = pd.read_csv('Summary_statistics/raw/PGCALZ2sumstatsExcluding23andMe.txt', sep='\\t') #need to map rsID"
   ],
   "metadata": {
    "collapsed": false
   },
   "id": "e89bc4c6b43060a6"
  },
  {
   "cell_type": "code",
   "execution_count": null,
   "outputs": [],
   "source": [
    "adhd_df = pd.read_csv('Summary_statistics/raw/ADHD_meta_Jan2022_iPSYCH1_iPSYCH2_deCODE_PGC.meta', sep=' ')\n",
    "adhd_df = adhd_df[['SNP', 'P']]\n",
    "adhd_df = adhd_df.rename(columns={'SNP': 'rs_id', 'P':'p_value'})\n",
    "psych_dfs.append(adhd_df)"
   ],
   "metadata": {
    "collapsed": false
   },
   "id": "e04651a8e7dd7e18"
  },
  {
   "cell_type": "code",
   "execution_count": 13,
   "outputs": [
    {
     "data": {
      "text/plain": "       SNPID  CHR         BP Allele1 Allele2   Freq1  Effect  StdErr  P.value  \\\n0  rs1000033    1  226580387       t       g  0.8266 -0.0574  0.0348  0.09867   \n1  rs1000050    1  162736463       t       c  0.8545  0.0654  0.0461  0.15640   \n2  rs1000070    1  222359612       t       c  0.3360 -0.0229  0.0308  0.45800   \n3  rs1000073    1  157255396       a       g  0.3969 -0.0057  0.0297  0.84730   \n4  rs1000075    1   95166832       t       c  0.3424 -0.0353  0.0281  0.20890   \n\n    TotalN  \n0  17310.0  \n1  10864.0  \n2  17310.0  \n3  12819.0  \n4  17310.0  ",
      "text/html": "<div>\n<style scoped>\n    .dataframe tbody tr th:only-of-type {\n        vertical-align: middle;\n    }\n\n    .dataframe tbody tr th {\n        vertical-align: top;\n    }\n\n    .dataframe thead th {\n        text-align: right;\n    }\n</style>\n<table border=\"1\" class=\"dataframe\">\n  <thead>\n    <tr style=\"text-align: right;\">\n      <th></th>\n      <th>SNPID</th>\n      <th>CHR</th>\n      <th>BP</th>\n      <th>Allele1</th>\n      <th>Allele2</th>\n      <th>Freq1</th>\n      <th>Effect</th>\n      <th>StdErr</th>\n      <th>P.value</th>\n      <th>TotalN</th>\n    </tr>\n  </thead>\n  <tbody>\n    <tr>\n      <th>0</th>\n      <td>rs1000033</td>\n      <td>1</td>\n      <td>226580387</td>\n      <td>t</td>\n      <td>g</td>\n      <td>0.8266</td>\n      <td>-0.0574</td>\n      <td>0.0348</td>\n      <td>0.09867</td>\n      <td>17310.0</td>\n    </tr>\n    <tr>\n      <th>1</th>\n      <td>rs1000050</td>\n      <td>1</td>\n      <td>162736463</td>\n      <td>t</td>\n      <td>c</td>\n      <td>0.8545</td>\n      <td>0.0654</td>\n      <td>0.0461</td>\n      <td>0.15640</td>\n      <td>10864.0</td>\n    </tr>\n    <tr>\n      <th>2</th>\n      <td>rs1000070</td>\n      <td>1</td>\n      <td>222359612</td>\n      <td>t</td>\n      <td>c</td>\n      <td>0.3360</td>\n      <td>-0.0229</td>\n      <td>0.0308</td>\n      <td>0.45800</td>\n      <td>17310.0</td>\n    </tr>\n    <tr>\n      <th>3</th>\n      <td>rs1000073</td>\n      <td>1</td>\n      <td>157255396</td>\n      <td>a</td>\n      <td>g</td>\n      <td>0.3969</td>\n      <td>-0.0057</td>\n      <td>0.0297</td>\n      <td>0.84730</td>\n      <td>12819.0</td>\n    </tr>\n    <tr>\n      <th>4</th>\n      <td>rs1000075</td>\n      <td>1</td>\n      <td>95166832</td>\n      <td>t</td>\n      <td>c</td>\n      <td>0.3424</td>\n      <td>-0.0353</td>\n      <td>0.0281</td>\n      <td>0.20890</td>\n      <td>17310.0</td>\n    </tr>\n  </tbody>\n</table>\n</div>"
     },
     "execution_count": 13,
     "metadata": {},
     "output_type": "execute_result"
    }
   ],
   "source": [
    "anx = pd.read_csv('anxiety.meta.full.cc.tbl', sep='\\t')\n"
   ],
   "metadata": {
    "collapsed": false,
    "ExecuteTime": {
     "end_time": "2024-01-16T14:41:24.956773200Z",
     "start_time": "2024-01-16T14:41:16.865298100Z"
    }
   },
   "id": "b1105d2174a37f15"
  },
  {
   "cell_type": "code",
   "execution_count": 15,
   "outputs": [
    {
     "data": {
      "text/plain": "        SNPID  CHR         BP Allele1 Allele2   Freq1  Effect  StdErr  \\\n0   rs1000033    1  226580387       t       g  0.8266 -0.0574  0.0348   \n1   rs1000050    1  162736463       t       c  0.8545  0.0654  0.0461   \n2   rs1000070    1  222359612       t       c  0.3360 -0.0229  0.0308   \n3   rs1000073    1  157255396       a       g  0.3969 -0.0057  0.0297   \n4   rs1000075    1   95166832       t       c  0.3424 -0.0353  0.0281   \n5   rs1000085    1   66857915       c       g  0.2147 -0.0298  0.0348   \n6   rs1000127    1   63432716       t       c  0.7161  0.0123  0.0297   \n7   rs1000184    1    8640831       c       g  0.2466  0.0712  0.0302   \n8   rs1000282    1  209894785       t       c  0.7900 -0.0194  0.0325   \n9   rs1000283    1  209894661       a       g  0.2124  0.0094  0.0322   \n10  rs1000312    1  205505477       a       g  0.3493  0.0052  0.0297   \n11  rs1000313    1   15405489       a       g  0.7940  0.0132  0.0399   \n12  rs1000314    1   15405907       a       g  0.7909  0.0093  0.0363   \n13  rs1000315    1   15406111       t       c  0.0663  0.0537  0.0664   \n14  rs1000348    1   15041242       c       g  0.6124 -0.0332  0.0271   \n15  rs1000352    1  209675578       t       c  0.9045  0.0643  0.0445   \n16  rs1000360    1  216228343       c       g  0.4052  0.0408  0.0316   \n17  rs1000364    1   55769791       t       c  0.6047 -0.0045  0.0270   \n18  rs1000370    1   40998406       t       g  0.3670  0.0588  0.0300   \n19  rs1000382    1  175866321       c       g  0.7423 -0.0530  0.0340   \n20  rs1000417    1   34007886       a       g  0.7821 -0.0206  0.0343   \n21  rs1000418    1   34008297       a       g  0.7810 -0.0120  0.0316   \n22  rs1000431    1   28225114       t       c  0.3827  0.0223  0.0272   \n23  rs1000432    1   28225119       t       c  0.6193 -0.0243  0.0272   \n24  rs1000451    1  244187847       c       g  0.9458 -0.2521  0.1368   \n25  rs1000452    1  244188049       t       c  0.7154 -0.0359  0.0304   \n26  rs1000476    1   58921516       t       c  0.9314 -0.0732  0.0626   \n27  rs1000494    1   29789167       t       g  0.5664  0.0397  0.0267   \n28    rs10005    1  230416953       a       g  0.5782 -0.0245  0.0314   \n29  rs1000528    1  114471189       t       c  0.7002 -0.0570  0.0308   \n30  rs1000533    1  168282491       t       c  0.6208  0.0276  0.0292   \n31  rs1000543    1  244187600       a       g  0.5197  0.0254  0.0323   \n32  rs1000606    1   93772193       t       c  0.1854 -0.0527  0.0339   \n33  rs1000607    1   93772001       t       c  0.3363 -0.0113  0.0277   \n34  rs1000730    1  231963601       t       c  0.3611 -0.0259  0.0297   \n35  rs1000731    1  231963491       t       c  0.2453  0.0132  0.0329   \n36  rs1000792    1  100040100       a       g  0.8517 -0.0748  0.0409   \n37  rs1000796    1  217402330       a       g  0.3186  0.0160  0.0281   \n38  rs1000836    1  237834407       a       g  0.2790 -0.0481  0.0585   \n39  rs1000876    1   58719296       c       g  0.6586  0.0454  0.0308   \n40  rs1000895    1  191568187       a       g  0.4296  0.0131  0.0264   \n41  rs1000947    1  112277597       t       c  0.6533 -0.0347  0.0335   \n42  rs1000997    1   16125961       a       g  0.7183 -0.0273  0.0458   \n43  rs1001056    1   18850123       t       c  0.9420  0.2116  0.1725   \n44  rs1001070    1   78518432       a       t  0.9252 -0.0125  0.0565   \n45  rs1001103    1   78519889       t       c  0.0789  0.0148  0.0547   \n46  rs1001104    1   78519875       c       g  0.9214 -0.0125  0.0548   \n47  rs1001134    1  222334294       a       g  0.6485  0.0130  0.0283   \n48  rs1001135    1  222334181       t       c  0.3510 -0.0131  0.0283   \n49  rs1001136    1  222334134       a       g  0.3481 -0.0199  0.0292   \n\n    P.value   TotalN  \n0   0.09867  17310.0  \n1   0.15640  10864.0  \n2   0.45800  17310.0  \n3   0.84730  12819.0  \n4   0.20890  17310.0  \n5   0.39260  15355.0  \n6   0.67840  17310.0  \n7   0.01846  17310.0  \n8   0.55060  17310.0  \n9   0.77070  17310.0  \n10  0.86170  17310.0  \n11  0.74030  10864.0  \n12  0.79750  12819.0  \n13  0.41840  12819.0  \n14  0.22150  17310.0  \n15  0.14840  17310.0  \n16  0.19650  12819.0  \n17  0.86830  17310.0  \n18  0.04993  12819.0  \n19  0.11870  17310.0  \n20  0.54910  15355.0  \n21  0.70400  17310.0  \n22  0.41140  17310.0  \n23  0.37160  17310.0  \n24  0.06523   2770.0  \n25  0.23770  17310.0  \n26  0.24190  12819.0  \n27  0.13760  17310.0  \n28  0.43430  12819.0  \n29  0.06415  15355.0  \n30  0.34340  15355.0  \n31  0.43290  10864.0  \n32  0.11990  17310.0  \n33  0.68430  17310.0  \n34  0.38290  15355.0  \n35  0.68830  15355.0  \n36  0.06766  17310.0  \n37  0.56910  17310.0  \n38  0.41120   6748.0  \n39  0.13970  12819.0  \n40  0.62090  17310.0  \n41  0.29980  12819.0  \n42  0.55180  10663.0  \n43  0.21980   1955.0  \n44  0.82520  12819.0  \n45  0.78660  12819.0  \n46  0.81990  12819.0  \n47  0.64510  17310.0  \n48  0.64350  17310.0  \n49  0.49580  17310.0  ",
      "text/html": "<div>\n<style scoped>\n    .dataframe tbody tr th:only-of-type {\n        vertical-align: middle;\n    }\n\n    .dataframe tbody tr th {\n        vertical-align: top;\n    }\n\n    .dataframe thead th {\n        text-align: right;\n    }\n</style>\n<table border=\"1\" class=\"dataframe\">\n  <thead>\n    <tr style=\"text-align: right;\">\n      <th></th>\n      <th>SNPID</th>\n      <th>CHR</th>\n      <th>BP</th>\n      <th>Allele1</th>\n      <th>Allele2</th>\n      <th>Freq1</th>\n      <th>Effect</th>\n      <th>StdErr</th>\n      <th>P.value</th>\n      <th>TotalN</th>\n    </tr>\n  </thead>\n  <tbody>\n    <tr>\n      <th>0</th>\n      <td>rs1000033</td>\n      <td>1</td>\n      <td>226580387</td>\n      <td>t</td>\n      <td>g</td>\n      <td>0.8266</td>\n      <td>-0.0574</td>\n      <td>0.0348</td>\n      <td>0.09867</td>\n      <td>17310.0</td>\n    </tr>\n    <tr>\n      <th>1</th>\n      <td>rs1000050</td>\n      <td>1</td>\n      <td>162736463</td>\n      <td>t</td>\n      <td>c</td>\n      <td>0.8545</td>\n      <td>0.0654</td>\n      <td>0.0461</td>\n      <td>0.15640</td>\n      <td>10864.0</td>\n    </tr>\n    <tr>\n      <th>2</th>\n      <td>rs1000070</td>\n      <td>1</td>\n      <td>222359612</td>\n      <td>t</td>\n      <td>c</td>\n      <td>0.3360</td>\n      <td>-0.0229</td>\n      <td>0.0308</td>\n      <td>0.45800</td>\n      <td>17310.0</td>\n    </tr>\n    <tr>\n      <th>3</th>\n      <td>rs1000073</td>\n      <td>1</td>\n      <td>157255396</td>\n      <td>a</td>\n      <td>g</td>\n      <td>0.3969</td>\n      <td>-0.0057</td>\n      <td>0.0297</td>\n      <td>0.84730</td>\n      <td>12819.0</td>\n    </tr>\n    <tr>\n      <th>4</th>\n      <td>rs1000075</td>\n      <td>1</td>\n      <td>95166832</td>\n      <td>t</td>\n      <td>c</td>\n      <td>0.3424</td>\n      <td>-0.0353</td>\n      <td>0.0281</td>\n      <td>0.20890</td>\n      <td>17310.0</td>\n    </tr>\n    <tr>\n      <th>5</th>\n      <td>rs1000085</td>\n      <td>1</td>\n      <td>66857915</td>\n      <td>c</td>\n      <td>g</td>\n      <td>0.2147</td>\n      <td>-0.0298</td>\n      <td>0.0348</td>\n      <td>0.39260</td>\n      <td>15355.0</td>\n    </tr>\n    <tr>\n      <th>6</th>\n      <td>rs1000127</td>\n      <td>1</td>\n      <td>63432716</td>\n      <td>t</td>\n      <td>c</td>\n      <td>0.7161</td>\n      <td>0.0123</td>\n      <td>0.0297</td>\n      <td>0.67840</td>\n      <td>17310.0</td>\n    </tr>\n    <tr>\n      <th>7</th>\n      <td>rs1000184</td>\n      <td>1</td>\n      <td>8640831</td>\n      <td>c</td>\n      <td>g</td>\n      <td>0.2466</td>\n      <td>0.0712</td>\n      <td>0.0302</td>\n      <td>0.01846</td>\n      <td>17310.0</td>\n    </tr>\n    <tr>\n      <th>8</th>\n      <td>rs1000282</td>\n      <td>1</td>\n      <td>209894785</td>\n      <td>t</td>\n      <td>c</td>\n      <td>0.7900</td>\n      <td>-0.0194</td>\n      <td>0.0325</td>\n      <td>0.55060</td>\n      <td>17310.0</td>\n    </tr>\n    <tr>\n      <th>9</th>\n      <td>rs1000283</td>\n      <td>1</td>\n      <td>209894661</td>\n      <td>a</td>\n      <td>g</td>\n      <td>0.2124</td>\n      <td>0.0094</td>\n      <td>0.0322</td>\n      <td>0.77070</td>\n      <td>17310.0</td>\n    </tr>\n    <tr>\n      <th>10</th>\n      <td>rs1000312</td>\n      <td>1</td>\n      <td>205505477</td>\n      <td>a</td>\n      <td>g</td>\n      <td>0.3493</td>\n      <td>0.0052</td>\n      <td>0.0297</td>\n      <td>0.86170</td>\n      <td>17310.0</td>\n    </tr>\n    <tr>\n      <th>11</th>\n      <td>rs1000313</td>\n      <td>1</td>\n      <td>15405489</td>\n      <td>a</td>\n      <td>g</td>\n      <td>0.7940</td>\n      <td>0.0132</td>\n      <td>0.0399</td>\n      <td>0.74030</td>\n      <td>10864.0</td>\n    </tr>\n    <tr>\n      <th>12</th>\n      <td>rs1000314</td>\n      <td>1</td>\n      <td>15405907</td>\n      <td>a</td>\n      <td>g</td>\n      <td>0.7909</td>\n      <td>0.0093</td>\n      <td>0.0363</td>\n      <td>0.79750</td>\n      <td>12819.0</td>\n    </tr>\n    <tr>\n      <th>13</th>\n      <td>rs1000315</td>\n      <td>1</td>\n      <td>15406111</td>\n      <td>t</td>\n      <td>c</td>\n      <td>0.0663</td>\n      <td>0.0537</td>\n      <td>0.0664</td>\n      <td>0.41840</td>\n      <td>12819.0</td>\n    </tr>\n    <tr>\n      <th>14</th>\n      <td>rs1000348</td>\n      <td>1</td>\n      <td>15041242</td>\n      <td>c</td>\n      <td>g</td>\n      <td>0.6124</td>\n      <td>-0.0332</td>\n      <td>0.0271</td>\n      <td>0.22150</td>\n      <td>17310.0</td>\n    </tr>\n    <tr>\n      <th>15</th>\n      <td>rs1000352</td>\n      <td>1</td>\n      <td>209675578</td>\n      <td>t</td>\n      <td>c</td>\n      <td>0.9045</td>\n      <td>0.0643</td>\n      <td>0.0445</td>\n      <td>0.14840</td>\n      <td>17310.0</td>\n    </tr>\n    <tr>\n      <th>16</th>\n      <td>rs1000360</td>\n      <td>1</td>\n      <td>216228343</td>\n      <td>c</td>\n      <td>g</td>\n      <td>0.4052</td>\n      <td>0.0408</td>\n      <td>0.0316</td>\n      <td>0.19650</td>\n      <td>12819.0</td>\n    </tr>\n    <tr>\n      <th>17</th>\n      <td>rs1000364</td>\n      <td>1</td>\n      <td>55769791</td>\n      <td>t</td>\n      <td>c</td>\n      <td>0.6047</td>\n      <td>-0.0045</td>\n      <td>0.0270</td>\n      <td>0.86830</td>\n      <td>17310.0</td>\n    </tr>\n    <tr>\n      <th>18</th>\n      <td>rs1000370</td>\n      <td>1</td>\n      <td>40998406</td>\n      <td>t</td>\n      <td>g</td>\n      <td>0.3670</td>\n      <td>0.0588</td>\n      <td>0.0300</td>\n      <td>0.04993</td>\n      <td>12819.0</td>\n    </tr>\n    <tr>\n      <th>19</th>\n      <td>rs1000382</td>\n      <td>1</td>\n      <td>175866321</td>\n      <td>c</td>\n      <td>g</td>\n      <td>0.7423</td>\n      <td>-0.0530</td>\n      <td>0.0340</td>\n      <td>0.11870</td>\n      <td>17310.0</td>\n    </tr>\n    <tr>\n      <th>20</th>\n      <td>rs1000417</td>\n      <td>1</td>\n      <td>34007886</td>\n      <td>a</td>\n      <td>g</td>\n      <td>0.7821</td>\n      <td>-0.0206</td>\n      <td>0.0343</td>\n      <td>0.54910</td>\n      <td>15355.0</td>\n    </tr>\n    <tr>\n      <th>21</th>\n      <td>rs1000418</td>\n      <td>1</td>\n      <td>34008297</td>\n      <td>a</td>\n      <td>g</td>\n      <td>0.7810</td>\n      <td>-0.0120</td>\n      <td>0.0316</td>\n      <td>0.70400</td>\n      <td>17310.0</td>\n    </tr>\n    <tr>\n      <th>22</th>\n      <td>rs1000431</td>\n      <td>1</td>\n      <td>28225114</td>\n      <td>t</td>\n      <td>c</td>\n      <td>0.3827</td>\n      <td>0.0223</td>\n      <td>0.0272</td>\n      <td>0.41140</td>\n      <td>17310.0</td>\n    </tr>\n    <tr>\n      <th>23</th>\n      <td>rs1000432</td>\n      <td>1</td>\n      <td>28225119</td>\n      <td>t</td>\n      <td>c</td>\n      <td>0.6193</td>\n      <td>-0.0243</td>\n      <td>0.0272</td>\n      <td>0.37160</td>\n      <td>17310.0</td>\n    </tr>\n    <tr>\n      <th>24</th>\n      <td>rs1000451</td>\n      <td>1</td>\n      <td>244187847</td>\n      <td>c</td>\n      <td>g</td>\n      <td>0.9458</td>\n      <td>-0.2521</td>\n      <td>0.1368</td>\n      <td>0.06523</td>\n      <td>2770.0</td>\n    </tr>\n    <tr>\n      <th>25</th>\n      <td>rs1000452</td>\n      <td>1</td>\n      <td>244188049</td>\n      <td>t</td>\n      <td>c</td>\n      <td>0.7154</td>\n      <td>-0.0359</td>\n      <td>0.0304</td>\n      <td>0.23770</td>\n      <td>17310.0</td>\n    </tr>\n    <tr>\n      <th>26</th>\n      <td>rs1000476</td>\n      <td>1</td>\n      <td>58921516</td>\n      <td>t</td>\n      <td>c</td>\n      <td>0.9314</td>\n      <td>-0.0732</td>\n      <td>0.0626</td>\n      <td>0.24190</td>\n      <td>12819.0</td>\n    </tr>\n    <tr>\n      <th>27</th>\n      <td>rs1000494</td>\n      <td>1</td>\n      <td>29789167</td>\n      <td>t</td>\n      <td>g</td>\n      <td>0.5664</td>\n      <td>0.0397</td>\n      <td>0.0267</td>\n      <td>0.13760</td>\n      <td>17310.0</td>\n    </tr>\n    <tr>\n      <th>28</th>\n      <td>rs10005</td>\n      <td>1</td>\n      <td>230416953</td>\n      <td>a</td>\n      <td>g</td>\n      <td>0.5782</td>\n      <td>-0.0245</td>\n      <td>0.0314</td>\n      <td>0.43430</td>\n      <td>12819.0</td>\n    </tr>\n    <tr>\n      <th>29</th>\n      <td>rs1000528</td>\n      <td>1</td>\n      <td>114471189</td>\n      <td>t</td>\n      <td>c</td>\n      <td>0.7002</td>\n      <td>-0.0570</td>\n      <td>0.0308</td>\n      <td>0.06415</td>\n      <td>15355.0</td>\n    </tr>\n    <tr>\n      <th>30</th>\n      <td>rs1000533</td>\n      <td>1</td>\n      <td>168282491</td>\n      <td>t</td>\n      <td>c</td>\n      <td>0.6208</td>\n      <td>0.0276</td>\n      <td>0.0292</td>\n      <td>0.34340</td>\n      <td>15355.0</td>\n    </tr>\n    <tr>\n      <th>31</th>\n      <td>rs1000543</td>\n      <td>1</td>\n      <td>244187600</td>\n      <td>a</td>\n      <td>g</td>\n      <td>0.5197</td>\n      <td>0.0254</td>\n      <td>0.0323</td>\n      <td>0.43290</td>\n      <td>10864.0</td>\n    </tr>\n    <tr>\n      <th>32</th>\n      <td>rs1000606</td>\n      <td>1</td>\n      <td>93772193</td>\n      <td>t</td>\n      <td>c</td>\n      <td>0.1854</td>\n      <td>-0.0527</td>\n      <td>0.0339</td>\n      <td>0.11990</td>\n      <td>17310.0</td>\n    </tr>\n    <tr>\n      <th>33</th>\n      <td>rs1000607</td>\n      <td>1</td>\n      <td>93772001</td>\n      <td>t</td>\n      <td>c</td>\n      <td>0.3363</td>\n      <td>-0.0113</td>\n      <td>0.0277</td>\n      <td>0.68430</td>\n      <td>17310.0</td>\n    </tr>\n    <tr>\n      <th>34</th>\n      <td>rs1000730</td>\n      <td>1</td>\n      <td>231963601</td>\n      <td>t</td>\n      <td>c</td>\n      <td>0.3611</td>\n      <td>-0.0259</td>\n      <td>0.0297</td>\n      <td>0.38290</td>\n      <td>15355.0</td>\n    </tr>\n    <tr>\n      <th>35</th>\n      <td>rs1000731</td>\n      <td>1</td>\n      <td>231963491</td>\n      <td>t</td>\n      <td>c</td>\n      <td>0.2453</td>\n      <td>0.0132</td>\n      <td>0.0329</td>\n      <td>0.68830</td>\n      <td>15355.0</td>\n    </tr>\n    <tr>\n      <th>36</th>\n      <td>rs1000792</td>\n      <td>1</td>\n      <td>100040100</td>\n      <td>a</td>\n      <td>g</td>\n      <td>0.8517</td>\n      <td>-0.0748</td>\n      <td>0.0409</td>\n      <td>0.06766</td>\n      <td>17310.0</td>\n    </tr>\n    <tr>\n      <th>37</th>\n      <td>rs1000796</td>\n      <td>1</td>\n      <td>217402330</td>\n      <td>a</td>\n      <td>g</td>\n      <td>0.3186</td>\n      <td>0.0160</td>\n      <td>0.0281</td>\n      <td>0.56910</td>\n      <td>17310.0</td>\n    </tr>\n    <tr>\n      <th>38</th>\n      <td>rs1000836</td>\n      <td>1</td>\n      <td>237834407</td>\n      <td>a</td>\n      <td>g</td>\n      <td>0.2790</td>\n      <td>-0.0481</td>\n      <td>0.0585</td>\n      <td>0.41120</td>\n      <td>6748.0</td>\n    </tr>\n    <tr>\n      <th>39</th>\n      <td>rs1000876</td>\n      <td>1</td>\n      <td>58719296</td>\n      <td>c</td>\n      <td>g</td>\n      <td>0.6586</td>\n      <td>0.0454</td>\n      <td>0.0308</td>\n      <td>0.13970</td>\n      <td>12819.0</td>\n    </tr>\n    <tr>\n      <th>40</th>\n      <td>rs1000895</td>\n      <td>1</td>\n      <td>191568187</td>\n      <td>a</td>\n      <td>g</td>\n      <td>0.4296</td>\n      <td>0.0131</td>\n      <td>0.0264</td>\n      <td>0.62090</td>\n      <td>17310.0</td>\n    </tr>\n    <tr>\n      <th>41</th>\n      <td>rs1000947</td>\n      <td>1</td>\n      <td>112277597</td>\n      <td>t</td>\n      <td>c</td>\n      <td>0.6533</td>\n      <td>-0.0347</td>\n      <td>0.0335</td>\n      <td>0.29980</td>\n      <td>12819.0</td>\n    </tr>\n    <tr>\n      <th>42</th>\n      <td>rs1000997</td>\n      <td>1</td>\n      <td>16125961</td>\n      <td>a</td>\n      <td>g</td>\n      <td>0.7183</td>\n      <td>-0.0273</td>\n      <td>0.0458</td>\n      <td>0.55180</td>\n      <td>10663.0</td>\n    </tr>\n    <tr>\n      <th>43</th>\n      <td>rs1001056</td>\n      <td>1</td>\n      <td>18850123</td>\n      <td>t</td>\n      <td>c</td>\n      <td>0.9420</td>\n      <td>0.2116</td>\n      <td>0.1725</td>\n      <td>0.21980</td>\n      <td>1955.0</td>\n    </tr>\n    <tr>\n      <th>44</th>\n      <td>rs1001070</td>\n      <td>1</td>\n      <td>78518432</td>\n      <td>a</td>\n      <td>t</td>\n      <td>0.9252</td>\n      <td>-0.0125</td>\n      <td>0.0565</td>\n      <td>0.82520</td>\n      <td>12819.0</td>\n    </tr>\n    <tr>\n      <th>45</th>\n      <td>rs1001103</td>\n      <td>1</td>\n      <td>78519889</td>\n      <td>t</td>\n      <td>c</td>\n      <td>0.0789</td>\n      <td>0.0148</td>\n      <td>0.0547</td>\n      <td>0.78660</td>\n      <td>12819.0</td>\n    </tr>\n    <tr>\n      <th>46</th>\n      <td>rs1001104</td>\n      <td>1</td>\n      <td>78519875</td>\n      <td>c</td>\n      <td>g</td>\n      <td>0.9214</td>\n      <td>-0.0125</td>\n      <td>0.0548</td>\n      <td>0.81990</td>\n      <td>12819.0</td>\n    </tr>\n    <tr>\n      <th>47</th>\n      <td>rs1001134</td>\n      <td>1</td>\n      <td>222334294</td>\n      <td>a</td>\n      <td>g</td>\n      <td>0.6485</td>\n      <td>0.0130</td>\n      <td>0.0283</td>\n      <td>0.64510</td>\n      <td>17310.0</td>\n    </tr>\n    <tr>\n      <th>48</th>\n      <td>rs1001135</td>\n      <td>1</td>\n      <td>222334181</td>\n      <td>t</td>\n      <td>c</td>\n      <td>0.3510</td>\n      <td>-0.0131</td>\n      <td>0.0283</td>\n      <td>0.64350</td>\n      <td>17310.0</td>\n    </tr>\n    <tr>\n      <th>49</th>\n      <td>rs1001136</td>\n      <td>1</td>\n      <td>222334134</td>\n      <td>a</td>\n      <td>g</td>\n      <td>0.3481</td>\n      <td>-0.0199</td>\n      <td>0.0292</td>\n      <td>0.49580</td>\n      <td>17310.0</td>\n    </tr>\n  </tbody>\n</table>\n</div>"
     },
     "execution_count": 15,
     "metadata": {},
     "output_type": "execute_result"
    }
   ],
   "source": [
    "anx.head(50)"
   ],
   "metadata": {
    "collapsed": false,
    "ExecuteTime": {
     "end_time": "2024-01-16T14:48:38.590763800Z",
     "start_time": "2024-01-16T14:48:38.528208Z"
    }
   },
   "id": "f84c7d5cea62ca15"
  },
  {
   "cell_type": "code",
   "execution_count": 14,
   "outputs": [],
   "source": [
    "anx.to_csv('anxiety.txt', sep='\\t', index=False)"
   ],
   "metadata": {
    "collapsed": false,
    "ExecuteTime": {
     "end_time": "2024-01-16T14:45:19.702985800Z",
     "start_time": "2024-01-16T14:44:45.927249Z"
    }
   },
   "id": "29af25d3c7d3a98e"
  },
  {
   "cell_type": "code",
   "execution_count": null,
   "outputs": [],
   "source": [
    "anxiety_df = pd.read_table('Summary_statistics/raw/anxiety.meta.full.cc.tbl')\n",
    "anxiety_df = anxiety_df[['SNPID', 'P.value']]\n",
    "anxiety_df = anxiety_df.rename(columns={'SNPID':'rs_id', 'P.value':'p_value'})\n",
    "psych_dfs.append(anxiety_df)"
   ],
   "metadata": {
    "collapsed": false
   },
   "id": "9cf7742ca78060c6"
  },
  {
   "cell_type": "code",
   "execution_count": null,
   "outputs": [],
   "source": [
    "aud_df = pd.read_csv('Summary_statistics/raw/AUDIT_UKB_2018_AJP.txt', sep=' ')\n",
    "aud_df = aud_df[['rsid', 'p_T']]\n",
    "aud_df = aud_df.rename(columns={'rsid':'rs_id', 'p_T':'p_value'})\n",
    "psych_dfs.append(aud_df)"
   ],
   "metadata": {
    "collapsed": false
   },
   "id": "5921e6411ec0acfd"
  },
  {
   "cell_type": "code",
   "execution_count": null,
   "outputs": [],
   "source": [
    "anorexia_df = pd.read_csv('Summary_statistics/raw/pgcAN2.2019-07.vcf.tsv', sep='\\t', comment='#')\n",
    "anorexia_df = anorexia_df[['ID', 'PVAL']]\n",
    "anorexia_df = anorexia_df.rename(columns={'ID':'rs_id', 'PVAL':'p_value'})\n",
    "psych_dfs.append(anorexia_df)"
   ],
   "metadata": {
    "collapsed": false
   },
   "id": "7de573d05514d5f7"
  },
  {
   "cell_type": "code",
   "execution_count": null,
   "outputs": [],
   "source": [
    "asd_df = pd.read_csv('Summary_statistics/raw/iPSYCH-PGC_ASD_Nov2017', sep='\\t')\n",
    "asd_df = asd_df[['SNP', 'P']]\n",
    "asd_df = asd_df.rename(columns={'SNP':'rs_id', 'P':'p_value'})\n",
    "psych_dfs.append(asd_df)"
   ],
   "metadata": {
    "collapsed": false
   },
   "id": "f9add3a15205f54d"
  },
  {
   "cell_type": "code",
   "execution_count": null,
   "outputs": [],
   "source": [
    "bpd_df = pd.read_csv('Summary_statistics/raw/daner_bip_pgc3_nm_noukbiobank', sep='\\t')\n",
    "bpd_df = bpd_df[['SNP', 'P']]\n",
    "bpd_df = bpd_df.rename(columns={'SNP':'rs_id', 'P':'p_value'})\n",
    "psych_dfs.append(bpd_df)"
   ],
   "metadata": {
    "collapsed": false
   },
   "id": "f1e0758079fa65a5"
  },
  {
   "cell_type": "code",
   "execution_count": null,
   "outputs": [],
   "source": [
    "cud_df = pd.read_csv('Summary_statistics/raw/CUD_EUR_full_public_11.14.2020', sep=' ')\n",
    "cud_df = cud_df[['SNP', 'P']]\n",
    "cud_df = cud_df.rename(columns={'SNP':'rs_id', 'P':'p_value'})\n",
    "psych_dfs.append(cud_df)"
   ],
   "metadata": {
    "collapsed": false
   },
   "id": "3313b4b92ee1d0ab"
  },
  {
   "cell_type": "code",
   "execution_count": null,
   "outputs": [],
   "source": [
    "hoarding_df = pd.read_csv('Summary_statistics/raw/hoarding2022.vcf.tsv', sep='\\t', comment='#')\n",
    "hoarding_df = hoarding_df[['ID', 'PVAL']]\n",
    "hoarding_df = hoarding_df.rename(columns={'ID':'rs_id', 'PVAL':'p_value'})\n",
    "psych_dfs.append(hoarding_df)"
   ],
   "metadata": {
    "collapsed": false
   },
   "id": "2c69da02fe8fa698"
  },
  {
   "cell_type": "code",
   "execution_count": null,
   "outputs": [],
   "source": [
    "mdd_df = pd.read_csv('Summary_statistics/raw/PGC_UKB_depression_genome-wide.txt', sep=' ')\n",
    "mdd_df = mdd_df[['MarkerName', 'P']]\n",
    "mdd_df = mdd_df.rename(columns={'MarkerName':'rs_id', 'P':'p_value'})\n",
    "psych_dfs.append(mdd_df)"
   ],
   "metadata": {
    "collapsed": false
   },
   "id": "aa437654985d641c"
  },
  {
   "cell_type": "code",
   "execution_count": null,
   "outputs": [],
   "source": [
    "ocd_df = pd.read_csv('Summary_statistics/raw/ocd_aug2017', sep='\\t')\n",
    "ocd_df = ocd_df[['SNP', 'P']]\n",
    "ocd_df = ocd_df.rename(columns={'SNP':'rs_id', 'P':'p_value'})\n",
    "psych_dfs.append(ocd_df)"
   ],
   "metadata": {
    "collapsed": false
   },
   "id": "bfffe2dd7fb48b0b"
  },
  {
   "cell_type": "code",
   "execution_count": 4,
   "outputs": [],
   "source": [
    "od_1 = pd.read_table('opi.DEPvEXP_EUR.noAF.tbl')\n",
    "od_2 = pd.read_table('opi.DEPvUNX_EUR.noAF.tbl')\n",
    "od_3 = pd.read_table('opi.EXPvUNX_EUR.noAF.tbl')\n",
    "# od_1 = od_1[['rsID', 'P-value']]\n",
    "# od_2 = od_2[['rsID', 'P-value']]\n",
    "# od_3 = od_3[['rsID', 'P-value']]\n",
    "\n",
    "od_list =[od_1, od_2, od_3]"
   ],
   "metadata": {
    "collapsed": false,
    "ExecuteTime": {
     "end_time": "2024-01-23T08:39:47.401528400Z",
     "start_time": "2024-01-23T08:39:25.521541400Z"
    }
   },
   "id": "b68538017cc99c96"
  },
  {
   "cell_type": "code",
   "execution_count": 8,
   "outputs": [],
   "source": [
    "od_df = pd.concat(od_list)\n",
    "# od_df = od_df[['rsID', 'P-value']]\n",
    "# od_df = od_df.rename(columns={'rsID':'rs_id', 'P-value':'p_value'})\n",
    "# psych_dfs.append(od_df)"
   ],
   "metadata": {
    "collapsed": false,
    "ExecuteTime": {
     "end_time": "2024-01-23T08:42:32.093377800Z",
     "start_time": "2024-01-23T08:42:30.109524700Z"
    }
   },
   "id": "f2df2e2e70e120a5"
  },
  {
   "cell_type": "code",
   "execution_count": 10,
   "outputs": [],
   "source": [
    "od_df.to_csv('opium_dependence.txt', sep='\\t', index=False)"
   ],
   "metadata": {
    "collapsed": false,
    "ExecuteTime": {
     "end_time": "2024-01-23T08:46:19.669306200Z",
     "start_time": "2024-01-23T08:44:40.179371900Z"
    }
   },
   "id": "81fa127ce72dbfc5"
  },
  {
   "cell_type": "code",
   "execution_count": null,
   "outputs": [],
   "source": [
    "ptsd_df = pd.read_csv('Summary_statistics/raw/pts_eur_freeze2_overall.results', sep='\\t')\n",
    "ptsd_df = ptsd_df[['SNP', 'P']]\n",
    "ptsd_df = ptsd_df.rename(columns={'SNP':'rs_id', 'P':'p_value'})\n",
    "psych_dfs.append(ptsd_df)"
   ],
   "metadata": {
    "collapsed": false
   },
   "id": "adbc976ce4dbca1b"
  },
  {
   "cell_type": "code",
   "execution_count": null,
   "outputs": [],
   "source": [
    "scz_df = pd.read_csv('Summary_statistics/raw/PGC3_SCZ_wave3.european.autosome.public.v3.vcf.tsv', sep='\\t', comment='#')\n",
    "scz_df = scz_df[['ID', 'PVAL']]\n",
    "scz_df = scz_df.rename(columns={'ID':'rs_id', 'PVAL':'p_value'})\n",
    "psych_dfs.append(scz_df)"
   ],
   "metadata": {
    "collapsed": false
   },
   "id": "3c494075ff79cb1a"
  },
  {
   "cell_type": "code",
   "execution_count": null,
   "outputs": [],
   "source": [
    "tourette_df = pd.read_csv('Summary_statistics/raw/TS_Oct2018', sep=' ')\n",
    "tourette_df = tourette_df[['SNP', 'P']]\n",
    "tourette_df = tourette_df.rename(columns={'SNP':'rs_id', 'P':'p_value'})\n",
    "psych_dfs.append(tourette_df)"
   ],
   "metadata": {
    "collapsed": false
   },
   "id": "71c0345af0b1fc0d"
  },
  {
   "cell_type": "code",
   "execution_count": null,
   "outputs": [],
   "source": [
    "panic_df = pd.read_csv('Summary_statistics/raw/pgc-panic2019.vcf.tsv', sep='\\t', header=72)\n",
    "panic_df = panic_df[['ID', 'PVAL']]\n",
    "panic_df = panic_df.rename(columns={'ID':'rs_id', 'PVAL':'p_value'})\n",
    "psych_dfs.append(panic_df)\n"
   ],
   "metadata": {
    "collapsed": false
   },
   "id": "4c2b32f452fcafa0"
  },
  {
   "cell_type": "code",
   "execution_count": null,
   "outputs": [],
   "source": [
    "#lists of disorder names\n",
    "psych_names = ['adhd', 'asd', 'anorexia', 'anxiety', 'aud', 'bpd', 'cud', 'hoarding', 'mdd', 'ocd', 'od', 'ptsd', 'scz', 'tourette']\n",
    "other_names = ['epilepsy','sjogrens', 'lupus', 'biliary_chorrhosis', 'myasthenia', 'rh_arthritis', 'ms', 'parkinsons','migraine', 'fibromyalgia', 'fatigue', 'ibs', 'gout']"
   ],
   "metadata": {
    "collapsed": false
   },
   "id": "341696174d6f12b0"
  },
  {
   "cell_type": "code",
   "execution_count": null,
   "outputs": [],
   "source": [
    "#Add a column with the name of the disorder in each dataframe\n",
    "for df, name in zip(psych_dfs, psych_names):\n",
    "    df['disorder'] = name\n",
    "\n",
    "# for df, name in zip(other_dfs, other_names):\n",
    "#     df['disorder'] = name"
   ],
   "metadata": {
    "collapsed": false
   },
   "id": "22ed364930e8689a"
  },
  {
   "cell_type": "code",
   "execution_count": null,
   "outputs": [],
   "source": [
    "psych_dfs[9].head()"
   ],
   "metadata": {
    "collapsed": false
   },
   "id": "a7b2f22dbccf024a"
  },
  {
   "cell_type": "code",
   "execution_count": null,
   "outputs": [],
   "source": [
    "df = pd. read_csv('psych_pivoted.csv',index_col='rs_id',nrows=200)\n",
    "df = df.fillna(0)\n",
    "df = df.drop(columns='Unnamed: 0')\n",
    "df.head()\n",
    "\n",
    "# correlation_matrix = df.corr(method='spearman')\n",
    "#\n",
    "# plt.figure(figsize=(15, 15))\n",
    "#\n",
    "#\n",
    "# sns.heatmap(correlation_matrix, annot=True, cmap='coolwarm', fmt=\".2f\")\n",
    "#\n",
    "#\n",
    "# plt.title('Correlation Heatmap')\n",
    "#\n",
    "#\n",
    "# plt.savefig('correlation_heatmap.jpg')"
   ],
   "metadata": {
    "collapsed": false
   },
   "id": "7a91b83aee35a942"
  },
  {
   "cell_type": "code",
   "execution_count": null,
   "outputs": [],
   "source": [],
   "metadata": {
    "collapsed": false
   },
   "id": "cd3362330cf66733"
  }
 ],
 "metadata": {
  "kernelspec": {
   "display_name": "Python 3 (ipykernel)",
   "language": "python",
   "name": "python3"
  },
  "language_info": {
   "codemirror_mode": {
    "name": "ipython",
    "version": 3
   },
   "file_extension": ".py",
   "mimetype": "text/x-python",
   "name": "python",
   "nbconvert_exporter": "python",
   "pygments_lexer": "ipython3",
   "version": "3.9.13"
  }
 },
 "nbformat": 4,
 "nbformat_minor": 5
}
