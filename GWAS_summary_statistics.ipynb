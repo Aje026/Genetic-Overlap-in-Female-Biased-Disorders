{
 "cells": [
  {
   "cell_type": "code",
   "execution_count": 1,
   "id": "4151d2bcebe5c238",
   "metadata": {
    "ExecuteTime": {
     "end_time": "2024-01-23T07:50:21.546396900Z",
     "start_time": "2024-01-23T07:50:21.546396900Z"
    },
    "collapsed": false
   },
   "outputs": [],
   "source": [
    "import pandas as pd\n"
   ]
  },
  {
   "cell_type": "code",
   "execution_count": null,
   "id": "bddb86e6",
   "metadata": {},
   "outputs": [],
   "source": [
    "preterm = pd.read_csv('preterm_birth_updated4.tsv', nrows=50, sep='\\t')\n",
    "preterm.head()"
   ]
  },
  {
   "cell_type": "code",
   "execution_count": null,
   "id": "fe890f89",
   "metadata": {},
   "outputs": [],
   "source": [
    "print(preterm.columns.tolist())"
   ]
  },
  {
   "cell_type": "code",
   "execution_count": null,
   "id": "89e51ee8",
   "metadata": {},
   "outputs": [],
   "source": [
    "pcos = pd.read_csv('pcos_updated3.tsv', nrows=50, sep='\\t')\n",
    "pcos.head()"
   ]
  },
  {
   "cell_type": "code",
   "execution_count": null,
   "id": "d8ad73ed",
   "metadata": {},
   "outputs": [],
   "source": [
    "print(pcos.columns.tolist())"
   ]
  },
  {
   "cell_type": "code",
   "execution_count": null,
   "id": "7f83ae74642b3d5e",
   "metadata": {
    "collapsed": false
   },
   "outputs": [],
   "source": [
    "psych_dfs = []\n",
    "other_dfs = []"
   ]
  },
  {
   "cell_type": "code",
   "execution_count": null,
   "id": "595b2ae4",
   "metadata": {},
   "outputs": [],
   "source": [
    "endometriosis = pd.read_csv('endometriosis_updates2.tsv',sep='\\t', nrows=50)\n",
    "endometriosis.head()"
   ]
  },
  {
   "cell_type": "code",
   "execution_count": null,
   "id": "21d4ee7399a8c6fc",
   "metadata": {
    "ExecuteTime": {
     "end_time": "2024-01-15T08:20:32.780644400Z",
     "start_time": "2024-01-15T08:20:17.540341700Z"
    },
    "collapsed": false
   },
   "outputs": [],
   "source": [
    "\n",
    "# fibromyalgia = pd.read_csv('Summary_statistics/raw/fibromyalgia.tsv', sep='\\t', comment='#') #need to map rsID\n",
    "# fatigue = pd.read_csv('Summary_statistics/raw/chronic_fatigue.tsv', sep='\\t', comment='#') #need to map rsID\n",
    "# gout = pd.read_csv('Summary_statistics/raw/gout.tsv', sep='\\t') #need to map rsID"
   ]
  },
  {
   "cell_type": "code",
   "execution_count": null,
   "id": "6e87d7a674a67e6c",
   "metadata": {
    "ExecuteTime": {
     "end_time": "2024-01-22T12:37:01.921092700Z",
     "start_time": "2024-01-22T12:36:46.601890Z"
    },
    "collapsed": false
   },
   "outputs": [],
   "source": [
    "sjogrens_df= pd.read_csv('sjogrens_buildGRCh37.tsv', sep='\\t')\n",
    "#sjogrens_df = sjogrens_df[['variant_id', 'p_value']]\n",
    "sjogrens_df = sjogrens_df.rename(columns={'chromosome':'chromosome','variant_id':'variant_id','base_pair_location':'base_pair_location', 'other_allele':'other_allele', 'effect_allele':'effect_allele', 'effect_allele_frequency':'effect_allele_frequency', 'INFO':'INFO', 'beta':'beta', 'standard_error':'standard_error', 'T':'T', '-log10p':'-log10p', 'p_value':'p_value'})\n",
    "# other_dfs.append(sjogrens_df)"
   ]
  },
  {
   "cell_type": "code",
   "execution_count": null,
   "id": "c7ce350e63a567ab",
   "metadata": {
    "ExecuteTime": {
     "end_time": "2024-01-22T12:38:55.511717200Z",
     "start_time": "2024-01-22T12:37:45.724507100Z"
    },
    "collapsed": false
   },
   "outputs": [],
   "source": [
    "sjogrens_df.to_csv('sjogrens.txt', sep='\\t', index=False)"
   ]
  },
  {
   "cell_type": "code",
   "execution_count": null,
   "id": "fc54da49c8034dc2",
   "metadata": {
    "ExecuteTime": {
     "end_time": "2024-01-22T12:37:05.784112800Z",
     "start_time": "2024-01-22T12:37:05.768309600Z"
    },
    "collapsed": false
   },
   "outputs": [],
   "source": [
    "sjogrens_df.info()"
   ]
  },
  {
   "cell_type": "code",
   "execution_count": null,
   "id": "a184843d98147bae",
   "metadata": {
    "collapsed": false
   },
   "outputs": [],
   "source": [
    "epilepsy_df = pd.read_csv('epilepsy.tsv', sep='\\t', nrows=5)\n",
    "#epilepsy_df = epilepsy_df[['rs_id', 'p_value']]\n",
    "#other_dfs.append(epilepsy_df)\n",
    "epilepsy_df.head()"
   ]
  },
  {
   "cell_type": "code",
   "execution_count": null,
   "id": "1b65773c5af44995",
   "metadata": {
    "collapsed": false
   },
   "outputs": [],
   "source": [
    "lupus_df = pd.read_csv('systemic_lupus.txt', sep='\\t', nrows=5)\n",
    "\"\"\" lupus_df = lupus_df[['SNP', 'P-value']]\n",
    "lupus_df = lupus_df.rename(columns={'SNP':'rs_id','P-value':'p_value'})\n",
    "other_dfs.append(lupus_df) \"\"\"\n",
    "lupus_df.head()"
   ]
  },
  {
   "cell_type": "code",
   "execution_count": null,
   "id": "a5a356aa146bc32a",
   "metadata": {
    "collapsed": false
   },
   "outputs": [],
   "source": [
    "prim_bil_df = pd.read_csv('biliary_chirrosis.tsv', sep='\\t', comment='#')\n",
    "\"\"\" prim_bil_df = prim_bil_df[['variant_id', 'p_value']]\n",
    "prim_bil_df = prim_bil_df.rename(columns={'variant_id':'rs_id'})\n",
    "other_dfs.append(prim_bil_df) \"\"\"\n"
   ]
  },
  {
   "cell_type": "code",
   "execution_count": null,
   "id": "2119948e",
   "metadata": {},
   "outputs": [],
   "source": [
    "prim_bil_df.isna().sum()"
   ]
  },
  {
   "cell_type": "code",
   "execution_count": null,
   "id": "2f6ca9eff20f88c1",
   "metadata": {
    "ExecuteTime": {
     "end_time": "2024-01-17T09:28:00.232235Z",
     "start_time": "2024-01-17T09:27:37.096483600Z"
    },
    "collapsed": false
   },
   "outputs": [],
   "source": [
    "thyroid_df = pd.read_csv('thyroid_buildGRCh37.tsv', sep='\\t', comment='#')\n"
   ]
  },
  {
   "cell_type": "code",
   "execution_count": null,
   "id": "d56bd563",
   "metadata": {},
   "outputs": [],
   "source": [
    "thyroid = pd.read_csv('thyroid_buildGRCh37.tsv',sep='\\t', nrows=50)\n",
    "thyroid.head()"
   ]
  },
  {
   "cell_type": "code",
   "execution_count": null,
   "id": "07fb4930",
   "metadata": {},
   "outputs": [],
   "source": [
    "thyroid_df.to_csv('thyroid_filtered_and_notna.csv', sep=' ')"
   ]
  },
  {
   "cell_type": "code",
   "execution_count": 18,
   "id": "a544155ade05b6f6",
   "metadata": {
    "collapsed": false
   },
   "outputs": [
    {
     "data": {
      "text/html": [
       "<div>\n",
       "<style scoped>\n",
       "    .dataframe tbody tr th:only-of-type {\n",
       "        vertical-align: middle;\n",
       "    }\n",
       "\n",
       "    .dataframe tbody tr th {\n",
       "        vertical-align: top;\n",
       "    }\n",
       "\n",
       "    .dataframe thead th {\n",
       "        text-align: right;\n",
       "    }\n",
       "</style>\n",
       "<table border=\"1\" class=\"dataframe\">\n",
       "  <thead>\n",
       "    <tr style=\"text-align: right;\">\n",
       "      <th></th>\n",
       "      <th>rs_ID</th>\n",
       "      <th>chr</th>\n",
       "      <th>pos</th>\n",
       "      <th>allele1</th>\n",
       "      <th>allele2</th>\n",
       "      <th>effect_allele_frequency</th>\n",
       "      <th>effect_allele_frequency_cases</th>\n",
       "      <th>effect_allele_frequency_controls</th>\n",
       "      <th>beta</th>\n",
       "      <th>standard_error</th>\n",
       "      <th>p_value</th>\n",
       "    </tr>\n",
       "  </thead>\n",
       "  <tbody>\n",
       "    <tr>\n",
       "      <th>11</th>\n",
       "      <td>rs61769340</td>\n",
       "      <td>1</td>\n",
       "      <td>727717</td>\n",
       "      <td>G</td>\n",
       "      <td>C</td>\n",
       "      <td>0.132900</td>\n",
       "      <td>0.144688</td>\n",
       "      <td>0.132293</td>\n",
       "      <td>0.1063</td>\n",
       "      <td>0.0522</td>\n",
       "      <td>0.04161</td>\n",
       "    </tr>\n",
       "    <tr>\n",
       "      <th>63</th>\n",
       "      <td>rs116030099</td>\n",
       "      <td>1</td>\n",
       "      <td>787290</td>\n",
       "      <td>C</td>\n",
       "      <td>T</td>\n",
       "      <td>0.079988</td>\n",
       "      <td>0.063801</td>\n",
       "      <td>0.080822</td>\n",
       "      <td>-0.1757</td>\n",
       "      <td>0.0736</td>\n",
       "      <td>0.01702</td>\n",
       "    </tr>\n",
       "    <tr>\n",
       "      <th>64</th>\n",
       "      <td>rs116030099</td>\n",
       "      <td>1</td>\n",
       "      <td>787290</td>\n",
       "      <td>C</td>\n",
       "      <td>T</td>\n",
       "      <td>0.079988</td>\n",
       "      <td>0.063801</td>\n",
       "      <td>0.080822</td>\n",
       "      <td>-0.1757</td>\n",
       "      <td>0.0736</td>\n",
       "      <td>0.01702</td>\n",
       "    </tr>\n",
       "    <tr>\n",
       "      <th>71</th>\n",
       "      <td>rs148120343</td>\n",
       "      <td>1</td>\n",
       "      <td>794707</td>\n",
       "      <td>C</td>\n",
       "      <td>T</td>\n",
       "      <td>0.044400</td>\n",
       "      <td>0.036839</td>\n",
       "      <td>0.044790</td>\n",
       "      <td>0.1894</td>\n",
       "      <td>0.0966</td>\n",
       "      <td>0.04997</td>\n",
       "    </tr>\n",
       "    <tr>\n",
       "      <th>90</th>\n",
       "      <td>rs79010578</td>\n",
       "      <td>1</td>\n",
       "      <td>800909</td>\n",
       "      <td>A</td>\n",
       "      <td>T</td>\n",
       "      <td>0.095547</td>\n",
       "      <td>0.084357</td>\n",
       "      <td>0.096123</td>\n",
       "      <td>0.1344</td>\n",
       "      <td>0.0653</td>\n",
       "      <td>0.03955</td>\n",
       "    </tr>\n",
       "  </tbody>\n",
       "</table>\n",
       "</div>"
      ],
      "text/plain": [
       "          rs_ID  chr     pos allele1 allele2  effect_allele_frequency  \\\n",
       "11   rs61769340    1  727717       G       C                 0.132900   \n",
       "63  rs116030099    1  787290       C       T                 0.079988   \n",
       "64  rs116030099    1  787290       C       T                 0.079988   \n",
       "71  rs148120343    1  794707       C       T                 0.044400   \n",
       "90   rs79010578    1  800909       A       T                 0.095547   \n",
       "\n",
       "    effect_allele_frequency_cases  effect_allele_frequency_controls    beta  \\\n",
       "11                       0.144688                          0.132293  0.1063   \n",
       "63                       0.063801                          0.080822 -0.1757   \n",
       "64                       0.063801                          0.080822 -0.1757   \n",
       "71                       0.036839                          0.044790  0.1894   \n",
       "90                       0.084357                          0.096123  0.1344   \n",
       "\n",
       "    standard_error  p_value  \n",
       "11          0.0522  0.04161  \n",
       "63          0.0736  0.01702  \n",
       "64          0.0736  0.01702  \n",
       "71          0.0966  0.04997  \n",
       "90          0.0653  0.03955  "
      ]
     },
     "execution_count": 18,
     "metadata": {},
     "output_type": "execute_result"
    }
   ],
   "source": [
    "myasthenia_df = pd.read_csv('myasthenia_galaxy.tabular', sep='\\t')\n",
    "myasthenia_df = myasthenia_df[myasthenia_df['p_value'] <= 0.05]\n",
    "\"\"\" myasthenia_df = myasthenia_df[['variant_id', 'p_value']]\n",
    "myasthenia_df = myasthenia_df.rename(columns={'variant_id':'rs_id'})\n",
    "other_dfs.append(myasthenia_df) \"\"\"\n",
    "myasthenia_df.head()"
   ]
  },
  {
   "cell_type": "code",
   "execution_count": 20,
   "id": "7b84516a",
   "metadata": {},
   "outputs": [],
   "source": [
    "myasthenia_df.to_csv('myasthenia_filtered.tsv', sep='\\t', index=False)"
   ]
  },
  {
   "cell_type": "code",
   "execution_count": null,
   "id": "25ac2351",
   "metadata": {},
   "outputs": [],
   "source": [
    "myasthenia_df = myasthenia_df[['chromosome', 'base_pair_location','p_value']]"
   ]
  },
  {
   "cell_type": "code",
   "execution_count": null,
   "id": "f836c5f3",
   "metadata": {},
   "outputs": [],
   "source": [
    "myasthenia_df['end_position'] = myasthenia_df['base_pair_location'] +1\n",
    "myasthenia_df = myasthenia_df[['chromosome', 'base_pair_location','end_position','p_value']]"
   ]
  },
  {
   "cell_type": "code",
   "execution_count": null,
   "id": "621cdfe5",
   "metadata": {},
   "outputs": [],
   "source": [
    "myasthenia_df.head()"
   ]
  },
  {
   "cell_type": "code",
   "execution_count": null,
   "id": "9c830a6b",
   "metadata": {},
   "outputs": [],
   "source": [
    "myasthenia_df.to_csv('myasthenia_gravis_to_liftover.tsv', sep='\\t', index=False)"
   ]
  },
  {
   "cell_type": "code",
   "execution_count": null,
   "id": "ebde0194b6646a7a",
   "metadata": {
    "collapsed": false
   },
   "outputs": [],
   "source": [
    "rh_arthritis_df = pd.read_csv('rheumatoid_arthritis.tsv', sep='\\t', comment='#')\n",
    "\"\"\" rh_arthritis_df = rh_arthritis_df[['variant_id', 'p_value']]\n",
    "rh_arthritis_df.rename(columns={'variant_id':'rs_id'})\n",
    "other_dfs.append(rh_arthritis_df) \"\"\"\n",
    "rh_arthritis_df.head()"
   ]
  },
  {
   "cell_type": "code",
   "execution_count": null,
   "id": "f5483e0a41f87001",
   "metadata": {
    "collapsed": false
   },
   "outputs": [],
   "source": [
    "ms_df= pd.read_csv('ms.tsv', sep='\\t', comment='#')\n",
    "ms_df = ms_df[ms_df['variant_id'].notna()]\n",
    "ms_df.reset_index(drop=True, inplace=True)\n",
    "\"\"\" ms_df = ms_df[['variant_id', 'p_value']]\n",
    "ms_df = ms_df.rename(columns={'variant_id':'rs_id'})\n",
    "other_dfs.append(ms_df) \"\"\"\n"
   ]
  },
  {
   "cell_type": "code",
   "execution_count": null,
   "id": "5fdd0224",
   "metadata": {},
   "outputs": [],
   "source": [
    "ms_df.to_csv('ms_not_null.txt', sep=' ')"
   ]
  },
  {
   "cell_type": "code",
   "execution_count": null,
   "id": "34d8e130067df282",
   "metadata": {
    "ExecuteTime": {
     "end_time": "2024-01-23T07:51:15.689525200Z",
     "start_time": "2024-01-23T07:51:12.007797300Z"
    },
    "collapsed": false
   },
   "outputs": [],
   "source": [
    "parkinsons_df = pd.read_csv('parkinson.tsv',sep='\\t', comment='#', nrows=5)\n",
    "# parkinsons_df = parkinsons_df[['variant_id', 'p_value']]\n",
    "# parkinsons_df.rename(columns={'variant_id':'rs_id'})\n",
    "# other_dfs.append(parkinsons_df)\n",
    "parkinsons_df.head()"
   ]
  },
  {
   "cell_type": "code",
   "execution_count": null,
   "id": "b1611444a91dc1c8",
   "metadata": {
    "collapsed": false
   },
   "outputs": [],
   "source": [
    "migraine_df = pd.read_csv('migraine.tsv',sep='\\t', comment='#')\n",
    "migraine_df = migraine_df[migraine_df['p_value'] <= 0.05]\n",
    "\"\"\" migraine_df = migraine_df[['variant_id', 'p_value']]\n",
    "migraine_df.rename(columns={'variant_id':'rs_id'})\n",
    "other_dfs.append(migraine_df) \"\"\"\n",
    "migraine_df.to_csv('migraine_filtered_pval.txt', sep='\\t')\n",
    "migraine_df.head()"
   ]
  },
  {
   "cell_type": "code",
   "execution_count": null,
   "id": "4d271fe5b78d60a7",
   "metadata": {
    "ExecuteTime": {
     "end_time": "2024-01-16T09:42:03.767827600Z",
     "start_time": "2024-01-16T09:41:57.646604100Z"
    },
    "collapsed": false
   },
   "outputs": [],
   "source": [
    "fibromyalgia_df = pd.read_csv('fibromyalgia_updated2.tsv',sep='\\t', nrows=50)\n",
    "fibromyalgia_df.head()"
   ]
  },
  {
   "cell_type": "code",
   "execution_count": null,
   "id": "8a6184f81415d85b",
   "metadata": {
    "ExecuteTime": {
     "end_time": "2024-01-16T10:47:39.964581400Z",
     "start_time": "2024-01-16T10:47:18.407440500Z"
    },
    "collapsed": false
   },
   "outputs": [],
   "source": [
    "fatigue_df = pd.read_csv('fatigue_buildGRCh37.tsv', sep='\\t')\n",
    "fatigue_df = fatigue_df.drop(columns=['chromosome', 'base_pair_location'])\n",
    "fatigue_df = fatigue_df.loc[fatigue_df['p_value'] <= 0.05]\n",
    "fatigue_df = fatigue_df[fatigue_df['variant_id'].notna()]\n",
    "fatigue_df.reset_index(drop=True, inplace=True)\n",
    "\"\"\" fatigue_df = fatigue_df[['variant_id', 'p_value']]\n",
    "fatigue_df = fatigue_df.rename(columns={'variant_id':'rs_id'})\n",
    "other_dfs.append(fatigue_df)\n",
    " \"\"\"\n",
    "fatigue_df.info()"
   ]
  },
  {
   "cell_type": "code",
   "execution_count": null,
   "id": "cd0a6611",
   "metadata": {},
   "outputs": [],
   "source": [
    "fatigue_df.head()"
   ]
  },
  {
   "cell_type": "code",
   "execution_count": null,
   "id": "d365b3e6",
   "metadata": {},
   "outputs": [],
   "source": [
    "fatigue_df.to_csv('fatigue_without_chrom_base_pair_loc.txt', sep=' ', index=False)"
   ]
  },
  {
   "cell_type": "code",
   "execution_count": null,
   "id": "2ed39d47fdf783ba",
   "metadata": {
    "collapsed": false
   },
   "outputs": [],
   "source": [
    "ibs_df = pd.read_csv('IBS.tsv', sep='\\t', comment='#')\n",
    "ibs_df.dropna()\n",
    "\"\"\" ibs_df = ibs_df[['variant_id', 'p_value']]\n",
    "ibs_df = ibs_df.rename(columns={'variant_id':'rs_id'})\n",
    "other_dfs.append(ibs_df) \"\"\"\n",
    "ibs_df.head()"
   ]
  },
  {
   "cell_type": "code",
   "execution_count": null,
   "id": "e530c6b2ca0853eb",
   "metadata": {
    "ExecuteTime": {
     "end_time": "2024-01-15T11:06:23.465586100Z",
     "start_time": "2024-01-15T11:06:02.056037600Z"
    },
    "collapsed": false
   },
   "outputs": [],
   "source": [
    "gout_df = pd.read_csv('gout_buildGRCh37.tsv', sep='\\t')\n",
    "gout_df = gout_df.loc[gout_df['p_value'] <= 0.05]\n",
    "gout_df.reset_index(inplace=True, drop= True)\n",
    "gout_df.head()\n"
   ]
  },
  {
   "cell_type": "code",
   "execution_count": null,
   "id": "f7124516",
   "metadata": {},
   "outputs": [],
   "source": [
    "gout_df.to_csv('gout_filtered_by_pval.txt', sep='\\t')"
   ]
  },
  {
   "cell_type": "code",
   "execution_count": null,
   "id": "e89bc4c6b43060a6",
   "metadata": {
    "collapsed": false
   },
   "outputs": [],
   "source": [
    "# Psychiatric disorder GWAS dataset\n",
    "\n",
    "# alz = pd.read_csv('Summary_statistics/raw/PGCALZ2sumstatsExcluding23andMe.txt', sep='\\t') #need to map rsID"
   ]
  },
  {
   "cell_type": "code",
   "execution_count": null,
   "id": "e04651a8e7dd7e18",
   "metadata": {
    "collapsed": false
   },
   "outputs": [],
   "source": [
    "adhd_df = pd.read_csv('Summary_statistics/raw/ADHD_meta_Jan2022_iPSYCH1_iPSYCH2_deCODE_PGC.meta', sep=' ')\n",
    "adhd_df = adhd_df[['SNP', 'P']]\n",
    "adhd_df = adhd_df.rename(columns={'SNP': 'rs_id', 'P':'p_value'})\n",
    "psych_dfs.append(adhd_df)"
   ]
  },
  {
   "cell_type": "code",
   "execution_count": null,
   "id": "b1105d2174a37f15",
   "metadata": {
    "ExecuteTime": {
     "end_time": "2024-01-16T14:41:24.956773200Z",
     "start_time": "2024-01-16T14:41:16.865298100Z"
    },
    "collapsed": false
   },
   "outputs": [],
   "source": [
    "anx = pd.read_csv('anxiety.meta.full.cc.tbl', sep='\\t')\n"
   ]
  },
  {
   "cell_type": "code",
   "execution_count": null,
   "id": "29af25d3c7d3a98e",
   "metadata": {
    "ExecuteTime": {
     "end_time": "2024-01-16T14:45:19.702985800Z",
     "start_time": "2024-01-16T14:44:45.927249Z"
    },
    "collapsed": false
   },
   "outputs": [],
   "source": [
    "anx.to_csv('anxiety.txt', sep='\\t', index=False)"
   ]
  },
  {
   "cell_type": "code",
   "execution_count": null,
   "id": "9cf7742ca78060c6",
   "metadata": {
    "collapsed": false
   },
   "outputs": [],
   "source": [
    "anxiety_df = pd.read_table('Summary_statistics/raw/anxiety.meta.full.cc.tbl')\n",
    "anxiety_df = anxiety_df[['SNPID', 'P.value']]\n",
    "anxiety_df = anxiety_df.rename(columns={'SNPID':'rs_id', 'P.value':'p_value'})\n",
    "psych_dfs.append(anxiety_df)"
   ]
  },
  {
   "cell_type": "code",
   "execution_count": null,
   "id": "5921e6411ec0acfd",
   "metadata": {
    "collapsed": false
   },
   "outputs": [],
   "source": [
    "aud_df = pd.read_csv('Summary_statistics/raw/AUDIT_UKB_2018_AJP.txt', sep=' ')\n",
    "aud_df = aud_df[['rsid', 'p_T']]\n",
    "aud_df = aud_df.rename(columns={'rsid':'rs_id', 'p_T':'p_value'})\n",
    "psych_dfs.append(aud_df)"
   ]
  },
  {
   "cell_type": "code",
   "execution_count": null,
   "id": "7de573d05514d5f7",
   "metadata": {
    "collapsed": false
   },
   "outputs": [],
   "source": [
    "anorexia_df = pd.read_csv('Summary_statistics/raw/pgcAN2.2019-07.vcf.tsv', sep='\\t', comment='#')\n",
    "anorexia_df = anorexia_df[['ID', 'PVAL']]\n",
    "anorexia_df = anorexia_df.rename(columns={'ID':'rs_id', 'PVAL':'p_value'})\n",
    "psych_dfs.append(anorexia_df)"
   ]
  },
  {
   "cell_type": "code",
   "execution_count": null,
   "id": "f9add3a15205f54d",
   "metadata": {
    "collapsed": false
   },
   "outputs": [],
   "source": [
    "asd_df = pd.read_csv('Summary_statistics/raw/iPSYCH-PGC_ASD_Nov2017', sep='\\t')\n",
    "asd_df = asd_df[['SNP', 'P']]\n",
    "asd_df = asd_df.rename(columns={'SNP':'rs_id', 'P':'p_value'})\n",
    "psych_dfs.append(asd_df)"
   ]
  },
  {
   "cell_type": "code",
   "execution_count": null,
   "id": "f1e0758079fa65a5",
   "metadata": {
    "collapsed": false
   },
   "outputs": [],
   "source": [
    "bpd_df = pd.read_csv('Summary_statistics/raw/daner_bip_pgc3_nm_noukbiobank', sep='\\t')\n",
    "bpd_df = bpd_df[['SNP', 'P']]\n",
    "bpd_df = bpd_df.rename(columns={'SNP':'rs_id', 'P':'p_value'})\n",
    "psych_dfs.append(bpd_df)"
   ]
  },
  {
   "cell_type": "code",
   "execution_count": null,
   "id": "3313b4b92ee1d0ab",
   "metadata": {
    "collapsed": false
   },
   "outputs": [],
   "source": [
    "cud_df = pd.read_csv('Summary_statistics/raw/CUD_EUR_full_public_11.14.2020', sep=' ')\n",
    "cud_df = cud_df[['SNP', 'P']]\n",
    "cud_df = cud_df.rename(columns={'SNP':'rs_id', 'P':'p_value'})\n",
    "psych_dfs.append(cud_df)"
   ]
  },
  {
   "cell_type": "code",
   "execution_count": null,
   "id": "2c69da02fe8fa698",
   "metadata": {
    "collapsed": false
   },
   "outputs": [],
   "source": [
    "hoarding_df = pd.read_csv('Summary_statistics/raw/hoarding2022.vcf.tsv', sep='\\t', comment='#')\n",
    "hoarding_df = hoarding_df[['ID', 'PVAL']]\n",
    "hoarding_df = hoarding_df.rename(columns={'ID':'rs_id', 'PVAL':'p_value'})\n",
    "psych_dfs.append(hoarding_df)"
   ]
  },
  {
   "cell_type": "code",
   "execution_count": null,
   "id": "aa437654985d641c",
   "metadata": {
    "collapsed": false
   },
   "outputs": [],
   "source": [
    "mdd_df = pd.read_csv('Summary_statistics/raw/PGC_UKB_depression_genome-wide.txt', sep=' ')\n",
    "mdd_df = mdd_df[['MarkerName', 'P']]\n",
    "mdd_df = mdd_df.rename(columns={'MarkerName':'rs_id', 'P':'p_value'})\n",
    "psych_dfs.append(mdd_df)"
   ]
  },
  {
   "cell_type": "code",
   "execution_count": null,
   "id": "bfffe2dd7fb48b0b",
   "metadata": {
    "collapsed": false
   },
   "outputs": [],
   "source": [
    "ocd_df = pd.read_csv('Summary_statistics/raw/ocd_aug2017', sep='\\t')\n",
    "ocd_df = ocd_df[['SNP', 'P']]\n",
    "ocd_df = ocd_df.rename(columns={'SNP':'rs_id', 'P':'p_value'})\n",
    "psych_dfs.append(ocd_df)"
   ]
  },
  {
   "cell_type": "code",
   "execution_count": null,
   "id": "b68538017cc99c96",
   "metadata": {
    "ExecuteTime": {
     "end_time": "2024-01-23T08:39:47.401528400Z",
     "start_time": "2024-01-23T08:39:25.521541400Z"
    },
    "collapsed": false
   },
   "outputs": [],
   "source": [
    "\n",
    "od_df = pd.read_table('opi.DEPvUNX_EUR.noAF.tbl')\n"
   ]
  },
  {
   "cell_type": "code",
   "execution_count": null,
   "id": "1cff826f",
   "metadata": {},
   "outputs": [],
   "source": [
    "od_df.describe()"
   ]
  },
  {
   "cell_type": "code",
   "execution_count": null,
   "id": "f2df2e2e70e120a5",
   "metadata": {
    "ExecuteTime": {
     "end_time": "2024-01-23T08:42:32.093377800Z",
     "start_time": "2024-01-23T08:42:30.109524700Z"
    },
    "collapsed": false
   },
   "outputs": [],
   "source": [
    "od_df['Total_N'].max()"
   ]
  },
  {
   "cell_type": "code",
   "execution_count": null,
   "id": "81fa127ce72dbfc5",
   "metadata": {
    "ExecuteTime": {
     "end_time": "2024-01-23T08:46:19.669306200Z",
     "start_time": "2024-01-23T08:44:40.179371900Z"
    },
    "collapsed": false
   },
   "outputs": [],
   "source": [
    "od_df.to_csv('opium_dependence.txt', sep='\\t', index=False)"
   ]
  },
  {
   "cell_type": "code",
   "execution_count": null,
   "id": "adbc976ce4dbca1b",
   "metadata": {
    "collapsed": false
   },
   "outputs": [],
   "source": [
    "ptsd_df = pd.read_csv('pts_eur_freeze2_overall.results', sep='\\t')\n",
    "ptsd_df = ptsd_df[['SNP', 'P']]\n",
    "ptsd_df = ptsd_df.rename(columns={'SNP':'rs_id', 'P':'p_value'})\n",
    "psych_dfs.append(ptsd_df)"
   ]
  },
  {
   "cell_type": "code",
   "execution_count": null,
   "id": "3c494075ff79cb1a",
   "metadata": {
    "collapsed": false
   },
   "outputs": [],
   "source": [
    "scz_df = pd.read_csv('PGC3_SCZ_wave3.european.autosome.public.v3.vcf.tsv', sep='\\t', comment='#')\n",
    "\"\"\" scz_df = scz_df[['ID', 'PVAL']]\n",
    "scz_df = scz_df.rename(columns={'ID':'rs_id', 'PVAL':'p_value'})\n",
    "psych_dfs.append(scz_df) \"\"\""
   ]
  },
  {
   "cell_type": "code",
   "execution_count": null,
   "id": "fc20221c",
   "metadata": {},
   "outputs": [],
   "source": []
  },
  {
   "cell_type": "code",
   "execution_count": null,
   "id": "71c0345af0b1fc0d",
   "metadata": {
    "collapsed": false
   },
   "outputs": [],
   "source": [
    "tourette_df = pd.read_csv('Summary_statistics/raw/TS_Oct2018', sep=' ')\n",
    "tourette_df = tourette_df[['SNP', 'P']]\n",
    "tourette_df = tourette_df.rename(columns={'SNP':'rs_id', 'P':'p_value'})\n",
    "psych_dfs.append(tourette_df)"
   ]
  },
  {
   "cell_type": "code",
   "execution_count": 94,
   "id": "4c2b32f452fcafa0",
   "metadata": {
    "collapsed": false
   },
   "outputs": [
    {
     "name": "stderr",
     "output_type": "stream",
     "text": [
      "C:\\Users\\annei\\AppData\\Local\\Temp\\ipykernel_9512\\2231150774.py:1: DtypeWarning: Columns (0) have mixed types. Specify dtype option on import or set low_memory=False.\n",
      "  panic_df = pd.read_csv('pgc-panic2019.vcf.tsv', sep='\\t',header=72)\n"
     ]
    }
   ],
   "source": [
    "panic_df = pd.read_csv('pgc-panic2019.vcf.tsv', sep='\\t',header=72)\n",
    "\n",
    "\n"
   ]
  },
  {
   "cell_type": "code",
   "execution_count": 96,
   "id": "ccc12e7b",
   "metadata": {},
   "outputs": [],
   "source": [
    "panic_df=panic_df.dropna()\n",
    "panic_df['POS'] = panic_df['POS'].astype(int)\n",
    "panic_df['#CHROM'] = panic_df['#CHROM'].astype(int)\n",
    "panic_df = panic_df.rename(columns={'#CHROM':'CHR'})"
   ]
  },
  {
   "cell_type": "code",
   "execution_count": 97,
   "id": "1aa424ef",
   "metadata": {},
   "outputs": [
    {
     "data": {
      "text/html": [
       "<div>\n",
       "<style scoped>\n",
       "    .dataframe tbody tr th:only-of-type {\n",
       "        vertical-align: middle;\n",
       "    }\n",
       "\n",
       "    .dataframe tbody tr th {\n",
       "        vertical-align: top;\n",
       "    }\n",
       "\n",
       "    .dataframe thead th {\n",
       "        text-align: right;\n",
       "    }\n",
       "</style>\n",
       "<table border=\"1\" class=\"dataframe\">\n",
       "  <thead>\n",
       "    <tr style=\"text-align: right;\">\n",
       "      <th></th>\n",
       "      <th>CHR</th>\n",
       "      <th>POS</th>\n",
       "      <th>ID</th>\n",
       "      <th>A1</th>\n",
       "      <th>A2</th>\n",
       "      <th>BETA</th>\n",
       "      <th>SE</th>\n",
       "      <th>PVAL</th>\n",
       "      <th>NGT</th>\n",
       "      <th>FCAS</th>\n",
       "      <th>FCON</th>\n",
       "      <th>IMPINFO</th>\n",
       "      <th>NEFFDIV2</th>\n",
       "      <th>NCAS</th>\n",
       "      <th>NCON</th>\n",
       "      <th>DIRE</th>\n",
       "    </tr>\n",
       "  </thead>\n",
       "  <tbody>\n",
       "    <tr>\n",
       "      <th>0</th>\n",
       "      <td>10</td>\n",
       "      <td>1689546</td>\n",
       "      <td>rs11250701</td>\n",
       "      <td>A</td>\n",
       "      <td>G</td>\n",
       "      <td>0.024097</td>\n",
       "      <td>0.0387</td>\n",
       "      <td>0.53280</td>\n",
       "      <td>0.0</td>\n",
       "      <td>0.6570</td>\n",
       "      <td>0.6530</td>\n",
       "      <td>0.945</td>\n",
       "      <td>3332.53</td>\n",
       "      <td>2147.0</td>\n",
       "      <td>7760.0</td>\n",
       "      <td>+-++++</td>\n",
       "    </tr>\n",
       "    <tr>\n",
       "      <th>1</th>\n",
       "      <td>10</td>\n",
       "      <td>151476</td>\n",
       "      <td>rs7085086</td>\n",
       "      <td>A</td>\n",
       "      <td>G</td>\n",
       "      <td>-0.042104</td>\n",
       "      <td>0.0398</td>\n",
       "      <td>0.28970</td>\n",
       "      <td>0.0</td>\n",
       "      <td>0.3080</td>\n",
       "      <td>0.3120</td>\n",
       "      <td>0.949</td>\n",
       "      <td>3332.53</td>\n",
       "      <td>2147.0</td>\n",
       "      <td>7760.0</td>\n",
       "      <td>-+--+-</td>\n",
       "    </tr>\n",
       "    <tr>\n",
       "      <th>2</th>\n",
       "      <td>10</td>\n",
       "      <td>1593759</td>\n",
       "      <td>rs113494187</td>\n",
       "      <td>T</td>\n",
       "      <td>G</td>\n",
       "      <td>0.339397</td>\n",
       "      <td>0.1741</td>\n",
       "      <td>0.05117</td>\n",
       "      <td>0.0</td>\n",
       "      <td>0.9870</td>\n",
       "      <td>0.9840</td>\n",
       "      <td>0.899</td>\n",
       "      <td>3332.53</td>\n",
       "      <td>2147.0</td>\n",
       "      <td>7760.0</td>\n",
       "      <td>+++++?</td>\n",
       "    </tr>\n",
       "    <tr>\n",
       "      <th>3</th>\n",
       "      <td>10</td>\n",
       "      <td>1708106</td>\n",
       "      <td>rs117915320</td>\n",
       "      <td>A</td>\n",
       "      <td>C</td>\n",
       "      <td>-0.395802</td>\n",
       "      <td>0.2409</td>\n",
       "      <td>0.10030</td>\n",
       "      <td>0.0</td>\n",
       "      <td>0.0111</td>\n",
       "      <td>0.0132</td>\n",
       "      <td>0.628</td>\n",
       "      <td>3332.53</td>\n",
       "      <td>2147.0</td>\n",
       "      <td>7760.0</td>\n",
       "      <td>?--?--</td>\n",
       "    </tr>\n",
       "    <tr>\n",
       "      <th>4</th>\n",
       "      <td>10</td>\n",
       "      <td>790310</td>\n",
       "      <td>rs182753344</td>\n",
       "      <td>T</td>\n",
       "      <td>C</td>\n",
       "      <td>-0.024703</td>\n",
       "      <td>0.0769</td>\n",
       "      <td>0.74840</td>\n",
       "      <td>0.0</td>\n",
       "      <td>0.0971</td>\n",
       "      <td>0.0950</td>\n",
       "      <td>0.618</td>\n",
       "      <td>3332.53</td>\n",
       "      <td>2147.0</td>\n",
       "      <td>7760.0</td>\n",
       "      <td>---++-</td>\n",
       "    </tr>\n",
       "  </tbody>\n",
       "</table>\n",
       "</div>"
      ],
      "text/plain": [
       "   CHR      POS           ID A1 A2      BETA      SE     PVAL  NGT    FCAS  \\\n",
       "0   10  1689546   rs11250701  A  G  0.024097  0.0387  0.53280  0.0  0.6570   \n",
       "1   10   151476    rs7085086  A  G -0.042104  0.0398  0.28970  0.0  0.3080   \n",
       "2   10  1593759  rs113494187  T  G  0.339397  0.1741  0.05117  0.0  0.9870   \n",
       "3   10  1708106  rs117915320  A  C -0.395802  0.2409  0.10030  0.0  0.0111   \n",
       "4   10   790310  rs182753344  T  C -0.024703  0.0769  0.74840  0.0  0.0971   \n",
       "\n",
       "     FCON  IMPINFO  NEFFDIV2    NCAS    NCON    DIRE  \n",
       "0  0.6530    0.945   3332.53  2147.0  7760.0  +-++++  \n",
       "1  0.3120    0.949   3332.53  2147.0  7760.0  -+--+-  \n",
       "2  0.9840    0.899   3332.53  2147.0  7760.0  +++++?  \n",
       "3  0.0132    0.628   3332.53  2147.0  7760.0  ?--?--  \n",
       "4  0.0950    0.618   3332.53  2147.0  7760.0  ---++-  "
      ]
     },
     "execution_count": 97,
     "metadata": {},
     "output_type": "execute_result"
    }
   ],
   "source": [
    "panic_df = panic_df[panic_df['ID'].str.startswith('rs')]\n",
    "panic_df.reset_index(inplace=True, drop=True)\n",
    "panic_df.head()"
   ]
  },
  {
   "cell_type": "code",
   "execution_count": 98,
   "id": "d6c4d5ff",
   "metadata": {},
   "outputs": [],
   "source": [
    "panic_df.to_csv('panic.tsv',sep='\\t', index=False)"
   ]
  },
  {
   "cell_type": "code",
   "execution_count": 65,
   "id": "dc3608fb",
   "metadata": {},
   "outputs": [
    {
     "name": "stderr",
     "output_type": "stream",
     "text": [
      "C:\\Users\\annei\\AppData\\Local\\Temp\\ipykernel_9512\\2544162897.py:1: DtypeWarning: Columns (8) have mixed types. Specify dtype option on import or set low_memory=False.\n",
      "  gd = pd.read_csv('GD.tsv', sep='\\t')\n"
     ]
    }
   ],
   "source": [
    "gd = pd.read_csv('GD.tsv', sep='\\t')\n",
    "gd = gd.drop(columns=['chromosome','base_pair_location'])"
   ]
  },
  {
   "cell_type": "code",
   "execution_count": 66,
   "id": "22601547",
   "metadata": {},
   "outputs": [
    {
     "data": {
      "text/html": [
       "<div>\n",
       "<style scoped>\n",
       "    .dataframe tbody tr th:only-of-type {\n",
       "        vertical-align: middle;\n",
       "    }\n",
       "\n",
       "    .dataframe tbody tr th {\n",
       "        vertical-align: top;\n",
       "    }\n",
       "\n",
       "    .dataframe thead th {\n",
       "        text-align: right;\n",
       "    }\n",
       "</style>\n",
       "<table border=\"1\" class=\"dataframe\">\n",
       "  <thead>\n",
       "    <tr style=\"text-align: right;\">\n",
       "      <th></th>\n",
       "      <th>effect_allele</th>\n",
       "      <th>other_allele</th>\n",
       "      <th>beta</th>\n",
       "      <th>standard_error</th>\n",
       "      <th>effect_allele_frequency</th>\n",
       "      <th>p_value</th>\n",
       "      <th>rs_id</th>\n",
       "    </tr>\n",
       "  </thead>\n",
       "  <tbody>\n",
       "    <tr>\n",
       "      <th>0</th>\n",
       "      <td>A</td>\n",
       "      <td>G</td>\n",
       "      <td>-0.0701</td>\n",
       "      <td>0.178</td>\n",
       "      <td>0.005810</td>\n",
       "      <td>0.694</td>\n",
       "      <td>rs2691328</td>\n",
       "    </tr>\n",
       "    <tr>\n",
       "      <th>1</th>\n",
       "      <td>T</td>\n",
       "      <td>C</td>\n",
       "      <td>0.0152</td>\n",
       "      <td>0.108</td>\n",
       "      <td>0.013500</td>\n",
       "      <td>0.888</td>\n",
       "      <td>rs878915777</td>\n",
       "    </tr>\n",
       "    <tr>\n",
       "      <th>2</th>\n",
       "      <td>A</td>\n",
       "      <td>G</td>\n",
       "      <td>-0.2760</td>\n",
       "      <td>0.324</td>\n",
       "      <td>0.001150</td>\n",
       "      <td>0.394</td>\n",
       "      <td>NaN</td>\n",
       "    </tr>\n",
       "    <tr>\n",
       "      <th>3</th>\n",
       "      <td>C</td>\n",
       "      <td>T</td>\n",
       "      <td>-0.2500</td>\n",
       "      <td>0.524</td>\n",
       "      <td>0.000594</td>\n",
       "      <td>0.633</td>\n",
       "      <td>NaN</td>\n",
       "    </tr>\n",
       "    <tr>\n",
       "      <th>4</th>\n",
       "      <td>C</td>\n",
       "      <td>G</td>\n",
       "      <td>-0.0365</td>\n",
       "      <td>0.177</td>\n",
       "      <td>0.004240</td>\n",
       "      <td>0.836</td>\n",
       "      <td>NaN</td>\n",
       "    </tr>\n",
       "  </tbody>\n",
       "</table>\n",
       "</div>"
      ],
      "text/plain": [
       "  effect_allele other_allele    beta  standard_error  effect_allele_frequency  \\\n",
       "0             A            G -0.0701           0.178                 0.005810   \n",
       "1             T            C  0.0152           0.108                 0.013500   \n",
       "2             A            G -0.2760           0.324                 0.001150   \n",
       "3             C            T -0.2500           0.524                 0.000594   \n",
       "4             C            G -0.0365           0.177                 0.004240   \n",
       "\n",
       "   p_value        rs_id  \n",
       "0    0.694    rs2691328  \n",
       "1    0.888  rs878915777  \n",
       "2    0.394          NaN  \n",
       "3    0.633          NaN  \n",
       "4    0.836          NaN  "
      ]
     },
     "execution_count": 66,
     "metadata": {},
     "output_type": "execute_result"
    }
   ],
   "source": [
    "gd.head()"
   ]
  },
  {
   "cell_type": "code",
   "execution_count": 67,
   "id": "a2107db0",
   "metadata": {},
   "outputs": [],
   "source": [
    "gd.to_csv('gdm_fuma.tsv', sep='\\t', index=False)"
   ]
  },
  {
   "cell_type": "code",
   "execution_count": 90,
   "id": "4637d7d4",
   "metadata": {},
   "outputs": [],
   "source": [
    "myasthenia = pd.read_csv('myastheria_gravis.tsv', sep='\\t')\n",
    "myasthenia = myasthenia.drop(columns=['chromosome','base_pair_location'])"
   ]
  },
  {
   "cell_type": "code",
   "execution_count": 91,
   "id": "862fd701",
   "metadata": {},
   "outputs": [],
   "source": [
    "myasthenia = myasthenia[myasthenia['p_value'] <= 0.05]"
   ]
  },
  {
   "cell_type": "code",
   "execution_count": 93,
   "id": "c8af4663",
   "metadata": {},
   "outputs": [],
   "source": [
    "myasthenia.to_csv('myasthenia_fuma.tsv',sep='\\t',index=False)"
   ]
  },
  {
   "cell_type": "code",
   "execution_count": 92,
   "id": "bc0d12f8",
   "metadata": {},
   "outputs": [
    {
     "data": {
      "text/html": [
       "<div>\n",
       "<style scoped>\n",
       "    .dataframe tbody tr th:only-of-type {\n",
       "        vertical-align: middle;\n",
       "    }\n",
       "\n",
       "    .dataframe tbody tr th {\n",
       "        vertical-align: top;\n",
       "    }\n",
       "\n",
       "    .dataframe thead th {\n",
       "        text-align: right;\n",
       "    }\n",
       "</style>\n",
       "<table border=\"1\" class=\"dataframe\">\n",
       "  <thead>\n",
       "    <tr style=\"text-align: right;\">\n",
       "      <th></th>\n",
       "      <th>variant_id</th>\n",
       "      <th>effect_allele</th>\n",
       "      <th>other_allele</th>\n",
       "      <th>effect_allele_frequency</th>\n",
       "      <th>effect_allele_frequency_cases</th>\n",
       "      <th>effect_allele_frequency_controls</th>\n",
       "      <th>beta</th>\n",
       "      <th>standard_error</th>\n",
       "      <th>p_value</th>\n",
       "    </tr>\n",
       "  </thead>\n",
       "  <tbody>\n",
       "    <tr>\n",
       "      <th>9</th>\n",
       "      <td>rs61769340</td>\n",
       "      <td>G</td>\n",
       "      <td>C</td>\n",
       "      <td>0.132900</td>\n",
       "      <td>0.144688</td>\n",
       "      <td>0.132293</td>\n",
       "      <td>0.1063</td>\n",
       "      <td>0.0522</td>\n",
       "      <td>0.041610</td>\n",
       "    </tr>\n",
       "    <tr>\n",
       "      <th>52</th>\n",
       "      <td>rs116030099</td>\n",
       "      <td>C</td>\n",
       "      <td>T</td>\n",
       "      <td>0.079988</td>\n",
       "      <td>0.063801</td>\n",
       "      <td>0.080822</td>\n",
       "      <td>-0.1757</td>\n",
       "      <td>0.0736</td>\n",
       "      <td>0.017020</td>\n",
       "    </tr>\n",
       "    <tr>\n",
       "      <th>59</th>\n",
       "      <td>rs148120343</td>\n",
       "      <td>C</td>\n",
       "      <td>T</td>\n",
       "      <td>0.044400</td>\n",
       "      <td>0.036839</td>\n",
       "      <td>0.044790</td>\n",
       "      <td>0.1894</td>\n",
       "      <td>0.0966</td>\n",
       "      <td>0.049970</td>\n",
       "    </tr>\n",
       "    <tr>\n",
       "      <th>76</th>\n",
       "      <td>rs79010578</td>\n",
       "      <td>A</td>\n",
       "      <td>T</td>\n",
       "      <td>0.095547</td>\n",
       "      <td>0.084357</td>\n",
       "      <td>0.096123</td>\n",
       "      <td>0.1344</td>\n",
       "      <td>0.0653</td>\n",
       "      <td>0.039550</td>\n",
       "    </tr>\n",
       "    <tr>\n",
       "      <th>117</th>\n",
       "      <td>rs61768170</td>\n",
       "      <td>C</td>\n",
       "      <td>G</td>\n",
       "      <td>0.105143</td>\n",
       "      <td>0.102776</td>\n",
       "      <td>0.105265</td>\n",
       "      <td>0.1569</td>\n",
       "      <td>0.0602</td>\n",
       "      <td>0.009184</td>\n",
       "    </tr>\n",
       "  </tbody>\n",
       "</table>\n",
       "</div>"
      ],
      "text/plain": [
       "      variant_id effect_allele other_allele  effect_allele_frequency  \\\n",
       "9     rs61769340             G            C                 0.132900   \n",
       "52   rs116030099             C            T                 0.079988   \n",
       "59   rs148120343             C            T                 0.044400   \n",
       "76    rs79010578             A            T                 0.095547   \n",
       "117   rs61768170             C            G                 0.105143   \n",
       "\n",
       "     effect_allele_frequency_cases  effect_allele_frequency_controls    beta  \\\n",
       "9                         0.144688                          0.132293  0.1063   \n",
       "52                        0.063801                          0.080822 -0.1757   \n",
       "59                        0.036839                          0.044790  0.1894   \n",
       "76                        0.084357                          0.096123  0.1344   \n",
       "117                       0.102776                          0.105265  0.1569   \n",
       "\n",
       "     standard_error   p_value  \n",
       "9            0.0522  0.041610  \n",
       "52           0.0736  0.017020  \n",
       "59           0.0966  0.049970  \n",
       "76           0.0653  0.039550  \n",
       "117          0.0602  0.009184  "
      ]
     },
     "execution_count": 92,
     "metadata": {},
     "output_type": "execute_result"
    }
   ],
   "source": [
    "myasthenia.head()"
   ]
  },
  {
   "cell_type": "code",
   "execution_count": 88,
   "id": "9fd8bf18",
   "metadata": {},
   "outputs": [],
   "source": [
    "m = pd.read_csv('myasthenia_fuma.tsv', nrows=20)"
   ]
  },
  {
   "cell_type": "code",
   "execution_count": 89,
   "id": "75a56991",
   "metadata": {},
   "outputs": [
    {
     "data": {
      "text/html": [
       "<div>\n",
       "<style scoped>\n",
       "    .dataframe tbody tr th:only-of-type {\n",
       "        vertical-align: middle;\n",
       "    }\n",
       "\n",
       "    .dataframe tbody tr th {\n",
       "        vertical-align: top;\n",
       "    }\n",
       "\n",
       "    .dataframe thead th {\n",
       "        text-align: right;\n",
       "    }\n",
       "</style>\n",
       "<table border=\"1\" class=\"dataframe\">\n",
       "  <thead>\n",
       "    <tr style=\"text-align: right;\">\n",
       "      <th></th>\n",
       "      <th>variant_id\\teffect_allele\\tother_allele\\teffect_allele_frequency\\teffect_allele_frequency_cases\\teffect_allele_frequency_controls\\tbeta\\tstandard_error\\tp_value</th>\n",
       "    </tr>\n",
       "  </thead>\n",
       "  <tbody>\n",
       "    <tr>\n",
       "      <th>0</th>\n",
       "      <td>rs61769340\\tG\\tC\\t0.132900138587454\\t0.1446876...</td>\n",
       "    </tr>\n",
       "    <tr>\n",
       "      <th>1</th>\n",
       "      <td>rs116030099\\tC\\tT\\t0.0799884946264676\\t0.06380...</td>\n",
       "    </tr>\n",
       "    <tr>\n",
       "      <th>2</th>\n",
       "      <td>rs148120343\\tC\\tT\\t0.0444002824046231\\t0.03683...</td>\n",
       "    </tr>\n",
       "    <tr>\n",
       "      <th>3</th>\n",
       "      <td>rs79010578\\tA\\tT\\t0.0955468974714327\\t0.084356...</td>\n",
       "    </tr>\n",
       "    <tr>\n",
       "      <th>4</th>\n",
       "      <td>rs61768170\\tC\\tG\\t0.105143424940512\\t0.1027762...</td>\n",
       "    </tr>\n",
       "  </tbody>\n",
       "</table>\n",
       "</div>"
      ],
      "text/plain": [
       "  variant_id\\teffect_allele\\tother_allele\\teffect_allele_frequency\\teffect_allele_frequency_cases\\teffect_allele_frequency_controls\\tbeta\\tstandard_error\\tp_value\n",
       "0  rs61769340\\tG\\tC\\t0.132900138587454\\t0.1446876...                                                                                                              \n",
       "1  rs116030099\\tC\\tT\\t0.0799884946264676\\t0.06380...                                                                                                              \n",
       "2  rs148120343\\tC\\tT\\t0.0444002824046231\\t0.03683...                                                                                                              \n",
       "3  rs79010578\\tA\\tT\\t0.0955468974714327\\t0.084356...                                                                                                              \n",
       "4  rs61768170\\tC\\tG\\t0.105143424940512\\t0.1027762...                                                                                                              "
      ]
     },
     "execution_count": 89,
     "metadata": {},
     "output_type": "execute_result"
    }
   ],
   "source": [
    "m.head()"
   ]
  },
  {
   "cell_type": "code",
   "execution_count": null,
   "id": "f3590c8b",
   "metadata": {},
   "outputs": [],
   "source": [
    "gd['end_position'] = gd['base_pair_location'] +1\n",
    "gd = gd[['chromosome', 'base_pair_location', 'end_position','rs_id']]"
   ]
  },
  {
   "cell_type": "code",
   "execution_count": null,
   "id": "73551476",
   "metadata": {},
   "outputs": [],
   "source": [
    "gd.to_csv('gdm_to_liftover.tsv', sep='\\t', index=False)"
   ]
  },
  {
   "cell_type": "code",
   "execution_count": null,
   "id": "cda63385",
   "metadata": {},
   "outputs": [],
   "source": [
    "preeclampsia = pd.read_csv('preeclampsia_updated2.tsv',sep='\\t', nrows=50)"
   ]
  },
  {
   "cell_type": "code",
   "execution_count": null,
   "id": "8c5196eb",
   "metadata": {},
   "outputs": [],
   "source": [
    "preeclampsia.head()\n"
   ]
  },
  {
   "cell_type": "code",
   "execution_count": 40,
   "id": "3c03a22f",
   "metadata": {},
   "outputs": [],
   "source": [
    "pcos = pd.read_csv('PCOS_summary_data_19092018.txt', sep='\\t')"
   ]
  },
  {
   "cell_type": "code",
   "execution_count": 43,
   "id": "475c25a7",
   "metadata": {},
   "outputs": [
    {
     "data": {
      "text/html": [
       "<div>\n",
       "<style scoped>\n",
       "    .dataframe tbody tr th:only-of-type {\n",
       "        vertical-align: middle;\n",
       "    }\n",
       "\n",
       "    .dataframe tbody tr th {\n",
       "        vertical-align: top;\n",
       "    }\n",
       "\n",
       "    .dataframe thead th {\n",
       "        text-align: right;\n",
       "    }\n",
       "</style>\n",
       "<table border=\"1\" class=\"dataframe\">\n",
       "  <thead>\n",
       "    <tr style=\"text-align: right;\">\n",
       "      <th></th>\n",
       "      <th>MarkerName</th>\n",
       "      <th>Effect_allele</th>\n",
       "      <th>Other_allele</th>\n",
       "      <th>EAF</th>\n",
       "      <th>Effect</th>\n",
       "      <th>StdErr</th>\n",
       "      <th>Pvalue</th>\n",
       "      <th>TotalSampleSize</th>\n",
       "      <th>chr</th>\n",
       "      <th>pos</th>\n",
       "    </tr>\n",
       "  </thead>\n",
       "  <tbody>\n",
       "    <tr>\n",
       "      <th>0</th>\n",
       "      <td>X:2846021</td>\n",
       "      <td>a</td>\n",
       "      <td>g</td>\n",
       "      <td>0.076</td>\n",
       "      <td>0.54</td>\n",
       "      <td>0.094</td>\n",
       "      <td>8.400000e-09</td>\n",
       "      <td>14463.9</td>\n",
       "      <td>X</td>\n",
       "      <td>2846021</td>\n",
       "    </tr>\n",
       "    <tr>\n",
       "      <th>1</th>\n",
       "      <td>8:11624416</td>\n",
       "      <td>c</td>\n",
       "      <td>g</td>\n",
       "      <td>0.740</td>\n",
       "      <td>-0.20</td>\n",
       "      <td>0.037</td>\n",
       "      <td>5.300000e-08</td>\n",
       "      <td>19916.0</td>\n",
       "      <td>8</td>\n",
       "      <td>11624416</td>\n",
       "    </tr>\n",
       "    <tr>\n",
       "      <th>2</th>\n",
       "      <td>8:11623889</td>\n",
       "      <td>a</td>\n",
       "      <td>t</td>\n",
       "      <td>0.280</td>\n",
       "      <td>0.19</td>\n",
       "      <td>0.036</td>\n",
       "      <td>6.300000e-08</td>\n",
       "      <td>19916.0</td>\n",
       "      <td>8</td>\n",
       "      <td>11623889</td>\n",
       "    </tr>\n",
       "    <tr>\n",
       "      <th>3</th>\n",
       "      <td>5:43618391</td>\n",
       "      <td>t</td>\n",
       "      <td>g</td>\n",
       "      <td>0.980</td>\n",
       "      <td>-0.76</td>\n",
       "      <td>0.140</td>\n",
       "      <td>9.800000e-08</td>\n",
       "      <td>17428.0</td>\n",
       "      <td>5</td>\n",
       "      <td>43618391</td>\n",
       "    </tr>\n",
       "    <tr>\n",
       "      <th>4</th>\n",
       "      <td>8:11620461</td>\n",
       "      <td>a</td>\n",
       "      <td>g</td>\n",
       "      <td>0.270</td>\n",
       "      <td>0.19</td>\n",
       "      <td>0.036</td>\n",
       "      <td>1.500000e-07</td>\n",
       "      <td>19916.0</td>\n",
       "      <td>8</td>\n",
       "      <td>11620461</td>\n",
       "    </tr>\n",
       "  </tbody>\n",
       "</table>\n",
       "</div>"
      ],
      "text/plain": [
       "   MarkerName Effect_allele Other_allele    EAF  Effect  StdErr        Pvalue  \\\n",
       "0   X:2846021             a            g  0.076    0.54   0.094  8.400000e-09   \n",
       "1  8:11624416             c            g  0.740   -0.20   0.037  5.300000e-08   \n",
       "2  8:11623889             a            t  0.280    0.19   0.036  6.300000e-08   \n",
       "3  5:43618391             t            g  0.980   -0.76   0.140  9.800000e-08   \n",
       "4  8:11620461             a            g  0.270    0.19   0.036  1.500000e-07   \n",
       "\n",
       "   TotalSampleSize chr       pos  \n",
       "0          14463.9   X   2846021  \n",
       "1          19916.0   8  11624416  \n",
       "2          19916.0   8  11623889  \n",
       "3          17428.0   5  43618391  \n",
       "4          19916.0   8  11620461  "
      ]
     },
     "execution_count": 43,
     "metadata": {},
     "output_type": "execute_result"
    }
   ],
   "source": [
    "pcos.head()\n"
   ]
  },
  {
   "cell_type": "code",
   "execution_count": 42,
   "id": "22ceb0b6",
   "metadata": {},
   "outputs": [],
   "source": [
    "pcos['MarkerName'] = pcos['MarkerName'].str.replace(':ID', '')\n",
    "pcos[['chr', 'pos']] = pcos['MarkerName'].str.split(':', n=1, expand=True)"
   ]
  },
  {
   "cell_type": "code",
   "execution_count": 51,
   "id": "33e92a91",
   "metadata": {},
   "outputs": [
    {
     "data": {
      "text/html": [
       "<div>\n",
       "<style scoped>\n",
       "    .dataframe tbody tr th:only-of-type {\n",
       "        vertical-align: middle;\n",
       "    }\n",
       "\n",
       "    .dataframe tbody tr th {\n",
       "        vertical-align: top;\n",
       "    }\n",
       "\n",
       "    .dataframe thead th {\n",
       "        text-align: right;\n",
       "    }\n",
       "</style>\n",
       "<table border=\"1\" class=\"dataframe\">\n",
       "  <thead>\n",
       "    <tr style=\"text-align: right;\">\n",
       "      <th></th>\n",
       "      <th>chr</th>\n",
       "      <th>pos</th>\n",
       "      <th>Pvalue</th>\n",
       "      <th>TotalSampleSize</th>\n",
       "    </tr>\n",
       "  </thead>\n",
       "  <tbody>\n",
       "    <tr>\n",
       "      <th>0</th>\n",
       "      <td>X</td>\n",
       "      <td>2846021</td>\n",
       "      <td>8.400000e-09</td>\n",
       "      <td>14463.9</td>\n",
       "    </tr>\n",
       "    <tr>\n",
       "      <th>1</th>\n",
       "      <td>8</td>\n",
       "      <td>11624416</td>\n",
       "      <td>5.300000e-08</td>\n",
       "      <td>19916.0</td>\n",
       "    </tr>\n",
       "    <tr>\n",
       "      <th>2</th>\n",
       "      <td>8</td>\n",
       "      <td>11623889</td>\n",
       "      <td>6.300000e-08</td>\n",
       "      <td>19916.0</td>\n",
       "    </tr>\n",
       "    <tr>\n",
       "      <th>3</th>\n",
       "      <td>5</td>\n",
       "      <td>43618391</td>\n",
       "      <td>9.800000e-08</td>\n",
       "      <td>17428.0</td>\n",
       "    </tr>\n",
       "    <tr>\n",
       "      <th>4</th>\n",
       "      <td>8</td>\n",
       "      <td>11620461</td>\n",
       "      <td>1.500000e-07</td>\n",
       "      <td>19916.0</td>\n",
       "    </tr>\n",
       "  </tbody>\n",
       "</table>\n",
       "</div>"
      ],
      "text/plain": [
       "  chr       pos        Pvalue  TotalSampleSize\n",
       "0   X   2846021  8.400000e-09          14463.9\n",
       "1   8  11624416  5.300000e-08          19916.0\n",
       "2   8  11623889  6.300000e-08          19916.0\n",
       "3   5  43618391  9.800000e-08          17428.0\n",
       "4   8  11620461  1.500000e-07          19916.0"
      ]
     },
     "execution_count": 51,
     "metadata": {},
     "output_type": "execute_result"
    }
   ],
   "source": [
    "pcos=pcos[['chr','pos','Pvalue','TotalSampleSize']]\n",
    "pcos.head()"
   ]
  },
  {
   "cell_type": "code",
   "execution_count": 45,
   "id": "6cfafba9",
   "metadata": {},
   "outputs": [],
   "source": [
    "pcos.to_csv('pcos_again_subset.tsv', sep='\\t',index=False)"
   ]
  },
  {
   "cell_type": "code",
   "execution_count": 59,
   "id": "0186e90c",
   "metadata": {},
   "outputs": [],
   "source": [
    "preterm_birth = pd.read_csv('preterm_birth_updated4.tsv',sep='\\t')\n",
    "preterm_birth = preterm_birth.drop(columns=['chr','pos'])"
   ]
  },
  {
   "cell_type": "code",
   "execution_count": 86,
   "id": "e5009e3a",
   "metadata": {},
   "outputs": [
    {
     "data": {
      "text/html": [
       "<div>\n",
       "<style scoped>\n",
       "    .dataframe tbody tr th:only-of-type {\n",
       "        vertical-align: middle;\n",
       "    }\n",
       "\n",
       "    .dataframe tbody tr th {\n",
       "        vertical-align: top;\n",
       "    }\n",
       "\n",
       "    .dataframe thead th {\n",
       "        text-align: right;\n",
       "    }\n",
       "</style>\n",
       "<table border=\"1\" class=\"dataframe\">\n",
       "  <thead>\n",
       "    <tr style=\"text-align: right;\">\n",
       "      <th></th>\n",
       "      <th>ID</th>\n",
       "      <th>effect_allele</th>\n",
       "      <th>other_allele</th>\n",
       "      <th>beta</th>\n",
       "      <th>standard_error</th>\n",
       "      <th>effect_allele_frequency</th>\n",
       "      <th>p_value</th>\n",
       "    </tr>\n",
       "  </thead>\n",
       "  <tbody>\n",
       "    <tr>\n",
       "      <th>0</th>\n",
       "      <td>rs562172865</td>\n",
       "      <td>T</td>\n",
       "      <td>C</td>\n",
       "      <td>-0.2526</td>\n",
       "      <td>0.2216</td>\n",
       "      <td>0.002903</td>\n",
       "      <td>0.25450</td>\n",
       "    </tr>\n",
       "    <tr>\n",
       "      <th>1</th>\n",
       "      <td>rs564223368</td>\n",
       "      <td>T</td>\n",
       "      <td>C</td>\n",
       "      <td>-0.0456</td>\n",
       "      <td>0.2089</td>\n",
       "      <td>0.003526</td>\n",
       "      <td>0.82720</td>\n",
       "    </tr>\n",
       "    <tr>\n",
       "      <th>2</th>\n",
       "      <td>rs577189614</td>\n",
       "      <td>A</td>\n",
       "      <td>G</td>\n",
       "      <td>-0.2871</td>\n",
       "      <td>0.2601</td>\n",
       "      <td>0.002159</td>\n",
       "      <td>0.26980</td>\n",
       "    </tr>\n",
       "    <tr>\n",
       "      <th>3</th>\n",
       "      <td>rs77357188</td>\n",
       "      <td>T</td>\n",
       "      <td>C</td>\n",
       "      <td>-0.1468</td>\n",
       "      <td>0.0852</td>\n",
       "      <td>0.022210</td>\n",
       "      <td>0.08471</td>\n",
       "    </tr>\n",
       "    <tr>\n",
       "      <th>4</th>\n",
       "      <td>rs374132538</td>\n",
       "      <td>A</td>\n",
       "      <td>G</td>\n",
       "      <td>-0.0895</td>\n",
       "      <td>0.3299</td>\n",
       "      <td>0.001450</td>\n",
       "      <td>0.78610</td>\n",
       "    </tr>\n",
       "  </tbody>\n",
       "</table>\n",
       "</div>"
      ],
      "text/plain": [
       "            ID effect_allele other_allele    beta  standard_error  \\\n",
       "0  rs562172865             T            C -0.2526          0.2216   \n",
       "1  rs564223368             T            C -0.0456          0.2089   \n",
       "2  rs577189614             A            G -0.2871          0.2601   \n",
       "3   rs77357188             T            C -0.1468          0.0852   \n",
       "4  rs374132538             A            G -0.0895          0.3299   \n",
       "\n",
       "   effect_allele_frequency  p_value  \n",
       "0                 0.002903  0.25450  \n",
       "1                 0.003526  0.82720  \n",
       "2                 0.002159  0.26980  \n",
       "3                 0.022210  0.08471  \n",
       "4                 0.001450  0.78610  "
      ]
     },
     "execution_count": 86,
     "metadata": {},
     "output_type": "execute_result"
    }
   ],
   "source": [
    "preterm_birth.head()"
   ]
  },
  {
   "cell_type": "code",
   "execution_count": 85,
   "id": "dbd413a0",
   "metadata": {},
   "outputs": [],
   "source": [
    "preterm_birth=preterm_birth[['ID','effect_allele','other_allele','beta','standard_error','effect_allele_frequency','p_value']]"
   ]
  },
  {
   "cell_type": "code",
   "execution_count": 87,
   "id": "986ed06a",
   "metadata": {},
   "outputs": [],
   "source": [
    "preterm_birth.to_csv('pretermbirth_FUMA.tsv', sep='\\t', index=False)"
   ]
  },
  {
   "cell_type": "code",
   "execution_count": null,
   "id": "bd1d4316",
   "metadata": {},
   "outputs": [],
   "source": [
    "preterm_birth['end_position'] = preterm_birth['base_pair_location'] +1\n",
    "preterm_birth = preterm_birth[['chromosome', 'base_pair_location', 'end_position', 'p_value']]"
   ]
  },
  {
   "cell_type": "code",
   "execution_count": null,
   "id": "2b8a2f9b",
   "metadata": {},
   "outputs": [],
   "source": [
    "preterm_birth.to_csv('preterm_birth_to_liftover.tsv', sep='\\t', index=False)"
   ]
  },
  {
   "cell_type": "code",
   "execution_count": null,
   "id": "cd3362330cf66733",
   "metadata": {
    "collapsed": false
   },
   "outputs": [],
   "source": [
    "df = pd.read_csv('thyroid_disease.tsv', sep='\\t', nrows=50)\n",
    "df.head()"
   ]
  },
  {
   "cell_type": "code",
   "execution_count": 7,
   "id": "772158a9",
   "metadata": {},
   "outputs": [
    {
     "data": {
      "text/html": [
       "<div>\n",
       "<style scoped>\n",
       "    .dataframe tbody tr th:only-of-type {\n",
       "        vertical-align: middle;\n",
       "    }\n",
       "\n",
       "    .dataframe tbody tr th {\n",
       "        vertical-align: top;\n",
       "    }\n",
       "\n",
       "    .dataframe thead th {\n",
       "        text-align: right;\n",
       "    }\n",
       "</style>\n",
       "<table border=\"1\" class=\"dataframe\">\n",
       "  <thead>\n",
       "    <tr style=\"text-align: right;\">\n",
       "      <th></th>\n",
       "      <th>ID</th>\n",
       "      <th>Allele1</th>\n",
       "      <th>Allele2</th>\n",
       "      <th>Freq1</th>\n",
       "      <th>FreqSE</th>\n",
       "      <th>MinFreq</th>\n",
       "      <th>MaxFreq</th>\n",
       "      <th>Effect</th>\n",
       "      <th>StdErr</th>\n",
       "      <th>P-value</th>\n",
       "      <th>Direction</th>\n",
       "    </tr>\n",
       "  </thead>\n",
       "  <tbody>\n",
       "    <tr>\n",
       "      <th>0</th>\n",
       "      <td>rs147860603</td>\n",
       "      <td>t</td>\n",
       "      <td>c</td>\n",
       "      <td>0.9964</td>\n",
       "      <td>0.0029</td>\n",
       "      <td>0.9923</td>\n",
       "      <td>0.9992</td>\n",
       "      <td>-0.558838</td>\n",
       "      <td>0.232649</td>\n",
       "      <td>0.016300</td>\n",
       "      <td>---??+?</td>\n",
       "    </tr>\n",
       "    <tr>\n",
       "      <th>1</th>\n",
       "      <td>rs566060298</td>\n",
       "      <td>t</td>\n",
       "      <td>c</td>\n",
       "      <td>0.0005</td>\n",
       "      <td>0.0000</td>\n",
       "      <td>0.0005</td>\n",
       "      <td>0.0005</td>\n",
       "      <td>0.930210</td>\n",
       "      <td>0.465176</td>\n",
       "      <td>0.045530</td>\n",
       "      <td>+??????</td>\n",
       "    </tr>\n",
       "    <tr>\n",
       "      <th>2</th>\n",
       "      <td>rs77551345</td>\n",
       "      <td>t</td>\n",
       "      <td>c</td>\n",
       "      <td>0.0026</td>\n",
       "      <td>0.0007</td>\n",
       "      <td>0.0021</td>\n",
       "      <td>0.0039</td>\n",
       "      <td>0.726052</td>\n",
       "      <td>0.279086</td>\n",
       "      <td>0.009281</td>\n",
       "      <td>?++??+?</td>\n",
       "    </tr>\n",
       "    <tr>\n",
       "      <th>3</th>\n",
       "      <td>rs114172595</td>\n",
       "      <td>t</td>\n",
       "      <td>c</td>\n",
       "      <td>0.9937</td>\n",
       "      <td>0.0000</td>\n",
       "      <td>0.9937</td>\n",
       "      <td>0.9937</td>\n",
       "      <td>1.443220</td>\n",
       "      <td>0.619691</td>\n",
       "      <td>0.019860</td>\n",
       "      <td>??+????</td>\n",
       "    </tr>\n",
       "    <tr>\n",
       "      <th>4</th>\n",
       "      <td>rs773356907</td>\n",
       "      <td>a</td>\n",
       "      <td>g</td>\n",
       "      <td>0.9989</td>\n",
       "      <td>0.0000</td>\n",
       "      <td>0.9989</td>\n",
       "      <td>0.9989</td>\n",
       "      <td>-3.351900</td>\n",
       "      <td>1.539540</td>\n",
       "      <td>0.029460</td>\n",
       "      <td>?????-?</td>\n",
       "    </tr>\n",
       "  </tbody>\n",
       "</table>\n",
       "</div>"
      ],
      "text/plain": [
       "            ID Allele1 Allele2   Freq1  FreqSE  MinFreq  MaxFreq    Effect  \\\n",
       "0  rs147860603       t       c  0.9964  0.0029   0.9923   0.9992 -0.558838   \n",
       "1  rs566060298       t       c  0.0005  0.0000   0.0005   0.0005  0.930210   \n",
       "2   rs77551345       t       c  0.0026  0.0007   0.0021   0.0039  0.726052   \n",
       "3  rs114172595       t       c  0.9937  0.0000   0.9937   0.9937  1.443220   \n",
       "4  rs773356907       a       g  0.9989  0.0000   0.9989   0.9989 -3.351900   \n",
       "\n",
       "     StdErr   P-value Direction  \n",
       "0  0.232649  0.016300   ---??+?  \n",
       "1  0.465176  0.045530   +??????  \n",
       "2  0.279086  0.009281   ?++??+?  \n",
       "3  0.619691  0.019860   ??+????  \n",
       "4  1.539540  0.029460   ?????-?  "
      ]
     },
     "execution_count": 7,
     "metadata": {},
     "output_type": "execute_result"
    }
   ],
   "source": [
    "gh = pd.read_csv('gh_filtered.tsv', sep='\\t', nrows= 20)\n",
    "\n",
    "gh.head()"
   ]
  },
  {
   "cell_type": "code",
   "execution_count": 25,
   "id": "add38e54",
   "metadata": {},
   "outputs": [
    {
     "name": "stdout",
     "output_type": "stream",
     "text": [
      "['rs147860603', 'rs566060298', 'rs77551345', 'rs114172595', 'rs773356907', 'rs28701878', 'rs74117634', 'rs568315377', 'rs7742034', 'rs187042449', 'rs147502650', 'rs562007113', 'rs779957430', 'rs763796344', 'rs577647138', 'rs150243469', 'rs2225969', 'rs140360515', 'rs28507299', 'rs79166445']\n"
     ]
    }
   ],
   "source": [
    "ghid = gh['ID'].tolist()\n",
    "print(ghid)"
   ]
  },
  {
   "cell_type": "code",
   "execution_count": 36,
   "id": "00d97432",
   "metadata": {},
   "outputs": [
    {
     "data": {
      "text/html": [
       "<div>\n",
       "<style scoped>\n",
       "    .dataframe tbody tr th:only-of-type {\n",
       "        vertical-align: middle;\n",
       "    }\n",
       "\n",
       "    .dataframe tbody tr th {\n",
       "        vertical-align: top;\n",
       "    }\n",
       "\n",
       "    .dataframe thead th {\n",
       "        text-align: right;\n",
       "    }\n",
       "</style>\n",
       "<table border=\"1\" class=\"dataframe\">\n",
       "  <thead>\n",
       "    <tr style=\"text-align: right;\">\n",
       "      <th></th>\n",
       "      <th>ID</th>\n",
       "      <th>Allele1</th>\n",
       "      <th>Allele2</th>\n",
       "      <th>Freq1</th>\n",
       "      <th>FreqSE</th>\n",
       "      <th>MinFreq</th>\n",
       "      <th>MaxFreq</th>\n",
       "      <th>Effect</th>\n",
       "      <th>StdErr</th>\n",
       "      <th>P-value</th>\n",
       "      <th>Direction</th>\n",
       "    </tr>\n",
       "  </thead>\n",
       "  <tbody>\n",
       "    <tr>\n",
       "      <th>0</th>\n",
       "      <td>rs557514899</td>\n",
       "      <td>a</td>\n",
       "      <td>g</td>\n",
       "      <td>0.0002</td>\n",
       "      <td>0.000</td>\n",
       "      <td>0.0002</td>\n",
       "      <td>0.0002</td>\n",
       "      <td>5.888305</td>\n",
       "      <td>2.995980</td>\n",
       "      <td>0.049370</td>\n",
       "      <td>?+????????</td>\n",
       "    </tr>\n",
       "    <tr>\n",
       "      <th>1</th>\n",
       "      <td>rs140137769</td>\n",
       "      <td>c</td>\n",
       "      <td>g</td>\n",
       "      <td>0.9981</td>\n",
       "      <td>0.000</td>\n",
       "      <td>0.9981</td>\n",
       "      <td>0.9981</td>\n",
       "      <td>-1.778430</td>\n",
       "      <td>0.888355</td>\n",
       "      <td>0.045290</td>\n",
       "      <td>???-??????</td>\n",
       "    </tr>\n",
       "    <tr>\n",
       "      <th>2</th>\n",
       "      <td>rs770575481</td>\n",
       "      <td>a</td>\n",
       "      <td>g</td>\n",
       "      <td>0.9997</td>\n",
       "      <td>0.000</td>\n",
       "      <td>0.9996</td>\n",
       "      <td>0.9997</td>\n",
       "      <td>-1.556428</td>\n",
       "      <td>0.525626</td>\n",
       "      <td>0.003065</td>\n",
       "      <td>-???-??-??</td>\n",
       "    </tr>\n",
       "    <tr>\n",
       "      <th>3</th>\n",
       "      <td>rs572102127</td>\n",
       "      <td>t</td>\n",
       "      <td>c</td>\n",
       "      <td>0.0033</td>\n",
       "      <td>0.001</td>\n",
       "      <td>0.0013</td>\n",
       "      <td>0.0040</td>\n",
       "      <td>-0.539586</td>\n",
       "      <td>0.269648</td>\n",
       "      <td>0.045380</td>\n",
       "      <td>?-??-??--?</td>\n",
       "    </tr>\n",
       "    <tr>\n",
       "      <th>4</th>\n",
       "      <td>rs545642907</td>\n",
       "      <td>g</td>\n",
       "      <td>ga</td>\n",
       "      <td>0.9999</td>\n",
       "      <td>0.000</td>\n",
       "      <td>0.9999</td>\n",
       "      <td>0.9999</td>\n",
       "      <td>-20.657499</td>\n",
       "      <td>8.445032</td>\n",
       "      <td>0.014440</td>\n",
       "      <td>????-?????</td>\n",
       "    </tr>\n",
       "  </tbody>\n",
       "</table>\n",
       "</div>"
      ],
      "text/plain": [
       "            ID Allele1 Allele2   Freq1  FreqSE  MinFreq  MaxFreq     Effect  \\\n",
       "0  rs557514899       a       g  0.0002   0.000   0.0002   0.0002   5.888305   \n",
       "1  rs140137769       c       g  0.9981   0.000   0.9981   0.9981  -1.778430   \n",
       "2  rs770575481       a       g  0.9997   0.000   0.9996   0.9997  -1.556428   \n",
       "3  rs572102127       t       c  0.0033   0.001   0.0013   0.0040  -0.539586   \n",
       "4  rs545642907       g      ga  0.9999   0.000   0.9999   0.9999 -20.657499   \n",
       "\n",
       "     StdErr   P-value   Direction  \n",
       "0  2.995980  0.049370  ?+????????  \n",
       "1  0.888355  0.045290  ???-??????  \n",
       "2  0.525626  0.003065  -???-??-??  \n",
       "3  0.269648  0.045380  ?-??-??--?  \n",
       "4  8.445032  0.014440  ????-?????  "
      ]
     },
     "execution_count": 36,
     "metadata": {},
     "output_type": "execute_result"
    }
   ],
   "source": [
    "preec = pd.read_csv('preeclampsia_filtered.tsv', sep='\\t')\n",
    "preec.head()\n"
   ]
  },
  {
   "cell_type": "code",
   "execution_count": 49,
   "id": "20ef68cb",
   "metadata": {},
   "outputs": [
    {
     "data": {
      "text/html": [
       "<div>\n",
       "<style scoped>\n",
       "    .dataframe tbody tr th:only-of-type {\n",
       "        vertical-align: middle;\n",
       "    }\n",
       "\n",
       "    .dataframe tbody tr th {\n",
       "        vertical-align: top;\n",
       "    }\n",
       "\n",
       "    .dataframe thead th {\n",
       "        text-align: right;\n",
       "    }\n",
       "</style>\n",
       "<table border=\"1\" class=\"dataframe\">\n",
       "  <thead>\n",
       "    <tr style=\"text-align: right;\">\n",
       "      <th></th>\n",
       "      <th>ID</th>\n",
       "      <th>P-value</th>\n",
       "    </tr>\n",
       "  </thead>\n",
       "  <tbody>\n",
       "    <tr>\n",
       "      <th>0</th>\n",
       "      <td>rs557514899</td>\n",
       "      <td>0.049370</td>\n",
       "    </tr>\n",
       "    <tr>\n",
       "      <th>1</th>\n",
       "      <td>rs140137769</td>\n",
       "      <td>0.045290</td>\n",
       "    </tr>\n",
       "    <tr>\n",
       "      <th>2</th>\n",
       "      <td>rs770575481</td>\n",
       "      <td>0.003065</td>\n",
       "    </tr>\n",
       "    <tr>\n",
       "      <th>3</th>\n",
       "      <td>rs572102127</td>\n",
       "      <td>0.045380</td>\n",
       "    </tr>\n",
       "    <tr>\n",
       "      <th>4</th>\n",
       "      <td>rs545642907</td>\n",
       "      <td>0.014440</td>\n",
       "    </tr>\n",
       "  </tbody>\n",
       "</table>\n",
       "</div>"
      ],
      "text/plain": [
       "            ID   P-value\n",
       "0  rs557514899  0.049370\n",
       "1  rs140137769  0.045290\n",
       "2  rs770575481  0.003065\n",
       "3  rs572102127  0.045380\n",
       "4  rs545642907  0.014440"
      ]
     },
     "execution_count": 49,
     "metadata": {},
     "output_type": "execute_result"
    }
   ],
   "source": [
    "preec_new = preec[['ID','P-value']]\n",
    "preec_new.head()"
   ]
  },
  {
   "cell_type": "code",
   "execution_count": 50,
   "id": "a51686ad",
   "metadata": {},
   "outputs": [],
   "source": [
    "preec_new.to_csv('preeclampsia_subset.tsv', sep='\\t', index=False)"
   ]
  },
  {
   "cell_type": "code",
   "execution_count": 48,
   "id": "727d63e3",
   "metadata": {},
   "outputs": [
    {
     "name": "stdout",
     "output_type": "stream",
     "text": [
      "All values in the 'ID' column have the right format.\n"
     ]
    }
   ],
   "source": [
    "import pandas as pd\n",
    "\n",
    "# Define the regular expression pattern\n",
    "pattern = r'^rs\\d+$'\n",
    "\n",
    "# Check which rows do not match the pattern\n",
    "mismatched_rows = preec[~preec['ID'].str.match(pattern)]\n",
    "\n",
    "if mismatched_rows.empty:\n",
    "    print(\"All values in the 'ID' column have the right format.\")\n",
    "else:\n",
    "    print(\"Rows with incorrect 'ID' format:\")\n",
    "    print(mismatched_rows)\n"
   ]
  }
 ],
 "metadata": {
  "kernelspec": {
   "display_name": "Python 3 (ipykernel)",
   "language": "python",
   "name": "python3"
  },
  "language_info": {
   "codemirror_mode": {
    "name": "ipython",
    "version": 3
   },
   "file_extension": ".py",
   "mimetype": "text/x-python",
   "name": "python",
   "nbconvert_exporter": "python",
   "pygments_lexer": "ipython3",
   "version": "3.10.13"
  }
 },
 "nbformat": 4,
 "nbformat_minor": 5
}
