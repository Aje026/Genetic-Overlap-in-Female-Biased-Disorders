{
 "cells": [
  {
   "cell_type": "code",
   "execution_count": 140,
   "id": "initial_id",
   "metadata": {
    "collapsed": true,
    "ExecuteTime": {
     "end_time": "2023-10-20T12:47:20.089348500Z",
     "start_time": "2023-10-20T12:47:20.073758300Z"
    }
   },
   "outputs": [],
   "source": [
    "import pandas as pd"
   ]
  },
  {
   "cell_type": "code",
   "execution_count": 183,
   "outputs": [],
   "source": [
    "eqtl_genes = pd.read_csv('eqtl/eqtls.csv', index_col= 0)"
   ],
   "metadata": {
    "collapsed": false,
    "ExecuteTime": {
     "end_time": "2023-10-24T08:20:51.956845500Z",
     "start_time": "2023-10-24T08:20:49.302679100Z"
    }
   },
   "id": "353519e3ff690620"
  },
  {
   "cell_type": "code",
   "execution_count": 184,
   "outputs": [
    {
     "data": {
      "text/plain": "                      uniqID                                 tissue  \\\n0             1:26485291:C:T                      PsychENCODE_eQTLs   \n1             1:26485291:C:T                      PsychENCODE_eQTLs   \n2             1:26485291:C:T                      PsychENCODE_eQTLs   \n3             1:26485291:C:T                      PsychENCODE_eQTLs   \n4             1:26490848:C:T                      PsychENCODE_eQTLs   \n...                      ...                                    ...   \n3107596     12:123699520:A:G  Brain_Nucleus_accumbens_basal_ganglia   \n3107597  12:123703422:A:AGTT  Brain_Nucleus_accumbens_basal_ganglia   \n3107598     12:123704569:C:T  Brain_Nucleus_accumbens_basal_ganglia   \n3107599     12:123901143:C:T  Brain_Nucleus_accumbens_basal_ganglia   \n3107600      22:41488232:C:T  Brain_Nucleus_accumbens_basal_ganglia   \n\n                    gene   symbol  disorder  \n0        ENSG00000142684   ZNF593      adhd  \n1        ENSG00000158022   TRIM63      adhd  \n2        ENSG00000158062   UBXN11      adhd  \n3        ENSG00000197245  FAM110D      adhd  \n4        ENSG00000142684   ZNF593      adhd  \n...                  ...      ...       ...  \n3107596  ENSG00000182196  ARL6IP4  tourette  \n3107597  ENSG00000182196  ARL6IP4  tourette  \n3107598  ENSG00000182196  ARL6IP4  tourette  \n3107599  ENSG00000182196  ARL6IP4  tourette  \n3107600  ENSG00000100395  L3MBTL2  tourette  \n\n[3107601 rows x 5 columns]",
      "text/html": "<div>\n<style scoped>\n    .dataframe tbody tr th:only-of-type {\n        vertical-align: middle;\n    }\n\n    .dataframe tbody tr th {\n        vertical-align: top;\n    }\n\n    .dataframe thead th {\n        text-align: right;\n    }\n</style>\n<table border=\"1\" class=\"dataframe\">\n  <thead>\n    <tr style=\"text-align: right;\">\n      <th></th>\n      <th>uniqID</th>\n      <th>tissue</th>\n      <th>gene</th>\n      <th>symbol</th>\n      <th>disorder</th>\n    </tr>\n  </thead>\n  <tbody>\n    <tr>\n      <th>0</th>\n      <td>1:26485291:C:T</td>\n      <td>PsychENCODE_eQTLs</td>\n      <td>ENSG00000142684</td>\n      <td>ZNF593</td>\n      <td>adhd</td>\n    </tr>\n    <tr>\n      <th>1</th>\n      <td>1:26485291:C:T</td>\n      <td>PsychENCODE_eQTLs</td>\n      <td>ENSG00000158022</td>\n      <td>TRIM63</td>\n      <td>adhd</td>\n    </tr>\n    <tr>\n      <th>2</th>\n      <td>1:26485291:C:T</td>\n      <td>PsychENCODE_eQTLs</td>\n      <td>ENSG00000158062</td>\n      <td>UBXN11</td>\n      <td>adhd</td>\n    </tr>\n    <tr>\n      <th>3</th>\n      <td>1:26485291:C:T</td>\n      <td>PsychENCODE_eQTLs</td>\n      <td>ENSG00000197245</td>\n      <td>FAM110D</td>\n      <td>adhd</td>\n    </tr>\n    <tr>\n      <th>4</th>\n      <td>1:26490848:C:T</td>\n      <td>PsychENCODE_eQTLs</td>\n      <td>ENSG00000142684</td>\n      <td>ZNF593</td>\n      <td>adhd</td>\n    </tr>\n    <tr>\n      <th>...</th>\n      <td>...</td>\n      <td>...</td>\n      <td>...</td>\n      <td>...</td>\n      <td>...</td>\n    </tr>\n    <tr>\n      <th>3107596</th>\n      <td>12:123699520:A:G</td>\n      <td>Brain_Nucleus_accumbens_basal_ganglia</td>\n      <td>ENSG00000182196</td>\n      <td>ARL6IP4</td>\n      <td>tourette</td>\n    </tr>\n    <tr>\n      <th>3107597</th>\n      <td>12:123703422:A:AGTT</td>\n      <td>Brain_Nucleus_accumbens_basal_ganglia</td>\n      <td>ENSG00000182196</td>\n      <td>ARL6IP4</td>\n      <td>tourette</td>\n    </tr>\n    <tr>\n      <th>3107598</th>\n      <td>12:123704569:C:T</td>\n      <td>Brain_Nucleus_accumbens_basal_ganglia</td>\n      <td>ENSG00000182196</td>\n      <td>ARL6IP4</td>\n      <td>tourette</td>\n    </tr>\n    <tr>\n      <th>3107599</th>\n      <td>12:123901143:C:T</td>\n      <td>Brain_Nucleus_accumbens_basal_ganglia</td>\n      <td>ENSG00000182196</td>\n      <td>ARL6IP4</td>\n      <td>tourette</td>\n    </tr>\n    <tr>\n      <th>3107600</th>\n      <td>22:41488232:C:T</td>\n      <td>Brain_Nucleus_accumbens_basal_ganglia</td>\n      <td>ENSG00000100395</td>\n      <td>L3MBTL2</td>\n      <td>tourette</td>\n    </tr>\n  </tbody>\n</table>\n<p>3107601 rows × 5 columns</p>\n</div>"
     },
     "execution_count": 184,
     "metadata": {},
     "output_type": "execute_result"
    }
   ],
   "source": [
    "eqtl_genes"
   ],
   "metadata": {
    "collapsed": false,
    "ExecuteTime": {
     "end_time": "2023-10-24T08:20:52.950507800Z",
     "start_time": "2023-10-24T08:20:52.902727400Z"
    }
   },
   "id": "688b887fdd86575f"
  },
  {
   "cell_type": "code",
   "execution_count": 185,
   "outputs": [],
   "source": [
    "#Extract unique genes\n",
    "unique_genes = eqtl_genes['gene'].unique().tolist()"
   ],
   "metadata": {
    "collapsed": false,
    "ExecuteTime": {
     "end_time": "2023-10-24T08:20:56.414544Z",
     "start_time": "2023-10-24T08:20:56.299412500Z"
    }
   },
   "id": "b6cd38405cd6e70c"
  },
  {
   "cell_type": "code",
   "execution_count": 186,
   "outputs": [
    {
     "name": "stdout",
     "output_type": "stream",
     "text": [
      "3641\n"
     ]
    }
   ],
   "source": [
    "print(len(unique_genes))"
   ],
   "metadata": {
    "collapsed": false,
    "ExecuteTime": {
     "end_time": "2023-10-24T08:20:57.186222500Z",
     "start_time": "2023-10-24T08:20:57.167068700Z"
    }
   },
   "id": "c60a9be6444d0684"
  },
  {
   "cell_type": "code",
   "execution_count": 209,
   "outputs": [],
   "source": [
    "# Group by gene, disorder, and uniqID, and count the occurrences of each combination of disorder-uniqID\n",
    "grouped = eqtl_genes.groupby(['gene', 'disorder', 'uniqID']).size().reset_index(name='count')\n",
    "\n",
    "# Filter rows with count equal to 1 ensuring each uniqID is assosiated with a single disorder\n",
    "unique_combinations = grouped[grouped['count'] == 1]\n",
    "\n",
    "# Merge the result back with the original DataFrame using a left join retaining the original columns\n",
    "result = eqtl_genes.merge(unique_combinations, on=['gene', 'disorder', 'uniqID'], how='left')\n",
    "\n",
    "# Filter rows where count is 1 ensuring each gene keeps only unique combinations\n",
    "result = result[result['count'] == 1]\n"
   ],
   "metadata": {
    "collapsed": false,
    "ExecuteTime": {
     "end_time": "2023-10-25T10:28:58.944669Z",
     "start_time": "2023-10-25T10:28:56.115070500Z"
    }
   },
   "id": "c0521a934401eb9a"
  },
  {
   "cell_type": "code",
   "execution_count": 210,
   "outputs": [
    {
     "data": {
      "text/plain": "                      uniqID                                 tissue  \\\n1             1:26485291:C:T                      PsychENCODE_eQTLs   \n5             1:26490848:C:T                      PsychENCODE_eQTLs   \n8             1:31945637:C:T                      PsychENCODE_eQTLs   \n9             1:31948449:A:T                      PsychENCODE_eQTLs   \n10            1:31950139:C:G                      PsychENCODE_eQTLs   \n...                      ...                                    ...   \n3107595     12:123697041:A:G  Brain_Nucleus_accumbens_basal_ganglia   \n3107596     12:123699520:A:G  Brain_Nucleus_accumbens_basal_ganglia   \n3107597  12:123703422:A:AGTT  Brain_Nucleus_accumbens_basal_ganglia   \n3107598     12:123704569:C:T  Brain_Nucleus_accumbens_basal_ganglia   \n3107599     12:123901143:C:T  Brain_Nucleus_accumbens_basal_ganglia   \n\n                    gene   symbol  disorder  count  \n1        ENSG00000158022   TRIM63      adhd    1.0  \n5        ENSG00000158022   TRIM63      adhd    1.0  \n8        ENSG00000084628   NKAIN1      adhd    1.0  \n9        ENSG00000084628   NKAIN1      adhd    1.0  \n10       ENSG00000084628   NKAIN1      adhd    1.0  \n...                  ...      ...       ...    ...  \n3107595  ENSG00000182196  ARL6IP4  tourette    1.0  \n3107596  ENSG00000182196  ARL6IP4  tourette    1.0  \n3107597  ENSG00000182196  ARL6IP4  tourette    1.0  \n3107598  ENSG00000182196  ARL6IP4  tourette    1.0  \n3107599  ENSG00000182196  ARL6IP4  tourette    1.0  \n\n[210203 rows x 6 columns]",
      "text/html": "<div>\n<style scoped>\n    .dataframe tbody tr th:only-of-type {\n        vertical-align: middle;\n    }\n\n    .dataframe tbody tr th {\n        vertical-align: top;\n    }\n\n    .dataframe thead th {\n        text-align: right;\n    }\n</style>\n<table border=\"1\" class=\"dataframe\">\n  <thead>\n    <tr style=\"text-align: right;\">\n      <th></th>\n      <th>uniqID</th>\n      <th>tissue</th>\n      <th>gene</th>\n      <th>symbol</th>\n      <th>disorder</th>\n      <th>count</th>\n    </tr>\n  </thead>\n  <tbody>\n    <tr>\n      <th>1</th>\n      <td>1:26485291:C:T</td>\n      <td>PsychENCODE_eQTLs</td>\n      <td>ENSG00000158022</td>\n      <td>TRIM63</td>\n      <td>adhd</td>\n      <td>1.0</td>\n    </tr>\n    <tr>\n      <th>5</th>\n      <td>1:26490848:C:T</td>\n      <td>PsychENCODE_eQTLs</td>\n      <td>ENSG00000158022</td>\n      <td>TRIM63</td>\n      <td>adhd</td>\n      <td>1.0</td>\n    </tr>\n    <tr>\n      <th>8</th>\n      <td>1:31945637:C:T</td>\n      <td>PsychENCODE_eQTLs</td>\n      <td>ENSG00000084628</td>\n      <td>NKAIN1</td>\n      <td>adhd</td>\n      <td>1.0</td>\n    </tr>\n    <tr>\n      <th>9</th>\n      <td>1:31948449:A:T</td>\n      <td>PsychENCODE_eQTLs</td>\n      <td>ENSG00000084628</td>\n      <td>NKAIN1</td>\n      <td>adhd</td>\n      <td>1.0</td>\n    </tr>\n    <tr>\n      <th>10</th>\n      <td>1:31950139:C:G</td>\n      <td>PsychENCODE_eQTLs</td>\n      <td>ENSG00000084628</td>\n      <td>NKAIN1</td>\n      <td>adhd</td>\n      <td>1.0</td>\n    </tr>\n    <tr>\n      <th>...</th>\n      <td>...</td>\n      <td>...</td>\n      <td>...</td>\n      <td>...</td>\n      <td>...</td>\n      <td>...</td>\n    </tr>\n    <tr>\n      <th>3107595</th>\n      <td>12:123697041:A:G</td>\n      <td>Brain_Nucleus_accumbens_basal_ganglia</td>\n      <td>ENSG00000182196</td>\n      <td>ARL6IP4</td>\n      <td>tourette</td>\n      <td>1.0</td>\n    </tr>\n    <tr>\n      <th>3107596</th>\n      <td>12:123699520:A:G</td>\n      <td>Brain_Nucleus_accumbens_basal_ganglia</td>\n      <td>ENSG00000182196</td>\n      <td>ARL6IP4</td>\n      <td>tourette</td>\n      <td>1.0</td>\n    </tr>\n    <tr>\n      <th>3107597</th>\n      <td>12:123703422:A:AGTT</td>\n      <td>Brain_Nucleus_accumbens_basal_ganglia</td>\n      <td>ENSG00000182196</td>\n      <td>ARL6IP4</td>\n      <td>tourette</td>\n      <td>1.0</td>\n    </tr>\n    <tr>\n      <th>3107598</th>\n      <td>12:123704569:C:T</td>\n      <td>Brain_Nucleus_accumbens_basal_ganglia</td>\n      <td>ENSG00000182196</td>\n      <td>ARL6IP4</td>\n      <td>tourette</td>\n      <td>1.0</td>\n    </tr>\n    <tr>\n      <th>3107599</th>\n      <td>12:123901143:C:T</td>\n      <td>Brain_Nucleus_accumbens_basal_ganglia</td>\n      <td>ENSG00000182196</td>\n      <td>ARL6IP4</td>\n      <td>tourette</td>\n      <td>1.0</td>\n    </tr>\n  </tbody>\n</table>\n<p>210203 rows × 6 columns</p>\n</div>"
     },
     "execution_count": 210,
     "metadata": {},
     "output_type": "execute_result"
    }
   ],
   "source": [
    "result"
   ],
   "metadata": {
    "collapsed": false,
    "ExecuteTime": {
     "end_time": "2023-10-25T10:28:59.740993400Z",
     "start_time": "2023-10-25T10:28:59.704844600Z"
    }
   },
   "id": "c46a44afec5fbbd"
  },
  {
   "cell_type": "code",
   "execution_count": 211,
   "outputs": [
    {
     "name": "stdout",
     "output_type": "stream",
     "text": [
      "3416\n"
     ]
    }
   ],
   "source": [
    "print(len(result['gene'].unique()))"
   ],
   "metadata": {
    "collapsed": false,
    "ExecuteTime": {
     "end_time": "2023-10-25T10:29:01.488237900Z",
     "start_time": "2023-10-25T10:29:01.417062900Z"
    }
   },
   "id": "7e1e001a6b815774"
  },
  {
   "cell_type": "code",
   "execution_count": 190,
   "outputs": [],
   "source": [
    "tissues = eqtl_genes['tissue'].unique().tolist()"
   ],
   "metadata": {
    "collapsed": false,
    "ExecuteTime": {
     "end_time": "2023-10-24T08:21:07.570289Z",
     "start_time": "2023-10-24T08:21:07.444995500Z"
    }
   },
   "id": "e4cb6ec2c2c07f61"
  },
  {
   "cell_type": "code",
   "execution_count": 191,
   "outputs": [
    {
     "name": "stdout",
     "output_type": "stream",
     "text": [
      "['PsychENCODE_eQTLs', 'xQTLServer_eQTLs', 'CMC_SVA_cis', 'CMC_SVA_trans', 'CMC_NoSVA_cis', 'CRBL', 'FCTX', 'HIPP', 'MEDU', 'OCTX', 'PUTM', 'SNIG', 'TCTX', 'THAL', 'WHMT', 'aveALL', 'Brain_Amygdala', 'Brain_Anterior_cingulate_cortex_BA24', 'Brain_Caudate_basal_ganglia', 'Brain_Cerebellar_Hemisphere', 'Brain_Cerebellum', 'Brain_Cortex', 'Brain_Frontal_Cortex_BA9', 'Brain_Hippocampus', 'Brain_Hypothalamus', 'Brain_Nucleus_accumbens_basal_ganglia', 'Brain_Putamen_basal_ganglia', 'Brain_Spinal_cord_cervical_c-1', 'Brain_Substantia_nigra', 'CMC_NoSVA_trans', 'BrainSeq_ge_brain', 'Pituitary']\n"
     ]
    }
   ],
   "source": [
    "print(tissues)"
   ],
   "metadata": {
    "collapsed": false,
    "ExecuteTime": {
     "end_time": "2023-10-24T08:21:09.081718500Z",
     "start_time": "2023-10-24T08:21:09.050268100Z"
    }
   },
   "id": "8baa5444d0df2569"
  },
  {
   "cell_type": "code",
   "execution_count": 192,
   "outputs": [],
   "source": [
    "#Drop some tissues\n",
    "result = result[~result['tissue'].isin(['PsychENCODE_eQTLs', 'xQTLServer_eQTLs', 'CMC_SVA_cis', 'CMC_SVA_trans', 'CMC_NoSVA_cis'])]"
   ],
   "metadata": {
    "collapsed": false,
    "ExecuteTime": {
     "end_time": "2023-10-24T08:21:10.125001Z",
     "start_time": "2023-10-24T08:21:10.108916100Z"
    }
   },
   "id": "cf06dc76f68987af"
  },
  {
   "cell_type": "code",
   "execution_count": 193,
   "outputs": [
    {
     "data": {
      "text/plain": "                      uniqID                                 tissue  \\\n52852         3:49646263:A:G                                   CRBL   \n52857         3:49652148:C:T                                   CRBL   \n52861         3:49657441:A:G                                   CRBL   \n52862         3:49658084:A:G                                   CRBL   \n52864         3:49665390:A:G                                   CRBL   \n...                      ...                                    ...   \n3107595     12:123697041:A:G  Brain_Nucleus_accumbens_basal_ganglia   \n3107596     12:123699520:A:G  Brain_Nucleus_accumbens_basal_ganglia   \n3107597  12:123703422:A:AGTT  Brain_Nucleus_accumbens_basal_ganglia   \n3107598     12:123704569:C:T  Brain_Nucleus_accumbens_basal_ganglia   \n3107599     12:123901143:C:T  Brain_Nucleus_accumbens_basal_ganglia   \n\n                    gene   symbol  disorder  count  \n52852    ENSG00000178252     WDR6      adhd    1.0  \n52857    ENSG00000178252     WDR6      adhd    1.0  \n52861    ENSG00000178252     WDR6      adhd    1.0  \n52862    ENSG00000178252     WDR6      adhd    1.0  \n52864    ENSG00000178252     WDR6      adhd    1.0  \n...                  ...      ...       ...    ...  \n3107595  ENSG00000182196  ARL6IP4  tourette    1.0  \n3107596  ENSG00000182196  ARL6IP4  tourette    1.0  \n3107597  ENSG00000182196  ARL6IP4  tourette    1.0  \n3107598  ENSG00000182196  ARL6IP4  tourette    1.0  \n3107599  ENSG00000182196  ARL6IP4  tourette    1.0  \n\n[79855 rows x 6 columns]",
      "text/html": "<div>\n<style scoped>\n    .dataframe tbody tr th:only-of-type {\n        vertical-align: middle;\n    }\n\n    .dataframe tbody tr th {\n        vertical-align: top;\n    }\n\n    .dataframe thead th {\n        text-align: right;\n    }\n</style>\n<table border=\"1\" class=\"dataframe\">\n  <thead>\n    <tr style=\"text-align: right;\">\n      <th></th>\n      <th>uniqID</th>\n      <th>tissue</th>\n      <th>gene</th>\n      <th>symbol</th>\n      <th>disorder</th>\n      <th>count</th>\n    </tr>\n  </thead>\n  <tbody>\n    <tr>\n      <th>52852</th>\n      <td>3:49646263:A:G</td>\n      <td>CRBL</td>\n      <td>ENSG00000178252</td>\n      <td>WDR6</td>\n      <td>adhd</td>\n      <td>1.0</td>\n    </tr>\n    <tr>\n      <th>52857</th>\n      <td>3:49652148:C:T</td>\n      <td>CRBL</td>\n      <td>ENSG00000178252</td>\n      <td>WDR6</td>\n      <td>adhd</td>\n      <td>1.0</td>\n    </tr>\n    <tr>\n      <th>52861</th>\n      <td>3:49657441:A:G</td>\n      <td>CRBL</td>\n      <td>ENSG00000178252</td>\n      <td>WDR6</td>\n      <td>adhd</td>\n      <td>1.0</td>\n    </tr>\n    <tr>\n      <th>52862</th>\n      <td>3:49658084:A:G</td>\n      <td>CRBL</td>\n      <td>ENSG00000178252</td>\n      <td>WDR6</td>\n      <td>adhd</td>\n      <td>1.0</td>\n    </tr>\n    <tr>\n      <th>52864</th>\n      <td>3:49665390:A:G</td>\n      <td>CRBL</td>\n      <td>ENSG00000178252</td>\n      <td>WDR6</td>\n      <td>adhd</td>\n      <td>1.0</td>\n    </tr>\n    <tr>\n      <th>...</th>\n      <td>...</td>\n      <td>...</td>\n      <td>...</td>\n      <td>...</td>\n      <td>...</td>\n      <td>...</td>\n    </tr>\n    <tr>\n      <th>3107595</th>\n      <td>12:123697041:A:G</td>\n      <td>Brain_Nucleus_accumbens_basal_ganglia</td>\n      <td>ENSG00000182196</td>\n      <td>ARL6IP4</td>\n      <td>tourette</td>\n      <td>1.0</td>\n    </tr>\n    <tr>\n      <th>3107596</th>\n      <td>12:123699520:A:G</td>\n      <td>Brain_Nucleus_accumbens_basal_ganglia</td>\n      <td>ENSG00000182196</td>\n      <td>ARL6IP4</td>\n      <td>tourette</td>\n      <td>1.0</td>\n    </tr>\n    <tr>\n      <th>3107597</th>\n      <td>12:123703422:A:AGTT</td>\n      <td>Brain_Nucleus_accumbens_basal_ganglia</td>\n      <td>ENSG00000182196</td>\n      <td>ARL6IP4</td>\n      <td>tourette</td>\n      <td>1.0</td>\n    </tr>\n    <tr>\n      <th>3107598</th>\n      <td>12:123704569:C:T</td>\n      <td>Brain_Nucleus_accumbens_basal_ganglia</td>\n      <td>ENSG00000182196</td>\n      <td>ARL6IP4</td>\n      <td>tourette</td>\n      <td>1.0</td>\n    </tr>\n    <tr>\n      <th>3107599</th>\n      <td>12:123901143:C:T</td>\n      <td>Brain_Nucleus_accumbens_basal_ganglia</td>\n      <td>ENSG00000182196</td>\n      <td>ARL6IP4</td>\n      <td>tourette</td>\n      <td>1.0</td>\n    </tr>\n  </tbody>\n</table>\n<p>79855 rows × 6 columns</p>\n</div>"
     },
     "execution_count": 193,
     "metadata": {},
     "output_type": "execute_result"
    }
   ],
   "source": [
    "result"
   ],
   "metadata": {
    "collapsed": false,
    "ExecuteTime": {
     "end_time": "2023-10-24T08:21:10.927768800Z",
     "start_time": "2023-10-24T08:21:10.896256800Z"
    }
   },
   "id": "4d1626b3bdf96e3e"
  },
  {
   "cell_type": "code",
   "execution_count": 194,
   "outputs": [
    {
     "name": "stdout",
     "output_type": "stream",
     "text": [
      "1630\n"
     ]
    }
   ],
   "source": [
    "print(len(result['gene'].unique()))"
   ],
   "metadata": {
    "collapsed": false,
    "ExecuteTime": {
     "end_time": "2023-10-24T08:21:12.201558200Z",
     "start_time": "2023-10-24T08:21:12.164487Z"
    }
   },
   "id": "c7da6cca00e0db73"
  },
  {
   "cell_type": "code",
   "execution_count": 195,
   "outputs": [],
   "source": [
    "#Keep only genes with more than one disorder mapped to them\n",
    "grouped = result.groupby('gene')\n",
    "\n",
    "# Count unique disorders for each gene\n",
    "unique_disorders_count = grouped['disorder'].nunique().reset_index()\n",
    "\n",
    "# Filter genes with more than one disorder\n",
    "genes_with_multiple_disorders = unique_disorders_count[unique_disorders_count['disorder'] > 1]\n",
    "\n",
    "#Concatenate the filtered groups to obtain the final DataFrame\n",
    "final_result = pd.concat([result[result['gene'] == gene] for gene in genes_with_multiple_disorders['gene']], ignore_index=True)\n",
    "\n",
    "final_result = final_result.drop(columns='count')"
   ],
   "metadata": {
    "collapsed": false,
    "ExecuteTime": {
     "end_time": "2023-10-24T08:21:18.418156400Z",
     "start_time": "2023-10-24T08:21:15.475388900Z"
    }
   },
   "id": "658a5f7df742c9bc"
  },
  {
   "cell_type": "code",
   "execution_count": 196,
   "outputs": [
    {
     "data": {
      "text/plain": "                         uniqID                       tissue             gene  \\\n0                3:49898318:C:G                 Brain_Cortex  ENSG00000001617   \n1                3:50069032:A:G                 Brain_Cortex  ENSG00000001617   \n2      3:50104264:A:AAAAACAAAAC                 Brain_Cortex  ENSG00000001617   \n3                3:50125219:C:T                 Brain_Cortex  ENSG00000001617   \n4                3:50176739:A:C                 Brain_Cortex  ENSG00000001617   \n...                         ...                          ...              ...   \n51864         3:136428567:A:ACC  Brain_Caudate_basal_ganglia  ENSG00000273486   \n51865           3:136158221:A:G            Brain_Hippocampus  ENSG00000273486   \n51866           3:136204437:A:C            Brain_Hippocampus  ENSG00000273486   \n51867           3:135849123:A:C            Brain_Hippocampus  ENSG00000273486   \n51868           3:136508008:A:C            Brain_Hippocampus  ENSG00000273486   \n\n              symbol disorder  \n0             SEMA3F     adhd  \n1             SEMA3F     adhd  \n2             SEMA3F     adhd  \n3             SEMA3F     adhd  \n4             SEMA3F     adhd  \n...              ...      ...  \n51864  RP11-731C17.2     adhd  \n51865  RP11-731C17.2     adhd  \n51866  RP11-731C17.2     adhd  \n51867  RP11-731C17.2      scz  \n51868  RP11-731C17.2      scz  \n\n[51869 rows x 5 columns]",
      "text/html": "<div>\n<style scoped>\n    .dataframe tbody tr th:only-of-type {\n        vertical-align: middle;\n    }\n\n    .dataframe tbody tr th {\n        vertical-align: top;\n    }\n\n    .dataframe thead th {\n        text-align: right;\n    }\n</style>\n<table border=\"1\" class=\"dataframe\">\n  <thead>\n    <tr style=\"text-align: right;\">\n      <th></th>\n      <th>uniqID</th>\n      <th>tissue</th>\n      <th>gene</th>\n      <th>symbol</th>\n      <th>disorder</th>\n    </tr>\n  </thead>\n  <tbody>\n    <tr>\n      <th>0</th>\n      <td>3:49898318:C:G</td>\n      <td>Brain_Cortex</td>\n      <td>ENSG00000001617</td>\n      <td>SEMA3F</td>\n      <td>adhd</td>\n    </tr>\n    <tr>\n      <th>1</th>\n      <td>3:50069032:A:G</td>\n      <td>Brain_Cortex</td>\n      <td>ENSG00000001617</td>\n      <td>SEMA3F</td>\n      <td>adhd</td>\n    </tr>\n    <tr>\n      <th>2</th>\n      <td>3:50104264:A:AAAAACAAAAC</td>\n      <td>Brain_Cortex</td>\n      <td>ENSG00000001617</td>\n      <td>SEMA3F</td>\n      <td>adhd</td>\n    </tr>\n    <tr>\n      <th>3</th>\n      <td>3:50125219:C:T</td>\n      <td>Brain_Cortex</td>\n      <td>ENSG00000001617</td>\n      <td>SEMA3F</td>\n      <td>adhd</td>\n    </tr>\n    <tr>\n      <th>4</th>\n      <td>3:50176739:A:C</td>\n      <td>Brain_Cortex</td>\n      <td>ENSG00000001617</td>\n      <td>SEMA3F</td>\n      <td>adhd</td>\n    </tr>\n    <tr>\n      <th>...</th>\n      <td>...</td>\n      <td>...</td>\n      <td>...</td>\n      <td>...</td>\n      <td>...</td>\n    </tr>\n    <tr>\n      <th>51864</th>\n      <td>3:136428567:A:ACC</td>\n      <td>Brain_Caudate_basal_ganglia</td>\n      <td>ENSG00000273486</td>\n      <td>RP11-731C17.2</td>\n      <td>adhd</td>\n    </tr>\n    <tr>\n      <th>51865</th>\n      <td>3:136158221:A:G</td>\n      <td>Brain_Hippocampus</td>\n      <td>ENSG00000273486</td>\n      <td>RP11-731C17.2</td>\n      <td>adhd</td>\n    </tr>\n    <tr>\n      <th>51866</th>\n      <td>3:136204437:A:C</td>\n      <td>Brain_Hippocampus</td>\n      <td>ENSG00000273486</td>\n      <td>RP11-731C17.2</td>\n      <td>adhd</td>\n    </tr>\n    <tr>\n      <th>51867</th>\n      <td>3:135849123:A:C</td>\n      <td>Brain_Hippocampus</td>\n      <td>ENSG00000273486</td>\n      <td>RP11-731C17.2</td>\n      <td>scz</td>\n    </tr>\n    <tr>\n      <th>51868</th>\n      <td>3:136508008:A:C</td>\n      <td>Brain_Hippocampus</td>\n      <td>ENSG00000273486</td>\n      <td>RP11-731C17.2</td>\n      <td>scz</td>\n    </tr>\n  </tbody>\n</table>\n<p>51869 rows × 5 columns</p>\n</div>"
     },
     "execution_count": 196,
     "metadata": {},
     "output_type": "execute_result"
    }
   ],
   "source": [
    "final_result"
   ],
   "metadata": {
    "collapsed": false,
    "ExecuteTime": {
     "end_time": "2023-10-24T08:21:19.398104900Z",
     "start_time": "2023-10-24T08:21:19.366698100Z"
    }
   },
   "id": "ef23892bf5c600b5"
  },
  {
   "cell_type": "code",
   "execution_count": 197,
   "outputs": [
    {
     "name": "stdout",
     "output_type": "stream",
     "text": [
      "466\n"
     ]
    }
   ],
   "source": [
    "print(len(final_result['gene'].unique()))"
   ],
   "metadata": {
    "collapsed": false,
    "ExecuteTime": {
     "end_time": "2023-10-24T08:21:21.523311800Z",
     "start_time": "2023-10-24T08:21:21.514897400Z"
    }
   },
   "id": "dbec27f53da9b662"
  },
  {
   "cell_type": "code",
   "execution_count": 204,
   "outputs": [
    {
     "name": "stdout",
     "output_type": "stream",
     "text": [
      "Genes with only one associated tissue:\n",
      "197\n",
      "Index(['ENSG00000001617', 'ENSG00000006062', 'ENSG00000007402',\n",
      "       'ENSG00000010319', 'ENSG00000015413', 'ENSG00000016864',\n",
      "       'ENSG00000023902', 'ENSG00000026559', 'ENSG00000033030',\n",
      "       'ENSG00000037749',\n",
      "       ...\n",
      "       'ENSG00000262539', 'ENSG00000263142', 'ENSG00000263503',\n",
      "       'ENSG00000264538', 'ENSG00000264743', 'ENSG00000269940',\n",
      "       'ENSG00000270108', 'ENSG00000270326', 'ENSG00000270941',\n",
      "       'ENSG00000272468'],\n",
      "      dtype='object', name='gene', length=197)\n"
     ]
    }
   ],
   "source": [
    "# Group the DataFrame by 'genes' and count the unique associated tissues\n",
    "gene_tissue_counts = final_result.groupby('gene')['tissue'].nunique()\n",
    "\n",
    "# Filter for genes with a count of 1 in the list of tissues\n",
    "genes_with_one_tissue = gene_tissue_counts[gene_tissue_counts == 1].index\n",
    "\n",
    "\n",
    "print(\"Genes with only one associated tissue:\")\n",
    "print(len(genes_with_one_tissue))\n",
    "print(genes_with_one_tissue)"
   ],
   "metadata": {
    "collapsed": false,
    "ExecuteTime": {
     "end_time": "2023-10-24T09:55:42.910013100Z",
     "start_time": "2023-10-24T09:55:42.831105100Z"
    }
   },
   "id": "c51867c68b7b9d29"
  },
  {
   "cell_type": "code",
   "execution_count": 198,
   "outputs": [],
   "source": [
    "# Store information for each gene in a dictionary\n",
    "\n",
    "\n",
    "# Create an empty dictionary to store the information.\n",
    "gene_info_dict = {}\n",
    "\n",
    "# Iterate through the DataFrame to fill the dictionary.\n",
    "for index, row in final_result.iterrows():\n",
    "    gene = row['gene']  \n",
    "    if gene not in gene_info_dict:\n",
    "        gene_info_dict[gene] = []\n",
    "    gene_info_dict[gene].append(row)  # store the entire row as a list for each gene."
   ],
   "metadata": {
    "collapsed": false,
    "ExecuteTime": {
     "end_time": "2023-10-24T08:21:28.571053500Z",
     "start_time": "2023-10-24T08:21:24.102575800Z"
    }
   },
   "id": "6372db4f76e34385"
  },
  {
   "cell_type": "code",
   "execution_count": 199,
   "outputs": [
    {
     "name": "stdout",
     "output_type": "stream",
     "text": [
      "['ENSG00000001617' 'ENSG00000006062' 'ENSG00000007402' 'ENSG00000008838'\n",
      " 'ENSG00000010319' 'ENSG00000015413' 'ENSG00000016391' 'ENSG00000016864'\n",
      " 'ENSG00000023902' 'ENSG00000025434' 'ENSG00000026559' 'ENSG00000026950'\n",
      " 'ENSG00000033030' 'ENSG00000035499' 'ENSG00000037749' 'ENSG00000041353'\n",
      " 'ENSG00000042317' 'ENSG00000049167' 'ENSG00000051825' 'ENSG00000054219'\n",
      " 'ENSG00000055955' 'ENSG00000064547' 'ENSG00000064726' 'ENSG00000065413'\n",
      " 'ENSG00000066735' 'ENSG00000073969' 'ENSG00000075399' 'ENSG00000075826'\n",
      " 'ENSG00000076067' 'ENSG00000081189' 'ENSG00000081842' 'ENSG00000086205'\n",
      " 'ENSG00000088970' 'ENSG00000090263' 'ENSG00000090975' 'ENSG00000091157'\n",
      " 'ENSG00000091164' 'ENSG00000092108' 'ENSG00000093167' 'ENSG00000096654'\n",
      " 'ENSG00000099899' 'ENSG00000099904' 'ENSG00000100197' 'ENSG00000100372'\n",
      " 'ENSG00000100393' 'ENSG00000100395' 'ENSG00000100401' 'ENSG00000100403'\n",
      " 'ENSG00000100412' 'ENSG00000101191' 'ENSG00000101327' 'ENSG00000101442'\n",
      " 'ENSG00000101546' 'ENSG00000101751' 'ENSG00000102886' 'ENSG00000102967'\n",
      " 'ENSG00000103044' 'ENSG00000103599' 'ENSG00000103723' 'ENSG00000105717'\n",
      " 'ENSG00000105726' 'ENSG00000105866' 'ENSG00000105877' 'ENSG00000105926'\n",
      " 'ENSG00000105928' 'ENSG00000106268' 'ENSG00000108344' 'ENSG00000108352'\n",
      " 'ENSG00000108379' 'ENSG00000108582' 'ENSG00000109323' 'ENSG00000109501'\n",
      " 'ENSG00000109919' 'ENSG00000109956' 'ENSG00000110514' 'ENSG00000110583'\n",
      " 'ENSG00000111237' 'ENSG00000111325' 'ENSG00000111801' 'ENSG00000112308'\n",
      " 'ENSG00000112655' 'ENSG00000112659' 'ENSG00000112763' 'ENSG00000112812'\n",
      " 'ENSG00000114841' 'ENSG00000114902' 'ENSG00000114904' 'ENSG00000115073'\n",
      " 'ENSG00000115085' 'ENSG00000115183' 'ENSG00000115825' 'ENSG00000117362'\n",
      " 'ENSG00000117407' 'ENSG00000119326' 'ENSG00000120071' 'ENSG00000120088'\n",
      " 'ENSG00000120314' 'ENSG00000120328' 'ENSG00000120733' 'ENSG00000120903'\n",
      " 'ENSG00000120915' 'ENSG00000122687' 'ENSG00000123636' 'ENSG00000124508'\n",
      " 'ENSG00000124549' 'ENSG00000124613' 'ENSG00000125207' 'ENSG00000126091'\n",
      " 'ENSG00000126215' 'ENSG00000126653' 'ENSG00000127366' 'ENSG00000128285'\n",
      " 'ENSG00000128573' 'ENSG00000129933' 'ENSG00000130119' 'ENSG00000130783'\n",
      " 'ENSG00000131165' 'ENSG00000131323' 'ENSG00000132600' 'ENSG00000132603'\n",
      " 'ENSG00000132604' 'ENSG00000132911' 'ENSG00000133328' 'ENSG00000134262'\n",
      " 'ENSG00000134574' 'ENSG00000134575' 'ENSG00000134809' 'ENSG00000136383'\n",
      " 'ENSG00000136448' 'ENSG00000136631' 'ENSG00000136932' 'ENSG00000137185'\n",
      " 'ENSG00000137288' 'ENSG00000137338' 'ENSG00000138111' 'ENSG00000138172'\n",
      " 'ENSG00000138175' 'ENSG00000138722' 'ENSG00000139428' 'ENSG00000139433'\n",
      " 'ENSG00000139726' 'ENSG00000139746' 'ENSG00000139921' 'ENSG00000141076'\n",
      " 'ENSG00000141098' 'ENSG00000142599' 'ENSG00000143374' 'ENSG00000143382'\n",
      " 'ENSG00000143434' 'ENSG00000143578' 'ENSG00000144034' 'ENSG00000144199'\n",
      " 'ENSG00000144674' 'ENSG00000144792' 'ENSG00000145020' 'ENSG00000145040'\n",
      " 'ENSG00000145743' 'ENSG00000146001' 'ENSG00000146047' 'ENSG00000147419'\n",
      " 'ENSG00000148399' 'ENSG00000148841' 'ENSG00000148842' 'ENSG00000148843'\n",
      " 'ENSG00000149150' 'ENSG00000149179' 'ENSG00000149761' 'ENSG00000149922'\n",
      " 'ENSG00000151067' 'ENSG00000151834' 'ENSG00000152208' 'ENSG00000154316'\n",
      " 'ENSG00000156103' 'ENSG00000156218' 'ENSG00000156603' 'ENSG00000158373'\n",
      " 'ENSG00000158805' 'ENSG00000159247' 'ENSG00000159314' 'ENSG00000159433'\n",
      " 'ENSG00000159958' 'ENSG00000160161' 'ENSG00000161692' 'ENSG00000162290'\n",
      " 'ENSG00000163013' 'ENSG00000163125' 'ENSG00000163155' 'ENSG00000163807'\n",
      " 'ENSG00000163933' 'ENSG00000163935' 'ENSG00000163938' 'ENSG00000164039'\n",
      " 'ENSG00000164045' 'ENSG00000164068' 'ENSG00000164078' 'ENSG00000164086'\n",
      " 'ENSG00000164087' 'ENSG00000164088' 'ENSG00000164091' 'ENSG00000164100'\n",
      " 'ENSG00000164733' 'ENSG00000164916' 'ENSG00000165915' 'ENSG00000165916'\n",
      " 'ENSG00000166165' 'ENSG00000166170' 'ENSG00000166682' 'ENSG00000167077'\n",
      " 'ENSG00000167264' 'ENSG00000167491' 'ENSG00000168237' 'ENSG00000168268'\n",
      " 'ENSG00000168273' 'ENSG00000168298' 'ENSG00000168807' 'ENSG00000168917'\n",
      " 'ENSG00000169609' 'ENSG00000170100' 'ENSG00000171045' 'ENSG00000171056'\n",
      " 'ENSG00000172346' 'ENSG00000173156' 'ENSG00000173214' 'ENSG00000173273'\n",
      " 'ENSG00000173531' 'ENSG00000173540' 'ENSG00000173599' 'ENSG00000173621'\n",
      " 'ENSG00000173727' 'ENSG00000173992' 'ENSG00000174080' 'ENSG00000174165'\n",
      " 'ENSG00000174483' 'ENSG00000174576' 'ENSG00000175224' 'ENSG00000175806'\n",
      " 'ENSG00000176340' 'ENSG00000176349' 'ENSG00000176681' 'ENSG00000176700'\n",
      " 'ENSG00000176715' 'ENSG00000176809' 'ENSG00000176933' 'ENSG00000177082'\n",
      " 'ENSG00000177096' 'ENSG00000177352' 'ENSG00000177868' 'ENSG00000178093'\n",
      " 'ENSG00000178149' 'ENSG00000178252' 'ENSG00000178467' 'ENSG00000178568'\n",
      " 'ENSG00000178852' 'ENSG00000179152' 'ENSG00000179571' 'ENSG00000180096'\n",
      " 'ENSG00000180340' 'ENSG00000180929' 'ENSG00000181273' 'ENSG00000181315'\n",
      " 'ENSG00000181896' 'ENSG00000181915' 'ENSG00000182257' 'ENSG00000182379'\n",
      " 'ENSG00000182600' 'ENSG00000182774' 'ENSG00000182952' 'ENSG00000183066'\n",
      " 'ENSG00000183166' 'ENSG00000183336' 'ENSG00000183454' 'ENSG00000183955'\n",
      " 'ENSG00000184348' 'ENSG00000184608' 'ENSG00000184647' 'ENSG00000184922'\n",
      " 'ENSG00000184983' 'ENSG00000185129' 'ENSG00000185294' 'ENSG00000185614'\n",
      " 'ENSG00000185630' 'ENSG00000185909' 'ENSG00000186446' 'ENSG00000186448'\n",
      " 'ENSG00000186470' 'ENSG00000186472' 'ENSG00000186665' 'ENSG00000186792'\n",
      " 'ENSG00000186868' 'ENSG00000187372' 'ENSG00000187475' 'ENSG00000187664'\n",
      " 'ENSG00000187672' 'ENSG00000187741' 'ENSG00000187987' 'ENSG00000187990'\n",
      " 'ENSG00000188659' 'ENSG00000188779' 'ENSG00000189134' 'ENSG00000189136'\n",
      " 'ENSG00000189227' 'ENSG00000189298' 'ENSG00000196176' 'ENSG00000196653'\n",
      " 'ENSG00000196666' 'ENSG00000196812' 'ENSG00000196912' 'ENSG00000196963'\n",
      " 'ENSG00000196966' 'ENSG00000197061' 'ENSG00000197062' 'ENSG00000197471'\n",
      " 'ENSG00000197696' 'ENSG00000197786' 'ENSG00000197903' 'ENSG00000197912'\n",
      " 'ENSG00000197935' 'ENSG00000197978' 'ENSG00000198218' 'ENSG00000198315'\n",
      " 'ENSG00000198518' 'ENSG00000198951' 'ENSG00000199990' 'ENSG00000202111'\n",
      " 'ENSG00000204099' 'ENSG00000204650' 'ENSG00000204681' 'ENSG00000204694'\n",
      " 'ENSG00000204709' 'ENSG00000204713' 'ENSG00000204789' 'ENSG00000204856'\n",
      " 'ENSG00000204952' 'ENSG00000204961' 'ENSG00000204962' 'ENSG00000204963'\n",
      " 'ENSG00000204965' 'ENSG00000204967' 'ENSG00000204969' 'ENSG00000204970'\n",
      " 'ENSG00000204991' 'ENSG00000205015' 'ENSG00000205035' 'ENSG00000205106'\n",
      " 'ENSG00000205363' 'ENSG00000213619' 'ENSG00000213672' 'ENSG00000213996'\n",
      " 'ENSG00000214435' 'ENSG00000214706' 'ENSG00000214725' 'ENSG00000214872'\n",
      " 'ENSG00000215356' 'ENSG00000215372' 'ENSG00000216901' 'ENSG00000216915'\n",
      " 'ENSG00000218016' 'ENSG00000219392' 'ENSG00000219435' 'ENSG00000219891'\n",
      " 'ENSG00000221819' 'ENSG00000221983' 'ENSG00000222019' 'ENSG00000223443'\n",
      " 'ENSG00000224843' 'ENSG00000225173' 'ENSG00000225190' 'ENSG00000225399'\n",
      " 'ENSG00000226314' 'ENSG00000226476' 'ENSG00000227354' 'ENSG00000227609'\n",
      " 'ENSG00000228141' 'ENSG00000228223' 'ENSG00000229901' 'ENSG00000230069'\n",
      " 'ENSG00000230373' 'ENSG00000231421' 'ENSG00000232040' 'ENSG00000233175'\n",
      " 'ENSG00000233609' 'ENSG00000234072' 'ENSG00000235016' 'ENSG00000235109'\n",
      " 'ENSG00000235370' 'ENSG00000235423' 'ENSG00000235570' 'ENSG00000236125'\n",
      " 'ENSG00000236234' 'ENSG00000237950' 'ENSG00000238083' 'ENSG00000239519'\n",
      " 'ENSG00000242142' 'ENSG00000242689' 'ENSG00000243224' 'ENSG00000243477'\n",
      " 'ENSG00000243729' 'ENSG00000245975' 'ENSG00000248383' 'ENSG00000248971'\n",
      " 'ENSG00000249188' 'ENSG00000249484' 'ENSG00000249751' 'ENSG00000249889'\n",
      " 'ENSG00000250067' 'ENSG00000250120' 'ENSG00000250156' 'ENSG00000250616'\n",
      " 'ENSG00000251288' 'ENSG00000251402' 'ENSG00000253641' 'ENSG00000253642'\n",
      " 'ENSG00000253649' 'ENSG00000253678' 'ENSG00000253981' 'ENSG00000254510'\n",
      " 'ENSG00000255020' 'ENSG00000255190' 'ENSG00000255310' 'ENSG00000255408'\n",
      " 'ENSG00000255455' 'ENSG00000255468' 'ENSG00000255769' 'ENSG00000256053'\n",
      " 'ENSG00000256092' 'ENSG00000256278' 'ENSG00000256762' 'ENSG00000258839'\n",
      " 'ENSG00000259295' 'ENSG00000259315' 'ENSG00000259404' 'ENSG00000259429'\n",
      " 'ENSG00000259511' 'ENSG00000259683' 'ENSG00000259728' 'ENSG00000260121'\n",
      " 'ENSG00000260230' 'ENSG00000260259' 'ENSG00000261253' 'ENSG00000261367'\n",
      " 'ENSG00000261373' 'ENSG00000261451' 'ENSG00000261575' 'ENSG00000262096'\n",
      " 'ENSG00000262539' 'ENSG00000263142' 'ENSG00000263503' 'ENSG00000264538'\n",
      " 'ENSG00000264743' 'ENSG00000267121' 'ENSG00000267198' 'ENSG00000269293'\n",
      " 'ENSG00000269918' 'ENSG00000269940' 'ENSG00000269958' 'ENSG00000270108'\n",
      " 'ENSG00000270326' 'ENSG00000270941' 'ENSG00000270964' 'ENSG00000271755'\n",
      " 'ENSG00000271904' 'ENSG00000272267' 'ENSG00000272462' 'ENSG00000272468'\n",
      " 'ENSG00000272505' 'ENSG00000273486']\n"
     ]
    }
   ],
   "source": [
    "print(final_result['gene'].unique())"
   ],
   "metadata": {
    "collapsed": false,
    "ExecuteTime": {
     "end_time": "2023-10-24T08:21:29.856839300Z",
     "start_time": "2023-10-24T08:21:29.841191800Z"
    }
   },
   "id": "40cea76455d23d6b"
  },
  {
   "cell_type": "code",
   "execution_count": 205,
   "outputs": [
    {
     "name": "stdout",
     "output_type": "stream",
     "text": [
      "[uniqID        14:104095320:A:G\n",
      "tissue      Brain_Hypothalamus\n",
      "gene           ENSG00000269940\n",
      "symbol            RP11-73M18.7\n",
      "disorder                   bpd\n",
      "Name: 50549, dtype: object, uniqID      14:104013073:G:GAC\n",
      "tissue      Brain_Hypothalamus\n",
      "gene           ENSG00000269940\n",
      "symbol            RP11-73M18.7\n",
      "disorder                   scz\n",
      "Name: 50550, dtype: object, uniqID        14:104018651:A:G\n",
      "tissue      Brain_Hypothalamus\n",
      "gene           ENSG00000269940\n",
      "symbol            RP11-73M18.7\n",
      "disorder                   scz\n",
      "Name: 50551, dtype: object, uniqID        14:104021141:A:C\n",
      "tissue      Brain_Hypothalamus\n",
      "gene           ENSG00000269940\n",
      "symbol            RP11-73M18.7\n",
      "disorder                   scz\n",
      "Name: 50552, dtype: object, uniqID        14:104021806:A:G\n",
      "tissue      Brain_Hypothalamus\n",
      "gene           ENSG00000269940\n",
      "symbol            RP11-73M18.7\n",
      "disorder                   scz\n",
      "Name: 50553, dtype: object, uniqID        14:104025893:C:T\n",
      "tissue      Brain_Hypothalamus\n",
      "gene           ENSG00000269940\n",
      "symbol            RP11-73M18.7\n",
      "disorder                   scz\n",
      "Name: 50554, dtype: object, uniqID        14:104028270:C:T\n",
      "tissue      Brain_Hypothalamus\n",
      "gene           ENSG00000269940\n",
      "symbol            RP11-73M18.7\n",
      "disorder                   scz\n",
      "Name: 50555, dtype: object, uniqID        14:104029819:G:T\n",
      "tissue      Brain_Hypothalamus\n",
      "gene           ENSG00000269940\n",
      "symbol            RP11-73M18.7\n",
      "disorder                   scz\n",
      "Name: 50556, dtype: object, uniqID        14:104030901:C:T\n",
      "tissue      Brain_Hypothalamus\n",
      "gene           ENSG00000269940\n",
      "symbol            RP11-73M18.7\n",
      "disorder                   scz\n",
      "Name: 50557, dtype: object, uniqID        14:104034746:C:T\n",
      "tissue      Brain_Hypothalamus\n",
      "gene           ENSG00000269940\n",
      "symbol            RP11-73M18.7\n",
      "disorder                   scz\n",
      "Name: 50558, dtype: object, uniqID        14:104050883:A:G\n",
      "tissue      Brain_Hypothalamus\n",
      "gene           ENSG00000269940\n",
      "symbol            RP11-73M18.7\n",
      "disorder                   scz\n",
      "Name: 50559, dtype: object, uniqID        14:104053764:C:T\n",
      "tissue      Brain_Hypothalamus\n",
      "gene           ENSG00000269940\n",
      "symbol            RP11-73M18.7\n",
      "disorder                   scz\n",
      "Name: 50560, dtype: object, uniqID      14:104060367:C:CAG\n",
      "tissue      Brain_Hypothalamus\n",
      "gene           ENSG00000269940\n",
      "symbol            RP11-73M18.7\n",
      "disorder                   scz\n",
      "Name: 50561, dtype: object, uniqID        14:104060379:A:G\n",
      "tissue      Brain_Hypothalamus\n",
      "gene           ENSG00000269940\n",
      "symbol            RP11-73M18.7\n",
      "disorder                   scz\n",
      "Name: 50562, dtype: object, uniqID        14:104060381:C:T\n",
      "tissue      Brain_Hypothalamus\n",
      "gene           ENSG00000269940\n",
      "symbol            RP11-73M18.7\n",
      "disorder                   scz\n",
      "Name: 50563, dtype: object, uniqID        14:104060384:A:G\n",
      "tissue      Brain_Hypothalamus\n",
      "gene           ENSG00000269940\n",
      "symbol            RP11-73M18.7\n",
      "disorder                   scz\n",
      "Name: 50564, dtype: object, uniqID        14:104060387:A:C\n",
      "tissue      Brain_Hypothalamus\n",
      "gene           ENSG00000269940\n",
      "symbol            RP11-73M18.7\n",
      "disorder                   scz\n",
      "Name: 50565, dtype: object, uniqID        14:104060392:A:G\n",
      "tissue      Brain_Hypothalamus\n",
      "gene           ENSG00000269940\n",
      "symbol            RP11-73M18.7\n",
      "disorder                   scz\n",
      "Name: 50566, dtype: object, uniqID        14:104066422:A:G\n",
      "tissue      Brain_Hypothalamus\n",
      "gene           ENSG00000269940\n",
      "symbol            RP11-73M18.7\n",
      "disorder                   scz\n",
      "Name: 50567, dtype: object, uniqID        14:104077434:A:G\n",
      "tissue      Brain_Hypothalamus\n",
      "gene           ENSG00000269940\n",
      "symbol            RP11-73M18.7\n",
      "disorder                   scz\n",
      "Name: 50568, dtype: object, uniqID        14:104092789:A:G\n",
      "tissue      Brain_Hypothalamus\n",
      "gene           ENSG00000269940\n",
      "symbol            RP11-73M18.7\n",
      "disorder                   scz\n",
      "Name: 50569, dtype: object, uniqID        14:104095320:A:G\n",
      "tissue      Brain_Hypothalamus\n",
      "gene           ENSG00000269940\n",
      "symbol            RP11-73M18.7\n",
      "disorder                   scz\n",
      "Name: 50570, dtype: object]\n"
     ]
    }
   ],
   "source": [
    "print(gene_info_dict['ENSG00000269940'])"
   ],
   "metadata": {
    "collapsed": false,
    "ExecuteTime": {
     "end_time": "2023-10-24T09:56:19.524246800Z",
     "start_time": "2023-10-24T09:56:19.476447800Z"
    }
   },
   "id": "c3950512ee3409f9"
  },
  {
   "cell_type": "code",
   "execution_count": null,
   "outputs": [],
   "source": [],
   "metadata": {
    "collapsed": false
   },
   "id": "ce15701250abca3a"
  }
 ],
 "metadata": {
  "kernelspec": {
   "display_name": "Python 3",
   "language": "python",
   "name": "python3"
  },
  "language_info": {
   "codemirror_mode": {
    "name": "ipython",
    "version": 2
   },
   "file_extension": ".py",
   "mimetype": "text/x-python",
   "name": "python",
   "nbconvert_exporter": "python",
   "pygments_lexer": "ipython2",
   "version": "2.7.6"
  }
 },
 "nbformat": 4,
 "nbformat_minor": 5
}
