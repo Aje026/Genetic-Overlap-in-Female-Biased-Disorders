{
 "cells": [
  {
   "cell_type": "code",
   "execution_count": 16,
   "id": "initial_id",
   "metadata": {
    "ExecuteTime": {
     "end_time": "2023-10-05T11:00:37.744980600Z",
     "start_time": "2023-10-05T11:00:37.741963400Z"
    },
    "collapsed": true
   },
   "outputs": [],
   "source": [
    "import pandas as pd\n",
    "import numpy as np"
   ]
  },
  {
   "cell_type": "code",
   "execution_count": 17,
   "id": "76d5171f1fa1cee1",
   "metadata": {
    "ExecuteTime": {
     "end_time": "2023-10-05T11:00:44.410551100Z",
     "start_time": "2023-10-05T11:00:44.365574800Z"
    },
    "collapsed": false
   },
   "outputs": [],
   "source": [
    "#read files\n",
    "snps = pd.read_csv('z-score_snps_sorted.csv', sep=',')\n",
    "genes = pd.read_csv('z-score_genes_sorted.csv', sep=',')\n",
    "eqtls = pd.read_csv('z-score_eqtls_sorted.csv', sep=',')\n",
    "#Set index\n",
    "snps = snps.set_index(snps.columns[0])\n",
    "genes = genes.set_index(genes.columns[0])\n",
    "#eqtls = eqtls.set_index(genes.columns[0])\n",
    "\n",
    "#Name index\n",
    "snps = snps.rename_axis('Combinations')\n",
    "genes = genes.rename_axis('Combinations')\n",
    "eqtls = eqtls.rename_axis('Combinations')"
   ]
  },
  {
   "cell_type": "code",
   "execution_count": null,
   "id": "bab3094475d011de",
   "metadata": {
    "collapsed": false
   },
   "outputs": [],
   "source": [
    "snps.head()"
   ]
  },
  {
   "cell_type": "code",
   "execution_count": 18,
   "id": "4725b89c6c2a1429",
   "metadata": {
    "ExecuteTime": {
     "end_time": "2023-10-05T11:00:46.728720900Z",
     "start_time": "2023-10-05T11:00:46.708591200Z"
    },
    "collapsed": false
   },
   "outputs": [],
   "source": [
    "# Keep only rows with a certain threshold\n",
    "threshold = 3.0\n",
    "\n",
    "snps_overexp = snps[snps['z-score'] >= threshold]\n",
    "genes_overexp = genes[genes['z-score'] > threshold]\n",
    "eqtls_overexp = eqtls[eqtls['z-score'] > threshold]"
   ]
  },
  {
   "cell_type": "code",
   "execution_count": null,
   "id": "69cb996c3c03078e",
   "metadata": {
    "collapsed": false
   },
   "outputs": [],
   "source": [
    "snps_overexp"
   ]
  },
  {
   "cell_type": "code",
   "execution_count": null,
   "id": "5be2e140c78ecc",
   "metadata": {
    "collapsed": false
   },
   "outputs": [],
   "source": [
    "genes_overexp"
   ]
  },
  {
   "cell_type": "code",
   "execution_count": null,
   "id": "9b0d5797deb51dcb",
   "metadata": {
    "collapsed": false
   },
   "outputs": [],
   "source": [
    "#drop rows where z-value = inf\n",
    "\n",
    "genes_drop_inf = genes_overexp[genes_overexp['z-score'] != np.inf]"
   ]
  },
  {
   "cell_type": "code",
   "execution_count": null,
   "id": "19f7ca3a014eeb33",
   "metadata": {
    "collapsed": false
   },
   "outputs": [],
   "source": [
    "genes_drop_inf"
   ]
  },
  {
   "cell_type": "code",
   "execution_count": 19,
   "id": "3ee747a4dff7aa56",
   "metadata": {
    "ExecuteTime": {
     "end_time": "2023-10-05T11:00:51.670480Z",
     "start_time": "2023-10-05T11:00:51.651380800Z"
    },
    "collapsed": false
   },
   "outputs": [
    {
     "data": {
      "text/html": [
       "<div>\n",
       "<style scoped>\n",
       "    .dataframe tbody tr th:only-of-type {\n",
       "        vertical-align: middle;\n",
       "    }\n",
       "\n",
       "    .dataframe tbody tr th {\n",
       "        vertical-align: top;\n",
       "    }\n",
       "\n",
       "    .dataframe thead th {\n",
       "        text-align: right;\n",
       "    }\n",
       "</style>\n",
       "<table border=\"1\" class=\"dataframe\">\n",
       "  <thead>\n",
       "    <tr style=\"text-align: right;\">\n",
       "      <th></th>\n",
       "      <th>Unnamed: 0</th>\n",
       "      <th>mean</th>\n",
       "      <th>std</th>\n",
       "      <th>z-score</th>\n",
       "    </tr>\n",
       "    <tr>\n",
       "      <th>Combinations</th>\n",
       "      <th></th>\n",
       "      <th></th>\n",
       "      <th></th>\n",
       "      <th></th>\n",
       "    </tr>\n",
       "  </thead>\n",
       "  <tbody>\n",
       "    <tr>\n",
       "      <th>787979</th>\n",
       "      <td>('asd', 'scz')</td>\n",
       "      <td>653573.6</td>\n",
       "      <td>181.944558</td>\n",
       "      <td>738.716241</td>\n",
       "    </tr>\n",
       "    <tr>\n",
       "      <th>44757</th>\n",
       "      <td>('bpd', 'mdd')</td>\n",
       "      <td>22972.6</td>\n",
       "      <td>117.709813</td>\n",
       "      <td>185.068683</td>\n",
       "    </tr>\n",
       "    <tr>\n",
       "      <th>36270</th>\n",
       "      <td>('bpd', 'mdd', 'scz')</td>\n",
       "      <td>18414.2</td>\n",
       "      <td>127.159393</td>\n",
       "      <td>140.420614</td>\n",
       "    </tr>\n",
       "    <tr>\n",
       "      <th>2543</th>\n",
       "      <td>('adhd', 'scz', 'tourette')</td>\n",
       "      <td>434.6</td>\n",
       "      <td>17.121786</td>\n",
       "      <td>123.141359</td>\n",
       "    </tr>\n",
       "    <tr>\n",
       "      <th>2543</th>\n",
       "      <td>('adhd', 'tourette')</td>\n",
       "      <td>546.2</td>\n",
       "      <td>21.070253</td>\n",
       "      <td>94.768678</td>\n",
       "    </tr>\n",
       "    <tr>\n",
       "      <th>5187</th>\n",
       "      <td>('cud', 'mdd')</td>\n",
       "      <td>1807.9</td>\n",
       "      <td>43.841761</td>\n",
       "      <td>77.074915</td>\n",
       "    </tr>\n",
       "    <tr>\n",
       "      <th>4269</th>\n",
       "      <td>('cud', 'mdd', 'scz')</td>\n",
       "      <td>1457.7</td>\n",
       "      <td>39.426584</td>\n",
       "      <td>71.304680</td>\n",
       "    </tr>\n",
       "    <tr>\n",
       "      <th>14514</th>\n",
       "      <td>('adhd', 'mdd')</td>\n",
       "      <td>11253.2</td>\n",
       "      <td>115.027340</td>\n",
       "      <td>28.348043</td>\n",
       "    </tr>\n",
       "    <tr>\n",
       "      <th>201</th>\n",
       "      <td>('adhd', 'ptsd')</td>\n",
       "      <td>74.8</td>\n",
       "      <td>8.651268</td>\n",
       "      <td>14.587456</td>\n",
       "    </tr>\n",
       "  </tbody>\n",
       "</table>\n",
       "</div>"
      ],
      "text/plain": [
       "                               Unnamed: 0      mean         std     z-score\n",
       "Combinations                                                               \n",
       "787979                     ('asd', 'scz')  653573.6  181.944558  738.716241\n",
       "44757                      ('bpd', 'mdd')   22972.6  117.709813  185.068683\n",
       "36270               ('bpd', 'mdd', 'scz')   18414.2  127.159393  140.420614\n",
       "2543          ('adhd', 'scz', 'tourette')     434.6   17.121786  123.141359\n",
       "2543                 ('adhd', 'tourette')     546.2   21.070253   94.768678\n",
       "5187                       ('cud', 'mdd')    1807.9   43.841761   77.074915\n",
       "4269                ('cud', 'mdd', 'scz')    1457.7   39.426584   71.304680\n",
       "14514                     ('adhd', 'mdd')   11253.2  115.027340   28.348043\n",
       "201                      ('adhd', 'ptsd')      74.8    8.651268   14.587456"
      ]
     },
     "execution_count": 19,
     "metadata": {},
     "output_type": "execute_result"
    }
   ],
   "source": [
    "eqtls_overexp"
   ]
  },
  {
   "cell_type": "code",
   "execution_count": null,
   "id": "6f860272878d2b01",
   "metadata": {
    "collapsed": false
   },
   "outputs": [],
   "source": []
  }
 ],
 "metadata": {
  "kernelspec": {
   "display_name": "Python 3",
   "language": "python",
   "name": "python3"
  },
  "language_info": {
   "codemirror_mode": {
    "name": "ipython",
    "version": 2
   },
   "file_extension": ".py",
   "mimetype": "text/x-python",
   "name": "python",
   "nbconvert_exporter": "python",
   "pygments_lexer": "ipython2",
   "version": "3.10.13"
  }
 },
 "nbformat": 4,
 "nbformat_minor": 5
}
