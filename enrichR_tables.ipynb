{
 "cells": [
  {
   "cell_type": "code",
   "execution_count": 1,
   "id": "initial_id",
   "metadata": {
    "collapsed": true,
    "ExecuteTime": {
     "end_time": "2023-09-20T14:02:07.004286400Z",
     "start_time": "2023-09-20T14:02:06.264697100Z"
    }
   },
   "outputs": [],
   "source": [
    "import pandas as pd\n",
    "import glob\n"
   ]
  },
  {
   "cell_type": "code",
   "execution_count": 2,
   "outputs": [],
   "source": [
    "path_wikipathways = glob.glob('Genes/WikiPathway tables/*.txt')\n",
    "path_kegg = glob.glob('Genes/KEGG tables/*.txt')\n",
    "\n",
    "wiki_dfs = {}\n",
    "kegg_dfs = {}"
   ],
   "metadata": {
    "collapsed": false,
    "ExecuteTime": {
     "end_time": "2023-09-20T14:02:08.315855500Z",
     "start_time": "2023-09-20T14:02:08.313896200Z"
    }
   },
   "id": "fa2ce1fcbecb5f55"
  },
  {
   "cell_type": "code",
   "execution_count": 3,
   "outputs": [],
   "source": [
    "def read_files(pathway, dictionary):\n",
    "    for file_path in pathway:\n",
    "        df_name = file_path.split('\\\\')[-1].split('.')[0]\n",
    "        dictionary[df_name] = pd.read_csv(file_path, sep='\\t')\n",
    "        \n",
    "        for key, df in dictionary.items():\n",
    "            dictionary[key] = df.iloc[:, [0, df.columns.get_loc('Adjusted P-value'), df.columns.get_loc('Genes')]] \n",
    "            \n"
   ],
   "metadata": {
    "collapsed": false,
    "ExecuteTime": {
     "end_time": "2023-09-20T14:02:09.951543600Z",
     "start_time": "2023-09-20T14:02:09.950577500Z"
    }
   },
   "id": "a0fb804024370df0"
  },
  {
   "cell_type": "code",
   "execution_count": 4,
   "outputs": [],
   "source": [
    "read_files(path_kegg, kegg_dfs)\n",
    "read_files(path_wikipathways, wiki_dfs)"
   ],
   "metadata": {
    "collapsed": false,
    "ExecuteTime": {
     "end_time": "2023-09-20T14:02:13.476748200Z",
     "start_time": "2023-09-20T14:02:13.276511600Z"
    }
   },
   "id": "a45b3e93e2280815"
  },
  {
   "cell_type": "code",
   "execution_count": null,
   "outputs": [],
   "source": [],
   "metadata": {
    "collapsed": false
   },
   "id": "85e4cd397039063b"
  },
  {
   "cell_type": "code",
   "execution_count": 13,
   "outputs": [],
   "source": [
    "# Access the dataframes\n",
    "'''\n",
    "#WikiPathway\n",
    "adhd_wiki = wiki_dfs['ADHD_WikiPathway_2021_Human_table']\n",
    "anorexia_wiki = wiki_dfs['Anorexia_WikiPathway_2021_Human_table']\n",
    "anxiety_wiki = wiki_dfs['Anxiety_WikiPathway_2021_Human_table']\n",
    "asd_wiki = wiki_dfs['ASD_WikiPathway_2021_Human_table']\n",
    "bpd_wiki = wiki_dfs['BPD_WikiPathway_2021_Human_table']\n",
    "cud_wiki = wiki_dfs['CUD_WikiPathway_2021_Human_table']\n",
    "hoarding_wiki = wiki_dfs['hoarding_WikiPathway_2021_Human_table']\n",
    "mdd_wiki = wiki_dfs['MDD_WikiPathway_2021_Human_table']\n",
    "ocd_wiki = wiki_dfs['OCD_WikiPathway_2021_Human_table']\n",
    "od_wiki = wiki_dfs['OD_WikiPathway_2021_Human_table']\n",
    "ptsd_wiki = wiki_dfs['ptsd_WikiPathway_2021_Human_table']\n",
    "scz_wiki = wiki_dfs['Scz_WikiPathway_2021_Human_table']\n",
    "tourette_wiki = wiki_dfs['Tourette_WikiPathway_2021_Human_table']\n",
    "\n",
    "#KEGG\n",
    "adhd_kegg = kegg_dfs['ADHD_KEGG_2021_Human_table']\n",
    "anorexia_kegg = kegg_dfs['Anorexia_KEGG_2021_Human_table']\n",
    "anxiety_kegg = kegg_dfs['Anxiey_KEGG_2021_Human_table']\n",
    "asd_kegg = kegg_dfs['ASD_KEGG_2021_Human_table']\n",
    "bpd_kegg = kegg_dfs['BPD_KEGG_2021_Human_table']\n",
    "cud_kegg = kegg_dfs['CUD_KEGG_2021_Human_table']\n",
    "hoarding_kegg = kegg_dfs['hoarding_KEGG_2021_Human_table']\n",
    "mdd_kegg = kegg_dfs['MDD_KEGG_2021_Human_table']\n",
    "ocd_kegg = kegg_dfs['OCD_KEGG_2021_Human_table']\n",
    "od_kegg = kegg_dfs['OD_KEGG_2021_Human_table']\n",
    "ptsd_kegg = kegg_dfs['ptsd_KEGG_2021_Human_table']\n",
    "scz_kegg = kegg_dfs['Scz_KEGG_2021_Human_table']\n",
    "tourette_kegg = kegg_dfs['tourette_KEGG_2021_Human_table']\n",
    "'''"
   ],
   "metadata": {
    "collapsed": false,
    "ExecuteTime": {
     "end_time": "2023-09-20T14:26:45.479457400Z",
     "start_time": "2023-09-20T14:26:45.463323400Z"
    }
   },
   "id": "976bf325abd7536f"
  },
  {
   "cell_type": "code",
   "execution_count": 25,
   "outputs": [],
   "source": [
    "#keep only the rows with p-value below a certain threshold\n",
    "def keep_rows_below_certain_pval(df, pval):\n",
    "    return df[df['Adjusted P-value'] < pval]\n"
   ],
   "metadata": {
    "collapsed": false,
    "ExecuteTime": {
     "end_time": "2023-10-04T09:40:08.884052700Z",
     "start_time": "2023-10-04T09:40:08.860524700Z"
    }
   },
   "id": "9d2ea6839377a65"
  },
  {
   "cell_type": "code",
   "execution_count": 40,
   "outputs": [],
   "source": [
    "wiki_pval_dfs = {}\n",
    "kegg_pval_dfs = {}\n",
    "\n",
    "threshold = 0.05\n",
    "\n",
    "for key, value in wiki_dfs.items():\n",
    "    wiki_pval_dfs[key] = keep_rows_below_certain_pval(value, threshold)\n",
    "    \n",
    "for key, value in kegg_dfs.items():\n",
    "    kegg_pval_dfs[key] = keep_rows_below_certain_pval(value, threshold)\n",
    "    "
   ],
   "metadata": {
    "collapsed": false,
    "ExecuteTime": {
     "end_time": "2023-10-04T09:53:57.600934500Z",
     "start_time": "2023-10-04T09:53:57.553569900Z"
    }
   },
   "id": "e90e77fa6267cd37"
  },
  {
   "cell_type": "code",
   "execution_count": 41,
   "outputs": [
    {
     "data": {
      "text/plain": "{'ADHD_WikiPathway_2021_Human_table': Empty DataFrame\n Columns: [Term, Adjusted P-value, Genes]\n Index: [],\n 'Anorexia_WikiPathway_2021_Human_table': Empty DataFrame\n Columns: [Term, Adjusted P-value, Genes]\n Index: [],\n 'Anxiety_WikiPathway_2021_Human_table': Empty DataFrame\n Columns: [Term, Adjusted P-value, Genes]\n Index: [],\n 'ASD_WikiPathway_2021_Human_table': Empty DataFrame\n Columns: [Term, Adjusted P-value, Genes]\n Index: [],\n 'BPD_WikiPathway_2021_Human_table':                                                 Term  Adjusted P-value  \\\n 0                       Histone Modifications WP2369          0.005637   \n 1  FBXL10 enhancement of MAP/ERK signaling in dif...          0.020211   \n \n                                                Genes  \n 0  KMT2E;KMT2D;HIST1H3J;DOT1L;HIST1H3A;HIST1H3F;H...  \n 1  HIST1H3J;H3F3B;KDM2B;H3F3A;DUSP6;HIST1H3A;HIST...  ,\n 'CUD_WikiPathway_2021_Human_table':                                                 Term  Adjusted P-value  \\\n 0                       Histone Modifications WP2369      6.024004e-08   \n 1  FBXL10 enhancement of MAP/ERK signaling in dif...      5.053742e-03   \n 2  Effect of progerin on genes involved in Hutchi...      5.053742e-03   \n \n                                                Genes  \n 0  HIST1H3J;HIST1H4L;HIST1H4A;HIST1H4G;HIST1H3G;H...  \n 1  HIST1H3J;HIST1H3G;HIST1H3H;HIST1H3I;HIST1H3B;H...  \n 2  HIST1H3J;HIST1H3G;HIST1H3H;HIST1H3I;HIST1H3B;H...  ,\n 'hoarding_WikiPathway_2021_Human_table': Empty DataFrame\n Columns: [Term, Adjusted P-value, Genes]\n Index: [],\n 'MDD_WikiPathway_2021_Human_table':                                                 Term  Adjusted P-value  \\\n 0                       Histone Modifications WP2369      6.092851e-11   \n 1      22q11.2 copy number variation syndrome WP4657      2.840706e-06   \n 2  FBXL10 enhancement of MAP/ERK signaling in dif...      1.512570e-04   \n 3  Effect of progerin on genes involved in Hutchi...      1.527055e-03   \n 4                       Prion disease pathway WP3995      1.255336e-02   \n 5                        Genotoxicity pathway WP4286      2.037684e-02   \n \n                                                Genes  \n 0  SETD5;KMT2A;HIST1H3J;PRDM2;HIST1H3A;HIST1H3F;H...  \n 1  RTN4R;SLC25A1;CUL3;TRMT2A;ZDHHC8;COMT;MED15;AR...  \n 2  HIST1H3J;KDM2B;H2AFX;HIST1H3A;HIST1H3F;HIST1H3...  \n 3  HIST1H3A;HIST1H3J;MBD2;HIST1H3F;HIST1H3G;HIST1...  \n 4  MEF2C;SPI1;CREB1;HSPA5;BCL11A;RFX5;EP300;NCAM1...  \n 5  HIST1H2BN;HIST1H2BM;NLRX1;HIST1H2BI;GADD45A;PC...  ,\n 'OCD_WikiPathway_2021_Human_table': Empty DataFrame\n Columns: [Term, Adjusted P-value, Genes]\n Index: [],\n 'OD_WikiPathway_2021_Human_table': Empty DataFrame\n Columns: [Term, Adjusted P-value, Genes]\n Index: [],\n 'ptsd_WikiPathway_2021_Human_table': Empty DataFrame\n Columns: [Term, Adjusted P-value, Genes]\n Index: [],\n 'Scz_WikiPathway_2021_Human_table': Empty DataFrame\n Columns: [Term, Adjusted P-value, Genes]\n Index: [],\n 'Tourette_WikiPathway_2021_Human_table': Empty DataFrame\n Columns: [Term, Adjusted P-value, Genes]\n Index: []}"
     },
     "execution_count": 41,
     "metadata": {},
     "output_type": "execute_result"
    }
   ],
   "source": [
    "wiki_pval_dfs"
   ],
   "metadata": {
    "collapsed": false,
    "ExecuteTime": {
     "end_time": "2023-10-04T09:54:55.541429800Z",
     "start_time": "2023-10-04T09:54:55.533716800Z"
    }
   },
   "id": "3b363ad297f3aea6"
  },
  {
   "cell_type": "code",
   "execution_count": 42,
   "outputs": [
    {
     "data": {
      "text/plain": "{'ADHD_KEGG_2021_Human_table': Empty DataFrame\n Columns: [Term, Adjusted P-value, Genes]\n Index: [],\n 'Anorexia_KEGG_2021_Human_table': Empty DataFrame\n Columns: [Term, Adjusted P-value, Genes]\n Index: [],\n 'Anxiey_KEGG_2021_Human_table': Empty DataFrame\n Columns: [Term, Adjusted P-value, Genes]\n Index: [],\n 'ASD_KEGG_2021_Human_table': Empty DataFrame\n Columns: [Term, Adjusted P-value, Genes]\n Index: [],\n 'BPD_KEGG_2021_Human_table': Empty DataFrame\n Columns: [Term, Adjusted P-value, Genes]\n Index: [],\n 'CUD_KEGG_2021_Human_table': Empty DataFrame\n Columns: [Term, Adjusted P-value, Genes]\n Index: [],\n 'hoarding_KEGG_2021_Human_table': Empty DataFrame\n Columns: [Term, Adjusted P-value, Genes]\n Index: [],\n 'MDD_KEGG_2021_Human_table': Empty DataFrame\n Columns: [Term, Adjusted P-value, Genes]\n Index: [],\n 'OCD_KEGG_2021_Human_table': Empty DataFrame\n Columns: [Term, Adjusted P-value, Genes]\n Index: [],\n 'OD_KEGG_2021_Human_table': Empty DataFrame\n Columns: [Term, Adjusted P-value, Genes]\n Index: [],\n 'ptsd_KEGG_2021_Human_table': Empty DataFrame\n Columns: [Term, Adjusted P-value, Genes]\n Index: [],\n 'Scz_KEGG_2021_Human_table': Empty DataFrame\n Columns: [Term, Adjusted P-value, Genes]\n Index: [],\n 'tourette_KEGG_2021_Human_table': Empty DataFrame\n Columns: [Term, Adjusted P-value, Genes]\n Index: []}"
     },
     "execution_count": 42,
     "metadata": {},
     "output_type": "execute_result"
    }
   ],
   "source": [
    "kegg_pval_dfs"
   ],
   "metadata": {
    "collapsed": false,
    "ExecuteTime": {
     "end_time": "2023-10-04T09:55:00.766771300Z",
     "start_time": "2023-10-04T09:55:00.745464600Z"
    }
   },
   "id": "312bd4ef06e8a186"
  },
  {
   "cell_type": "code",
   "execution_count": 44,
   "outputs": [
    {
     "data": {
      "text/plain": "dict_keys(['ADHD_WikiPathway_2021_Human_table', 'Anorexia_WikiPathway_2021_Human_table', 'Anxiety_WikiPathway_2021_Human_table', 'ASD_WikiPathway_2021_Human_table', 'BPD_WikiPathway_2021_Human_table', 'CUD_WikiPathway_2021_Human_table', 'hoarding_WikiPathway_2021_Human_table', 'MDD_WikiPathway_2021_Human_table', 'OCD_WikiPathway_2021_Human_table', 'OD_WikiPathway_2021_Human_table', 'ptsd_WikiPathway_2021_Human_table', 'Scz_WikiPathway_2021_Human_table', 'Tourette_WikiPathway_2021_Human_table'])"
     },
     "execution_count": 44,
     "metadata": {},
     "output_type": "execute_result"
    }
   ],
   "source": [
    "wiki_pval_dfs.keys()"
   ],
   "metadata": {
    "collapsed": false,
    "ExecuteTime": {
     "end_time": "2023-10-04T10:00:27.334500800Z",
     "start_time": "2023-10-04T10:00:27.295771700Z"
    }
   },
   "id": "8e15d47b1401bf10"
  },
  {
   "cell_type": "code",
   "execution_count": 45,
   "outputs": [],
   "source": [
    "x = wiki_pval_dfs['BPD_WikiPathway_2021_Human_table']"
   ],
   "metadata": {
    "collapsed": false,
    "ExecuteTime": {
     "end_time": "2023-10-04T10:00:59.969240400Z",
     "start_time": "2023-10-04T10:00:59.910885400Z"
    }
   },
   "id": "7429958302b8ce16"
  },
  {
   "cell_type": "code",
   "execution_count": 47,
   "outputs": [
    {
     "data": {
      "text/plain": "                                                Term  Adjusted P-value  \\\n0                       Histone Modifications WP2369          0.005637   \n1  FBXL10 enhancement of MAP/ERK signaling in dif...          0.020211   \n\n                                               Genes  \n0  KMT2E;KMT2D;HIST1H3J;DOT1L;HIST1H3A;HIST1H3F;H...  \n1  HIST1H3J;H3F3B;KDM2B;H3F3A;DUSP6;HIST1H3A;HIST...  ",
      "text/html": "<div>\n<style scoped>\n    .dataframe tbody tr th:only-of-type {\n        vertical-align: middle;\n    }\n\n    .dataframe tbody tr th {\n        vertical-align: top;\n    }\n\n    .dataframe thead th {\n        text-align: right;\n    }\n</style>\n<table border=\"1\" class=\"dataframe\">\n  <thead>\n    <tr style=\"text-align: right;\">\n      <th></th>\n      <th>Term</th>\n      <th>Adjusted P-value</th>\n      <th>Genes</th>\n    </tr>\n  </thead>\n  <tbody>\n    <tr>\n      <th>0</th>\n      <td>Histone Modifications WP2369</td>\n      <td>0.005637</td>\n      <td>KMT2E;KMT2D;HIST1H3J;DOT1L;HIST1H3A;HIST1H3F;H...</td>\n    </tr>\n    <tr>\n      <th>1</th>\n      <td>FBXL10 enhancement of MAP/ERK signaling in dif...</td>\n      <td>0.020211</td>\n      <td>HIST1H3J;H3F3B;KDM2B;H3F3A;DUSP6;HIST1H3A;HIST...</td>\n    </tr>\n  </tbody>\n</table>\n</div>"
     },
     "execution_count": 47,
     "metadata": {},
     "output_type": "execute_result"
    }
   ],
   "source": [
    "x"
   ],
   "metadata": {
    "collapsed": false,
    "ExecuteTime": {
     "end_time": "2023-10-04T10:01:13.163527300Z",
     "start_time": "2023-10-04T10:01:13.121843100Z"
    }
   },
   "id": "5416eae8af2ed119"
  },
  {
   "cell_type": "code",
   "execution_count": null,
   "outputs": [],
   "source": [],
   "metadata": {
    "collapsed": false
   },
   "id": "8bdc3e5c8f8fdb5f"
  }
 ],
 "metadata": {
  "kernelspec": {
   "display_name": "Python 3",
   "language": "python",
   "name": "python3"
  },
  "language_info": {
   "codemirror_mode": {
    "name": "ipython",
    "version": 2
   },
   "file_extension": ".py",
   "mimetype": "text/x-python",
   "name": "python",
   "nbconvert_exporter": "python",
   "pygments_lexer": "ipython2",
   "version": "2.7.6"
  }
 },
 "nbformat": 4,
 "nbformat_minor": 5
}
