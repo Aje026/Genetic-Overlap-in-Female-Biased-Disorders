{
 "cells": [
  {
   "cell_type": "code",
   "execution_count": 158,
   "metadata": {},
   "outputs": [],
   "source": [
    "import networkx as nx\n",
    "import pandas as pd\n",
    "import matplotlib.pyplot as plt\n",
    "import plotly.graph_objects as go"
   ]
  },
  {
   "cell_type": "code",
   "execution_count": 140,
   "metadata": {},
   "outputs": [
    {
     "name": "stderr",
     "output_type": "stream",
     "text": [
      "C:\\Users\\annei\\AppData\\Local\\Temp\\ipykernel_14876\\1437345336.py:1: DtypeWarning: Columns (1,2,18) have mixed types. Specify dtype option on import or set low_memory=False.\n",
      "  biogrid = pd.read_csv('BIOGRID-ORGANISM-Homo_sapiens-4.4.232.tab3.txt', sep='\\t')\n"
     ]
    }
   ],
   "source": [
    "biogrid = pd.read_csv('BIOGRID-ORGANISM-Homo_sapiens-4.4.232.tab3.txt', sep='\\t')\n"
   ]
  },
  {
   "cell_type": "code",
   "execution_count": 153,
   "metadata": {},
   "outputs": [],
   "source": [
    "biogrid = biogrid[['Official Symbol Interactor A','Official Symbol Interactor B']]"
   ]
  },
  {
   "cell_type": "code",
   "execution_count": null,
   "metadata": {},
   "outputs": [],
   "source": [
    "biogrid = biogrid[['Official Symbol Interactor A','Official Symbol Interactor B','Score']]\n",
    "biogrid = biogrid[biogrid['Score'] != '-']\n",
    "\"\"\" Quantitative Score. This will be a positive for negative value recorded by the original publication depicting P-Values, \n",
    "    Confidence Score, SGA Score, etc. Will be “-” if no score is reported. \"\"\" \n",
    "biogrid['Score'] = pd.to_numeric(biogrid['Score'])\n",
    "biogrid['Score'] = biogrid['Score'].apply(lambda x: 0 if x < 0 else x)\n",
    "biogrid.reset_index(drop=True, inplace=True)\n",
    "biogrid.head()"
   ]
  },
  {
   "cell_type": "code",
   "execution_count": 154,
   "metadata": {},
   "outputs": [
    {
     "data": {
      "text/html": [
       "<div>\n",
       "<style scoped>\n",
       "    .dataframe tbody tr th:only-of-type {\n",
       "        vertical-align: middle;\n",
       "    }\n",
       "\n",
       "    .dataframe tbody tr th {\n",
       "        vertical-align: top;\n",
       "    }\n",
       "\n",
       "    .dataframe thead th {\n",
       "        text-align: right;\n",
       "    }\n",
       "</style>\n",
       "<table border=\"1\" class=\"dataframe\">\n",
       "  <thead>\n",
       "    <tr style=\"text-align: right;\">\n",
       "      <th></th>\n",
       "      <th>Official Symbol Interactor A</th>\n",
       "      <th>Official Symbol Interactor B</th>\n",
       "    </tr>\n",
       "  </thead>\n",
       "  <tbody>\n",
       "    <tr>\n",
       "      <th>0</th>\n",
       "      <td>CD2BP2</td>\n",
       "      <td>SNRNP200</td>\n",
       "    </tr>\n",
       "    <tr>\n",
       "      <th>1</th>\n",
       "      <td>GIPC1</td>\n",
       "      <td>MYO6</td>\n",
       "    </tr>\n",
       "    <tr>\n",
       "      <th>2</th>\n",
       "      <td>EIF4A2</td>\n",
       "      <td>EIF4G1</td>\n",
       "    </tr>\n",
       "    <tr>\n",
       "      <th>3</th>\n",
       "      <td>CD2BP2</td>\n",
       "      <td>PRPF8</td>\n",
       "    </tr>\n",
       "    <tr>\n",
       "      <th>4</th>\n",
       "      <td>ARF6</td>\n",
       "      <td>LRPPRC</td>\n",
       "    </tr>\n",
       "  </tbody>\n",
       "</table>\n",
       "</div>"
      ],
      "text/plain": [
       "  Official Symbol Interactor A Official Symbol Interactor B\n",
       "0                       CD2BP2                     SNRNP200\n",
       "1                        GIPC1                         MYO6\n",
       "2                       EIF4A2                       EIF4G1\n",
       "3                       CD2BP2                        PRPF8\n",
       "4                         ARF6                       LRPPRC"
      ]
     },
     "execution_count": 154,
     "metadata": {},
     "output_type": "execute_result"
    }
   ],
   "source": [
    "biogrid.head()"
   ]
  },
  {
   "cell_type": "code",
   "execution_count": null,
   "metadata": {},
   "outputs": [],
   "source": [
    "\"\"\" genesA = biogrid['Official Symbol Interactor A'].tolist()\n",
    "genesB = biogrid['Official Symbol Interactor B'].tolist()\n",
    "genes = genesA + genesB\n",
    "genes = list(dict.fromkeys(genes))\n",
    "print(genes) \"\"\""
   ]
  },
  {
   "cell_type": "code",
   "execution_count": 143,
   "metadata": {},
   "outputs": [],
   "source": [
    "endometriosis = pd.read_csv('genes_for_protein/ENDOMETRIOSIS.txt', sep = '\\t', header=None)\n",
    "endometriosis = endometriosis.rename(columns={0:'Gene'})"
   ]
  },
  {
   "cell_type": "code",
   "execution_count": 144,
   "metadata": {},
   "outputs": [
    {
     "data": {
      "text/html": [
       "<div>\n",
       "<style scoped>\n",
       "    .dataframe tbody tr th:only-of-type {\n",
       "        vertical-align: middle;\n",
       "    }\n",
       "\n",
       "    .dataframe tbody tr th {\n",
       "        vertical-align: top;\n",
       "    }\n",
       "\n",
       "    .dataframe thead th {\n",
       "        text-align: right;\n",
       "    }\n",
       "</style>\n",
       "<table border=\"1\" class=\"dataframe\">\n",
       "  <thead>\n",
       "    <tr style=\"text-align: right;\">\n",
       "      <th></th>\n",
       "      <th>Gene</th>\n",
       "    </tr>\n",
       "  </thead>\n",
       "  <tbody>\n",
       "    <tr>\n",
       "      <th>0</th>\n",
       "      <td>LACTBL1</td>\n",
       "    </tr>\n",
       "    <tr>\n",
       "      <th>1</th>\n",
       "      <td>WNT4</td>\n",
       "    </tr>\n",
       "    <tr>\n",
       "      <th>2</th>\n",
       "      <td>GREB1</td>\n",
       "    </tr>\n",
       "    <tr>\n",
       "      <th>3</th>\n",
       "      <td>RMND1</td>\n",
       "    </tr>\n",
       "    <tr>\n",
       "      <th>4</th>\n",
       "      <td>CCDC170</td>\n",
       "    </tr>\n",
       "  </tbody>\n",
       "</table>\n",
       "</div>"
      ],
      "text/plain": [
       "      Gene\n",
       "0  LACTBL1\n",
       "1     WNT4\n",
       "2    GREB1\n",
       "3    RMND1\n",
       "4  CCDC170"
      ]
     },
     "execution_count": 144,
     "metadata": {},
     "output_type": "execute_result"
    }
   ],
   "source": [
    "\n",
    "endometriosis.head()"
   ]
  },
  {
   "cell_type": "code",
   "execution_count": 155,
   "metadata": {},
   "outputs": [],
   "source": [
    "G = nx.Graph()\n",
    "\n",
    "for index, row in biogrid.iterrows():\n",
    "    source_node = row['Official Symbol Interactor A']\n",
    "    target_node = row['Official Symbol Interactor B']\n",
    "       \n",
    "    G.add_edge(source_node, target_node)"
   ]
  },
  {
   "cell_type": "code",
   "execution_count": 180,
   "metadata": {},
   "outputs": [
    {
     "name": "stdout",
     "output_type": "stream",
     "text": [
      "Edge: WNT4 -- ITPA\n",
      "Edge: WNT4 -- WLS\n",
      "Edge: WNT4 -- HSPA5\n",
      "Edge: WNT4 -- TOMM40\n",
      "Edge: WNT4 -- CAMK2D\n",
      "Edge: WNT4 -- BORA\n",
      "Edge: ITPA -- TKT\n",
      "Edge: TKT -- GREB1\n",
      "Edge: TKT -- SDHA\n",
      "Edge: TKT -- CD3EAP\n",
      "Edge: GREB1 -- DNAJC7\n",
      "Edge: GREB1 -- PNKD\n",
      "Edge: GREB1 -- PTGES3\n",
      "Edge: WLS -- nsp6\n",
      "Edge: nsp6 -- RMND1\n",
      "Edge: nsp6 -- AP3M1\n",
      "Edge: RMND1 -- SAMM50\n",
      "Edge: RMND1 -- DDX39A\n",
      "Edge: RMND1 -- NDUFS1\n",
      "Edge: HSPA5 -- RMDN3\n",
      "Edge: HSPA5 -- SEC63\n",
      "Edge: RMDN3 -- MIS18A\n",
      "Edge: MIS18A -- CCDC170\n",
      "Edge: MIS18A -- PCNT\n",
      "Edge: MIS18A -- TMEM150A\n",
      "Edge: MIS18A -- NCAPH2\n",
      "Edge: MIS18A -- CENPA\n",
      "Edge: MIS18A -- SENP5\n",
      "Edge: TOMM40 -- FAF2\n",
      "Edge: FAF2 -- ARL14EP\n",
      "Edge: FAF2 -- RAB7A\n",
      "Edge: DDX39A -- HOXB2\n",
      "Edge: DDX39A -- SENP1\n",
      "Edge: HOXB2 -- ZYG11A\n",
      "Edge: BORA -- FGFR3\n",
      "Edge: FGFR3 -- SNX11\n",
      "Edge: SNX11 -- IFITM1\n",
      "Edge: SNX11 -- PML\n",
      "Edge: SNX11 -- STK40\n",
      "Edge: SNX11 -- AP3B1\n",
      "Edge: SEC63 -- SKAP1\n",
      "Edge: SKAP1 -- SETX\n",
      "Edge: ZYG11A -- ATF6\n"
     ]
    }
   ],
   "source": [
    "nodes = endometriosis['Gene'].tolist()\n",
    "subset_of_nodes = nodes[:10]\n",
    "\n",
    "# Create a new graph to store the shortest paths\n",
    "H = nx.Graph()\n",
    "\n",
    "# Find the shortest path between each pair of nodes in the subset\n",
    "for i in range(len(subset_of_nodes)):\n",
    "    for j in range(i + 1, len(subset_of_nodes)):\n",
    "        node_i = subset_of_nodes[i]\n",
    "        node_j = subset_of_nodes[j]\n",
    "        \n",
    "        # Check if both nodes exist in graph G\n",
    "        if node_i in G and node_j in G:\n",
    "            try:\n",
    "                # Calculate shortest path if nodes exist in G\n",
    "                path = nx.shortest_path(G, node_i, node_j)\n",
    "                path_edges = [(path[k], path[k+1]) for k in range(len(path)-1)]\n",
    "                H.add_edges_from(path_edges)\n",
    "            except nx.NetworkXNoPath:\n",
    "                continue\n",
    "        else:\n",
    "            continue\n",
    "\n",
    "# Find the minimum spanning tree of the new graph\n",
    "mst = nx.minimum_spanning_tree(H, algorithm='kruskal')\n",
    "\n",
    "# Print the edges of the minimum spanning tree\n",
    "for edge in mst.edges(data=True):\n",
    "    node1, node2 = edge[0], edge[1]\n",
    "    weight = edge[2]\n",
    "    print(f\"Edge: {node1} -- {node2}\")\n"
   ]
  },
  {
   "cell_type": "code",
   "execution_count": 181,
   "metadata": {},
   "outputs": [
    {
     "data": {
      "application/vnd.plotly.v1+json": {
       "config": {
        "plotlyServerURL": "https://plot.ly"
       },
       "data": [
        {
         "marker": {
          "size": 30
         },
         "mode": "markers+text",
         "name": "WNT4",
         "text": "WNT4",
         "textposition": "middle center",
         "type": "scatter",
         "x": [
          -0.04628506116686995
         ],
         "y": [
          0.19731129867915279
         ]
        },
        {
         "marker": {
          "size": 30
         },
         "mode": "markers+text",
         "name": "ITPA",
         "text": "ITPA",
         "textposition": "middle center",
         "type": "scatter",
         "x": [
          -0.2457116265220757
         ],
         "y": [
          0.409638320835156
         ]
        },
        {
         "marker": {
          "size": 30
         },
         "mode": "markers+text",
         "name": "TKT",
         "text": "TKT",
         "textposition": "middle center",
         "type": "scatter",
         "x": [
          -0.43168783940365907
         ],
         "y": [
          0.6178401991318638
         ]
        },
        {
         "marker": {
          "size": 30
         },
         "mode": "markers+text",
         "name": "GREB1",
         "text": "GREB1",
         "textposition": "middle center",
         "type": "scatter",
         "x": [
          -0.5019444547637539
         ],
         "y": [
          0.8330499314461424
         ]
        },
        {
         "marker": {
          "size": 30
         },
         "mode": "markers+text",
         "name": "WLS",
         "text": "WLS",
         "textposition": "middle center",
         "type": "scatter",
         "x": [
          0.09907137375315822
         ],
         "y": [
          0.007244501494380272
         ]
        },
        {
         "marker": {
          "size": 30
         },
         "mode": "markers+text",
         "name": "nsp6",
         "text": "nsp6",
         "textposition": "middle center",
         "type": "scatter",
         "x": [
          0.2533943308038748
         ],
         "y": [
          -0.1763629835103361
         ]
        },
        {
         "marker": {
          "size": 30
         },
         "mode": "markers+text",
         "name": "RMND1",
         "text": "RMND1",
         "textposition": "middle center",
         "type": "scatter",
         "x": [
          0.4090865443237055
         ],
         "y": [
          -0.39767175398186205
         ]
        },
        {
         "marker": {
          "size": 30
         },
         "mode": "markers+text",
         "name": "HSPA5",
         "text": "HSPA5",
         "textposition": "middle center",
         "type": "scatter",
         "x": [
          -0.2981538631083465
         ],
         "y": [
          -0.0658868316693198
         ]
        },
        {
         "marker": {
          "size": 30
         },
         "mode": "markers+text",
         "name": "RMDN3",
         "text": "RMDN3",
         "textposition": "middle center",
         "type": "scatter",
         "x": [
          -0.4461919911253998
         ],
         "y": [
          -0.3518524158818556
         ]
        },
        {
         "marker": {
          "size": 30
         },
         "mode": "markers+text",
         "name": "MIS18A",
         "text": "MIS18A",
         "textposition": "middle center",
         "type": "scatter",
         "x": [
          -0.5933596868300535
         ],
         "y": [
          -0.627901403983322
         ]
        },
        {
         "marker": {
          "size": 30
         },
         "mode": "markers+text",
         "name": "CCDC170",
         "text": "CCDC170",
         "textposition": "middle center",
         "type": "scatter",
         "x": [
          -0.6396451307875011
         ],
         "y": [
          -0.7843316296144329
         ]
        },
        {
         "marker": {
          "size": 30
         },
         "mode": "markers+text",
         "name": "TOMM40",
         "text": "TOMM40",
         "textposition": "middle center",
         "type": "scatter",
         "x": [
          0.03516375301757726
         ],
         "y": [
          0.4417582675446152
         ]
        },
        {
         "marker": {
          "size": 30
         },
         "mode": "markers+text",
         "name": "FAF2",
         "text": "FAF2",
         "textposition": "middle center",
         "type": "scatter",
         "x": [
          0.1086850375742682
         ],
         "y": [
          0.6658169093299401
         ]
        },
        {
         "marker": {
          "size": 30
         },
         "mode": "markers+text",
         "name": "ARL14EP",
         "text": "ARL14EP",
         "textposition": "middle center",
         "type": "scatter",
         "x": [
          0.10940470817555915
         ],
         "y": [
          0.8178672543320367
         ]
        },
        {
         "marker": {
          "size": 30
         },
         "mode": "markers+text",
         "name": "CAMK2D",
         "text": "CAMK2D",
         "textposition": "middle center",
         "type": "scatter",
         "x": [
          -0.09198359463766927
         ],
         "y": [
          0.2746765267342469
         ]
        },
        {
         "marker": {
          "size": 30
         },
         "mode": "markers+text",
         "name": "DDX39A",
         "text": "DDX39A",
         "textposition": "middle center",
         "type": "scatter",
         "x": [
          0.5397009747315563
         ],
         "y": [
          -0.6013577013640327
         ]
        },
        {
         "marker": {
          "size": 30
         },
         "mode": "markers+text",
         "name": "HOXB2",
         "text": "HOXB2",
         "textposition": "middle center",
         "type": "scatter",
         "x": [
          0.6723285239173894
         ],
         "y": [
          -0.7542984566163535
         ]
        },
        {
         "marker": {
          "size": 30
         },
         "mode": "markers+text",
         "name": "BORA",
         "text": "BORA",
         "textposition": "middle center",
         "type": "scatter",
         "x": [
          0.2604274607424442
         ],
         "y": [
          0.23205907930282615
         ]
        },
        {
         "marker": {
          "size": 30
         },
         "mode": "markers+text",
         "name": "FGFR3",
         "text": "FGFR3",
         "textposition": "middle center",
         "type": "scatter",
         "x": [
          0.5528212778207715
         ],
         "y": [
          0.25590433336930923
         ]
        },
        {
         "marker": {
          "size": 30
         },
         "mode": "markers+text",
         "name": "SNX11",
         "text": "SNX11",
         "textposition": "middle center",
         "type": "scatter",
         "x": [
          0.8282410861762193
         ],
         "y": [
          0.2720757526943848
         ]
        },
        {
         "marker": {
          "size": 30
         },
         "mode": "markers+text",
         "name": "SEC63",
         "text": "SEC63",
         "textposition": "middle center",
         "type": "scatter",
         "x": [
          -0.5012384354415155
         ],
         "y": [
          -0.06650154772137597
         ]
        },
        {
         "marker": {
          "size": 30
         },
         "mode": "markers+text",
         "name": "SKAP1",
         "text": "SKAP1",
         "textposition": "middle center",
         "type": "scatter",
         "x": [
          -0.6817235475311341
         ],
         "y": [
          -0.06468100425856414
         ]
        },
        {
         "marker": {
          "size": 30
         },
         "mode": "markers+text",
         "name": "SDHA",
         "text": "SDHA",
         "textposition": "middle center",
         "type": "scatter",
         "x": [
          -0.5448243285031017
         ],
         "y": [
          0.6904541203303861
         ]
        },
        {
         "marker": {
          "size": 30
         },
         "mode": "markers+text",
         "name": "DNAJC7",
         "text": "DNAJC7",
         "textposition": "middle center",
         "type": "scatter",
         "x": [
          -0.61902748941053
         ],
         "y": [
          0.9481875888572284
         ]
        },
        {
         "marker": {
          "size": 30
         },
         "mode": "markers+text",
         "name": "PCNT",
         "text": "PCNT",
         "textposition": "middle center",
         "type": "scatter",
         "x": [
          -0.7075840449175679
         ],
         "y": [
          -0.7487189083331092
         ]
        },
        {
         "marker": {
          "size": 30
         },
         "mode": "markers+text",
         "name": "PNKD",
         "text": "PNKD",
         "textposition": "middle center",
         "type": "scatter",
         "x": [
          -0.4058749562128106
         ],
         "y": [
          0.890962630802165
         ]
        },
        {
         "marker": {
          "size": 30
         },
         "mode": "markers+text",
         "name": "PTGES3",
         "text": "PTGES3",
         "textposition": "middle center",
         "type": "scatter",
         "x": [
          -0.4909558737216209
         ],
         "y": [
          0.9579913724195946
         ]
        },
        {
         "marker": {
          "size": 30
         },
         "mode": "markers+text",
         "name": "IFITM1",
         "text": "IFITM1",
         "textposition": "middle center",
         "type": "scatter",
         "x": [
          0.9721616754843524
         ],
         "y": [
          0.3355431210022294
         ]
        },
        {
         "marker": {
          "size": 30
         },
         "mode": "markers+text",
         "name": "CD3EAP",
         "text": "CD3EAP",
         "textposition": "middle center",
         "type": "scatter",
         "x": [
          -0.5690269997814139
         ],
         "y": [
          0.5992026847408165
         ]
        },
        {
         "marker": {
          "size": 30
         },
         "mode": "markers+text",
         "name": "SAMM50",
         "text": "SAMM50",
         "textposition": "middle center",
         "type": "scatter",
         "x": [
          0.38253095775490426
         ],
         "y": [
          -0.5069503827067225
         ]
        },
        {
         "marker": {
          "size": 30
         },
         "mode": "markers+text",
         "name": "TMEM150A",
         "text": "TMEM150A",
         "textposition": "middle center",
         "type": "scatter",
         "x": [
          -0.7485630888208921
         ],
         "y": [
          -0.6803054073823055
         ]
        },
        {
         "marker": {
          "size": 30
         },
         "mode": "markers+text",
         "name": "NDUFS1",
         "text": "NDUFS1",
         "textposition": "middle center",
         "type": "scatter",
         "x": [
          0.5303373475376973
         ],
         "y": [
          -0.4068097981482029
         ]
        },
        {
         "marker": {
          "size": 30
         },
         "mode": "markers+text",
         "name": "PML",
         "text": "PML",
         "textposition": "middle center",
         "type": "scatter",
         "x": [
          0.9020309154304152
         ],
         "y": [
          0.3966280711508307
         ]
        },
        {
         "marker": {
          "size": 30
         },
         "mode": "markers+text",
         "name": "AP3M1",
         "text": "AP3M1",
         "textposition": "middle center",
         "type": "scatter",
         "x": [
          0.21886397068916214
         ],
         "y": [
          -0.050374107664484045
         ]
        },
        {
         "marker": {
          "size": 30
         },
         "mode": "markers+text",
         "name": "NCAPH2",
         "text": "NCAPH2",
         "textposition": "middle center",
         "type": "scatter",
         "x": [
          -0.5084925396180198
         ],
         "y": [
          -0.7162635420382605
         ]
        },
        {
         "marker": {
          "size": 30
         },
         "mode": "markers+text",
         "name": "CENPA",
         "text": "CENPA",
         "textposition": "middle center",
         "type": "scatter",
         "x": [
          -0.5604174927916887
         ],
         "y": [
          -0.7861648178907732
         ]
        },
        {
         "marker": {
          "size": 30
         },
         "mode": "markers+text",
         "name": "SENP5",
         "text": "SENP5",
         "textposition": "middle center",
         "type": "scatter",
         "x": [
          -0.7254087863192391
         ],
         "y": [
          -0.596308070040017
         ]
        },
        {
         "marker": {
          "size": 30
         },
         "mode": "markers+text",
         "name": "RAB7A",
         "text": "RAB7A",
         "textposition": "middle center",
         "type": "scatter",
         "x": [
          0.201857139608867
         ],
         "y": [
          0.7826786129844054
         ]
        },
        {
         "marker": {
          "size": 30
         },
         "mode": "markers+text",
         "name": "SETX",
         "text": "SETX",
         "textposition": "middle center",
         "type": "scatter",
         "x": [
          -0.8227147091649891
         ],
         "y": [
          -0.06385365305846728
         ]
        },
        {
         "marker": {
          "size": 30
         },
         "mode": "markers+text",
         "name": "ZYG11A",
         "text": "ZYG11A",
         "textposition": "middle center",
         "type": "scatter",
         "x": [
          0.7799476830871663
         ],
         "y": [
          -0.8901582384327105
         ]
        },
        {
         "marker": {
          "size": 30
         },
         "mode": "markers+text",
         "name": "ATF6",
         "text": "ATF6",
         "textposition": "middle center",
         "type": "scatter",
         "x": [
          0.868878403480228
         ],
         "y": [
          -0.9999999999999999
         ]
        },
        {
         "marker": {
          "size": 30
         },
         "mode": "markers+text",
         "name": "STK40",
         "text": "STK40",
         "textposition": "middle center",
         "type": "scatter",
         "x": [
          0.9322249972294601
         ],
         "y": [
          0.18118126400900178
         ]
        },
        {
         "marker": {
          "size": 30
         },
         "mode": "markers+text",
         "name": "SENP1",
         "text": "SENP1",
         "textposition": "middle center",
         "type": "scatter",
         "x": [
          0.5370302969075763
         ],
         "y": [
          -0.7204676621305548
         ]
        },
        {
         "marker": {
          "size": 30
         },
         "mode": "markers+text",
         "name": "AP3B1",
         "text": "AP3B1",
         "textposition": "middle center",
         "type": "scatter",
         "x": [
          0.9866270823334999
         ],
         "y": [
          0.24914847523635067
         ]
        },
        {
         "line": {
          "color": "red",
          "width": 2
         },
         "mode": "lines",
         "name": "WNT4 - ITPA",
         "type": "scatter",
         "x": [
          -0.04628506116686995,
          -0.2457116265220757
         ],
         "y": [
          0.19731129867915279,
          0.409638320835156
         ]
        },
        {
         "line": {
          "color": "red",
          "width": 2
         },
         "mode": "lines",
         "name": "WNT4 - WLS",
         "type": "scatter",
         "x": [
          -0.04628506116686995,
          0.09907137375315822
         ],
         "y": [
          0.19731129867915279,
          0.007244501494380272
         ]
        },
        {
         "line": {
          "color": "red",
          "width": 2
         },
         "mode": "lines",
         "name": "WNT4 - HSPA5",
         "type": "scatter",
         "x": [
          -0.04628506116686995,
          -0.2981538631083465
         ],
         "y": [
          0.19731129867915279,
          -0.0658868316693198
         ]
        },
        {
         "line": {
          "color": "red",
          "width": 2
         },
         "mode": "lines",
         "name": "WNT4 - TOMM40",
         "type": "scatter",
         "x": [
          -0.04628506116686995,
          0.03516375301757726
         ],
         "y": [
          0.19731129867915279,
          0.4417582675446152
         ]
        },
        {
         "line": {
          "color": "red",
          "width": 2
         },
         "mode": "lines",
         "name": "WNT4 - CAMK2D",
         "type": "scatter",
         "x": [
          -0.04628506116686995,
          -0.09198359463766927
         ],
         "y": [
          0.19731129867915279,
          0.2746765267342469
         ]
        },
        {
         "line": {
          "color": "red",
          "width": 2
         },
         "mode": "lines",
         "name": "WNT4 - BORA",
         "type": "scatter",
         "x": [
          -0.04628506116686995,
          0.2604274607424442
         ],
         "y": [
          0.19731129867915279,
          0.23205907930282615
         ]
        },
        {
         "line": {
          "color": "red",
          "width": 2
         },
         "mode": "lines",
         "name": "ITPA - TKT",
         "type": "scatter",
         "x": [
          -0.2457116265220757,
          -0.43168783940365907
         ],
         "y": [
          0.409638320835156,
          0.6178401991318638
         ]
        },
        {
         "line": {
          "color": "red",
          "width": 2
         },
         "mode": "lines",
         "name": "TKT - GREB1",
         "type": "scatter",
         "x": [
          -0.43168783940365907,
          -0.5019444547637539
         ],
         "y": [
          0.6178401991318638,
          0.8330499314461424
         ]
        },
        {
         "line": {
          "color": "red",
          "width": 2
         },
         "mode": "lines",
         "name": "TKT - SDHA",
         "type": "scatter",
         "x": [
          -0.43168783940365907,
          -0.5448243285031017
         ],
         "y": [
          0.6178401991318638,
          0.6904541203303861
         ]
        },
        {
         "line": {
          "color": "red",
          "width": 2
         },
         "mode": "lines",
         "name": "TKT - CD3EAP",
         "type": "scatter",
         "x": [
          -0.43168783940365907,
          -0.5690269997814139
         ],
         "y": [
          0.6178401991318638,
          0.5992026847408165
         ]
        },
        {
         "line": {
          "color": "red",
          "width": 2
         },
         "mode": "lines",
         "name": "GREB1 - DNAJC7",
         "type": "scatter",
         "x": [
          -0.5019444547637539,
          -0.61902748941053
         ],
         "y": [
          0.8330499314461424,
          0.9481875888572284
         ]
        },
        {
         "line": {
          "color": "red",
          "width": 2
         },
         "mode": "lines",
         "name": "GREB1 - PNKD",
         "type": "scatter",
         "x": [
          -0.5019444547637539,
          -0.4058749562128106
         ],
         "y": [
          0.8330499314461424,
          0.890962630802165
         ]
        },
        {
         "line": {
          "color": "red",
          "width": 2
         },
         "mode": "lines",
         "name": "GREB1 - PTGES3",
         "type": "scatter",
         "x": [
          -0.5019444547637539,
          -0.4909558737216209
         ],
         "y": [
          0.8330499314461424,
          0.9579913724195946
         ]
        },
        {
         "line": {
          "color": "red",
          "width": 2
         },
         "mode": "lines",
         "name": "WLS - nsp6",
         "type": "scatter",
         "x": [
          0.09907137375315822,
          0.2533943308038748
         ],
         "y": [
          0.007244501494380272,
          -0.1763629835103361
         ]
        },
        {
         "line": {
          "color": "red",
          "width": 2
         },
         "mode": "lines",
         "name": "nsp6 - RMND1",
         "type": "scatter",
         "x": [
          0.2533943308038748,
          0.4090865443237055
         ],
         "y": [
          -0.1763629835103361,
          -0.39767175398186205
         ]
        },
        {
         "line": {
          "color": "red",
          "width": 2
         },
         "mode": "lines",
         "name": "nsp6 - AP3M1",
         "type": "scatter",
         "x": [
          0.2533943308038748,
          0.21886397068916214
         ],
         "y": [
          -0.1763629835103361,
          -0.050374107664484045
         ]
        },
        {
         "line": {
          "color": "red",
          "width": 2
         },
         "mode": "lines",
         "name": "RMND1 - SAMM50",
         "type": "scatter",
         "x": [
          0.4090865443237055,
          0.38253095775490426
         ],
         "y": [
          -0.39767175398186205,
          -0.5069503827067225
         ]
        },
        {
         "line": {
          "color": "red",
          "width": 2
         },
         "mode": "lines",
         "name": "RMND1 - DDX39A",
         "type": "scatter",
         "x": [
          0.4090865443237055,
          0.5397009747315563
         ],
         "y": [
          -0.39767175398186205,
          -0.6013577013640327
         ]
        },
        {
         "line": {
          "color": "red",
          "width": 2
         },
         "mode": "lines",
         "name": "RMND1 - NDUFS1",
         "type": "scatter",
         "x": [
          0.4090865443237055,
          0.5303373475376973
         ],
         "y": [
          -0.39767175398186205,
          -0.4068097981482029
         ]
        },
        {
         "line": {
          "color": "red",
          "width": 2
         },
         "mode": "lines",
         "name": "HSPA5 - RMDN3",
         "type": "scatter",
         "x": [
          -0.2981538631083465,
          -0.4461919911253998
         ],
         "y": [
          -0.0658868316693198,
          -0.3518524158818556
         ]
        },
        {
         "line": {
          "color": "red",
          "width": 2
         },
         "mode": "lines",
         "name": "HSPA5 - SEC63",
         "type": "scatter",
         "x": [
          -0.2981538631083465,
          -0.5012384354415155
         ],
         "y": [
          -0.0658868316693198,
          -0.06650154772137597
         ]
        },
        {
         "line": {
          "color": "red",
          "width": 2
         },
         "mode": "lines",
         "name": "RMDN3 - MIS18A",
         "type": "scatter",
         "x": [
          -0.4461919911253998,
          -0.5933596868300535
         ],
         "y": [
          -0.3518524158818556,
          -0.627901403983322
         ]
        },
        {
         "line": {
          "color": "red",
          "width": 2
         },
         "mode": "lines",
         "name": "MIS18A - CCDC170",
         "type": "scatter",
         "x": [
          -0.5933596868300535,
          -0.6396451307875011
         ],
         "y": [
          -0.627901403983322,
          -0.7843316296144329
         ]
        },
        {
         "line": {
          "color": "red",
          "width": 2
         },
         "mode": "lines",
         "name": "MIS18A - PCNT",
         "type": "scatter",
         "x": [
          -0.5933596868300535,
          -0.7075840449175679
         ],
         "y": [
          -0.627901403983322,
          -0.7487189083331092
         ]
        },
        {
         "line": {
          "color": "red",
          "width": 2
         },
         "mode": "lines",
         "name": "MIS18A - TMEM150A",
         "type": "scatter",
         "x": [
          -0.5933596868300535,
          -0.7485630888208921
         ],
         "y": [
          -0.627901403983322,
          -0.6803054073823055
         ]
        },
        {
         "line": {
          "color": "red",
          "width": 2
         },
         "mode": "lines",
         "name": "MIS18A - NCAPH2",
         "type": "scatter",
         "x": [
          -0.5933596868300535,
          -0.5084925396180198
         ],
         "y": [
          -0.627901403983322,
          -0.7162635420382605
         ]
        },
        {
         "line": {
          "color": "red",
          "width": 2
         },
         "mode": "lines",
         "name": "MIS18A - CENPA",
         "type": "scatter",
         "x": [
          -0.5933596868300535,
          -0.5604174927916887
         ],
         "y": [
          -0.627901403983322,
          -0.7861648178907732
         ]
        },
        {
         "line": {
          "color": "red",
          "width": 2
         },
         "mode": "lines",
         "name": "MIS18A - SENP5",
         "type": "scatter",
         "x": [
          -0.5933596868300535,
          -0.7254087863192391
         ],
         "y": [
          -0.627901403983322,
          -0.596308070040017
         ]
        },
        {
         "line": {
          "color": "red",
          "width": 2
         },
         "mode": "lines",
         "name": "TOMM40 - FAF2",
         "type": "scatter",
         "x": [
          0.03516375301757726,
          0.1086850375742682
         ],
         "y": [
          0.4417582675446152,
          0.6658169093299401
         ]
        },
        {
         "line": {
          "color": "red",
          "width": 2
         },
         "mode": "lines",
         "name": "FAF2 - ARL14EP",
         "type": "scatter",
         "x": [
          0.1086850375742682,
          0.10940470817555915
         ],
         "y": [
          0.6658169093299401,
          0.8178672543320367
         ]
        },
        {
         "line": {
          "color": "red",
          "width": 2
         },
         "mode": "lines",
         "name": "FAF2 - RAB7A",
         "type": "scatter",
         "x": [
          0.1086850375742682,
          0.201857139608867
         ],
         "y": [
          0.6658169093299401,
          0.7826786129844054
         ]
        },
        {
         "line": {
          "color": "red",
          "width": 2
         },
         "mode": "lines",
         "name": "DDX39A - HOXB2",
         "type": "scatter",
         "x": [
          0.5397009747315563,
          0.6723285239173894
         ],
         "y": [
          -0.6013577013640327,
          -0.7542984566163535
         ]
        },
        {
         "line": {
          "color": "red",
          "width": 2
         },
         "mode": "lines",
         "name": "DDX39A - SENP1",
         "type": "scatter",
         "x": [
          0.5397009747315563,
          0.5370302969075763
         ],
         "y": [
          -0.6013577013640327,
          -0.7204676621305548
         ]
        },
        {
         "line": {
          "color": "red",
          "width": 2
         },
         "mode": "lines",
         "name": "HOXB2 - ZYG11A",
         "type": "scatter",
         "x": [
          0.6723285239173894,
          0.7799476830871663
         ],
         "y": [
          -0.7542984566163535,
          -0.8901582384327105
         ]
        },
        {
         "line": {
          "color": "red",
          "width": 2
         },
         "mode": "lines",
         "name": "BORA - FGFR3",
         "type": "scatter",
         "x": [
          0.2604274607424442,
          0.5528212778207715
         ],
         "y": [
          0.23205907930282615,
          0.25590433336930923
         ]
        },
        {
         "line": {
          "color": "red",
          "width": 2
         },
         "mode": "lines",
         "name": "FGFR3 - SNX11",
         "type": "scatter",
         "x": [
          0.5528212778207715,
          0.8282410861762193
         ],
         "y": [
          0.25590433336930923,
          0.2720757526943848
         ]
        },
        {
         "line": {
          "color": "red",
          "width": 2
         },
         "mode": "lines",
         "name": "SNX11 - IFITM1",
         "type": "scatter",
         "x": [
          0.8282410861762193,
          0.9721616754843524
         ],
         "y": [
          0.2720757526943848,
          0.3355431210022294
         ]
        },
        {
         "line": {
          "color": "red",
          "width": 2
         },
         "mode": "lines",
         "name": "SNX11 - PML",
         "type": "scatter",
         "x": [
          0.8282410861762193,
          0.9020309154304152
         ],
         "y": [
          0.2720757526943848,
          0.3966280711508307
         ]
        },
        {
         "line": {
          "color": "red",
          "width": 2
         },
         "mode": "lines",
         "name": "SNX11 - STK40",
         "type": "scatter",
         "x": [
          0.8282410861762193,
          0.9322249972294601
         ],
         "y": [
          0.2720757526943848,
          0.18118126400900178
         ]
        },
        {
         "line": {
          "color": "red",
          "width": 2
         },
         "mode": "lines",
         "name": "SNX11 - AP3B1",
         "type": "scatter",
         "x": [
          0.8282410861762193,
          0.9866270823334999
         ],
         "y": [
          0.2720757526943848,
          0.24914847523635067
         ]
        },
        {
         "line": {
          "color": "red",
          "width": 2
         },
         "mode": "lines",
         "name": "SEC63 - SKAP1",
         "type": "scatter",
         "x": [
          -0.5012384354415155,
          -0.6817235475311341
         ],
         "y": [
          -0.06650154772137597,
          -0.06468100425856414
         ]
        },
        {
         "line": {
          "color": "red",
          "width": 2
         },
         "mode": "lines",
         "name": "SKAP1 - SETX",
         "type": "scatter",
         "x": [
          -0.6817235475311341,
          -0.8227147091649891
         ],
         "y": [
          -0.06468100425856414,
          -0.06385365305846728
         ]
        },
        {
         "line": {
          "color": "red",
          "width": 2
         },
         "mode": "lines",
         "name": "ZYG11A - ATF6",
         "type": "scatter",
         "x": [
          0.7799476830871663,
          0.868878403480228
         ],
         "y": [
          -0.8901582384327105,
          -0.9999999999999999
         ]
        }
       ],
       "layout": {
        "hovermode": "closest",
        "showlegend": false,
        "template": {
         "data": {
          "bar": [
           {
            "error_x": {
             "color": "#2a3f5f"
            },
            "error_y": {
             "color": "#2a3f5f"
            },
            "marker": {
             "line": {
              "color": "#E5ECF6",
              "width": 0.5
             },
             "pattern": {
              "fillmode": "overlay",
              "size": 10,
              "solidity": 0.2
             }
            },
            "type": "bar"
           }
          ],
          "barpolar": [
           {
            "marker": {
             "line": {
              "color": "#E5ECF6",
              "width": 0.5
             },
             "pattern": {
              "fillmode": "overlay",
              "size": 10,
              "solidity": 0.2
             }
            },
            "type": "barpolar"
           }
          ],
          "carpet": [
           {
            "aaxis": {
             "endlinecolor": "#2a3f5f",
             "gridcolor": "white",
             "linecolor": "white",
             "minorgridcolor": "white",
             "startlinecolor": "#2a3f5f"
            },
            "baxis": {
             "endlinecolor": "#2a3f5f",
             "gridcolor": "white",
             "linecolor": "white",
             "minorgridcolor": "white",
             "startlinecolor": "#2a3f5f"
            },
            "type": "carpet"
           }
          ],
          "choropleth": [
           {
            "colorbar": {
             "outlinewidth": 0,
             "ticks": ""
            },
            "type": "choropleth"
           }
          ],
          "contour": [
           {
            "colorbar": {
             "outlinewidth": 0,
             "ticks": ""
            },
            "colorscale": [
             [
              0,
              "#0d0887"
             ],
             [
              0.1111111111111111,
              "#46039f"
             ],
             [
              0.2222222222222222,
              "#7201a8"
             ],
             [
              0.3333333333333333,
              "#9c179e"
             ],
             [
              0.4444444444444444,
              "#bd3786"
             ],
             [
              0.5555555555555556,
              "#d8576b"
             ],
             [
              0.6666666666666666,
              "#ed7953"
             ],
             [
              0.7777777777777778,
              "#fb9f3a"
             ],
             [
              0.8888888888888888,
              "#fdca26"
             ],
             [
              1,
              "#f0f921"
             ]
            ],
            "type": "contour"
           }
          ],
          "contourcarpet": [
           {
            "colorbar": {
             "outlinewidth": 0,
             "ticks": ""
            },
            "type": "contourcarpet"
           }
          ],
          "heatmap": [
           {
            "colorbar": {
             "outlinewidth": 0,
             "ticks": ""
            },
            "colorscale": [
             [
              0,
              "#0d0887"
             ],
             [
              0.1111111111111111,
              "#46039f"
             ],
             [
              0.2222222222222222,
              "#7201a8"
             ],
             [
              0.3333333333333333,
              "#9c179e"
             ],
             [
              0.4444444444444444,
              "#bd3786"
             ],
             [
              0.5555555555555556,
              "#d8576b"
             ],
             [
              0.6666666666666666,
              "#ed7953"
             ],
             [
              0.7777777777777778,
              "#fb9f3a"
             ],
             [
              0.8888888888888888,
              "#fdca26"
             ],
             [
              1,
              "#f0f921"
             ]
            ],
            "type": "heatmap"
           }
          ],
          "heatmapgl": [
           {
            "colorbar": {
             "outlinewidth": 0,
             "ticks": ""
            },
            "colorscale": [
             [
              0,
              "#0d0887"
             ],
             [
              0.1111111111111111,
              "#46039f"
             ],
             [
              0.2222222222222222,
              "#7201a8"
             ],
             [
              0.3333333333333333,
              "#9c179e"
             ],
             [
              0.4444444444444444,
              "#bd3786"
             ],
             [
              0.5555555555555556,
              "#d8576b"
             ],
             [
              0.6666666666666666,
              "#ed7953"
             ],
             [
              0.7777777777777778,
              "#fb9f3a"
             ],
             [
              0.8888888888888888,
              "#fdca26"
             ],
             [
              1,
              "#f0f921"
             ]
            ],
            "type": "heatmapgl"
           }
          ],
          "histogram": [
           {
            "marker": {
             "pattern": {
              "fillmode": "overlay",
              "size": 10,
              "solidity": 0.2
             }
            },
            "type": "histogram"
           }
          ],
          "histogram2d": [
           {
            "colorbar": {
             "outlinewidth": 0,
             "ticks": ""
            },
            "colorscale": [
             [
              0,
              "#0d0887"
             ],
             [
              0.1111111111111111,
              "#46039f"
             ],
             [
              0.2222222222222222,
              "#7201a8"
             ],
             [
              0.3333333333333333,
              "#9c179e"
             ],
             [
              0.4444444444444444,
              "#bd3786"
             ],
             [
              0.5555555555555556,
              "#d8576b"
             ],
             [
              0.6666666666666666,
              "#ed7953"
             ],
             [
              0.7777777777777778,
              "#fb9f3a"
             ],
             [
              0.8888888888888888,
              "#fdca26"
             ],
             [
              1,
              "#f0f921"
             ]
            ],
            "type": "histogram2d"
           }
          ],
          "histogram2dcontour": [
           {
            "colorbar": {
             "outlinewidth": 0,
             "ticks": ""
            },
            "colorscale": [
             [
              0,
              "#0d0887"
             ],
             [
              0.1111111111111111,
              "#46039f"
             ],
             [
              0.2222222222222222,
              "#7201a8"
             ],
             [
              0.3333333333333333,
              "#9c179e"
             ],
             [
              0.4444444444444444,
              "#bd3786"
             ],
             [
              0.5555555555555556,
              "#d8576b"
             ],
             [
              0.6666666666666666,
              "#ed7953"
             ],
             [
              0.7777777777777778,
              "#fb9f3a"
             ],
             [
              0.8888888888888888,
              "#fdca26"
             ],
             [
              1,
              "#f0f921"
             ]
            ],
            "type": "histogram2dcontour"
           }
          ],
          "mesh3d": [
           {
            "colorbar": {
             "outlinewidth": 0,
             "ticks": ""
            },
            "type": "mesh3d"
           }
          ],
          "parcoords": [
           {
            "line": {
             "colorbar": {
              "outlinewidth": 0,
              "ticks": ""
             }
            },
            "type": "parcoords"
           }
          ],
          "pie": [
           {
            "automargin": true,
            "type": "pie"
           }
          ],
          "scatter": [
           {
            "fillpattern": {
             "fillmode": "overlay",
             "size": 10,
             "solidity": 0.2
            },
            "type": "scatter"
           }
          ],
          "scatter3d": [
           {
            "line": {
             "colorbar": {
              "outlinewidth": 0,
              "ticks": ""
             }
            },
            "marker": {
             "colorbar": {
              "outlinewidth": 0,
              "ticks": ""
             }
            },
            "type": "scatter3d"
           }
          ],
          "scattercarpet": [
           {
            "marker": {
             "colorbar": {
              "outlinewidth": 0,
              "ticks": ""
             }
            },
            "type": "scattercarpet"
           }
          ],
          "scattergeo": [
           {
            "marker": {
             "colorbar": {
              "outlinewidth": 0,
              "ticks": ""
             }
            },
            "type": "scattergeo"
           }
          ],
          "scattergl": [
           {
            "marker": {
             "colorbar": {
              "outlinewidth": 0,
              "ticks": ""
             }
            },
            "type": "scattergl"
           }
          ],
          "scattermapbox": [
           {
            "marker": {
             "colorbar": {
              "outlinewidth": 0,
              "ticks": ""
             }
            },
            "type": "scattermapbox"
           }
          ],
          "scatterpolar": [
           {
            "marker": {
             "colorbar": {
              "outlinewidth": 0,
              "ticks": ""
             }
            },
            "type": "scatterpolar"
           }
          ],
          "scatterpolargl": [
           {
            "marker": {
             "colorbar": {
              "outlinewidth": 0,
              "ticks": ""
             }
            },
            "type": "scatterpolargl"
           }
          ],
          "scatterternary": [
           {
            "marker": {
             "colorbar": {
              "outlinewidth": 0,
              "ticks": ""
             }
            },
            "type": "scatterternary"
           }
          ],
          "surface": [
           {
            "colorbar": {
             "outlinewidth": 0,
             "ticks": ""
            },
            "colorscale": [
             [
              0,
              "#0d0887"
             ],
             [
              0.1111111111111111,
              "#46039f"
             ],
             [
              0.2222222222222222,
              "#7201a8"
             ],
             [
              0.3333333333333333,
              "#9c179e"
             ],
             [
              0.4444444444444444,
              "#bd3786"
             ],
             [
              0.5555555555555556,
              "#d8576b"
             ],
             [
              0.6666666666666666,
              "#ed7953"
             ],
             [
              0.7777777777777778,
              "#fb9f3a"
             ],
             [
              0.8888888888888888,
              "#fdca26"
             ],
             [
              1,
              "#f0f921"
             ]
            ],
            "type": "surface"
           }
          ],
          "table": [
           {
            "cells": {
             "fill": {
              "color": "#EBF0F8"
             },
             "line": {
              "color": "white"
             }
            },
            "header": {
             "fill": {
              "color": "#C8D4E3"
             },
             "line": {
              "color": "white"
             }
            },
            "type": "table"
           }
          ]
         },
         "layout": {
          "annotationdefaults": {
           "arrowcolor": "#2a3f5f",
           "arrowhead": 0,
           "arrowwidth": 1
          },
          "autotypenumbers": "strict",
          "coloraxis": {
           "colorbar": {
            "outlinewidth": 0,
            "ticks": ""
           }
          },
          "colorscale": {
           "diverging": [
            [
             0,
             "#8e0152"
            ],
            [
             0.1,
             "#c51b7d"
            ],
            [
             0.2,
             "#de77ae"
            ],
            [
             0.3,
             "#f1b6da"
            ],
            [
             0.4,
             "#fde0ef"
            ],
            [
             0.5,
             "#f7f7f7"
            ],
            [
             0.6,
             "#e6f5d0"
            ],
            [
             0.7,
             "#b8e186"
            ],
            [
             0.8,
             "#7fbc41"
            ],
            [
             0.9,
             "#4d9221"
            ],
            [
             1,
             "#276419"
            ]
           ],
           "sequential": [
            [
             0,
             "#0d0887"
            ],
            [
             0.1111111111111111,
             "#46039f"
            ],
            [
             0.2222222222222222,
             "#7201a8"
            ],
            [
             0.3333333333333333,
             "#9c179e"
            ],
            [
             0.4444444444444444,
             "#bd3786"
            ],
            [
             0.5555555555555556,
             "#d8576b"
            ],
            [
             0.6666666666666666,
             "#ed7953"
            ],
            [
             0.7777777777777778,
             "#fb9f3a"
            ],
            [
             0.8888888888888888,
             "#fdca26"
            ],
            [
             1,
             "#f0f921"
            ]
           ],
           "sequentialminus": [
            [
             0,
             "#0d0887"
            ],
            [
             0.1111111111111111,
             "#46039f"
            ],
            [
             0.2222222222222222,
             "#7201a8"
            ],
            [
             0.3333333333333333,
             "#9c179e"
            ],
            [
             0.4444444444444444,
             "#bd3786"
            ],
            [
             0.5555555555555556,
             "#d8576b"
            ],
            [
             0.6666666666666666,
             "#ed7953"
            ],
            [
             0.7777777777777778,
             "#fb9f3a"
            ],
            [
             0.8888888888888888,
             "#fdca26"
            ],
            [
             1,
             "#f0f921"
            ]
           ]
          },
          "colorway": [
           "#636efa",
           "#EF553B",
           "#00cc96",
           "#ab63fa",
           "#FFA15A",
           "#19d3f3",
           "#FF6692",
           "#B6E880",
           "#FF97FF",
           "#FECB52"
          ],
          "font": {
           "color": "#2a3f5f"
          },
          "geo": {
           "bgcolor": "white",
           "lakecolor": "white",
           "landcolor": "#E5ECF6",
           "showlakes": true,
           "showland": true,
           "subunitcolor": "white"
          },
          "hoverlabel": {
           "align": "left"
          },
          "hovermode": "closest",
          "mapbox": {
           "style": "light"
          },
          "paper_bgcolor": "white",
          "plot_bgcolor": "#E5ECF6",
          "polar": {
           "angularaxis": {
            "gridcolor": "white",
            "linecolor": "white",
            "ticks": ""
           },
           "bgcolor": "#E5ECF6",
           "radialaxis": {
            "gridcolor": "white",
            "linecolor": "white",
            "ticks": ""
           }
          },
          "scene": {
           "xaxis": {
            "backgroundcolor": "#E5ECF6",
            "gridcolor": "white",
            "gridwidth": 2,
            "linecolor": "white",
            "showbackground": true,
            "ticks": "",
            "zerolinecolor": "white"
           },
           "yaxis": {
            "backgroundcolor": "#E5ECF6",
            "gridcolor": "white",
            "gridwidth": 2,
            "linecolor": "white",
            "showbackground": true,
            "ticks": "",
            "zerolinecolor": "white"
           },
           "zaxis": {
            "backgroundcolor": "#E5ECF6",
            "gridcolor": "white",
            "gridwidth": 2,
            "linecolor": "white",
            "showbackground": true,
            "ticks": "",
            "zerolinecolor": "white"
           }
          },
          "shapedefaults": {
           "line": {
            "color": "#2a3f5f"
           }
          },
          "ternary": {
           "aaxis": {
            "gridcolor": "white",
            "linecolor": "white",
            "ticks": ""
           },
           "baxis": {
            "gridcolor": "white",
            "linecolor": "white",
            "ticks": ""
           },
           "bgcolor": "#E5ECF6",
           "caxis": {
            "gridcolor": "white",
            "linecolor": "white",
            "ticks": ""
           }
          },
          "title": {
           "x": 0.05
          },
          "xaxis": {
           "automargin": true,
           "gridcolor": "white",
           "linecolor": "white",
           "ticks": "",
           "title": {
            "standoff": 15
           },
           "zerolinecolor": "white",
           "zerolinewidth": 2
          },
          "yaxis": {
           "automargin": true,
           "gridcolor": "white",
           "linecolor": "white",
           "ticks": "",
           "title": {
            "standoff": 15
           },
           "zerolinecolor": "white",
           "zerolinewidth": 2
          }
         }
        },
        "title": {
         "text": "Minimum Spanning Tree Visualization"
        },
        "xaxis": {
         "showgrid": false,
         "showticklabels": false,
         "zeroline": false
        },
        "yaxis": {
         "showgrid": false,
         "showticklabels": false,
         "zeroline": false
        }
       }
      }
     },
     "metadata": {},
     "output_type": "display_data"
    }
   ],
   "source": [
    "\n",
    "# Extract node positions for plotting\n",
    "pos = nx.spring_layout(mst, seed=42)\n",
    "\n",
    "# Create Plotly figure for interactive visualization\n",
    "fig = go.Figure()\n",
    "\n",
    "# Add nodes to the figure\n",
    "for node in mst.nodes:\n",
    "    x, y = pos[node]\n",
    "    fig.add_trace(go.Scatter(x=[x], y=[y], mode='markers+text', marker=dict(size=30), text=node, textposition=\"middle center\", name=node))\n",
    "\n",
    "# Add edges of MST to the figure\n",
    "for edge in mst.edges():\n",
    "    x0, y0 = pos[edge[0]]\n",
    "    x1, y1 = pos[edge[1]]\n",
    "    fig.add_trace(go.Scatter(x=[x0, x1], y=[y0, y1], mode='lines', line=dict(width=2, color='red'), name=f\"{edge[0]} - {edge[1]}\"))\n",
    "\n",
    "# Update layout options\n",
    "fig.update_layout(\n",
    "    title='Minimum Spanning Tree Visualization',\n",
    "    showlegend=False,\n",
    "    hovermode='closest',\n",
    "    xaxis=dict(showgrid=False, zeroline=False, showticklabels=False),\n",
    "    yaxis=dict(showgrid=False, zeroline=False, showticklabels=False)\n",
    ")\n",
    "\n",
    "# Show the interactive plot\n",
    "fig.show()\n"
   ]
  }
 ],
 "metadata": {
  "kernelspec": {
   "display_name": "psych_overlap",
   "language": "python",
   "name": "python3"
  },
  "language_info": {
   "codemirror_mode": {
    "name": "ipython",
    "version": 3
   },
   "file_extension": ".py",
   "mimetype": "text/x-python",
   "name": "python",
   "nbconvert_exporter": "python",
   "pygments_lexer": "ipython3",
   "version": "3.10.13"
  }
 },
 "nbformat": 4,
 "nbformat_minor": 2
}
