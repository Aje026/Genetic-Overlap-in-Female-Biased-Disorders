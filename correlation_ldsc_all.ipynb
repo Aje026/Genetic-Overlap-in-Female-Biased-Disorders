{
 "cells": [
  {
   "cell_type": "code",
   "execution_count": 23,
   "metadata": {},
   "outputs": [],
   "source": [
    "import pandas as pd\n",
    "import seaborn as sns\n",
    "import matplotlib.pyplot as plt\n",
    "import glob"
   ]
  },
  {
   "cell_type": "code",
   "execution_count": 24,
   "metadata": {},
   "outputs": [],
   "source": [
    "#getting a list of files to be read\n",
    "ex_table_files = glob.glob('*_extracted_table.txt')\n",
    "# Sort the list of files based on the numeric part in the filenames\n",
    "ex_table_files = sorted(ex_table_files, key=lambda x: int(x.split('_')[0]), reverse=True)"
   ]
  },
  {
   "cell_type": "code",
   "execution_count": 27,
   "metadata": {},
   "outputs": [],
   "source": [
    "\n",
    "df_list = []\n",
    "\n",
    "#read in files to dataframes, selecting relevant columns\n",
    "for file in ex_table_files:\n",
    "    df = pd.read_csv(file, delim_whitespace=True\n",
    "                     , skiprows=1) \n",
    "    df = df[['p1','p2','rg','se','z','p']]\n",
    "    df_list.append(df)"
   ]
  },
  {
   "cell_type": "code",
   "execution_count": 28,
   "metadata": {},
   "outputs": [
    {
     "data": {
      "text/html": [
       "<div>\n",
       "<style scoped>\n",
       "    .dataframe tbody tr th:only-of-type {\n",
       "        vertical-align: middle;\n",
       "    }\n",
       "\n",
       "    .dataframe tbody tr th {\n",
       "        vertical-align: top;\n",
       "    }\n",
       "\n",
       "    .dataframe thead th {\n",
       "        text-align: right;\n",
       "    }\n",
       "</style>\n",
       "<table border=\"1\" class=\"dataframe\">\n",
       "  <thead>\n",
       "    <tr style=\"text-align: right;\">\n",
       "      <th></th>\n",
       "      <th>p1</th>\n",
       "      <th>p2</th>\n",
       "      <th>rg</th>\n",
       "      <th>se</th>\n",
       "      <th>z</th>\n",
       "      <th>p</th>\n",
       "    </tr>\n",
       "  </thead>\n",
       "  <tbody>\n",
       "    <tr>\n",
       "      <th>0</th>\n",
       "      <td>munged/ADHD.sumstats.gz</td>\n",
       "      <td>munged/ANOREXIA.sumstats.gz</td>\n",
       "      <td>-0.0931</td>\n",
       "      <td>0.0370</td>\n",
       "      <td>-2.5141</td>\n",
       "      <td>1.193500e-02</td>\n",
       "    </tr>\n",
       "    <tr>\n",
       "      <th>1</th>\n",
       "      <td>munged/ADHD.sumstats.gz</td>\n",
       "      <td>munged/ANXIETY.sumstats.gz</td>\n",
       "      <td>0.3234</td>\n",
       "      <td>0.1350</td>\n",
       "      <td>2.3950</td>\n",
       "      <td>1.661900e-02</td>\n",
       "    </tr>\n",
       "    <tr>\n",
       "      <th>2</th>\n",
       "      <td>munged/ADHD.sumstats.gz</td>\n",
       "      <td>munged/ASD.sumstats.gz</td>\n",
       "      <td>0.4326</td>\n",
       "      <td>0.0513</td>\n",
       "      <td>8.4319</td>\n",
       "      <td>3.402200e-17</td>\n",
       "    </tr>\n",
       "    <tr>\n",
       "      <th>3</th>\n",
       "      <td>munged/ADHD.sumstats.gz</td>\n",
       "      <td>munged/AUD.sumstats.gz</td>\n",
       "      <td>-0.0135</td>\n",
       "      <td>0.0261</td>\n",
       "      <td>-0.5154</td>\n",
       "      <td>6.062400e-01</td>\n",
       "    </tr>\n",
       "    <tr>\n",
       "      <th>4</th>\n",
       "      <td>munged/ADHD.sumstats.gz</td>\n",
       "      <td>munged/BIL_CHIR.sumstats.gz</td>\n",
       "      <td>0.0809</td>\n",
       "      <td>0.0416</td>\n",
       "      <td>1.9447</td>\n",
       "      <td>5.181000e-02</td>\n",
       "    </tr>\n",
       "  </tbody>\n",
       "</table>\n",
       "</div>"
      ],
      "text/plain": [
       "                        p1                           p2       rg      se  \\\n",
       "0  munged/ADHD.sumstats.gz  munged/ANOREXIA.sumstats.gz  -0.0931  0.0370   \n",
       "1  munged/ADHD.sumstats.gz   munged/ANXIETY.sumstats.gz   0.3234  0.1350   \n",
       "2  munged/ADHD.sumstats.gz       munged/ASD.sumstats.gz   0.4326  0.0513   \n",
       "3  munged/ADHD.sumstats.gz       munged/AUD.sumstats.gz  -0.0135  0.0261   \n",
       "4  munged/ADHD.sumstats.gz  munged/BIL_CHIR.sumstats.gz   0.0809  0.0416   \n",
       "\n",
       "         z             p  \n",
       "0  -2.5141  1.193500e-02  \n",
       "1   2.3950  1.661900e-02  \n",
       "2   8.4319  3.402200e-17  \n",
       "3  -0.5154  6.062400e-01  \n",
       "4   1.9447  5.181000e-02  "
      ]
     },
     "execution_count": 28,
     "metadata": {},
     "output_type": "execute_result"
    }
   ],
   "source": [
    "df_list[0].head()"
   ]
  },
  {
   "cell_type": "code",
   "execution_count": null,
   "metadata": {},
   "outputs": [],
   "source": [
    "disorders = []"
   ]
  }
 ],
 "metadata": {
  "kernelspec": {
   "display_name": "psych_overlap",
   "language": "python",
   "name": "python3"
  },
  "language_info": {
   "codemirror_mode": {
    "name": "ipython",
    "version": 3
   },
   "file_extension": ".py",
   "mimetype": "text/x-python",
   "name": "python",
   "nbconvert_exporter": "python",
   "pygments_lexer": "ipython3",
   "version": "3.10.13"
  }
 },
 "nbformat": 4,
 "nbformat_minor": 2
}
