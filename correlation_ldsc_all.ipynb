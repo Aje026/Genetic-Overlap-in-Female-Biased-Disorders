{
 "cells": [
  {
   "cell_type": "code",
   "execution_count": 2,
   "metadata": {},
   "outputs": [],
   "source": [
    "import pandas as pd\n",
    "import seaborn as sns\n",
    "import matplotlib.pyplot as plt\n",
    "import glob"
   ]
  },
  {
   "cell_type": "code",
   "execution_count": 3,
   "metadata": {},
   "outputs": [],
   "source": [
    "#getting a list of files to be read\n",
    "ex_table_files = glob.glob('*_extracted_table.txt')\n",
    "\n",
    "df_list = []\n",
    "\n",
    "#read in files to dataframes, selecting relevant columns\n",
    "for file in ex_table_files:\n",
    "    df = pd.read_csv(file, delim_whitespace=True\n",
    "                     , skiprows=1) \n",
    "    df = df[['p1','p2','rg','se','z','p']]\n",
    "    df_list.append(df)"
   ]
  },
  {
   "cell_type": "code",
   "execution_count": 4,
   "metadata": {},
   "outputs": [
    {
     "data": {
      "text/html": [
       "<div>\n",
       "<style scoped>\n",
       "    .dataframe tbody tr th:only-of-type {\n",
       "        vertical-align: middle;\n",
       "    }\n",
       "\n",
       "    .dataframe tbody tr th {\n",
       "        vertical-align: top;\n",
       "    }\n",
       "\n",
       "    .dataframe thead th {\n",
       "        text-align: right;\n",
       "    }\n",
       "</style>\n",
       "<table border=\"1\" class=\"dataframe\">\n",
       "  <thead>\n",
       "    <tr style=\"text-align: right;\">\n",
       "      <th></th>\n",
       "      <th>p1</th>\n",
       "      <th>p2</th>\n",
       "      <th>rg</th>\n",
       "      <th>se</th>\n",
       "      <th>z</th>\n",
       "      <th>p</th>\n",
       "    </tr>\n",
       "  </thead>\n",
       "  <tbody>\n",
       "    <tr>\n",
       "      <th>0</th>\n",
       "      <td>munged/OCD.sumstats.gz</td>\n",
       "      <td>munged/OD_caseVunexposed.sumstats.gz</td>\n",
       "      <td>-0.1153</td>\n",
       "      <td>0.1816</td>\n",
       "      <td>-0.6349</td>\n",
       "      <td>0.52547</td>\n",
       "    </tr>\n",
       "    <tr>\n",
       "      <th>1</th>\n",
       "      <td>munged/OCD.sumstats.gz</td>\n",
       "      <td>munged/PANIC.sumstats.gz</td>\n",
       "      <td>0.1504</td>\n",
       "      <td>0.1364</td>\n",
       "      <td>1.1026</td>\n",
       "      <td>0.27021</td>\n",
       "    </tr>\n",
       "    <tr>\n",
       "      <th>2</th>\n",
       "      <td>munged/OCD.sumstats.gz</td>\n",
       "      <td>munged/PARKINSONS.sumstats.gz</td>\n",
       "      <td>0.1181</td>\n",
       "      <td>0.1909</td>\n",
       "      <td>0.6187</td>\n",
       "      <td>0.53614</td>\n",
       "    </tr>\n",
       "    <tr>\n",
       "      <th>3</th>\n",
       "      <td>munged/OCD.sumstats.gz</td>\n",
       "      <td>munged/PTSD.sumstats.gz</td>\n",
       "      <td>0.1096</td>\n",
       "      <td>0.1152</td>\n",
       "      <td>0.9512</td>\n",
       "      <td>0.34151</td>\n",
       "    </tr>\n",
       "    <tr>\n",
       "      <th>4</th>\n",
       "      <td>munged/OCD.sumstats.gz</td>\n",
       "      <td>munged/RH_ARTHRITIS.sumstats.gz</td>\n",
       "      <td>-0.1202</td>\n",
       "      <td>0.0757</td>\n",
       "      <td>-1.5870</td>\n",
       "      <td>0.11252</td>\n",
       "    </tr>\n",
       "  </tbody>\n",
       "</table>\n",
       "</div>"
      ],
      "text/plain": [
       "                       p1                                    p2       rg  \\\n",
       "0  munged/OCD.sumstats.gz  munged/OD_caseVunexposed.sumstats.gz  -0.1153   \n",
       "1  munged/OCD.sumstats.gz              munged/PANIC.sumstats.gz   0.1504   \n",
       "2  munged/OCD.sumstats.gz         munged/PARKINSONS.sumstats.gz   0.1181   \n",
       "3  munged/OCD.sumstats.gz               munged/PTSD.sumstats.gz   0.1096   \n",
       "4  munged/OCD.sumstats.gz       munged/RH_ARTHRITIS.sumstats.gz  -0.1202   \n",
       "\n",
       "       se        z        p  \n",
       "0  0.1816  -0.6349  0.52547  \n",
       "1  0.1364   1.1026  0.27021  \n",
       "2  0.1909   0.6187  0.53614  \n",
       "3  0.1152   0.9512  0.34151  \n",
       "4  0.0757  -1.5870  0.11252  "
      ]
     },
     "execution_count": 4,
     "metadata": {},
     "output_type": "execute_result"
    }
   ],
   "source": [
    "df_list[0].head()"
   ]
  },
  {
   "cell_type": "code",
   "execution_count": null,
   "metadata": {},
   "outputs": [],
   "source": []
  }
 ],
 "metadata": {
  "kernelspec": {
   "display_name": "psych_overlap",
   "language": "python",
   "name": "python3"
  },
  "language_info": {
   "codemirror_mode": {
    "name": "ipython",
    "version": 3
   },
   "file_extension": ".py",
   "mimetype": "text/x-python",
   "name": "python",
   "nbconvert_exporter": "python",
   "pygments_lexer": "ipython3",
   "version": "3.10.13"
  }
 },
 "nbformat": 4,
 "nbformat_minor": 2
}
