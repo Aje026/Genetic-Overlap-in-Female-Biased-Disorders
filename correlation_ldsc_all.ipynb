{
 "cells": [
  {
   "cell_type": "code",
   "execution_count": 9,
   "metadata": {},
   "outputs": [],
   "source": [
    "import pandas as pd\n",
    "import seaborn as sns\n",
    "import matplotlib.pyplot as plt\n",
    "import glob"
   ]
  },
  {
   "cell_type": "code",
   "execution_count": 24,
   "metadata": {},
   "outputs": [],
   "source": [
    "#getting a list of files to be read\n",
    "ex_table_files = glob.glob('*_extracted_table.txt')\n",
    "\n",
    "df_list = []\n",
    "\n",
    "for file in ex_table_files:\n",
    "    df = pd.read_csv(file, delim_whitespace=True\n",
    "                     , skiprows=1) \n",
    "    df = df[['p1','p2','rg','se','z','p']]\n",
    "    df_list.append(df)"
   ]
  },
  {
   "cell_type": "code",
   "execution_count": 25,
   "metadata": {},
   "outputs": [
    {
     "data": {
      "text/html": [
       "<div>\n",
       "<style scoped>\n",
       "    .dataframe tbody tr th:only-of-type {\n",
       "        vertical-align: middle;\n",
       "    }\n",
       "\n",
       "    .dataframe tbody tr th {\n",
       "        vertical-align: top;\n",
       "    }\n",
       "\n",
       "    .dataframe thead th {\n",
       "        text-align: right;\n",
       "    }\n",
       "</style>\n",
       "<table border=\"1\" class=\"dataframe\">\n",
       "  <thead>\n",
       "    <tr style=\"text-align: right;\">\n",
       "      <th></th>\n",
       "      <th>p1</th>\n",
       "      <th>p2</th>\n",
       "      <th>rg</th>\n",
       "      <th>se</th>\n",
       "      <th>z</th>\n",
       "      <th>p</th>\n",
       "    </tr>\n",
       "  </thead>\n",
       "  <tbody>\n",
       "    <tr>\n",
       "      <th>0</th>\n",
       "      <td>munged/GOUT.sumstats.gz</td>\n",
       "      <td>munged/HOARDING.sumstats.gz</td>\n",
       "      <td>0.0428</td>\n",
       "      <td>0.1574</td>\n",
       "      <td>0.2717</td>\n",
       "      <td>0.7859</td>\n",
       "    </tr>\n",
       "    <tr>\n",
       "      <th>1</th>\n",
       "      <td>munged/GOUT.sumstats.gz</td>\n",
       "      <td>munged/IBS.sumstats.gz</td>\n",
       "      <td>-0.0137</td>\n",
       "      <td>0.0515</td>\n",
       "      <td>-0.2664</td>\n",
       "      <td>0.7899</td>\n",
       "    </tr>\n",
       "    <tr>\n",
       "      <th>2</th>\n",
       "      <td>munged/GOUT.sumstats.gz</td>\n",
       "      <td>munged/LUPUS.sumstats.gz</td>\n",
       "      <td>-0.1223</td>\n",
       "      <td>0.0838</td>\n",
       "      <td>-1.4606</td>\n",
       "      <td>0.1441</td>\n",
       "    </tr>\n",
       "    <tr>\n",
       "      <th>3</th>\n",
       "      <td>munged/GOUT.sumstats.gz</td>\n",
       "      <td>munged/MDD.sumstats.gz</td>\n",
       "      <td>0.0072</td>\n",
       "      <td>0.0118</td>\n",
       "      <td>0.6100</td>\n",
       "      <td>0.5418</td>\n",
       "    </tr>\n",
       "    <tr>\n",
       "      <th>4</th>\n",
       "      <td>munged/GOUT.sumstats.gz</td>\n",
       "      <td>munged/MIGRAINE.sumstats.gz</td>\n",
       "      <td>0.0344</td>\n",
       "      <td>0.0514</td>\n",
       "      <td>0.6698</td>\n",
       "      <td>0.5030</td>\n",
       "    </tr>\n",
       "  </tbody>\n",
       "</table>\n",
       "</div>"
      ],
      "text/plain": [
       "                        p1                           p2       rg      se  \\\n",
       "0  munged/GOUT.sumstats.gz  munged/HOARDING.sumstats.gz   0.0428  0.1574   \n",
       "1  munged/GOUT.sumstats.gz       munged/IBS.sumstats.gz  -0.0137  0.0515   \n",
       "2  munged/GOUT.sumstats.gz     munged/LUPUS.sumstats.gz  -0.1223  0.0838   \n",
       "3  munged/GOUT.sumstats.gz       munged/MDD.sumstats.gz   0.0072  0.0118   \n",
       "4  munged/GOUT.sumstats.gz  munged/MIGRAINE.sumstats.gz   0.0344  0.0514   \n",
       "\n",
       "         z       p  \n",
       "0   0.2717  0.7859  \n",
       "1  -0.2664  0.7899  \n",
       "2  -1.4606  0.1441  \n",
       "3   0.6100  0.5418  \n",
       "4   0.6698  0.5030  "
      ]
     },
     "execution_count": 25,
     "metadata": {},
     "output_type": "execute_result"
    }
   ],
   "source": [
    "df_list[8].head()"
   ]
  },
  {
   "cell_type": "code",
   "execution_count": null,
   "metadata": {},
   "outputs": [],
   "source": []
  }
 ],
 "metadata": {
  "kernelspec": {
   "display_name": "psych_overlap",
   "language": "python",
   "name": "python3"
  },
  "language_info": {
   "codemirror_mode": {
    "name": "ipython",
    "version": 3
   },
   "file_extension": ".py",
   "mimetype": "text/x-python",
   "name": "python",
   "nbconvert_exporter": "python",
   "pygments_lexer": "ipython3",
   "version": "3.10.13"
  }
 },
 "nbformat": 4,
 "nbformat_minor": 2
}
