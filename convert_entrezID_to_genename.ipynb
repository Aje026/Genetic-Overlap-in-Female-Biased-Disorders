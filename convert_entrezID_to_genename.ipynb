{
 "cells": [
  {
   "cell_type": "code",
   "execution_count": 17,
   "id": "initial_id",
   "metadata": {
    "collapsed": true,
    "ExecuteTime": {
     "end_time": "2023-09-21T11:33:33.548359200Z",
     "start_time": "2023-09-21T11:33:33.546422700Z"
    }
   },
   "outputs": [],
   "source": [
    "import pandas as pd"
   ]
  },
  {
   "cell_type": "code",
   "execution_count": 18,
   "outputs": [],
   "source": [
    "#Read the file\n",
    "\n",
    "df_pathway_db = pd.read_csv('HS-DB.tsv', sep='\\t', header=None)\n",
    "df_pathway_db = df_pathway_db.rename(columns={0: 'GeneID_1', 1: 'GeneID_2'})\n",
    "ensembl = pd.read_csv('mart_export.txt', sep='\\t')\n"
   ],
   "metadata": {
    "collapsed": false,
    "ExecuteTime": {
     "end_time": "2023-09-21T11:33:34.487382800Z",
     "start_time": "2023-09-21T11:33:34.378233200Z"
    }
   },
   "id": "b1cf27f544398e6a"
  },
  {
   "cell_type": "code",
   "execution_count": 33,
   "outputs": [
    {
     "data": {
      "text/plain": "        GeneID_1  GeneID_2         2 Gene name_1  \\\n0           5213      5214  5.859997        PFKM   \n1           5211      5213  5.859997        PFKL   \n2           5211      5214  5.859997        PFKL   \n3           2555      2557  5.740013      GABRA2   \n4           2556      2559  5.740013      GABRA3   \n...          ...       ...       ...         ...   \n209757     64432     64969  2.870311      MRPS25   \n209758     10884     54148  2.870311      MRPS30   \n209759     51642     79590  2.870311      MRPL48   \n209760     51116     78988  2.870311       MRPS2   \n209761     51258     60488  2.870311      MRPL51   \n\n        NCBI gene (formerly Entrezgene) ID_x Gene name_2  \\\n0                                     5213.0        PFKP   \n1                                     5211.0        PFKM   \n2                                     5211.0        PFKP   \n3                                     2555.0      GABRA4   \n4                                     2556.0      GABRA6   \n...                                      ...         ...   \n209757                               64432.0       MRPS5   \n209758                               10884.0      MRPL39   \n209759                               51642.0      MRPL24   \n209760                               51116.0      MRPL57   \n209761                               51258.0      MRPS35   \n\n        NCBI gene (formerly Entrezgene) ID_y  \n0                                     5214.0  \n1                                     5213.0  \n2                                     5214.0  \n3                                     2557.0  \n4                                     2559.0  \n...                                      ...  \n209757                               64969.0  \n209758                               54148.0  \n209759                               79590.0  \n209760                               78988.0  \n209761                               60488.0  \n\n[209762 rows x 7 columns]",
      "text/html": "<div>\n<style scoped>\n    .dataframe tbody tr th:only-of-type {\n        vertical-align: middle;\n    }\n\n    .dataframe tbody tr th {\n        vertical-align: top;\n    }\n\n    .dataframe thead th {\n        text-align: right;\n    }\n</style>\n<table border=\"1\" class=\"dataframe\">\n  <thead>\n    <tr style=\"text-align: right;\">\n      <th></th>\n      <th>GeneID_1</th>\n      <th>GeneID_2</th>\n      <th>2</th>\n      <th>Gene name_1</th>\n      <th>NCBI gene (formerly Entrezgene) ID_x</th>\n      <th>Gene name_2</th>\n      <th>NCBI gene (formerly Entrezgene) ID_y</th>\n    </tr>\n  </thead>\n  <tbody>\n    <tr>\n      <th>0</th>\n      <td>5213</td>\n      <td>5214</td>\n      <td>5.859997</td>\n      <td>PFKM</td>\n      <td>5213.0</td>\n      <td>PFKP</td>\n      <td>5214.0</td>\n    </tr>\n    <tr>\n      <th>1</th>\n      <td>5211</td>\n      <td>5213</td>\n      <td>5.859997</td>\n      <td>PFKL</td>\n      <td>5211.0</td>\n      <td>PFKM</td>\n      <td>5213.0</td>\n    </tr>\n    <tr>\n      <th>2</th>\n      <td>5211</td>\n      <td>5214</td>\n      <td>5.859997</td>\n      <td>PFKL</td>\n      <td>5211.0</td>\n      <td>PFKP</td>\n      <td>5214.0</td>\n    </tr>\n    <tr>\n      <th>3</th>\n      <td>2555</td>\n      <td>2557</td>\n      <td>5.740013</td>\n      <td>GABRA2</td>\n      <td>2555.0</td>\n      <td>GABRA4</td>\n      <td>2557.0</td>\n    </tr>\n    <tr>\n      <th>4</th>\n      <td>2556</td>\n      <td>2559</td>\n      <td>5.740013</td>\n      <td>GABRA3</td>\n      <td>2556.0</td>\n      <td>GABRA6</td>\n      <td>2559.0</td>\n    </tr>\n    <tr>\n      <th>...</th>\n      <td>...</td>\n      <td>...</td>\n      <td>...</td>\n      <td>...</td>\n      <td>...</td>\n      <td>...</td>\n      <td>...</td>\n    </tr>\n    <tr>\n      <th>209757</th>\n      <td>64432</td>\n      <td>64969</td>\n      <td>2.870311</td>\n      <td>MRPS25</td>\n      <td>64432.0</td>\n      <td>MRPS5</td>\n      <td>64969.0</td>\n    </tr>\n    <tr>\n      <th>209758</th>\n      <td>10884</td>\n      <td>54148</td>\n      <td>2.870311</td>\n      <td>MRPS30</td>\n      <td>10884.0</td>\n      <td>MRPL39</td>\n      <td>54148.0</td>\n    </tr>\n    <tr>\n      <th>209759</th>\n      <td>51642</td>\n      <td>79590</td>\n      <td>2.870311</td>\n      <td>MRPL48</td>\n      <td>51642.0</td>\n      <td>MRPL24</td>\n      <td>79590.0</td>\n    </tr>\n    <tr>\n      <th>209760</th>\n      <td>51116</td>\n      <td>78988</td>\n      <td>2.870311</td>\n      <td>MRPS2</td>\n      <td>51116.0</td>\n      <td>MRPL57</td>\n      <td>78988.0</td>\n    </tr>\n    <tr>\n      <th>209761</th>\n      <td>51258</td>\n      <td>60488</td>\n      <td>2.870311</td>\n      <td>MRPL51</td>\n      <td>51258.0</td>\n      <td>MRPS35</td>\n      <td>60488.0</td>\n    </tr>\n  </tbody>\n</table>\n<p>209762 rows × 7 columns</p>\n</div>"
     },
     "execution_count": 33,
     "metadata": {},
     "output_type": "execute_result"
    }
   ],
   "source": [
    "df_pathway_db"
   ],
   "metadata": {
    "collapsed": false,
    "ExecuteTime": {
     "end_time": "2023-10-04T10:29:29.575978300Z",
     "start_time": "2023-10-04T10:29:29.544518Z"
    }
   },
   "id": "8c23f933eb6d7829"
  },
  {
   "cell_type": "code",
   "execution_count": 34,
   "outputs": [
    {
     "data": {
      "text/plain": "      Gene name  NCBI gene (formerly Entrezgene) ID\n0         MT-TF                                 NaN\n1       MT-RNR1                                 NaN\n2         MT-TV                                 NaN\n3       MT-RNR2                                 NaN\n4        MT-TL1                                 NaN\n...         ...                                 ...\n75714    CD24P1                                 NaN\n75715      DDI2                             84301.0\n75716    RSC1A1                              6248.0\n75717       NaN                                 NaN\n75718   PLEKHM2                             23207.0\n\n[75719 rows x 2 columns]",
      "text/html": "<div>\n<style scoped>\n    .dataframe tbody tr th:only-of-type {\n        vertical-align: middle;\n    }\n\n    .dataframe tbody tr th {\n        vertical-align: top;\n    }\n\n    .dataframe thead th {\n        text-align: right;\n    }\n</style>\n<table border=\"1\" class=\"dataframe\">\n  <thead>\n    <tr style=\"text-align: right;\">\n      <th></th>\n      <th>Gene name</th>\n      <th>NCBI gene (formerly Entrezgene) ID</th>\n    </tr>\n  </thead>\n  <tbody>\n    <tr>\n      <th>0</th>\n      <td>MT-TF</td>\n      <td>NaN</td>\n    </tr>\n    <tr>\n      <th>1</th>\n      <td>MT-RNR1</td>\n      <td>NaN</td>\n    </tr>\n    <tr>\n      <th>2</th>\n      <td>MT-TV</td>\n      <td>NaN</td>\n    </tr>\n    <tr>\n      <th>3</th>\n      <td>MT-RNR2</td>\n      <td>NaN</td>\n    </tr>\n    <tr>\n      <th>4</th>\n      <td>MT-TL1</td>\n      <td>NaN</td>\n    </tr>\n    <tr>\n      <th>...</th>\n      <td>...</td>\n      <td>...</td>\n    </tr>\n    <tr>\n      <th>75714</th>\n      <td>CD24P1</td>\n      <td>NaN</td>\n    </tr>\n    <tr>\n      <th>75715</th>\n      <td>DDI2</td>\n      <td>84301.0</td>\n    </tr>\n    <tr>\n      <th>75716</th>\n      <td>RSC1A1</td>\n      <td>6248.0</td>\n    </tr>\n    <tr>\n      <th>75717</th>\n      <td>NaN</td>\n      <td>NaN</td>\n    </tr>\n    <tr>\n      <th>75718</th>\n      <td>PLEKHM2</td>\n      <td>23207.0</td>\n    </tr>\n  </tbody>\n</table>\n<p>75719 rows × 2 columns</p>\n</div>"
     },
     "execution_count": 34,
     "metadata": {},
     "output_type": "execute_result"
    }
   ],
   "source": [
    "ensembl"
   ],
   "metadata": {
    "collapsed": false,
    "ExecuteTime": {
     "end_time": "2023-10-04T10:29:35.649204900Z",
     "start_time": "2023-10-04T10:29:35.586458200Z"
    }
   },
   "id": "df7d6376efec94e3"
  },
  {
   "cell_type": "code",
   "execution_count": 21,
   "outputs": [],
   "source": [
    "# Merge df1 and df2 to get the Gene name for GeneID_1\n",
    "df_pathway_db = df_pathway_db.merge(ensembl[['Gene name', 'NCBI gene (formerly Entrezgene) ID']], left_on='GeneID_1', right_on='NCBI gene (formerly Entrezgene) ID', how='left')\n",
    "df_pathway_db = df_pathway_db.rename(columns={'Gene name': 'Gene name_1'})\n",
    "\n",
    "# Merge df1 and df2 to get the Gene name for GeneID_2\n",
    "df_pathway_db = df_pathway_db.merge(ensembl[['Gene name', 'NCBI gene (formerly Entrezgene) ID']], left_on='GeneID_2', right_on='NCBI gene (formerly Entrezgene) ID', how='left')\n",
    "df_pathway_db = df_pathway_db.rename(columns={'Gene name': 'Gene name_2'})\n",
    "\n"
   ],
   "metadata": {
    "collapsed": false,
    "ExecuteTime": {
     "end_time": "2023-09-21T11:33:37.433610500Z",
     "start_time": "2023-09-21T11:33:37.294876100Z"
    }
   },
   "id": "4027f200ac9d55a7"
  },
  {
   "cell_type": "code",
   "execution_count": 22,
   "outputs": [
    {
     "data": {
      "text/plain": "   GeneID_1  GeneID_2         2 Gene name_1  \\\n0      5213      5214  5.859997        PFKM   \n1      5211      5213  5.859997        PFKL   \n2      5211      5214  5.859997        PFKL   \n3      2555      2557  5.740013      GABRA2   \n4      2556      2559  5.740013      GABRA3   \n\n   NCBI gene (formerly Entrezgene) ID_x Gene name_2  \\\n0                                5213.0        PFKP   \n1                                5211.0        PFKM   \n2                                5211.0        PFKP   \n3                                2555.0      GABRA4   \n4                                2556.0      GABRA6   \n\n   NCBI gene (formerly Entrezgene) ID_y  \n0                                5214.0  \n1                                5213.0  \n2                                5214.0  \n3                                2557.0  \n4                                2559.0  ",
      "text/html": "<div>\n<style scoped>\n    .dataframe tbody tr th:only-of-type {\n        vertical-align: middle;\n    }\n\n    .dataframe tbody tr th {\n        vertical-align: top;\n    }\n\n    .dataframe thead th {\n        text-align: right;\n    }\n</style>\n<table border=\"1\" class=\"dataframe\">\n  <thead>\n    <tr style=\"text-align: right;\">\n      <th></th>\n      <th>GeneID_1</th>\n      <th>GeneID_2</th>\n      <th>2</th>\n      <th>Gene name_1</th>\n      <th>NCBI gene (formerly Entrezgene) ID_x</th>\n      <th>Gene name_2</th>\n      <th>NCBI gene (formerly Entrezgene) ID_y</th>\n    </tr>\n  </thead>\n  <tbody>\n    <tr>\n      <th>0</th>\n      <td>5213</td>\n      <td>5214</td>\n      <td>5.859997</td>\n      <td>PFKM</td>\n      <td>5213.0</td>\n      <td>PFKP</td>\n      <td>5214.0</td>\n    </tr>\n    <tr>\n      <th>1</th>\n      <td>5211</td>\n      <td>5213</td>\n      <td>5.859997</td>\n      <td>PFKL</td>\n      <td>5211.0</td>\n      <td>PFKM</td>\n      <td>5213.0</td>\n    </tr>\n    <tr>\n      <th>2</th>\n      <td>5211</td>\n      <td>5214</td>\n      <td>5.859997</td>\n      <td>PFKL</td>\n      <td>5211.0</td>\n      <td>PFKP</td>\n      <td>5214.0</td>\n    </tr>\n    <tr>\n      <th>3</th>\n      <td>2555</td>\n      <td>2557</td>\n      <td>5.740013</td>\n      <td>GABRA2</td>\n      <td>2555.0</td>\n      <td>GABRA4</td>\n      <td>2557.0</td>\n    </tr>\n    <tr>\n      <th>4</th>\n      <td>2556</td>\n      <td>2559</td>\n      <td>5.740013</td>\n      <td>GABRA3</td>\n      <td>2556.0</td>\n      <td>GABRA6</td>\n      <td>2559.0</td>\n    </tr>\n  </tbody>\n</table>\n</div>"
     },
     "execution_count": 22,
     "metadata": {},
     "output_type": "execute_result"
    }
   ],
   "source": [
    "df_pathway_db.head()"
   ],
   "metadata": {
    "collapsed": false,
    "ExecuteTime": {
     "end_time": "2023-09-21T11:33:38.479496900Z",
     "start_time": "2023-09-21T11:33:38.447787700Z"
    }
   },
   "id": "8b1b39e1bcf06435"
  },
  {
   "cell_type": "code",
   "execution_count": 23,
   "outputs": [],
   "source": [
    "new_df = df_pathway_db[['Gene name_1', 'Gene name_2']]"
   ],
   "metadata": {
    "collapsed": false,
    "ExecuteTime": {
     "end_time": "2023-09-21T11:33:39.945221300Z",
     "start_time": "2023-09-21T11:33:39.929374500Z"
    }
   },
   "id": "179fdb189d9a37b1"
  },
  {
   "cell_type": "code",
   "execution_count": 30,
   "outputs": [
    {
     "data": {
      "text/plain": "       Gene name_1 Gene name_2\n0             PFKM        PFKP\n1             PFKL        PFKM\n2             PFKL        PFKP\n3           GABRA2      GABRA4\n4           GABRA3      GABRA6\n...            ...         ...\n209757      MRPS25       MRPS5\n209758      MRPS30      MRPL39\n209759      MRPL48      MRPL24\n209760       MRPS2      MRPL57\n209761      MRPL51      MRPS35\n\n[209762 rows x 2 columns]",
      "text/html": "<div>\n<style scoped>\n    .dataframe tbody tr th:only-of-type {\n        vertical-align: middle;\n    }\n\n    .dataframe tbody tr th {\n        vertical-align: top;\n    }\n\n    .dataframe thead th {\n        text-align: right;\n    }\n</style>\n<table border=\"1\" class=\"dataframe\">\n  <thead>\n    <tr style=\"text-align: right;\">\n      <th></th>\n      <th>Gene name_1</th>\n      <th>Gene name_2</th>\n    </tr>\n  </thead>\n  <tbody>\n    <tr>\n      <th>0</th>\n      <td>PFKM</td>\n      <td>PFKP</td>\n    </tr>\n    <tr>\n      <th>1</th>\n      <td>PFKL</td>\n      <td>PFKM</td>\n    </tr>\n    <tr>\n      <th>2</th>\n      <td>PFKL</td>\n      <td>PFKP</td>\n    </tr>\n    <tr>\n      <th>3</th>\n      <td>GABRA2</td>\n      <td>GABRA4</td>\n    </tr>\n    <tr>\n      <th>4</th>\n      <td>GABRA3</td>\n      <td>GABRA6</td>\n    </tr>\n    <tr>\n      <th>...</th>\n      <td>...</td>\n      <td>...</td>\n    </tr>\n    <tr>\n      <th>209757</th>\n      <td>MRPS25</td>\n      <td>MRPS5</td>\n    </tr>\n    <tr>\n      <th>209758</th>\n      <td>MRPS30</td>\n      <td>MRPL39</td>\n    </tr>\n    <tr>\n      <th>209759</th>\n      <td>MRPL48</td>\n      <td>MRPL24</td>\n    </tr>\n    <tr>\n      <th>209760</th>\n      <td>MRPS2</td>\n      <td>MRPL57</td>\n    </tr>\n    <tr>\n      <th>209761</th>\n      <td>MRPL51</td>\n      <td>MRPS35</td>\n    </tr>\n  </tbody>\n</table>\n<p>209762 rows × 2 columns</p>\n</div>"
     },
     "execution_count": 30,
     "metadata": {},
     "output_type": "execute_result"
    }
   ],
   "source": [
    "new_df"
   ],
   "metadata": {
    "collapsed": false,
    "ExecuteTime": {
     "end_time": "2023-10-04T09:19:18.460462900Z",
     "start_time": "2023-10-04T09:19:18.413000600Z"
    }
   },
   "id": "185f80a837463553"
  },
  {
   "cell_type": "code",
   "execution_count": null,
   "outputs": [],
   "source": [],
   "metadata": {
    "collapsed": false
   },
   "id": "14c7bae073f675e"
  }
 ],
 "metadata": {
  "kernelspec": {
   "display_name": "Python 3",
   "language": "python",
   "name": "python3"
  },
  "language_info": {
   "codemirror_mode": {
    "name": "ipython",
    "version": 2
   },
   "file_extension": ".py",
   "mimetype": "text/x-python",
   "name": "python",
   "nbconvert_exporter": "python",
   "pygments_lexer": "ipython2",
   "version": "2.7.6"
  }
 },
 "nbformat": 4,
 "nbformat_minor": 5
}
