{
 "cells": [
  {
   "cell_type": "code",
   "execution_count": 2,
   "id": "initial_id",
   "metadata": {
    "collapsed": true,
    "ExecuteTime": {
     "end_time": "2023-11-29T09:41:19.313352200Z",
     "start_time": "2023-11-29T09:41:19.299826600Z"
    }
   },
   "outputs": [],
   "source": [
    "import pandas as pd\n",
    "import numpy as np\n",
    "from itertools import combinations\n"
   ]
  },
  {
   "cell_type": "code",
   "execution_count": 12,
   "outputs": [],
   "source": [
    "# Load file to dataframe\n",
    "df = pd.read_csv('output/eqtl_all_binary.txt', sep='\\t', index_col=0)"
   ],
   "metadata": {
    "collapsed": false,
    "ExecuteTime": {
     "end_time": "2023-11-29T11:29:18.808227Z",
     "start_time": "2023-11-29T11:29:18.714606900Z"
    }
   },
   "id": "3c21151181c928c0"
  },
  {
   "cell_type": "code",
   "execution_count": 13,
   "outputs": [
    {
     "name": "stdout",
     "output_type": "stream",
     "text": [
      "(9324, 26)\n"
     ]
    }
   ],
   "source": [
    "print(np.shape(df))"
   ],
   "metadata": {
    "collapsed": false,
    "ExecuteTime": {
     "end_time": "2023-11-29T11:29:19.424550100Z",
     "start_time": "2023-11-29T11:29:19.408800200Z"
    }
   },
   "id": "256f39dd9ff3b449"
  },
  {
   "cell_type": "code",
   "execution_count": 31,
   "outputs": [],
   "source": [
    "def count_ones_per_row(dataframe):\n",
    "    # Count the number of '1's in each row\n",
    "    num_ones_per_row = np.sum(dataframe, axis=1)\n",
    "    col = 26\n",
    "    while np.shape(dataframe[num_ones_per_row > col])[0] < 5:\n",
    "        col-=1\n",
    "    \n",
    "    return col  "
   ],
   "metadata": {
    "collapsed": false,
    "ExecuteTime": {
     "end_time": "2023-11-28T07:57:22.241688Z",
     "start_time": "2023-11-28T07:57:22.210069300Z"
    }
   },
   "id": "bc77c850a3bb43ae"
  },
  {
   "cell_type": "code",
   "execution_count": 36,
   "outputs": [],
   "source": [
    "max_combo = count_ones_per_row(df)"
   ],
   "metadata": {
    "collapsed": false,
    "ExecuteTime": {
     "end_time": "2023-11-28T08:04:58.125565Z",
     "start_time": "2023-11-28T08:04:58.094126700Z"
    }
   },
   "id": "af847a8c55875163"
  },
  {
   "cell_type": "code",
   "execution_count": 37,
   "outputs": [
    {
     "name": "stdout",
     "output_type": "stream",
     "text": [
      "8\n"
     ]
    }
   ],
   "source": [
    "print(max_combo)"
   ],
   "metadata": {
    "collapsed": false,
    "ExecuteTime": {
     "end_time": "2023-11-28T08:04:58.727607800Z",
     "start_time": "2023-11-28T08:04:58.697471200Z"
    }
   },
   "id": "a1ced617650b760e"
  },
  {
   "cell_type": "code",
   "execution_count": 14,
   "outputs": [],
   "source": [
    "# Set a seed for reproducibility\n",
    "np.random.seed(42)\n",
    "\n",
    "num_iterations = 10\n",
    "\n",
    "# Get all possible combinations of disorders\n",
    "all_combinations = []\n",
    "for r in range(2,5):\n",
    "    all_combinations.extend(list(combinations(df.columns, r)))\n",
    "\n",
    "# Create an empty DataFrame with rows as each combination and columns for storing counts in each iteration\n",
    "counts_df = pd.DataFrame(index=all_combinations, columns=range(1,num_iterations+1))\n",
    "\n",
    "# Perform the iterations\n",
    "for i in range(1,num_iterations+1):\n",
    "    # Permute the columns independently\n",
    "    permuted_df = df.apply(np.random.permutation, axis=0)\n",
    "\n",
    "    iteration_counts = []\n",
    "\n",
    "    # Count occurrences for each combination in this iteration\n",
    "    for combo in all_combinations:\n",
    "        # Check if all disorders in the combination are present in each row\n",
    "        count = (permuted_df[list(combo)] == 1).all(axis=1).sum()\n",
    "        iteration_counts.append(count)\n",
    "\n",
    "    # Store the counts for this iteration in the dataFrame\n",
    "    counts_df[i] = iteration_counts"
   ],
   "metadata": {
    "collapsed": false,
    "ExecuteTime": {
     "end_time": "2023-11-29T11:32:52.620248Z",
     "start_time": "2023-11-29T11:29:30.801556500Z"
    }
   },
   "id": "96fee035b2799162"
  },
  {
   "cell_type": "code",
   "execution_count": 15,
   "outputs": [
    {
     "data": {
      "text/plain": "                    1    2    3    4    5    6    7    8    9    10\n(ADHD, ANOREXIA)    64   53   52   60   63   48   51   53   66   51\n(ADHD, ANXIETY)      9    3   10    6    4    0    2    9    5    4\n(ADHD, ARTHRITIS)  301  342  339  306  332  320  319  310  336  343\n(ADHD, ASD)         37   37   45   34   43   30   38   38   51   43\n(ADHD, AUD)         75   82   78   70   80   67   86   69   80   75",
      "text/html": "<div>\n<style scoped>\n    .dataframe tbody tr th:only-of-type {\n        vertical-align: middle;\n    }\n\n    .dataframe tbody tr th {\n        vertical-align: top;\n    }\n\n    .dataframe thead th {\n        text-align: right;\n    }\n</style>\n<table border=\"1\" class=\"dataframe\">\n  <thead>\n    <tr style=\"text-align: right;\">\n      <th></th>\n      <th>1</th>\n      <th>2</th>\n      <th>3</th>\n      <th>4</th>\n      <th>5</th>\n      <th>6</th>\n      <th>7</th>\n      <th>8</th>\n      <th>9</th>\n      <th>10</th>\n    </tr>\n  </thead>\n  <tbody>\n    <tr>\n      <th>(ADHD, ANOREXIA)</th>\n      <td>64</td>\n      <td>53</td>\n      <td>52</td>\n      <td>60</td>\n      <td>63</td>\n      <td>48</td>\n      <td>51</td>\n      <td>53</td>\n      <td>66</td>\n      <td>51</td>\n    </tr>\n    <tr>\n      <th>(ADHD, ANXIETY)</th>\n      <td>9</td>\n      <td>3</td>\n      <td>10</td>\n      <td>6</td>\n      <td>4</td>\n      <td>0</td>\n      <td>2</td>\n      <td>9</td>\n      <td>5</td>\n      <td>4</td>\n    </tr>\n    <tr>\n      <th>(ADHD, ARTHRITIS)</th>\n      <td>301</td>\n      <td>342</td>\n      <td>339</td>\n      <td>306</td>\n      <td>332</td>\n      <td>320</td>\n      <td>319</td>\n      <td>310</td>\n      <td>336</td>\n      <td>343</td>\n    </tr>\n    <tr>\n      <th>(ADHD, ASD)</th>\n      <td>37</td>\n      <td>37</td>\n      <td>45</td>\n      <td>34</td>\n      <td>43</td>\n      <td>30</td>\n      <td>38</td>\n      <td>38</td>\n      <td>51</td>\n      <td>43</td>\n    </tr>\n    <tr>\n      <th>(ADHD, AUD)</th>\n      <td>75</td>\n      <td>82</td>\n      <td>78</td>\n      <td>70</td>\n      <td>80</td>\n      <td>67</td>\n      <td>86</td>\n      <td>69</td>\n      <td>80</td>\n      <td>75</td>\n    </tr>\n  </tbody>\n</table>\n</div>"
     },
     "execution_count": 15,
     "metadata": {},
     "output_type": "execute_result"
    }
   ],
   "source": [
    "counts_df.head()"
   ],
   "metadata": {
    "collapsed": false,
    "ExecuteTime": {
     "end_time": "2023-11-29T11:33:05.438363600Z",
     "start_time": "2023-11-29T11:33:05.386351800Z"
    }
   },
   "id": "3fcc6db72c159df1"
  },
  {
   "cell_type": "code",
   "execution_count": 16,
   "outputs": [],
   "source": [
    "\n",
    "# Write dataframe to file\n",
    "counts_df.to_csv('output/unique_all_genes_from_binary(2,3,4).txt', sep='\\t')"
   ],
   "metadata": {
    "collapsed": false,
    "ExecuteTime": {
     "end_time": "2023-11-29T11:33:10.847905200Z",
     "start_time": "2023-11-29T11:33:10.747977200Z"
    }
   },
   "id": "ef0db59277cf2bde"
  },
  {
   "cell_type": "code",
   "execution_count": 67,
   "outputs": [],
   "source": [],
   "metadata": {
    "collapsed": false
   },
   "id": "23520c873c07462"
  }
 ],
 "metadata": {
  "kernelspec": {
   "display_name": "Python 3",
   "language": "python",
   "name": "python3"
  },
  "language_info": {
   "codemirror_mode": {
    "name": "ipython",
    "version": 2
   },
   "file_extension": ".py",
   "mimetype": "text/x-python",
   "name": "python",
   "nbconvert_exporter": "python",
   "pygments_lexer": "ipython2",
   "version": "2.7.6"
  }
 },
 "nbformat": 4,
 "nbformat_minor": 5
}
