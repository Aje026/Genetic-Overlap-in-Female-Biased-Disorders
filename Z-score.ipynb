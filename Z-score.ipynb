{
 "cells": [
  {
   "cell_type": "code",
   "execution_count": 1,
   "id": "initial_id",
   "metadata": {
    "ExecuteTime": {
     "end_time": "2023-11-27T11:12:29.009624100Z",
     "start_time": "2023-11-27T11:12:29.009624100Z"
    },
    "collapsed": true
   },
   "outputs": [],
   "source": [
    "import pandas as pd\n",
    "import numpy as np"
   ]
  },
  {
   "cell_type": "code",
   "execution_count": 2,
   "id": "4833739de0d50e92",
   "metadata": {
    "ExecuteTime": {
     "end_time": "2023-11-27T11:12:30.595109700Z",
     "start_time": "2023-11-27T11:12:30.577535700Z"
    },
    "collapsed": false
   },
   "outputs": [],
   "source": [
    "#function to calculate z-scores and sort the result\n",
    "\n",
    "def calculate_z_score(df, df_rand):\n",
    "    #calculate mean and standard deviation\n",
    "    means = df_rand.mean(axis=1)\n",
    "    std = df_rand.std(axis=1)\n",
    "\n",
    "     # Add  new columns\n",
    "    \n",
    "    df_rand['mean'] = means\n",
    "    df_rand['std'] = std\n",
    "    df_rand['real data'] = df['Count']\n",
    "    \n",
    "    new_df = df_rand[['real data', 'mean', 'std']]\n",
    "    \n",
    "    #Make copies to avoid warnings\n",
    "    new_df_copy = new_df.copy()\n",
    "    \n",
    "    \n",
    "    # Calculate Z-scores \n",
    "    new_df_copy['z-score'] = (new_df_copy['real data'] - new_df_copy['mean']) / new_df_copy['std']\n",
    "    \n",
    "    \n",
    "    sorted_df = new_df_copy.sort_values(by='z-score', ascending=False)\n",
    "    \n",
    "    # Replace infinite values in the \"z-score\" column with NaN\n",
    "    sorted_df['z-score'].replace([np.inf, -np.inf], np.nan, inplace=True)\n",
    "    \n",
    "    # Drop rows with infinite values in the \"z-score\" column\n",
    "    sorted_df.dropna(subset=['z-score'], how='any', inplace=True)\n",
    "\n",
    "    return sorted_df    \n",
    "    "
   ]
  },
  {
   "cell_type": "code",
   "execution_count": 28,
   "id": "2a6a536b7f4320c6",
   "metadata": {
    "ExecuteTime": {
     "end_time": "2023-11-29T07:51:43.637565700Z",
     "start_time": "2023-11-29T07:51:43.339946300Z"
    },
    "collapsed": false
   },
   "outputs": [],
   "source": [
    "# read the data \n",
    "df_snps_orig_psy = pd.read_csv('output/count_orig_psych_snp.txt', sep='\\t', index_col=0)\n",
    "df_snps_rand_psy = pd.read_csv('output/unique_psych_snps_from_binary.txt', sep='\\t', index_col=0)\n",
    "df_snps_orig_oth = pd.read_csv('output/count_orig_other_snp.txt', sep='\\t', index_col=0)\n",
    "df_snps_rand_oth = pd.read_csv('output/unique_other_snps_from_binary.txt', sep='\\t', index_col=0)\n",
    "\n",
    "df_eqtls_orig_psy = pd.read_csv('output/count_orig_psych_eqtl.txt', sep='\\t', index_col=0)\n",
    "df_eqtls_rand_psy = pd.read_csv('output/unique_psych_genes_from_binary.txt', sep='\\t', index_col=0)\n",
    "df_eqtls_orig_oth = pd.read_csv('output/count_orig_other_eqtl.txt', sep='\\t', index_col=0)\n",
    "df_eqtls_rand_oth = pd.read_csv('output/unique_other_eqtl_from_binary.txt', sep='\\t', index_col=0)\n",
    "# df_kegg_orig = pd.read_csv('count_original_data_kegg_pathways.csv', index_col=0)\n",
    "# df_kegg_rand = pd.read_csv('unique_combos_kegg_pathways.csv', index_col=0)\n",
    "# \n",
    "# df_wiki_orig = pd.read_csv('count_original_data_wikipathways.csv', index_col=0)\n",
    "# df_wiki_rand = pd.read_csv('unique_combos_wikipathways.csv', index_col=0)\n",
    "\n"
   ]
  },
  {
   "cell_type": "code",
   "execution_count": 43,
   "id": "1afd9ad4a3a25be0",
   "metadata": {
    "ExecuteTime": {
     "end_time": "2023-11-29T09:11:44.138770700Z",
     "start_time": "2023-11-29T09:11:44.099040900Z"
    },
    "collapsed": false
   },
   "outputs": [
    {
     "data": {
      "text/html": [
       "<div>\n",
       "<style scoped>\n",
       "    .dataframe tbody tr th:only-of-type {\n",
       "        vertical-align: middle;\n",
       "    }\n",
       "\n",
       "    .dataframe tbody tr th {\n",
       "        vertical-align: top;\n",
       "    }\n",
       "\n",
       "    .dataframe thead th {\n",
       "        text-align: right;\n",
       "    }\n",
       "</style>\n",
       "<table border=\"1\" class=\"dataframe\">\n",
       "  <thead>\n",
       "    <tr style=\"text-align: right;\">\n",
       "      <th></th>\n",
       "      <th>1</th>\n",
       "      <th>2</th>\n",
       "      <th>3</th>\n",
       "      <th>4</th>\n",
       "      <th>5</th>\n",
       "      <th>6</th>\n",
       "      <th>7</th>\n",
       "      <th>8</th>\n",
       "      <th>9</th>\n",
       "      <th>10</th>\n",
       "      <th>mean</th>\n",
       "      <th>std</th>\n",
       "      <th>real data</th>\n",
       "    </tr>\n",
       "  </thead>\n",
       "  <tbody>\n",
       "    <tr>\n",
       "      <th>('sjogrens', 'lupus')</th>\n",
       "      <td>154</td>\n",
       "      <td>137</td>\n",
       "      <td>142</td>\n",
       "      <td>142</td>\n",
       "      <td>153</td>\n",
       "      <td>127</td>\n",
       "      <td>132</td>\n",
       "      <td>134</td>\n",
       "      <td>158</td>\n",
       "      <td>131</td>\n",
       "      <td>141.0</td>\n",
       "      <td>10.780641</td>\n",
       "      <td>191</td>\n",
       "    </tr>\n",
       "    <tr>\n",
       "      <th>('sjogrens', 'biliary_chorrhosis')</th>\n",
       "      <td>178</td>\n",
       "      <td>179</td>\n",
       "      <td>192</td>\n",
       "      <td>183</td>\n",
       "      <td>194</td>\n",
       "      <td>180</td>\n",
       "      <td>181</td>\n",
       "      <td>209</td>\n",
       "      <td>173</td>\n",
       "      <td>188</td>\n",
       "      <td>185.7</td>\n",
       "      <td>10.456789</td>\n",
       "      <td>215</td>\n",
       "    </tr>\n",
       "    <tr>\n",
       "      <th>('sjogrens', 'myasthenia')</th>\n",
       "      <td>35</td>\n",
       "      <td>33</td>\n",
       "      <td>26</td>\n",
       "      <td>40</td>\n",
       "      <td>39</td>\n",
       "      <td>36</td>\n",
       "      <td>31</td>\n",
       "      <td>29</td>\n",
       "      <td>35</td>\n",
       "      <td>44</td>\n",
       "      <td>34.8</td>\n",
       "      <td>5.370702</td>\n",
       "      <td>51</td>\n",
       "    </tr>\n",
       "    <tr>\n",
       "      <th>('sjogrens', 'rh_arthritis')</th>\n",
       "      <td>189</td>\n",
       "      <td>189</td>\n",
       "      <td>204</td>\n",
       "      <td>192</td>\n",
       "      <td>189</td>\n",
       "      <td>211</td>\n",
       "      <td>182</td>\n",
       "      <td>188</td>\n",
       "      <td>192</td>\n",
       "      <td>197</td>\n",
       "      <td>193.3</td>\n",
       "      <td>8.538150</td>\n",
       "      <td>209</td>\n",
       "    </tr>\n",
       "    <tr>\n",
       "      <th>('sjogrens', 'ms')</th>\n",
       "      <td>60</td>\n",
       "      <td>47</td>\n",
       "      <td>57</td>\n",
       "      <td>53</td>\n",
       "      <td>48</td>\n",
       "      <td>53</td>\n",
       "      <td>68</td>\n",
       "      <td>59</td>\n",
       "      <td>55</td>\n",
       "      <td>67</td>\n",
       "      <td>56.7</td>\n",
       "      <td>7.071853</td>\n",
       "      <td>79</td>\n",
       "    </tr>\n",
       "  </tbody>\n",
       "</table>\n",
       "</div>"
      ],
      "text/plain": [
       "                                      1    2    3    4    5    6    7    8  \\\n",
       "('sjogrens', 'lupus')               154  137  142  142  153  127  132  134   \n",
       "('sjogrens', 'biliary_chorrhosis')  178  179  192  183  194  180  181  209   \n",
       "('sjogrens', 'myasthenia')           35   33   26   40   39   36   31   29   \n",
       "('sjogrens', 'rh_arthritis')        189  189  204  192  189  211  182  188   \n",
       "('sjogrens', 'ms')                   60   47   57   53   48   53   68   59   \n",
       "\n",
       "                                      9   10   mean        std  real data  \n",
       "('sjogrens', 'lupus')               158  131  141.0  10.780641        191  \n",
       "('sjogrens', 'biliary_chorrhosis')  173  188  185.7  10.456789        215  \n",
       "('sjogrens', 'myasthenia')           35   44   34.8   5.370702         51  \n",
       "('sjogrens', 'rh_arthritis')        192  197  193.3   8.538150        209  \n",
       "('sjogrens', 'ms')                   55   67   56.7   7.071853         79  "
      ]
     },
     "execution_count": 43,
     "metadata": {},
     "output_type": "execute_result"
    }
   ],
   "source": [
    "df_eqtls_rand_oth.head()"
   ]
  },
  {
   "cell_type": "code",
   "execution_count": 59,
   "id": "1438080629f80148",
   "metadata": {
    "ExecuteTime": {
     "end_time": "2023-11-29T11:34:13.788613700Z",
     "start_time": "2023-11-29T11:34:13.663035400Z"
    },
    "collapsed": false
   },
   "outputs": [],
   "source": [
    "df_genes_orig_all = pd.read_csv('output/count_orig_genes_all(2,3,4).txt', sep='\\t', index_col=0)\n",
    "df_genes_rand_all = pd.read_csv('output/unique_all_genes_from_binary(2,3,4).txt', sep='\\t', index_col=0)"
   ]
  },
  {
   "cell_type": "code",
   "execution_count": 29,
   "id": "faa98d7bd8b56c71",
   "metadata": {
    "ExecuteTime": {
     "end_time": "2023-11-29T07:51:47.476092Z",
     "start_time": "2023-11-29T07:51:47.332030700Z"
    },
    "collapsed": false
   },
   "outputs": [],
   "source": [
    "# Calculate the z-scores\n",
    "z_snps_psy = calculate_z_score(df_snps_orig_psy, df_snps_rand_psy)\n",
    "z_eqtls_psy = calculate_z_score(df_eqtls_orig_psy, df_eqtls_rand_psy)\n",
    "z_snps_oth = calculate_z_score(df_snps_orig_oth, df_snps_rand_oth)\n",
    "z_eqtls_oth = calculate_z_score(df_eqtls_orig_oth, df_eqtls_rand_oth)\n",
    "\n",
    "# z_kegg = calculate_z_score(df_kegg_orig, df_kegg_rand)\n",
    "# z_wiki = calculate_z_score(df_wiki_orig, df_wiki_rand)\n"
   ]
  },
  {
   "cell_type": "code",
   "execution_count": 60,
   "id": "712145cb43675774",
   "metadata": {
    "ExecuteTime": {
     "end_time": "2023-11-29T11:34:28.799810400Z",
     "start_time": "2023-11-29T11:34:28.638513100Z"
    },
    "collapsed": false
   },
   "outputs": [],
   "source": [
    "z_genes_all = calculate_z_score(df_genes_orig_all, df_genes_rand_all)"
   ]
  },
  {
   "cell_type": "code",
   "execution_count": 61,
   "id": "def6485f626e2e23",
   "metadata": {
    "ExecuteTime": {
     "end_time": "2023-11-29T11:34:31.281848Z",
     "start_time": "2023-11-29T11:34:31.234651400Z"
    },
    "collapsed": false
   },
   "outputs": [
    {
     "name": "stdout",
     "output_type": "stream",
     "text": [
      "                                             real data  mean       std  \\\n",
      "('ASD', 'BILIARY', 'LUPUS', 'PARKINSONS')          106   0.1  0.316228   \n",
      "('ASD', 'AUD', 'LUPUS', 'PARKINSONS')              106   0.1  0.316228   \n",
      "('ASD', 'LUPUS', 'PARKINSONS', 'SCZ')              106   0.1  0.316228   \n",
      "('ASD', 'AUD', 'BILIARY', 'PARKINSONS')            113   0.2  0.421637   \n",
      "('ASD', 'BILIARY', 'PARKINSONS', 'SCZ')            113   0.2  0.421637   \n",
      "('ASD', 'LUPUS', 'PARKINSONS')                     106   0.3  0.483046   \n",
      "('ARTHRITIS', 'FATIGUE', 'MDD', 'SJOGRENS')         57   0.1  0.316228   \n",
      "('ARTHRITIS', 'BPD', 'GOUT', 'SJOGRENS')            57   0.1  0.316228   \n",
      "('ARTHRITIS', 'FATIGUE', 'GOUT')                    57   0.1  0.316228   \n",
      "('BILIARY', 'GOUT', 'MDD', 'SJOGRENS')              57   0.1  0.316228   \n",
      "('BILIARY', 'BPD', 'FATIGUE', 'SJOGRENS')           57   0.1  0.316228   \n",
      "('BPD', 'FATIGUE', 'GOUT')                          57   0.1  0.316228   \n",
      "('ARTHRITIS', 'FATIGUE', 'GOUT', 'SCZ')             57   0.1  0.316228   \n",
      "('ARTHRITIS', 'GOUT', 'MDD', 'SJOGRENS')            57   0.1  0.316228   \n",
      "('GOUT', 'LUPUS', 'MDD', 'SJOGRENS')                57   0.1  0.316228   \n",
      "('ARTHRITIS', 'FATIGUE', 'GOUT', 'MDD')             57   0.1  0.316228   \n",
      "('BILIARY', 'FATIGUE', 'MDD', 'SJOGRENS')           57   0.1  0.316228   \n",
      "('GOUT', 'MDD', 'SCZ', 'SJOGRENS')                  57   0.1  0.316228   \n",
      "('ARTHRITIS', 'BPD', 'FATIGUE', 'SJOGRENS')         57   0.1  0.316228   \n",
      "('FATIGUE', 'LUPUS', 'MDD', 'SJOGRENS')             57   0.1  0.316228   \n",
      "\n",
      "                                                z-score  \n",
      "('ASD', 'BILIARY', 'LUPUS', 'PARKINSONS')    334.885204  \n",
      "('ASD', 'AUD', 'LUPUS', 'PARKINSONS')        334.885204  \n",
      "('ASD', 'LUPUS', 'PARKINSONS', 'SCZ')        334.885204  \n",
      "('ASD', 'AUD', 'BILIARY', 'PARKINSONS')      267.528690  \n",
      "('ASD', 'BILIARY', 'PARKINSONS', 'SCZ')      267.528690  \n",
      "('ASD', 'LUPUS', 'PARKINSONS')               218.819789  \n",
      "('ARTHRITIS', 'FATIGUE', 'MDD', 'SJOGRENS')  179.933599  \n",
      "('ARTHRITIS', 'BPD', 'GOUT', 'SJOGRENS')     179.933599  \n",
      "('ARTHRITIS', 'FATIGUE', 'GOUT')             179.933599  \n",
      "('BILIARY', 'GOUT', 'MDD', 'SJOGRENS')       179.933599  \n",
      "('BILIARY', 'BPD', 'FATIGUE', 'SJOGRENS')    179.933599  \n",
      "('BPD', 'FATIGUE', 'GOUT')                   179.933599  \n",
      "('ARTHRITIS', 'FATIGUE', 'GOUT', 'SCZ')      179.933599  \n",
      "('ARTHRITIS', 'GOUT', 'MDD', 'SJOGRENS')     179.933599  \n",
      "('GOUT', 'LUPUS', 'MDD', 'SJOGRENS')         179.933599  \n",
      "('ARTHRITIS', 'FATIGUE', 'GOUT', 'MDD')      179.933599  \n",
      "('BILIARY', 'FATIGUE', 'MDD', 'SJOGRENS')    179.933599  \n",
      "('GOUT', 'MDD', 'SCZ', 'SJOGRENS')           179.933599  \n",
      "('ARTHRITIS', 'BPD', 'FATIGUE', 'SJOGRENS')  179.933599  \n",
      "('FATIGUE', 'LUPUS', 'MDD', 'SJOGRENS')      179.933599  \n"
     ]
    }
   ],
   "source": [
    "print(z_genes_all.head(20))"
   ]
  },
  {
   "cell_type": "code",
   "execution_count": 12,
   "id": "b3058857edc161e1",
   "metadata": {
    "ExecuteTime": {
     "end_time": "2023-11-28T11:41:33.292072600Z",
     "start_time": "2023-11-28T11:41:33.280245400Z"
    },
    "collapsed": false
   },
   "outputs": [],
   "source": [
    "#function to count number of combos that are above a given threshold together with a given number of genes\n",
    "def count_combos_above_threshold(df, threshold, genes):\n",
    "    return len(df[(df['z-score'] >= threshold) & (df[['real data']] >= genes).all(axis=1)])"
   ]
  },
  {
   "cell_type": "code",
   "execution_count": 21,
   "id": "1a1999996b21abe9",
   "metadata": {
    "ExecuteTime": {
     "end_time": "2023-11-28T12:40:34.606034200Z",
     "start_time": "2023-11-28T12:40:34.566168500Z"
    },
    "collapsed": false
   },
   "outputs": [
    {
     "name": "stdout",
     "output_type": "stream",
     "text": [
      "4468\n"
     ]
    }
   ],
   "source": []
  },
  {
   "cell_type": "code",
   "execution_count": 62,
   "id": "fecd7a4e079fc457",
   "metadata": {
    "ExecuteTime": {
     "end_time": "2023-11-29T11:37:00.747696100Z",
     "start_time": "2023-11-29T11:37:00.345347Z"
    },
    "collapsed": false
   },
   "outputs": [
    {
     "data": {
      "image/png": "[encoded data removed]",
      "text/plain": [
       "<Figure size 640x480 with 1 Axes>"
      ]
     },
     "metadata": {},
     "output_type": "display_data"
    }
   ],
   "source": [
    "from matplotlib import pyplot as plt\n",
    "z = z_genes_all['z-score']\n",
    "plt.hist(z, bins=100)\n",
    "plt.title('Distribution of z-score')\n",
    "plt.xlabel('z-score')\n",
    "plt.ylabel('no of combinations')\n",
    "plt.show()"
   ]
  },
  {
   "cell_type": "code",
   "execution_count": 28,
   "id": "c456c6c0f6a52ca1",
   "metadata": {
    "ExecuteTime": {
     "end_time": "2023-11-21T09:09:55.769123800Z",
     "start_time": "2023-11-21T09:09:55.721554600Z"
    },
    "collapsed": false
   },
   "outputs": [
    {
     "name": "stdout",
     "output_type": "stream",
     "text": [
      "11\n",
      "10\n",
      "108\n",
      "95\n",
      "50\n",
      "48\n",
      "229\n",
      "48\n"
     ]
    }
   ],
   "source": [
    "print(count_combos_above_threshold(z_snps_psy, 2, 5))\n",
    "print(count_combos_above_threshold(z_snps_psy, 3, 5))\n",
    "print(count_combos_above_threshold(z_eqtls_psy, 2, 5))\n",
    "print(count_combos_above_threshold(z_eqtls_psy, 3, 5))\n",
    "print(count_combos_above_threshold(z_snps_oth, 2, 5))\n",
    "print(count_combos_above_threshold(z_snps_oth, 3, 5))\n",
    "print(count_combos_above_threshold(z_eqtls_oth, 2, 5))\n",
    "print(count_combos_above_threshold(z_snps_oth, 3, 5))"
   ]
  },
  {
   "cell_type": "code",
   "execution_count": 63,
   "id": "8feba0c63bb5b42a",
   "metadata": {
    "ExecuteTime": {
     "end_time": "2023-11-29T11:44:09.485556400Z",
     "start_time": "2023-11-29T11:44:09.404052400Z"
    },
    "collapsed": false
   },
   "outputs": [
    {
     "name": "stdout",
     "output_type": "stream",
     "text": [
      "1787\n",
      "1679\n"
     ]
    }
   ],
   "source": [
    "print(count_combos_above_threshold(z_genes_all, 2, 5))\n",
    "print(count_combos_above_threshold(z_genes_all, 3, 5))"
   ]
  },
  {
   "cell_type": "code",
   "execution_count": null,
   "id": "2a6d93745f561ada",
   "metadata": {
    "collapsed": false
   },
   "outputs": [],
   "source": []
  }
 ],
 "metadata": {
  "kernelspec": {
   "display_name": "Python 3",
   "language": "python",
   "name": "python3"
  },
  "language_info": {
   "codemirror_mode": {
    "name": "ipython",
    "version": 2
   },
   "file_extension": ".py",
   "mimetype": "text/x-python",
   "name": "python",
   "nbconvert_exporter": "python",
   "pygments_lexer": "ipython2",
   "version": "3.10.13"
  }
 },
 "nbformat": 4,
 "nbformat_minor": 5
}
