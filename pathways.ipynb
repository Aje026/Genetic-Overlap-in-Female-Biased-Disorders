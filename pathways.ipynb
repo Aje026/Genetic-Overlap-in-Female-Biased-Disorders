{
 "cells": [
  {
   "cell_type": "code",
   "execution_count": 16,
   "id": "initial_id",
   "metadata": {
    "collapsed": true,
    "ExecuteTime": {
     "end_time": "2023-11-06T13:24:13.276374600Z",
     "start_time": "2023-11-06T13:24:13.119384800Z"
    }
   },
   "outputs": [],
   "source": [
    "import pandas as pd\n",
    "from scipy.cluster import hierarchy\n",
    "import numpy as np\n",
    "import matplotlib.pyplot as plt"
   ]
  },
  {
   "cell_type": "code",
   "execution_count": 17,
   "outputs": [],
   "source": [
    "#Read all KEGG pathways files\n",
    "kegg_adhd = pd.read_csv('KEGG/KEGG_2021_ADHD.txt', sep='\\t')\n",
    "kegg_adhd['Disorder'] = 'adhd'\n",
    "kegg_asd = pd.read_csv('KEGG/KEGG_2021_ASD.txt', sep='\\t')\n",
    "kegg_asd['Disorder'] = 'asd'\n",
    "kegg_anorexia = pd.read_csv('KEGG/KEGG_2021_ANOREXIA.txt', sep='\\t')\n",
    "kegg_anorexia['Disorder'] = 'anorexia'\n",
    "kegg_anxiety = pd.read_csv('KEGG/KEGG_2021_ANXIETY.txt', sep='\\t')\n",
    "kegg_anxiety['Disorder'] = 'anxiety'\n",
    "kegg_aud = pd.read_csv('KEGG/KEGG_2021_AUD.txt', sep='\\t')\n",
    "kegg_aud['Disorder'] = 'aud'\n",
    "kegg_bpd = pd.read_csv('KEGG/KEGG_2021_BPD.txt', sep='\\t')\n",
    "kegg_bpd['Disorder'] = 'bpd'\n",
    "kegg_cud = pd.read_csv('KEGG/KEGG_2021_CUD.txt', sep='\\t')\n",
    "kegg_cud['Disorder'] = 'cud'\n",
    "kegg_hoarding = pd.read_csv('KEGG/KEGG_2021_HOARDING.txt', sep='\\t')\n",
    "kegg_hoarding['Disorder'] = 'hoarding'\n",
    "kegg_mdd = pd.read_csv('KEGG/KEGG_2021_MDD.txt', sep='\\t')\n",
    "kegg_mdd['Disorder'] = 'mdd'\n",
    "kegg_ocd = pd.read_csv('KEGG/KEGG_2021_OCD.txt', sep='\\t')\n",
    "kegg_ocd['Disorder'] = 'ocd'\n",
    "kegg_od = pd.read_csv('KEGG/KEGG_2021_OD.txt', sep='\\t')\n",
    "kegg_od['Disorder'] = 'od'\n",
    "kegg_ptsd = pd.read_csv('KEGG/KEGG_2021_PTSD.txt', sep='\\t')\n",
    "kegg_ptsd['Disorder'] = 'ptsd'\n",
    "kegg_scz = pd.read_csv('KEGG/KEGG_2021_SCZ.txt', sep='\\t')\n",
    "kegg_scz['Disorder'] = 'scz'\n",
    "kegg_tourettes = pd.read_csv('KEGG/KEGG_2021_TOURETTE.txt', sep='\\t')\n",
    "kegg_tourettes['Disorder'] = 'tourettes'"
   ],
   "metadata": {
    "collapsed": false,
    "ExecuteTime": {
     "end_time": "2023-11-06T13:24:13.355833700Z",
     "start_time": "2023-11-06T13:24:13.119888800Z"
    }
   },
   "id": "55fd4b86ea0127"
  },
  {
   "cell_type": "code",
   "execution_count": 18,
   "outputs": [],
   "source": [
    "#Read all wikipathways files\n",
    "\n",
    "wiki_adhd = pd.read_csv('Wiki_pathways/WikiPathway_2023_ADHD.txt', sep='\\t')\n",
    "wiki_adhd['Disorder'] = 'adhd'\n",
    "wiki_asd = pd.read_csv('Wiki_pathways/WikiPathway_2023_ASD.txt', sep='\\t')\n",
    "wiki_asd['Disorder'] = 'asd'\n",
    "wiki_anorexia = pd.read_csv('Wiki_pathways/WikiPathway_2023_ANOREXIA.txt', sep='\\t')\n",
    "wiki_anorexia['Disorder'] = 'anorexia'\n",
    "wiki_anxiety = pd.read_csv('Wiki_pathways/WikiPathway_2023_ANXIETY.txt', sep='\\t')\n",
    "wiki_anxiety['Disorder'] = 'anxiety'\n",
    "wiki_aud = pd.read_csv('Wiki_pathways/WikiPathway_2023_AUD.txt', sep='\\t')\n",
    "wiki_aud['Disorder'] = 'aud'\n",
    "wiki_bpd = pd.read_csv('Wiki_pathways/WikiPathway_2023_BPD.txt', sep='\\t')\n",
    "wiki_bpd['Disorder'] = 'bpd'\n",
    "wiki_cud = pd.read_csv('Wiki_pathways/WikiPathway_2023_CUD.txt', sep='\\t')\n",
    "wiki_cud['Disorder'] = 'cud'\n",
    "wiki_hoarding = pd.read_csv('Wiki_pathways/WikiPathway_2023_HOARDING.txt', sep='\\t')\n",
    "wiki_hoarding['Disorder'] = 'hoarding'\n",
    "wiki_mdd = pd.read_csv('Wiki_pathways/WikiPathway_2023_MDD.txt', sep='\\t')\n",
    "wiki_mdd['Disorder'] = 'mdd'\n",
    "wiki_ocd = pd.read_csv('Wiki_pathways/WikiPathway_2023_OCD.txt', sep='\\t')\n",
    "wiki_ocd['Disorder'] = 'ocd'\n",
    "wiki_od = pd.read_csv('Wiki_pathways/WikiPathway_2023_OD.txt', sep='\\t')\n",
    "wiki_od['Disorder'] = 'od'\n",
    "wiki_ptsd = pd.read_csv('Wiki_pathways/WikiPathway_2023_PTSD.txt', sep='\\t')\n",
    "wiki_ptsd['Disorder'] = 'ptsd'\n",
    "wiki_scz = pd.read_csv('Wiki_pathways/WikiPathway_2023_SCZ.txt', sep='\\t')\n",
    "wiki_scz['Disorder'] = 'scz'\n",
    "wiki_tourettes = pd.read_csv('Wiki_pathways/WikiPathway_2023_TOURETTE.txt', sep='\\t')\n",
    "wiki_tourettes['Disorder'] = 'tourettes'"
   ],
   "metadata": {
    "collapsed": false,
    "ExecuteTime": {
     "end_time": "2023-11-06T13:24:13.355833700Z",
     "start_time": "2023-11-06T13:24:13.182003300Z"
    }
   },
   "id": "3a0da307024f59c1"
  },
  {
   "cell_type": "code",
   "execution_count": 19,
   "outputs": [],
   "source": [
    "# List of all dataframes\n",
    "dfs_wiki = [wiki_adhd,wiki_asd,wiki_anorexia,wiki_anxiety,wiki_aud,wiki_bpd,wiki_cud,wiki_hoarding,wiki_mdd,wiki_ocd,wiki_od, wiki_ptsd,wiki_scz,wiki_tourettes]\n",
    "dfs_kegg = [kegg_adhd,kegg_asd,kegg_anorexia,kegg_anxiety,kegg_aud, kegg_bpd,kegg_cud,kegg_hoarding,kegg_mdd,kegg_ocd,kegg_od, kegg_ptsd,kegg_scz,kegg_tourettes]\n"
   ],
   "metadata": {
    "collapsed": false,
    "ExecuteTime": {
     "end_time": "2023-11-06T13:24:13.355833700Z",
     "start_time": "2023-11-06T13:24:13.246860400Z"
    }
   },
   "id": "dd11407e71e83a06"
  },
  {
   "cell_type": "code",
   "execution_count": 20,
   "outputs": [],
   "source": [
    "# Filter each DataFrame and store the filtered DataFrames in a new list\n",
    "#filtered_wiki_dataframes = []\n",
    "dfs_wiki_new = []\n",
    "for df in dfs_wiki:\n",
    "    # Count the number of genes in each row using the ';' separator\n",
    "    df['Gene Count'] = df['Genes'].str.count(';') + 1\n",
    "    filtered_wiki = df[(df['Adjusted P-value'] < 0.05) & (df['Gene Count'] >= 5)]\n",
    "    #filtered_wiki_dataframes.append(filtered_wiki)\n",
    "    if not filtered_wiki.empty:\n",
    "        dfs_wiki_new.append(filtered_wiki)\n",
    "\n",
    "\n",
    "# Filter each DataFrame and store the filtered DataFrames in a new list\n",
    "#filtered_kegg_dataframes = []\n",
    "dfs_kegg_new = []\n",
    "for df in dfs_kegg:\n",
    "    df['Gene Count'] = df['Genes'].str.count(';') + 1\n",
    "    filtered_kegg = df[(df['Adjusted P-value'] < 0.05) & (df['Gene Count'] >= 5)]\n",
    "    #filtered_kegg_dataframes.append(filtered_kegg)\n",
    "    if not filtered_kegg.empty:\n",
    "        dfs_kegg_new.append(filtered_kegg)"
   ],
   "metadata": {
    "collapsed": false,
    "ExecuteTime": {
     "end_time": "2023-11-06T13:24:13.371930900Z",
     "start_time": "2023-11-06T13:24:13.260744400Z"
    }
   },
   "id": "e14a5f4f3619348"
  },
  {
   "cell_type": "code",
   "execution_count": 21,
   "outputs": [
    {
     "name": "stdout",
     "output_type": "stream",
     "text": [
      "0 6\n"
     ]
    }
   ],
   "source": [
    "print(len(dfs_kegg_new), len(dfs_wiki_new))"
   ],
   "metadata": {
    "collapsed": false,
    "ExecuteTime": {
     "end_time": "2023-11-06T13:24:13.392507600Z",
     "start_time": "2023-11-06T13:24:13.323928500Z"
    }
   },
   "id": "c57943732ec19df5"
  },
  {
   "cell_type": "code",
   "execution_count": 22,
   "outputs": [],
   "source": [
    "wiki_dfs_copy = dfs_wiki_new.copy()\n",
    "concat_wiki_dfs = pd.concat(wiki_dfs_copy, ignore_index=True)\n"
   ],
   "metadata": {
    "collapsed": false,
    "ExecuteTime": {
     "end_time": "2023-11-06T13:24:13.392507600Z",
     "start_time": "2023-11-06T13:24:13.329022800Z"
    }
   },
   "id": "7909733f0f2477b0"
  },
  {
   "cell_type": "code",
   "execution_count": 33,
   "outputs": [
    {
     "data": {
      "text/plain": "                                                 Term Overlap       P-value  \\\n0        8P23 1 Copy Number Variation Syndrome WP5346   19/52  1.684992e-31   \n1          Hippo Signaling Regulation Pathways WP4540    6/98  1.729368e-04   \n2   Arrhythmogenic Right Ventricular Cardiomyopath...    5/74  3.868500e-04   \n3         Hippo Merlin Signaling Dysregulation WP4541   6/120  5.162165e-04   \n4         17Q12 Copy Number Variation Syndrome WP5287  12/100  1.098000e-09   \n5             16P11 2 Distal Deletion Syndrome WP4950    6/31  9.940915e-07   \n6        8P23 1 Copy Number Variation Syndrome WP5346   18/52  1.329982e-09   \n7                  15Q25 Copy Number Variation WP5408   16/45  7.027924e-09   \n8        2Q11 2 Copy Number Variation Syndrome WP5221   13/32  2.834313e-08   \n9                  15Q25 Copy Number Variation WP5408    5/45  9.507445e-06   \n10                 15Q25 Copy Number Variation WP5408   18/45  1.303302e-08   \n11       8P23 1 Copy Number Variation Syndrome WP5346   15/52  2.359972e-05   \n\n    Adjusted P-value  Old P-value  Old Adjusted P-value  Odds Ratio  \\\n0       2.392689e-29            0                     0  142.989394   \n1       4.594326e-02            0                     0    7.996624   \n2       4.594326e-02            0                     0    8.840580   \n3       4.594326e-02            0                     0    6.446224   \n4       2.602259e-07            0                     0   12.847542   \n5       1.177998e-04            0                     0   22.050977   \n6       7.168601e-07            0                     0    7.912399   \n7       1.894025e-06            0                     0    8.234912   \n8       5.092315e-06            0                     0   10.193429   \n9       1.454639e-03            0                     0   20.320697   \n10      8.158668e-06            0                     0    7.058846   \n11      7.386712e-03            0                     0    4.282726   \n\n    Combined Score                                              Genes  \\\n0     10131.996368  TNKS;PINX1;SLC35G5;MTMR9;DEFB134;PRSS55;RP1L1;...   \n1        69.271433                 PRKAR2A;MST1;CTNNB1;TEK;RHOA;GNAI2   \n2        69.464621                      ACTN2;ITGA2;DAG1;ITGA7;CTNNB1   \n3        48.791371                PRKAR2A;ITGA2;MST1;ITGA7;CTNNB1;TEK   \n4       265.041920  FBXL20;STARD3;MIEN1;PGAP3;PPP1R1B;ERBB2;STAC2;...   \n5       304.776177              RABEP2;NFATC2IP;ATP2A1;LAT;SH2B1;TUFM   \n6       161.714417  BLK;TNKS;PINX1;MTMR9;DEFB134;PRSS55;MTMR7;PRSS...   \n7       154.597088  NMB;ZNF592;BNC1;HOMER2;C15ORF40;WDR73;AP3B2;CP...   \n8       177.150399  LMAN2L;STARD7;ARID5A;ADRA2B;CIAO1;ITPRIPL1;TME...   \n9       234.977064                  BTBD1;HOMER2;C15ORF40;WHAMM;AP3B2   \n10      128.158860  NMB;ZNF592;BNC1;HOMER2;C15ORF40;AP3D1;WDR73;AP...   \n11       45.629346  TNKS;PINX1;MTMR9;PRSS55;MTMR7;HSPD1;RP1L1;MFHA...   \n\n    Disorder  Gene Count  \n0        asd          19  \n1   anorexia           6  \n2   anorexia           5  \n3   anorexia           6  \n4        aud          12  \n5        aud           6  \n6        bpd          18  \n7        bpd          16  \n8        bpd          13  \n9        cud           5  \n10       scz          18  \n11       scz          15  ",
      "text/html": "<div>\n<style scoped>\n    .dataframe tbody tr th:only-of-type {\n        vertical-align: middle;\n    }\n\n    .dataframe tbody tr th {\n        vertical-align: top;\n    }\n\n    .dataframe thead th {\n        text-align: right;\n    }\n</style>\n<table border=\"1\" class=\"dataframe\">\n  <thead>\n    <tr style=\"text-align: right;\">\n      <th></th>\n      <th>Term</th>\n      <th>Overlap</th>\n      <th>P-value</th>\n      <th>Adjusted P-value</th>\n      <th>Old P-value</th>\n      <th>Old Adjusted P-value</th>\n      <th>Odds Ratio</th>\n      <th>Combined Score</th>\n      <th>Genes</th>\n      <th>Disorder</th>\n      <th>Gene Count</th>\n    </tr>\n  </thead>\n  <tbody>\n    <tr>\n      <th>0</th>\n      <td>8P23 1 Copy Number Variation Syndrome WP5346</td>\n      <td>19/52</td>\n      <td>1.684992e-31</td>\n      <td>2.392689e-29</td>\n      <td>0</td>\n      <td>0</td>\n      <td>142.989394</td>\n      <td>10131.996368</td>\n      <td>TNKS;PINX1;SLC35G5;MTMR9;DEFB134;PRSS55;RP1L1;...</td>\n      <td>asd</td>\n      <td>19</td>\n    </tr>\n    <tr>\n      <th>1</th>\n      <td>Hippo Signaling Regulation Pathways WP4540</td>\n      <td>6/98</td>\n      <td>1.729368e-04</td>\n      <td>4.594326e-02</td>\n      <td>0</td>\n      <td>0</td>\n      <td>7.996624</td>\n      <td>69.271433</td>\n      <td>PRKAR2A;MST1;CTNNB1;TEK;RHOA;GNAI2</td>\n      <td>anorexia</td>\n      <td>6</td>\n    </tr>\n    <tr>\n      <th>2</th>\n      <td>Arrhythmogenic Right Ventricular Cardiomyopath...</td>\n      <td>5/74</td>\n      <td>3.868500e-04</td>\n      <td>4.594326e-02</td>\n      <td>0</td>\n      <td>0</td>\n      <td>8.840580</td>\n      <td>69.464621</td>\n      <td>ACTN2;ITGA2;DAG1;ITGA7;CTNNB1</td>\n      <td>anorexia</td>\n      <td>5</td>\n    </tr>\n    <tr>\n      <th>3</th>\n      <td>Hippo Merlin Signaling Dysregulation WP4541</td>\n      <td>6/120</td>\n      <td>5.162165e-04</td>\n      <td>4.594326e-02</td>\n      <td>0</td>\n      <td>0</td>\n      <td>6.446224</td>\n      <td>48.791371</td>\n      <td>PRKAR2A;ITGA2;MST1;ITGA7;CTNNB1;TEK</td>\n      <td>anorexia</td>\n      <td>6</td>\n    </tr>\n    <tr>\n      <th>4</th>\n      <td>17Q12 Copy Number Variation Syndrome WP5287</td>\n      <td>12/100</td>\n      <td>1.098000e-09</td>\n      <td>2.602259e-07</td>\n      <td>0</td>\n      <td>0</td>\n      <td>12.847542</td>\n      <td>265.041920</td>\n      <td>FBXL20;STARD3;MIEN1;PGAP3;PPP1R1B;ERBB2;STAC2;...</td>\n      <td>aud</td>\n      <td>12</td>\n    </tr>\n    <tr>\n      <th>5</th>\n      <td>16P11 2 Distal Deletion Syndrome WP4950</td>\n      <td>6/31</td>\n      <td>9.940915e-07</td>\n      <td>1.177998e-04</td>\n      <td>0</td>\n      <td>0</td>\n      <td>22.050977</td>\n      <td>304.776177</td>\n      <td>RABEP2;NFATC2IP;ATP2A1;LAT;SH2B1;TUFM</td>\n      <td>aud</td>\n      <td>6</td>\n    </tr>\n    <tr>\n      <th>6</th>\n      <td>8P23 1 Copy Number Variation Syndrome WP5346</td>\n      <td>18/52</td>\n      <td>1.329982e-09</td>\n      <td>7.168601e-07</td>\n      <td>0</td>\n      <td>0</td>\n      <td>7.912399</td>\n      <td>161.714417</td>\n      <td>BLK;TNKS;PINX1;MTMR9;DEFB134;PRSS55;MTMR7;PRSS...</td>\n      <td>bpd</td>\n      <td>18</td>\n    </tr>\n    <tr>\n      <th>7</th>\n      <td>15Q25 Copy Number Variation WP5408</td>\n      <td>16/45</td>\n      <td>7.027924e-09</td>\n      <td>1.894025e-06</td>\n      <td>0</td>\n      <td>0</td>\n      <td>8.234912</td>\n      <td>154.597088</td>\n      <td>NMB;ZNF592;BNC1;HOMER2;C15ORF40;WDR73;AP3B2;CP...</td>\n      <td>bpd</td>\n      <td>16</td>\n    </tr>\n    <tr>\n      <th>8</th>\n      <td>2Q11 2 Copy Number Variation Syndrome WP5221</td>\n      <td>13/32</td>\n      <td>2.834313e-08</td>\n      <td>5.092315e-06</td>\n      <td>0</td>\n      <td>0</td>\n      <td>10.193429</td>\n      <td>177.150399</td>\n      <td>LMAN2L;STARD7;ARID5A;ADRA2B;CIAO1;ITPRIPL1;TME...</td>\n      <td>bpd</td>\n      <td>13</td>\n    </tr>\n    <tr>\n      <th>9</th>\n      <td>15Q25 Copy Number Variation WP5408</td>\n      <td>5/45</td>\n      <td>9.507445e-06</td>\n      <td>1.454639e-03</td>\n      <td>0</td>\n      <td>0</td>\n      <td>20.320697</td>\n      <td>234.977064</td>\n      <td>BTBD1;HOMER2;C15ORF40;WHAMM;AP3B2</td>\n      <td>cud</td>\n      <td>5</td>\n    </tr>\n    <tr>\n      <th>10</th>\n      <td>15Q25 Copy Number Variation WP5408</td>\n      <td>18/45</td>\n      <td>1.303302e-08</td>\n      <td>8.158668e-06</td>\n      <td>0</td>\n      <td>0</td>\n      <td>7.058846</td>\n      <td>128.158860</td>\n      <td>NMB;ZNF592;BNC1;HOMER2;C15ORF40;AP3D1;WDR73;AP...</td>\n      <td>scz</td>\n      <td>18</td>\n    </tr>\n    <tr>\n      <th>11</th>\n      <td>8P23 1 Copy Number Variation Syndrome WP5346</td>\n      <td>15/52</td>\n      <td>2.359972e-05</td>\n      <td>7.386712e-03</td>\n      <td>0</td>\n      <td>0</td>\n      <td>4.282726</td>\n      <td>45.629346</td>\n      <td>TNKS;PINX1;MTMR9;PRSS55;MTMR7;HSPD1;RP1L1;MFHA...</td>\n      <td>scz</td>\n      <td>15</td>\n    </tr>\n  </tbody>\n</table>\n</div>"
     },
     "execution_count": 33,
     "metadata": {},
     "output_type": "execute_result"
    }
   ],
   "source": [
    "concat_wiki_dfs"
   ],
   "metadata": {
    "collapsed": false,
    "ExecuteTime": {
     "end_time": "2023-11-06T13:26:30.412631800Z",
     "start_time": "2023-11-06T13:26:30.365359Z"
    }
   },
   "id": "6f51cdf888b462ca"
  },
  {
   "cell_type": "code",
   "execution_count": 23,
   "outputs": [],
   "source": [
    "concat_wiki_dfs.to_csv('Wiki_pathways_filtered2.csv')"
   ],
   "metadata": {
    "collapsed": false,
    "ExecuteTime": {
     "end_time": "2023-11-06T13:24:13.392507600Z",
     "start_time": "2023-11-06T13:24:13.341950700Z"
    }
   },
   "id": "8f7debc0c697ec7c"
  },
  {
   "cell_type": "code",
   "execution_count": 24,
   "outputs": [],
   "source": [
    "# Create an empty list to store unique names\n",
    "df_names = []\n",
    "\n",
    "# Loop through the first list of DataFrames\n",
    "for dataframes in [dfs_wiki_new, dfs_kegg_new]:\n",
    "    for df in dataframes:\n",
    "        # Extract unique names from the 'disorder' column and add them to the list\n",
    "        df_names.extend(df['Disorder'].unique())\n",
    "\n",
    "# Convert the list to a set to remove duplicates and then back to a list\n",
    "df_names = list(set(df_names))"
   ],
   "metadata": {
    "collapsed": false,
    "ExecuteTime": {
     "end_time": "2023-11-06T13:24:13.492801500Z",
     "start_time": "2023-11-06T13:24:13.363927800Z"
    }
   },
   "id": "abf817e6a50f5dd0"
  },
  {
   "cell_type": "code",
   "execution_count": 25,
   "outputs": [
    {
     "name": "stdout",
     "output_type": "stream",
     "text": [
      "['scz', 'cud', 'aud', 'bpd', 'asd', 'anorexia']\n"
     ]
    }
   ],
   "source": [
    "print(df_names)"
   ],
   "metadata": {
    "collapsed": false,
    "ExecuteTime": {
     "end_time": "2023-11-06T13:24:13.514510200Z",
     "start_time": "2023-11-06T13:24:13.374390200Z"
    }
   },
   "id": "bd5b47ef4247cf1f"
  },
  {
   "cell_type": "code",
   "execution_count": 26,
   "outputs": [
    {
     "name": "stdout",
     "output_type": "stream",
     "text": [
      "List is empty\n"
     ]
    }
   ],
   "source": [
    "#Check if list of dfs is empty\n",
    "if not dfs_kegg_new:\n",
    "    print('List is empty')\n",
    "else:\n",
    "    \n",
    "    # Extract unique Gene identifiers and DataFrame names\n",
    "    unique_pathway_kegg = pd.concat([df['Term'] for df in dfs_kegg_new], ignore_index=True).drop_duplicates()\n",
    "    \n",
    "    # Create a dictionary to store the gene data for each DataFrame\n",
    "    pathway_data_kegg = {}\n",
    "    for df, df_name in zip(dfs_kegg_new, df_names):\n",
    "        pathway_data_kegg[df_name] = df['Term'].tolist()\n",
    "    \n",
    "    # Create a new DataFrame with unique gene identifiers as rows and DataFrame names as columns\n",
    "    result_df_kegg = pd.DataFrame(index=unique_pathway_kegg, columns=df_names)\n",
    "    \n",
    "    # Fill in the DataFrame with gene data\n",
    "    for df_name in df_names:\n",
    "        result_df_kegg.loc[pathway_data_kegg[df_name], df_name] = 1\n",
    "    \n",
    "    # Fill NaN values with 0\n",
    "    result_df_kegg.fillna(0, inplace=True)\n",
    "    \n",
    "    result_df_kegg.index.name= None"
   ],
   "metadata": {
    "collapsed": false,
    "ExecuteTime": {
     "end_time": "2023-11-06T13:24:13.530062600Z",
     "start_time": "2023-11-06T13:24:13.374390200Z"
    }
   },
   "id": "648262a7a0d0453d"
  },
  {
   "cell_type": "code",
   "execution_count": 27,
   "outputs": [],
   "source": [
    "#Check if list of dfs is empty\n",
    "if not dfs_wiki_new:\n",
    "    print('List is empty')\n",
    "# Extract unique Gene identifiers and DataFrame names\n",
    "unique_pathway_wiki = pd.concat([df['Term'] for df in dfs_wiki_new], ignore_index=True).drop_duplicates()\n",
    "\n",
    "# Create a dictionary to store the gene data for each DataFrame\n",
    "pathway_data_wiki = {}\n",
    "for df, df_name in zip(dfs_wiki_new, df_names):\n",
    "    pathway_data_wiki[df_name] = df['Term'].tolist()\n",
    "\n",
    "# Create a new DataFrame with unique gene identifiers as rows and DataFrame names as columns\n",
    "result_df_wiki = pd.DataFrame(index=unique_pathway_wiki, columns=df_names)\n",
    "\n",
    "# Fill in the DataFrame with gene data\n",
    "for df_name in df_names:\n",
    "    result_df_wiki.loc[pathway_data_wiki[df_name], df_name] = 1\n",
    "\n",
    "# Fill NaN values with 0\n",
    "result_df_wiki.fillna(0, inplace=True)\n",
    "\n",
    "result_df_wiki.index.name= None"
   ],
   "metadata": {
    "collapsed": false,
    "ExecuteTime": {
     "end_time": "2023-11-06T13:24:13.639875700Z",
     "start_time": "2023-11-06T13:24:13.410011400Z"
    }
   },
   "id": "a0df3c8d2140c58f"
  },
  {
   "cell_type": "code",
   "execution_count": 32,
   "outputs": [
    {
     "data": {
      "text/plain": "                                                    scz  cud  aud  bpd  asd  \\\n8P23 1 Copy Number Variation Syndrome WP5346          1    0    0    1    0   \nHippo Signaling Regulation Pathways WP4540            0    1    0    0    0   \nArrhythmogenic Right Ventricular Cardiomyopathy...    0    1    0    0    0   \nHippo Merlin Signaling Dysregulation WP4541           0    1    0    0    0   \n17Q12 Copy Number Variation Syndrome WP5287           0    0    1    0    0   \n16P11 2 Distal Deletion Syndrome WP4950               0    0    1    0    0   \n15Q25 Copy Number Variation WP5408                    0    0    0    1    1   \n2Q11 2 Copy Number Variation Syndrome WP5221          0    0    0    1    0   \n\n                                                    anorexia  \n8P23 1 Copy Number Variation Syndrome WP5346               1  \nHippo Signaling Regulation Pathways WP4540                 0  \nArrhythmogenic Right Ventricular Cardiomyopathy...         0  \nHippo Merlin Signaling Dysregulation WP4541                0  \n17Q12 Copy Number Variation Syndrome WP5287                0  \n16P11 2 Distal Deletion Syndrome WP4950                    0  \n15Q25 Copy Number Variation WP5408                         1  \n2Q11 2 Copy Number Variation Syndrome WP5221               0  ",
      "text/html": "<div>\n<style scoped>\n    .dataframe tbody tr th:only-of-type {\n        vertical-align: middle;\n    }\n\n    .dataframe tbody tr th {\n        vertical-align: top;\n    }\n\n    .dataframe thead th {\n        text-align: right;\n    }\n</style>\n<table border=\"1\" class=\"dataframe\">\n  <thead>\n    <tr style=\"text-align: right;\">\n      <th></th>\n      <th>scz</th>\n      <th>cud</th>\n      <th>aud</th>\n      <th>bpd</th>\n      <th>asd</th>\n      <th>anorexia</th>\n    </tr>\n  </thead>\n  <tbody>\n    <tr>\n      <th>8P23 1 Copy Number Variation Syndrome WP5346</th>\n      <td>1</td>\n      <td>0</td>\n      <td>0</td>\n      <td>1</td>\n      <td>0</td>\n      <td>1</td>\n    </tr>\n    <tr>\n      <th>Hippo Signaling Regulation Pathways WP4540</th>\n      <td>0</td>\n      <td>1</td>\n      <td>0</td>\n      <td>0</td>\n      <td>0</td>\n      <td>0</td>\n    </tr>\n    <tr>\n      <th>Arrhythmogenic Right Ventricular Cardiomyopathy WP2118</th>\n      <td>0</td>\n      <td>1</td>\n      <td>0</td>\n      <td>0</td>\n      <td>0</td>\n      <td>0</td>\n    </tr>\n    <tr>\n      <th>Hippo Merlin Signaling Dysregulation WP4541</th>\n      <td>0</td>\n      <td>1</td>\n      <td>0</td>\n      <td>0</td>\n      <td>0</td>\n      <td>0</td>\n    </tr>\n    <tr>\n      <th>17Q12 Copy Number Variation Syndrome WP5287</th>\n      <td>0</td>\n      <td>0</td>\n      <td>1</td>\n      <td>0</td>\n      <td>0</td>\n      <td>0</td>\n    </tr>\n    <tr>\n      <th>16P11 2 Distal Deletion Syndrome WP4950</th>\n      <td>0</td>\n      <td>0</td>\n      <td>1</td>\n      <td>0</td>\n      <td>0</td>\n      <td>0</td>\n    </tr>\n    <tr>\n      <th>15Q25 Copy Number Variation WP5408</th>\n      <td>0</td>\n      <td>0</td>\n      <td>0</td>\n      <td>1</td>\n      <td>1</td>\n      <td>1</td>\n    </tr>\n    <tr>\n      <th>2Q11 2 Copy Number Variation Syndrome WP5221</th>\n      <td>0</td>\n      <td>0</td>\n      <td>0</td>\n      <td>1</td>\n      <td>0</td>\n      <td>0</td>\n    </tr>\n  </tbody>\n</table>\n</div>"
     },
     "execution_count": 32,
     "metadata": {},
     "output_type": "execute_result"
    }
   ],
   "source": [
    "result_df_wiki"
   ],
   "metadata": {
    "collapsed": false,
    "ExecuteTime": {
     "end_time": "2023-11-06T13:25:25.943303800Z",
     "start_time": "2023-11-06T13:25:25.895272100Z"
    }
   },
   "id": "e1d6a5d2401ae6ac"
  },
  {
   "cell_type": "code",
   "execution_count": 28,
   "outputs": [],
   "source": [
    "result_df_wiki.to_csv('wikipathways_filtered2.csv')"
   ],
   "metadata": {
    "collapsed": false,
    "ExecuteTime": {
     "end_time": "2023-11-06T13:24:13.655473200Z",
     "start_time": "2023-11-06T13:24:13.410011400Z"
    }
   },
   "id": "8706316f4b37de85"
  },
  {
   "cell_type": "code",
   "execution_count": 29,
   "outputs": [],
   "source": [
    "# \n",
    "\n",
    "# \n",
    "# #hierarchical clustering\n",
    "# linkage_matrix = hierarchy.linkage(result_df_kegg, method='average')\n",
    "# \n",
    "# #create dendogram\n",
    "# labels = np.arange(result_df_kegg.shape[0])\n",
    "# plt.figure(figsize=(15, 10))\n",
    "# dendrogram = hierarchy.dendrogram(linkage_matrix, labels=labels)\n",
    "# plt.title('Dendrogram')\n",
    "# plt.ylabel('Linkage distance')\n",
    "# plt.xlabel('KEGG pathways')\n",
    "# plt.show()"
   ],
   "metadata": {
    "collapsed": false,
    "ExecuteTime": {
     "end_time": "2023-11-06T13:24:13.686718900Z",
     "start_time": "2023-11-06T13:24:13.429895500Z"
    }
   },
   "id": "cb6b5357f13fd2f6"
  },
  {
   "cell_type": "code",
   "execution_count": 31,
   "outputs": [
    {
     "data": {
      "text/plain": "<Figure size 1500x1000 with 1 Axes>",
      "image/png": "[encoded data removed]"
     },
     "metadata": {},
     "output_type": "display_data"
    }
   ],
   "source": [
    "\n",
    "#hierarchical clustering\n",
    "linkage_matrix2 = hierarchy.linkage(result_df_wiki.T, method='average')\n",
    "\n",
    "#create dendogram\n",
    "\n",
    "plt.figure(figsize=(15, 10))\n",
    "dendrogram2 = hierarchy.dendrogram(linkage_matrix2, labels=df_names)\n",
    "plt.title('Dendrogram Pathways', fontsize=30)\n",
    "plt.ylabel('Linkage distance', fontsize=18)\n",
    "plt.xlabel('Disorders', fontsize=20)\n",
    "plt.tick_params(axis='both', labelsize=18)\n",
    "plt.xlabel('Disorders', labelpad=30)\n",
    "plt.ylabel('Linkage distance', labelpad=20)\n",
    "plt.show()"
   ],
   "metadata": {
    "collapsed": false,
    "ExecuteTime": {
     "end_time": "2023-11-06T13:24:58.629594400Z",
     "start_time": "2023-11-06T13:24:58.277746500Z"
    }
   },
   "id": "1f2549cf8082f6e"
  },
  {
   "cell_type": "code",
   "execution_count": 30,
   "outputs": [],
   "source": [],
   "metadata": {
    "collapsed": false,
    "ExecuteTime": {
     "end_time": "2023-11-06T13:24:13.872904600Z",
     "start_time": "2023-11-06T13:24:13.869374500Z"
    }
   },
   "id": "1de44079a8012480"
  }
 ],
 "metadata": {
  "kernelspec": {
   "display_name": "Python 3",
   "language": "python",
   "name": "python3"
  },
  "language_info": {
   "codemirror_mode": {
    "name": "ipython",
    "version": 2
   },
   "file_extension": ".py",
   "mimetype": "text/x-python",
   "name": "python",
   "nbconvert_exporter": "python",
   "pygments_lexer": "ipython2",
   "version": "2.7.6"
  }
 },
 "nbformat": 4,
 "nbformat_minor": 5
}
