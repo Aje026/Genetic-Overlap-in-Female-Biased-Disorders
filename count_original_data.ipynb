{
 "cells": [
  {
   "cell_type": "code",
   "execution_count": 8,
   "id": "initial_id",
   "metadata": {
    "collapsed": true,
    "ExecuteTime": {
     "end_time": "2023-11-28T10:54:10.365437500Z",
     "start_time": "2023-11-28T10:54:10.340353800Z"
    }
   },
   "outputs": [],
   "source": [
    "import pandas as pd\n",
    "import matplotlib.pyplot as plt\n",
    "import numpy as np\n",
    "from itertools import combinations"
   ]
  },
  {
   "cell_type": "code",
   "execution_count": 29,
   "outputs": [],
   "source": [
    "# Read in the data\n",
    "\n",
    "df = pd.read_csv('output/eqtl_all_binary.txt',sep='\\t', index_col=0)"
   ],
   "metadata": {
    "collapsed": false,
    "ExecuteTime": {
     "end_time": "2023-11-29T11:29:56.645417Z",
     "start_time": "2023-11-29T11:29:56.538757500Z"
    }
   },
   "id": "13efb4075cb50ba5"
  },
  {
   "cell_type": "code",
   "execution_count": 22,
   "outputs": [
    {
     "data": {
      "text/plain": "            ADHD  ANOREXIA  ANXIETY  ARTHRITIS  ASD  AUD  BILIARY  BPD  CUD  \\\nrs12743450     1         0        0          0    0    0        0    0    0   \nrs1295107      1         0        0          0    0    0        0    0    0   \nrs11121053     1         0        0          0    0    0        0    0    0   \nrs12566355     1         0        0          0    0    0        0    0    0   \nrs58801392     1         0        0          0    0    0        0    0    0   \n\n            FATIGUE  ...  MIGRAINE  MS  MYASTHENIA  OCD  OD  PARKINSONS  PTSD  \\\nrs12743450        0  ...         0   0           0    0   0           0     0   \nrs1295107         0  ...         0   0           0    0   0           0     0   \nrs11121053        0  ...         0   0           0    0   0           0     0   \nrs12566355        0  ...         0   0           0    0   0           0     0   \nrs58801392        0  ...         0   0           0    0   0           0     0   \n\n            SCZ  SJOGRENS  TOURETTES  \nrs12743450    0         0          0  \nrs1295107     0         0          0  \nrs11121053    0         0          0  \nrs12566355    0         0          0  \nrs58801392    0         0          0  \n\n[5 rows x 26 columns]",
      "text/html": "<div>\n<style scoped>\n    .dataframe tbody tr th:only-of-type {\n        vertical-align: middle;\n    }\n\n    .dataframe tbody tr th {\n        vertical-align: top;\n    }\n\n    .dataframe thead th {\n        text-align: right;\n    }\n</style>\n<table border=\"1\" class=\"dataframe\">\n  <thead>\n    <tr style=\"text-align: right;\">\n      <th></th>\n      <th>ADHD</th>\n      <th>ANOREXIA</th>\n      <th>ANXIETY</th>\n      <th>ARTHRITIS</th>\n      <th>ASD</th>\n      <th>AUD</th>\n      <th>BILIARY</th>\n      <th>BPD</th>\n      <th>CUD</th>\n      <th>FATIGUE</th>\n      <th>...</th>\n      <th>MIGRAINE</th>\n      <th>MS</th>\n      <th>MYASTHENIA</th>\n      <th>OCD</th>\n      <th>OD</th>\n      <th>PARKINSONS</th>\n      <th>PTSD</th>\n      <th>SCZ</th>\n      <th>SJOGRENS</th>\n      <th>TOURETTES</th>\n    </tr>\n  </thead>\n  <tbody>\n    <tr>\n      <th>rs12743450</th>\n      <td>1</td>\n      <td>0</td>\n      <td>0</td>\n      <td>0</td>\n      <td>0</td>\n      <td>0</td>\n      <td>0</td>\n      <td>0</td>\n      <td>0</td>\n      <td>0</td>\n      <td>...</td>\n      <td>0</td>\n      <td>0</td>\n      <td>0</td>\n      <td>0</td>\n      <td>0</td>\n      <td>0</td>\n      <td>0</td>\n      <td>0</td>\n      <td>0</td>\n      <td>0</td>\n    </tr>\n    <tr>\n      <th>rs1295107</th>\n      <td>1</td>\n      <td>0</td>\n      <td>0</td>\n      <td>0</td>\n      <td>0</td>\n      <td>0</td>\n      <td>0</td>\n      <td>0</td>\n      <td>0</td>\n      <td>0</td>\n      <td>...</td>\n      <td>0</td>\n      <td>0</td>\n      <td>0</td>\n      <td>0</td>\n      <td>0</td>\n      <td>0</td>\n      <td>0</td>\n      <td>0</td>\n      <td>0</td>\n      <td>0</td>\n    </tr>\n    <tr>\n      <th>rs11121053</th>\n      <td>1</td>\n      <td>0</td>\n      <td>0</td>\n      <td>0</td>\n      <td>0</td>\n      <td>0</td>\n      <td>0</td>\n      <td>0</td>\n      <td>0</td>\n      <td>0</td>\n      <td>...</td>\n      <td>0</td>\n      <td>0</td>\n      <td>0</td>\n      <td>0</td>\n      <td>0</td>\n      <td>0</td>\n      <td>0</td>\n      <td>0</td>\n      <td>0</td>\n      <td>0</td>\n    </tr>\n    <tr>\n      <th>rs12566355</th>\n      <td>1</td>\n      <td>0</td>\n      <td>0</td>\n      <td>0</td>\n      <td>0</td>\n      <td>0</td>\n      <td>0</td>\n      <td>0</td>\n      <td>0</td>\n      <td>0</td>\n      <td>...</td>\n      <td>0</td>\n      <td>0</td>\n      <td>0</td>\n      <td>0</td>\n      <td>0</td>\n      <td>0</td>\n      <td>0</td>\n      <td>0</td>\n      <td>0</td>\n      <td>0</td>\n    </tr>\n    <tr>\n      <th>rs58801392</th>\n      <td>1</td>\n      <td>0</td>\n      <td>0</td>\n      <td>0</td>\n      <td>0</td>\n      <td>0</td>\n      <td>0</td>\n      <td>0</td>\n      <td>0</td>\n      <td>0</td>\n      <td>...</td>\n      <td>0</td>\n      <td>0</td>\n      <td>0</td>\n      <td>0</td>\n      <td>0</td>\n      <td>0</td>\n      <td>0</td>\n      <td>0</td>\n      <td>0</td>\n      <td>0</td>\n    </tr>\n  </tbody>\n</table>\n<p>5 rows × 26 columns</p>\n</div>"
     },
     "execution_count": 22,
     "metadata": {},
     "output_type": "execute_result"
    }
   ],
   "source": [
    "df.head()"
   ],
   "metadata": {
    "collapsed": false,
    "ExecuteTime": {
     "end_time": "2023-11-29T09:36:15.457780200Z",
     "start_time": "2023-11-29T09:36:15.392094400Z"
    }
   },
   "id": "a410a827b2c6fc8c"
  },
  {
   "cell_type": "code",
   "execution_count": 30,
   "outputs": [],
   "source": [
    "#Count all occurrences for each combination and store in a new dataframe\n",
    "\n",
    "# Get all possible combinations of disorders from 2 to 14\n",
    "all_combinations = []\n",
    "for r in range(2,5):\n",
    "    all_combinations.extend(list(combinations(df.columns, r)))\n",
    "    \n",
    "#Create empty dataframe to store the count\n",
    "count_df = pd.DataFrame(index=all_combinations, columns=['Count'])\n",
    "\n",
    "iteration_counts = []\n",
    "\n",
    "# Count occurrences for each combination in this iteration \n",
    "for combo in all_combinations:\n",
    "    # Check if all disorders in the combination are present in each row\n",
    "    count = (df[list(combo)] == 1).all(axis=1).sum()\n",
    "    iteration_counts.append(count)\n",
    "\n",
    "# Store the counts for this iteration in the counts_df DataFrame\n",
    "count_df['Count'] = iteration_counts"
   ],
   "metadata": {
    "collapsed": false,
    "ExecuteTime": {
     "end_time": "2023-11-29T11:30:28.778563500Z",
     "start_time": "2023-11-29T11:30:03.800948600Z"
    }
   },
   "id": "b6e48d6431a02424"
  },
  {
   "cell_type": "code",
   "execution_count": 31,
   "outputs": [
    {
     "data": {
      "text/plain": "                   Count\n(ADHD, ANOREXIA)     168\n(ADHD, ANXIETY)        2\n(ADHD, ARTHRITIS)    321\n(ADHD, ASD)           35\n(ADHD, AUD)           94",
      "text/html": "<div>\n<style scoped>\n    .dataframe tbody tr th:only-of-type {\n        vertical-align: middle;\n    }\n\n    .dataframe tbody tr th {\n        vertical-align: top;\n    }\n\n    .dataframe thead th {\n        text-align: right;\n    }\n</style>\n<table border=\"1\" class=\"dataframe\">\n  <thead>\n    <tr style=\"text-align: right;\">\n      <th></th>\n      <th>Count</th>\n    </tr>\n  </thead>\n  <tbody>\n    <tr>\n      <th>(ADHD, ANOREXIA)</th>\n      <td>168</td>\n    </tr>\n    <tr>\n      <th>(ADHD, ANXIETY)</th>\n      <td>2</td>\n    </tr>\n    <tr>\n      <th>(ADHD, ARTHRITIS)</th>\n      <td>321</td>\n    </tr>\n    <tr>\n      <th>(ADHD, ASD)</th>\n      <td>35</td>\n    </tr>\n    <tr>\n      <th>(ADHD, AUD)</th>\n      <td>94</td>\n    </tr>\n  </tbody>\n</table>\n</div>"
     },
     "execution_count": 31,
     "metadata": {},
     "output_type": "execute_result"
    }
   ],
   "source": [
    "count_df.head()"
   ],
   "metadata": {
    "collapsed": false,
    "ExecuteTime": {
     "end_time": "2023-11-29T11:33:14.911217400Z",
     "start_time": "2023-11-29T11:33:14.855363700Z"
    }
   },
   "id": "750477a4826d9826"
  },
  {
   "cell_type": "code",
   "execution_count": 32,
   "outputs": [],
   "source": [
    "count_df.to_csv('output/count_orig_genes_all(2,3,4).txt', sep='\\t')"
   ],
   "metadata": {
    "collapsed": false,
    "ExecuteTime": {
     "end_time": "2023-11-29T11:33:19.013181100Z",
     "start_time": "2023-11-29T11:33:18.913213300Z"
    }
   },
   "id": "f6b7a24317dba70f"
  },
  {
   "cell_type": "code",
   "execution_count": 20,
   "outputs": [],
   "source": [
    " "
   ],
   "metadata": {
    "collapsed": false,
    "ExecuteTime": {
     "end_time": "2023-10-26T07:25:43.830561600Z",
     "start_time": "2023-10-26T07:25:43.824205Z"
    }
   },
   "id": "372915ef585f8f"
  }
 ],
 "metadata": {
  "kernelspec": {
   "display_name": "Python 3",
   "language": "python",
   "name": "python3"
  },
  "language_info": {
   "codemirror_mode": {
    "name": "ipython",
    "version": 2
   },
   "file_extension": ".py",
   "mimetype": "text/x-python",
   "name": "python",
   "nbconvert_exporter": "python",
   "pygments_lexer": "ipython2",
   "version": "2.7.6"
  }
 },
 "nbformat": 4,
 "nbformat_minor": 5
}
