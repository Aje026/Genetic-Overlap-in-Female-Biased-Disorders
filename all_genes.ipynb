{
 "cells": [
  {
   "cell_type": "code",
   "execution_count": 2,
   "metadata": {},
   "outputs": [],
   "source": [
    "import math\n",
    "import os\n",
    "import pandas as pd\n",
    "from itertools import combinations\n",
    "import scipy.cluster.hierarchy as sch\n",
    "import numpy as np\n",
    "import matplotlib.pyplot as plt\n",
    "import seaborn as sns\n",
    "from scipy.stats import hypergeom\n",
    "from sklearn.preprocessing import StandardScaler\n",
    "from collections import Counter\n",
    "from sklearn.cluster import AgglomerativeClustering\n",
    "from sklearn.metrics import pairwise_distances\n",
    "from scipy.spatial.distance import pdist, squareform\n",
    "from sklearn.decomposition import PCA\n",
    "from sklearn.preprocessing import LabelEncoder\n",
    "import plotly.express as px\n",
    "import xlsxwriter\n"
   ]
  },
  {
   "cell_type": "code",
   "execution_count": 3,
   "metadata": {},
   "outputs": [
    {
     "name": "stderr",
     "output_type": "stream",
     "text": [
      "C:\\Users\\annei\\AppData\\Local\\Temp\\ipykernel_10256\\538097247.py:19: DtypeWarning: Columns (4,9) have mixed types. Specify dtype option on import or set low_memory=False.\n",
      "  df = pd.read_csv(file_path, sep='\\t')\n",
      "C:\\Users\\annei\\AppData\\Local\\Temp\\ipykernel_10256\\538097247.py:19: DtypeWarning: Columns (4) have mixed types. Specify dtype option on import or set low_memory=False.\n",
      "  df = pd.read_csv(file_path, sep='\\t')\n",
      "C:\\Users\\annei\\AppData\\Local\\Temp\\ipykernel_10256\\538097247.py:19: DtypeWarning: Columns (4,9) have mixed types. Specify dtype option on import or set low_memory=False.\n",
      "  df = pd.read_csv(file_path, sep='\\t')\n",
      "C:\\Users\\annei\\AppData\\Local\\Temp\\ipykernel_10256\\538097247.py:19: DtypeWarning: Columns (4) have mixed types. Specify dtype option on import or set low_memory=False.\n",
      "  df = pd.read_csv(file_path, sep='\\t')\n",
      "C:\\Users\\annei\\AppData\\Local\\Temp\\ipykernel_10256\\538097247.py:19: DtypeWarning: Columns (4) have mixed types. Specify dtype option on import or set low_memory=False.\n",
      "  df = pd.read_csv(file_path, sep='\\t')\n",
      "C:\\Users\\annei\\AppData\\Local\\Temp\\ipykernel_10256\\538097247.py:19: DtypeWarning: Columns (4,9) have mixed types. Specify dtype option on import or set low_memory=False.\n",
      "  df = pd.read_csv(file_path, sep='\\t')\n"
     ]
    }
   ],
   "source": [
    "# Specify the directory path where your files are located\n",
    "directory_path = 'FUMA_downloads_all_tissue/eQTLs'\n",
    "\n",
    "# Initialize an empty list to store DataFrames\n",
    "df_list = []\n",
    "\n",
    "# Initialize an empty list to store disorder names\n",
    "disorder_names = []\n",
    "\n",
    "# Iterate through files in the directory\n",
    "for filename in os.listdir(directory_path):\n",
    "    if filename.endswith('.txt'):  # Process only .txt files\n",
    "        # Extract disorder name from the filename\n",
    "        disorder_name = filename.split('_')[1].split('.')[0]\n",
    "        disorder_names.append(disorder_name)\n",
    "\n",
    "        # Read the file as a DataFrame\n",
    "        file_path = os.path.join(directory_path, filename)\n",
    "        df = pd.read_csv(file_path, sep='\\t')\n",
    "\n",
    "        # Add a column with the disorder name\n",
    "        df['disorder'] = disorder_name\n",
    "\n",
    "        # Append the DataFrame to the list\n",
    "        df_list.append(df)"
   ]
  },
  {
   "cell_type": "code",
   "execution_count": 4,
   "metadata": {},
   "outputs": [],
   "source": [
    "#select only the columns of interest\n",
    "new_df_list = []\n",
    "for df in df_list:\n",
    "    df = df[['uniqID', 'tissue', 'symbol', 'disorder']]\n",
    "    new_df_list.append(df)"
   ]
  },
  {
   "cell_type": "code",
   "execution_count": 6,
   "metadata": {},
   "outputs": [],
   "source": [
    "#get uniqueID and rsID from SNP files\n",
    "path = 'FUMA_downloads_all_tissue/SNPs'\n",
    "\n",
    "file_list = os.listdir(path)\n",
    "\n",
    "files_df = pd.DataFrame()\n",
    "\n",
    "for file in file_list:\n",
    "    file_path = os.path.join(path, file)\n",
    "\n",
    "    df = pd.read_csv(file_path, sep='\\t')\n",
    "\n",
    "    files_df = pd.concat([files_df, df], ignore_index=True)\n",
    "\n",
    "#Keep only the relevant columns\n",
    "files_df = files_df[['uniqID', 'rsID']]\n",
    "\n"
   ]
  },
  {
   "cell_type": "code",
   "execution_count": null,
   "metadata": {},
   "outputs": [],
   "source": [
    "#map the rsIDs to the SNPid in the df list of gene data\n",
    "merged_list = []\n",
    "for df in new_df_list:\n",
    "    merged_df = pd.merge(df, files_df, on='uniqID')\n",
    "    merged_list.append(merged_df)\n"
   ]
  }
 ],
 "metadata": {
  "kernelspec": {
   "display_name": "psych_overlap",
   "language": "python",
   "name": "python3"
  },
  "language_info": {
   "codemirror_mode": {
    "name": "ipython",
    "version": 3
   },
   "file_extension": ".py",
   "mimetype": "text/x-python",
   "name": "python",
   "nbconvert_exporter": "python",
   "pygments_lexer": "ipython3",
   "version": "3.10.13"
  }
 },
 "nbformat": 4,
 "nbformat_minor": 2
}
